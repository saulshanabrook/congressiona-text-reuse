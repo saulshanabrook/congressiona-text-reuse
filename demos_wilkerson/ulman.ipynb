{
 "cells": [
  {
   "cell_type": "code",
   "execution_count": 89,
   "metadata": {
    "collapsed": false
   },
   "outputs": [],
   "source": [
    "from __future__ import division\n",
    "from collections import defaultdict\n",
    "import numpy as np\n",
    "import math\n",
    "import hashlib\n",
    "import random\n",
    "import string\n",
    "import glob\n",
    "\n",
    "SEED = 5\n",
    "generator = random.Random()\n",
    "generator.seed(SEED)\n",
    "\n",
    "n = 100 # permutations\n",
    "\n",
    "def jaccard(a, b):\n",
    "    return len(set(a).intersection(set(b)))/len(set(a).union(set(b)))\n",
    "    \n",
    "def get_docs():\n",
    "    d1 = [\"a\", \"b\", \"c\", \"d\"]\n",
    "    d2 = [\"a\", \"c\"]\n",
    "    d3 = [\"5\", \"2\", \"8\", \"9\"] + [o for o in string.punctuation]\n",
    "    d4 = [\"5\"]\n",
    "    return [d1, d2, d3, d4]\n",
    "\n",
    "docs = get_docs()\n",
    "D = len(docs) # ndocs\n",
    "\n",
    "V = {w:kno for kno, w in enumerate(set(reduce(lambda a,b: a+b, docs)))}\n",
    "\n",
    "M = np.zeros((len(V), D))\n",
    "\n",
    "# in real stuff, this is sparse\n",
    "for dno, d in enumerate(docs):\n",
    "    for w in d:\n",
    "        M[V[w]][dno] = 1\n"
   ]
  },
  {
   "cell_type": "code",
   "execution_count": 90,
   "metadata": {
    "collapsed": false
   },
   "outputs": [
    {
     "name": "stdout",
     "output_type": "stream",
     "text": [
      "Sanity check\n",
      "0.666666666667 =? 0.647058823529\n",
      "False\n",
      "False\n",
      "False\n",
      "False\n",
      "False\n",
      "False\n",
      "False\n",
      "False\n",
      "False\n",
      "False\n",
      "False\n",
      "False\n",
      "False\n",
      "False\n",
      "False\n",
      "False\n",
      "False\n",
      "False\n",
      "False\n",
      "False\n",
      "False\n",
      "False\n",
      "False\n",
      "False\n",
      "False\n",
      "False\n",
      "False\n",
      "False\n",
      "False\n",
      "False\n",
      "False\n",
      "False\n",
      "False\n",
      "False\n",
      "False\n",
      "False\n",
      "False\n",
      "False\n",
      "False\n",
      "False\n",
      "False\n",
      "False\n",
      "False\n",
      "False\n",
      "False\n",
      "False\n",
      "False\n",
      "False\n",
      "False\n",
      "False\n"
     ]
    }
   ],
   "source": [
    "hashes = [{k: generator.randint(0, len(V)) for k in range(len(V))} for i in range(n)]\n",
    "\n",
    "SIG = np.empty((n,D,))\n",
    "SIG[:] = 1000000000\n",
    "\n",
    "for r in range(len(V)):\n",
    "    for c in range(D):\n",
    "        if M[r][c] == 1:\n",
    "            for i in range(n):\n",
    "                SIG[i][c] = min(SIG[i][c], hashes[i][r])\n",
    "\n",
    "\n",
    "print \"Sanity check\"\n",
    "print jaccard(d1, d2), \"=?\", len(set(SIG[:,0]).intersection(set(SIG[:,1])))/len(set(SIG[:,0]).union(set(SIG[:,1])))\n",
    "\n",
    "bands = 50\n",
    "bandsize = int(math.floor(SIG.shape[0]/bands))\n",
    "bucket_arrays = defaultdict(list)\n",
    "\n",
    "for i in range(0, SIG.shape[0], bandsize):\n",
    "    band_row_start = i\n",
    "    band_row_end = min(i + bandsize, SIG.shape[0])\n",
    "    for c in range(SIG.shape[1]):\n",
    "        band = \" \".join([str(p) for p in SIG[:,c][band_row_start:band_row_end]])\n",
    "        bucket_arrays[i].append((c, hashlib.md5(band).hexdigest()))\n",
    "\n",
    "for ky in bucket_arrays.keys():\n",
    "    print [o[1] for o in bucket_arrays[ky]][2] == [o[1] for o in bucket_arrays[ky]][3]\n"
   ]
  },
  {
   "cell_type": "code",
   "execution_count": null,
   "metadata": {
    "collapsed": true
   },
   "outputs": [],
   "source": []
  }
 ],
 "metadata": {
  "kernelspec": {
   "display_name": "Python 2",
   "language": "python",
   "name": "python2"
  },
  "language_info": {
   "codemirror_mode": {
    "name": "ipython",
    "version": 2
   },
   "file_extension": ".py",
   "mimetype": "text/x-python",
   "name": "python",
   "nbconvert_exporter": "python",
   "pygments_lexer": "ipython2",
   "version": "2.7.10"
  }
 },
 "nbformat": 4,
 "nbformat_minor": 1
}
