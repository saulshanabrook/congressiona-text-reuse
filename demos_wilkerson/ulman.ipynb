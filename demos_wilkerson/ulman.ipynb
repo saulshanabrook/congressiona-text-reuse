{
 "cells": [
  {
   "cell_type": "code",
   "execution_count": 241,
   "metadata": {
    "collapsed": false
   },
   "outputs": [],
   "source": [
    "from __future__ import division\n",
    "import numpy as np\n",
    "import random\n",
    "import string\n",
    "\n",
    "SEED = 5\n",
    "generator = random.Random()\n",
    "generator.seed(SEED)\n",
    "\n",
    "n = 50 # permutations\n",
    "\n",
    "def jaccard(a, b):\n",
    "    return len(set(a).intersection(set(b)))/len(set(a).union(set(b)))\n",
    "    \n",
    "d1 = [\"a\", \"b\", \"c\"]\n",
    "d2 = [\"a\", \"c\"]\n",
    "d3 = [\"5\", \"2\", \"8\", \"9\"] + [o for o in string.punctuation]\n",
    "\n",
    "D = 3 # ndocs\n",
    "V = {v:k for k,v in enumerate(sorted(set(d1 + d2 + d3)))}\n",
    "\n",
    "M = np.zeros((len(V), D))\n",
    "\n",
    "# in real stuff, this is sparse\n",
    "for dno, d in enumerate([d1, d2, d3]):\n",
    "    for w in d:\n",
    "        M[V[w]][dno] = 1\n"
   ]
  },
  {
   "cell_type": "code",
   "execution_count": 242,
   "metadata": {
    "collapsed": false
   },
   "outputs": [
    {
     "name": "stdout",
     "output_type": "stream",
     "text": [
      "0.666666666667\n",
      "0.689655172414\n"
     ]
    }
   ],
   "source": [
    "hashes = [{k: generator.randint(0, len(V)) for k in range(len(V))} for i in range(n)]\n",
    "\n",
    "SIG = np.empty((n,D,))\n",
    "SIG[:] = 1000000000\n",
    "\n",
    "for r in range(len(V)):\n",
    "    for c in range(D):\n",
    "        if M[r][c] == 1:\n",
    "            for i in range(n):\n",
    "                SIG[i][c] = min(SIG[i][c], hashes[i][r])\n",
    "\n",
    "\n",
    "\n",
    "print jaccard(d1, d2)\n",
    "\n",
    "print len(set(SIG[:,0]).intersection(set(SIG[:,1])))/len(set(SIG[:,0]).union(set(SIG[:,1])))"
   ]
  }
 ],
 "metadata": {
  "kernelspec": {
   "display_name": "Python 2",
   "language": "python",
   "name": "python2"
  },
  "language_info": {
   "codemirror_mode": {
    "name": "ipython",
    "version": 2
   },
   "file_extension": ".py",
   "mimetype": "text/x-python",
   "name": "python",
   "nbconvert_exporter": "python",
   "pygments_lexer": "ipython2",
   "version": "2.7.10"
  }
 },
 "nbformat": 4,
 "nbformat_minor": 1
}
