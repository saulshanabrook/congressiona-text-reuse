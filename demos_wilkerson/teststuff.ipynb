{
 "cells": [
  {
   "cell_type": "code",
   "execution_count": 10,
   "metadata": {
    "collapsed": false
   },
   "outputs": [
    {
     "name": "stdout",
     "output_type": "stream",
     "text": [
      "('Candidates with Jaccard similarity > 0.5', ['m3', 'm2'])\n"
     ]
    }
   ],
   "source": [
    "from datasketch import MinHash, MinHashLSH\n",
    "\n",
    "import glob, json\n",
    "\n",
    "def make_windows(doc, n):\n",
    "    '''\n",
    "    - chunk into n token blocks (at least for now)\n",
    "    - no rolling windows. too big! something to improve later\n",
    "    '''\n",
    "    # https://gist.github.com/moshekaplan/4678925\n",
    "    for i in xrange(0, len(doc), n):\n",
    "        yield doc[i:i+n]\n",
    "\n",
    "def get_tokens(fn):\n",
    "    '''get tokens in file'''\n",
    "    all_tokens = []\n",
    "    with open(fn, \"r\") as inf:\n",
    "        js = json.load(inf)\n",
    "        for sentence in js[\"sentences\"]:\n",
    "            for token in sentence[\"tokens\"]:\n",
    "                if token.lower() not in STOPS:\n",
    "                    all_tokens.append(token)\n",
    "    return all_tokens\n",
    "\n",
    "def get_stops():\n",
    "    import string\n",
    "    from stop_words import get_stop_words\n",
    "    return set([a for a in string.punctuation] + get_stop_words('en'))\n",
    "    \n",
    "STOPS = get_stops()\n",
    "\n",
    "data = {}\n",
    "for dt in glob.glob(\"*.anno\"):\n",
    "    toks = get_tokens(dt)\n",
    "    windows = make_windows(toks, 50)\n",
    "    for wno, window in enumerate(windows):\n",
    "        data[\"{}-{}\".format(dt, wno)] = window\n",
    "\n",
    "\n",
    "# Create MinHash objects\n",
    "m1 = MinHash(num_perm=128)\n",
    "m2 = MinHash(num_perm=128)\n",
    "m3 = MinHash(num_perm=128)\n",
    "\n",
    "for k,v in data.items():\n",
    "    for d in v:\n",
    "        m1.update(d.encode('utf8'))\n",
    "        m2.update(d.encode('utf8'))\n",
    "        m3.update(d.encode('utf8'))\n",
    "\n",
    "# Create an MinHashLSH index optimized for Jaccard threshold 0.5,\n",
    "# that accepts MinHash objects with 128 permutations functions\n",
    "lsh = MinHashLSH(threshold=0.5, num_perm=128)\n",
    "\n",
    "# Insert m2 and m3 into the index\n",
    "lsh.insert(\"m2\", m2)\n",
    "lsh.insert(\"m3\", m3)\n",
    "\n",
    "\n",
    "# Using m1 as the query, retrieve the keys of the qualifying datasets\n",
    "result = lsh.query(m1)\n",
    "print(\"Candidates with Jaccard similarity > 0.5\", result)\n"
   ]
  },
  {
   "cell_type": "code",
   "execution_count": 12,
   "metadata": {
    "collapsed": false
   },
   "outputs": [
    {
     "data": {
      "text/plain": [
       "0.5"
      ]
     },
     "execution_count": 12,
     "metadata": {},
     "output_type": "execute_result"
    }
   ],
   "source": []
  }
 ],
 "metadata": {
  "kernelspec": {
   "display_name": "Python 2",
   "language": "python",
   "name": "python2"
  },
  "language_info": {
   "codemirror_mode": {
    "name": "ipython",
    "version": 2
   },
   "file_extension": ".py",
   "mimetype": "text/x-python",
   "name": "python",
   "nbconvert_exporter": "python",
   "pygments_lexer": "ipython2",
   "version": "2.7.10"
  }
 },
 "nbformat": 4,
 "nbformat_minor": 1
}
