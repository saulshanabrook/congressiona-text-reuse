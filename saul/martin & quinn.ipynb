{
 "cells": [
  {
   "cell_type": "code",
   "execution_count": 114,
   "metadata": {
    "collapsed": false
   },
   "outputs": [],
   "source": [
    "import pandas as pd\n",
    "import numpy as np\n",
    "from linreg import linreg_post\n",
    "from norm1d import *\n",
    "\n",
    "# each vote by each legislator gets a z score, the utility from the vote\n",
    "model_df = pd.DataFrame.from_csv(\"model_position_df.df\").head(1000)\n",
    "model_df[\"z\"] = np.random.uniform(-1,1, model_df.shape[0])\n",
    "\n",
    "# legislators\n",
    "leg = pd.DataFrame(model_df[\"legislator\"].unique(), columns=[\"legislator\"])\n",
    "leg[\"theta\"] = np.random.uniform(-1,1, leg.shape[0])\n",
    "\n",
    "# votes\n",
    "votes = pd.DataFrame(model_df[\"vote\"].unique(), columns=[\"vote\"])\n",
    "votes[\"alpha\"] =  np.random.uniform(-1,1, votes.shape[0])\n",
    "votes[\"beta\"] = np.random.uniform(-1,1, votes.shape[0])"
   ]
  },
  {
   "cell_type": "code",
   "execution_count": 133,
   "metadata": {
    "collapsed": false
   },
   "outputs": [
    {
     "name": "stdout",
     "output_type": "stream",
     "text": [
      "0 -1239.02394881\n"
     ]
    },
    {
     "name": "stderr",
     "output_type": "stream",
     "text": [
      "/Library/Python/2.7/site-packages/ipykernel/__main__.py:27: DeprecationWarning: using a non-integer number instead of an integer will result in an error in the future\n"
     ]
    },
    {
     "name": "stdout",
     "output_type": "stream",
     "text": [
      "1 -1134.92313208\n",
      "2 -1152.68221065\n",
      "3 -1247.89180694\n",
      "4 -1232.84138347\n",
      "5 -1204.54239571\n",
      "6 -1206.50595795\n",
      "7 -1284.89149648\n",
      "8 -1295.13863563\n",
      "9 -1226.39845978\n"
     ]
    }
   ],
   "source": [
    "def draw_z(row):\n",
    "    \"\"\"\n",
    "    \"\"\"\n",
    "    voteinfo = votes.query(\"vote=={}\".format(row[\"vote\"]))\n",
    "    theta = leg.query(\"legislator=={}\".format(row[\"legislator\"]))[\"theta\"]\n",
    "    theta_float = theta[theta.keys()[0]]   # this is a float! \n",
    "    leginfo = leg.query(\"legislator=={}\".format(row[\"legislator\"]))\n",
    "    mean =  voteinfo[\"alpha\"] + voteinfo[\"beta\"] * theta_float\n",
    "    mean_float = mean[mean.keys()[0]]\n",
    "    standard_deviation = 1\n",
    "    \n",
    "    if row[\"position\"] == 1:\n",
    "        return truncnormal(mean_float, standard_deviation, 0, 100)\n",
    "    elif row[\"position\"] == 0:\n",
    "        return truncnormal(mean_float, standard_deviation, -100, 0)\n",
    "    assert \"do not\" == \"get to here\"\n",
    "\n",
    "def draw_theta(row):\n",
    "    \"\"\"\n",
    "    Draw a theta\n",
    "    \"\"\"\n",
    "    ls_votes = model_df.query(\"legislator=={}\".format(row[\"legislator\"]))\n",
    "    ls_votes = ls_votes.merge(votes, on='vote')\n",
    "    X = ls_votes[[\"alpha\", \"beta\"]].as_matrix()\n",
    "    Y = ls_votes[\"z\"].as_matrix()\n",
    "    m, cv = linreg_post(X, Y, np.zeros(2), 1, 1)\n",
    "    return np.random.multivariate_normal(m, cv)[1]\n",
    "\n",
    "\n",
    "def draw_ab(row):\n",
    "    \"\"\"\n",
    "    Draw a theta\n",
    "    \"\"\"\n",
    "    vote_i = model_df.query(\"vote=={}\".format(row[\"vote\"]))\n",
    "    vote_i = vote_i.merge(leg, on=\"legislator\")\n",
    "    vote_i[\"dummy\"] = 1\n",
    "    X = vote_i[[\"dummy\", \"theta\"]].as_matrix()\n",
    "    Y = vote_i[\"z\"]\n",
    "    m, cv = linreg_post(X, Y, np.zeros(2), 1, 1)\n",
    "    a, b = np.random.multivariate_normal(m, cv)\n",
    "    vote = row[\"vote\"]\n",
    "    return pd.Series([vote, a, b], index=['vote', 'alpha_new', 'beta_new'])\n",
    "\n",
    "\n",
    "def utility(row):\n",
    "    if row[\"vote\"] == 0:\n",
    "        return np.log(normcdf(1 - row[\"z\"]))\n",
    "    elif row[\"vote\"] == 1:\n",
    "        return np.log(normcdf(row[\"z\"]))\n",
    "\n",
    "for i in range(10):\n",
    "    # print i\n",
    "    print i, np.sum(model_df.apply(utility, axis=1))\n",
    "\n",
    "    #alpha, beta\n",
    "    #new = votes.apply(draw_ab, axis=1)\n",
    "    #votes = votes.merge(new, on=\"vote\")[[\"vote\", \"alpha_new\", \"beta_new\"]]\n",
    "    #votes.columns = [\"vote\", \"alpha\", \"beta\"]\n",
    "\n",
    "    #theta\n",
    "    leg[\"theta\"] = leg.apply(draw_theta, axis=1)\n",
    "\n",
    "    #z\n",
    "    model_df[\"z\"] = model_df.apply(draw_z, axis=1)\n",
    "\n"
   ]
  }
 ],
 "metadata": {
  "kernelspec": {
   "display_name": "Python 2",
   "language": "python",
   "name": "python2"
  },
  "language_info": {
   "codemirror_mode": {
    "name": "ipython",
    "version": 2
   },
   "file_extension": ".py",
   "mimetype": "text/x-python",
   "name": "python",
   "nbconvert_exporter": "python",
   "pygments_lexer": "ipython2",
   "version": "2.7.10"
  }
 },
 "nbformat": 4,
 "nbformat_minor": 1
}
