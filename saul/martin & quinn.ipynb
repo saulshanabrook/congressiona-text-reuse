{
 "cells": [
  {
   "cell_type": "code",
   "execution_count": 20,
   "metadata": {
    "collapsed": false
   },
   "outputs": [],
   "source": [
    "import pandas as pd\n",
    "import numpy as np\n",
    "from linreg import linreg_post\n",
    "from norm1d import *\n",
    "\n",
    "# each vote by each legislator gets a z score, the utility from the vote\n",
    "model_df = pd.DataFrame.from_csv(\"model_position_df.df\").head(1000)\n",
    "model_df[\"z\"] = np.random.uniform(-1,1, model_df.shape[0])\n",
    "\n",
    "# legislators\n",
    "leg = pd.DataFrame(model_df[\"legislator\"].unique(), columns=[\"legislator\"])\n",
    "leg[\"theta\"] = np.random.uniform(-1,1, leg.shape[0])\n",
    "\n",
    "# votes\n",
    "votes = pd.DataFrame(model_df[\"vote\"].unique(), columns=[\"vote\"])\n",
    "votes[\"alpha\"] =  np.random.uniform(-1,1, votes.shape[0])\n",
    "votes[\"beta\"] = np.random.uniform(-1,1, votes.shape[0])"
   ]
  },
  {
   "cell_type": "code",
   "execution_count": 48,
   "metadata": {
    "collapsed": false
   },
   "outputs": [
    {
     "name": "stderr",
     "output_type": "stream",
     "text": [
      "/Library/Python/2.7/site-packages/ipykernel/__main__.py:40: DeprecationWarning: using a non-integer number instead of an integer will result in an error in the future\n"
     ]
    },
    {
     "data": {
      "text/html": [
       "<div>\n",
       "<table border=\"1\" class=\"dataframe\">\n",
       "  <thead>\n",
       "    <tr style=\"text-align: right;\">\n",
       "      <th></th>\n",
       "      <th>alpha</th>\n",
       "      <th>beta</th>\n",
       "    </tr>\n",
       "  </thead>\n",
       "  <tbody>\n",
       "    <tr>\n",
       "      <th>0</th>\n",
       "      <td>0.131805</td>\n",
       "      <td>0.083275</td>\n",
       "    </tr>\n",
       "    <tr>\n",
       "      <th>1</th>\n",
       "      <td>-0.040584</td>\n",
       "      <td>-0.012105</td>\n",
       "    </tr>\n",
       "    <tr>\n",
       "      <th>2</th>\n",
       "      <td>-0.162935</td>\n",
       "      <td>-0.077706</td>\n",
       "    </tr>\n",
       "  </tbody>\n",
       "</table>\n",
       "</div>"
      ],
      "text/plain": [
       "      alpha      beta\n",
       "0  0.131805  0.083275\n",
       "1 -0.040584 -0.012105\n",
       "2 -0.162935 -0.077706"
      ]
     },
     "execution_count": 48,
     "metadata": {},
     "output_type": "execute_result"
    }
   ],
   "source": [
    "def draw_z(row):\n",
    "    \"\"\"\n",
    "    \"\"\"\n",
    "    voteinfo = votes.query(\"vote=={}\".format(row[\"vote\"]))\n",
    "    theta = leg.query(\"legislator=={}\".format(row[\"legislator\"]))[\"theta\"]\n",
    "    theta_float = theta[theta.keys()[0]]   # this is a float! \n",
    "    leginfo = leg.query(\"legislator=={}\".format(row[\"legislator\"]))\n",
    "    mean =  voteinfo[\"alpha\"] + voteinfo[\"beta\"] * theta_float\n",
    "    mean_float = mean[mean.keys()[0]]\n",
    "    standard_deviation = 1\n",
    "    \n",
    "    if row[\"position\"] == 1:\n",
    "        return truncnormal(mean_float, standard_deviation, 0, 100)\n",
    "    elif row[\"position\"] == 0:\n",
    "        return truncnormal(mean_float, standard_deviation, -100, 0)\n",
    "    assert \"do not\" == \"get to here\"\n",
    "\n",
    "def draw_theta(row):\n",
    "    \"\"\"\n",
    "    Draw a theta\n",
    "    \"\"\"\n",
    "    ls_votes = model_df.query(\"legislator=={}\".format(row[\"legislator\"]))\n",
    "    ls_votes = ls_votes.merge(votes, on='vote')\n",
    "    X = ls_votes[[\"alpha\", \"beta\"]].as_matrix()\n",
    "    Y = ls_votes[\"z\"].as_matrix()\n",
    "    m, cv = linreg_post(X, Y, np.zeros(2), 1, 1)\n",
    "    return np.random.multivariate_normal(m, cv)[1]\n",
    "\n",
    "\n",
    "def draw_ab(row):\n",
    "    \"\"\"\n",
    "    Draw a theta\n",
    "    \"\"\"\n",
    "    vote_i = model_df.query(\"vote=={}\".format(row[\"vote\"]))\n",
    "    vote_i = vote_i.merge(leg, on=\"legislator\")\n",
    "    vote_i[\"dummy\"] = 1\n",
    "    X = vote_i[[\"dummy\", \"theta\"]].as_matrix()\n",
    "    Y = vote_i[\"z\"]\n",
    "    m, cv = linreg_post(X, Y, np.zeros(2), 1, 1)\n",
    "    return pd.Series(np.random.multivariate_normal(m, cv), index=['alpha', 'beta'])\n",
    "    # return np.random.multivariate_normal(m, cv)\n",
    "\n",
    "\n",
    "votes.apply(draw_ab, axis=1)\n",
    "# leg[\"theta\"] = leg.apply(draw_theta, axis=1)\n",
    "# model_df[\"z\"] = model_df.apply(draw_z, axis=1)"
   ]
  }
 ],
 "metadata": {
  "kernelspec": {
   "display_name": "Python 2",
   "language": "python",
   "name": "python2"
  },
  "language_info": {
   "codemirror_mode": {
    "name": "ipython",
    "version": 2
   },
   "file_extension": ".py",
   "mimetype": "text/x-python",
   "name": "python",
   "nbconvert_exporter": "python",
   "pygments_lexer": "ipython2",
   "version": "2.7.10"
  }
 },
 "nbformat": 4,
 "nbformat_minor": 1
}
