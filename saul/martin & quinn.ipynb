{
 "cells": [
  {
   "cell_type": "code",
   "execution_count": 1,
   "metadata": {
    "collapsed": false
   },
   "outputs": [],
   "source": [
    "import pandas as pd\n",
    "import numpy as np\n",
    "from linreg import linreg_post\n",
    "from norm1d import *\n",
    "\n",
    "# each vote by each legislator gets a z score, the utility from the vote\n",
    "model_df = pd.DataFrame.from_csv(\"model_position_df.df\").head(500)\n",
    "model_df[\"z\"] = np.random.uniform(-1,1, model_df.shape[0])\n",
    "\n",
    "# legislators\n",
    "leg = pd.DataFrame(model_df[\"legislator\"].unique(), columns=[\"legislator\"])\n",
    "leg[\"theta\"] = np.random.uniform(-1,1, leg.shape[0])\n",
    "\n",
    "# votes\n",
    "votes = pd.DataFrame(model_df[\"vote\"].unique(), columns=[\"vote\"])\n",
    "votes[\"alpha\"] =  np.random.uniform(-1,1, votes.shape[0])\n",
    "votes[\"beta\"] = np.random.uniform(-1,1, votes.shape[0])"
   ]
  },
  {
   "cell_type": "code",
   "execution_count": 2,
   "metadata": {
    "collapsed": false
   },
   "outputs": [
    {
     "name": "stderr",
     "output_type": "stream",
     "text": [
      "/Library/Python/2.7/site-packages/ipykernel/__main__.py:42: DeprecationWarning: using a non-integer number instead of an integer will result in an error in the future\n",
      "/Library/Python/2.7/site-packages/ipykernel/__main__.py:29: DeprecationWarning: using a non-integer number instead of an integer will result in an error in the future\n"
     ]
    }
   ],
   "source": [
    "def draw_z(row):\n",
    "    \"\"\"\n",
    "    \"\"\"\n",
    "    voteinfo = votes.query(\"vote=={}\".format(row[\"vote\"]))\n",
    "    theta = leg.query(\"legislator=={}\".format(row[\"legislator\"]))[\"theta\"]\n",
    "    theta_float = theta[theta.keys()[0]]   # this is a float! \n",
    "    leginfo = leg.query(\"legislator=={}\".format(row[\"legislator\"]))\n",
    "    mean =  voteinfo[\"alpha\"] + voteinfo[\"beta\"] * theta_float\n",
    "    mean_float = mean[mean.keys()[0]]\n",
    "    standard_deviation = 1\n",
    "    \n",
    "    #print row, voteinfo[\"alpha\"], voteinfo[\"beta\"], theta, mean\n",
    "    #print \"mean\", mean\n",
    "    if row[\"position\"] == 1:\n",
    "        return truncnormal(mean_float, standard_deviation, 0, 100)\n",
    "    elif row[\"position\"] == 0:\n",
    "        return truncnormal(mean_float, standard_deviation, -100, 0)\n",
    "    assert \"do not\" == \"get to here\"\n",
    "\n",
    "def draw_theta(row):\n",
    "    \"\"\"\n",
    "    Draw a theta\n",
    "    \"\"\"\n",
    "    ls_votes = model_df.query(\"legislator=={}\".format(row[\"legislator\"]))\n",
    "    ls_votes = ls_votes.merge(votes, on='vote')\n",
    "    X = ls_votes[[\"alpha\", \"beta\"]].as_matrix()\n",
    "    Y = ls_votes[\"z\"].as_matrix()\n",
    "    m, cv = linreg_post(X, Y, np.zeros(2), 1, 1)\n",
    "    return np.random.multivariate_normal(m, cv)[1]\n",
    "\n",
    "\n",
    "def draw_ab(row):\n",
    "    \"\"\"\n",
    "    Draw a theta\n",
    "    \"\"\"\n",
    "    vote_i = model_df.query(\"vote=={}\".format(row[\"vote\"]))\n",
    "    vote_i = vote_i.merge(leg, on=\"legislator\")\n",
    "    vote_i[\"dummy\"] = 1\n",
    "    X = vote_i[[\"dummy\", \"theta\"]].as_matrix()\n",
    "    Y = vote_i[\"z\"]\n",
    "    m, cv = linreg_post(X, Y, np.zeros(2), 1, 1)\n",
    "    a, b = np.random.multivariate_normal(m, cv)\n",
    "    vote = row[\"vote\"]\n",
    "    return pd.Series([vote, a, b], index=['vote', 'alpha_new', 'beta_new'])\n",
    "\n",
    "LOG_FILENAME = 'sampler.log'\n",
    "import os\n",
    "try:\n",
    "    os.remove(LOG_FILENAME)\n",
    "except:\n",
    "    pass\n",
    "    \n",
    "import logging\n",
    "\n",
    "logging.basicConfig(filename=LOG_FILENAME,level=logging.DEBUG, format='%(asctime)s\\t %(message)s')\n",
    "\n",
    "\n",
    "def likelihood(row):\n",
    "    zscore = row[\"alpha\"] + row[\"beta\"] * row[\"theta\"]\n",
    "    # print row\n",
    "    if row[\"position\"] == 0:\n",
    "        return np.log(normcdf(1 - zscore))\n",
    "    elif row[\"position\"] == 1:\n",
    "        return np.log(normcdf(zscore))\n",
    "    else:\n",
    "        assert \"bad\" == \"problem\"\n",
    "\n",
    "\n",
    "def ll():\n",
    "    # is it good?\n",
    "    t = model_df.merge(leg, on=\"legislator\").merge(votes, on=\"vote\")\n",
    "    t[\"ll\"] = t.apply(likelihood, axis=1)\n",
    "    return np.sum(t[\"ll\"])\n",
    "    \n",
    "\n",
    "for i in range(5):\n",
    "    logging.debug(\"{}\\t{}\".format(i, ll()))\n",
    "    #z should go 1st or first iter is wasted\n",
    "    model_df[\"z\"] = model_df.apply(draw_z, axis=1)\n",
    "    \n",
    "    # alpha, beta\n",
    "    new = votes.apply(draw_ab, axis=1)\n",
    "    votes = votes.merge(new, on=\"vote\")[[\"vote\", \"alpha_new\", \"beta_new\"]]\n",
    "    votes.columns = [\"vote\", \"alpha\", \"beta\"]\n",
    "    \n",
    "    #theta\n",
    "    leg[\"theta\"] = leg.apply(draw_theta, axis=1)\n"
   ]
  }
 ],
 "metadata": {
  "kernelspec": {
   "display_name": "Python 2",
   "language": "python",
   "name": "python2"
  },
  "language_info": {
   "codemirror_mode": {
    "name": "ipython",
    "version": 2
   },
   "file_extension": ".py",
   "mimetype": "text/x-python",
   "name": "python",
   "nbconvert_exporter": "python",
   "pygments_lexer": "ipython2",
   "version": "2.7.10"
  }
 },
 "nbformat": 4,
 "nbformat_minor": 1
}
