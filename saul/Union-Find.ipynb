{
 "cells": [
  {
   "cell_type": "code",
   "execution_count": null,
   "metadata": {
    "collapsed": false
   },
   "outputs": [],
   "source": [
    "import numpy as np\n",
    "import pandas as pd\n",
    "import cPickle as pickle\n",
    "from collections import defaultdict\n",
    "\n",
    "def get_graph():\n",
    "    G = np.zeros((5,5))\n",
    "    for i in range(3):\n",
    "        for j in range(3):\n",
    "            G[i][j] = 1\n",
    "\n",
    "    for i in range(3,5):\n",
    "        for j in range(3,5):\n",
    "            G[i][j] = 1\n",
    "    return G\n",
    "\n",
    "def connected_components(G):\n",
    "    '''CLRS chapter 21 but w/ python dicts'''\n",
    "    sets = dict()\n",
    "\n",
    "    for vno, v in enumerate(G):\n",
    "        sets[vno] = vno  # MakeSet\n",
    "        \n",
    "    it = np.nditer(G, flags=['multi_index'])\n",
    "    last = 0\n",
    "    while not it.finished: # for each edge in graph\n",
    "        if last != it.multi_index[0]: # just some printout updates\n",
    "            last = it.multi_index[0]\n",
    "        if it[0] == 1.0:\n",
    "            u, v = it.multi_index\n",
    "            if sets[u] != sets[v]:\n",
    "                sets[u] = sets[v]\n",
    "        it.iternext()\n",
    "    # sets is a dictionary saying what set a vertex is in\n",
    "    out = defaultdict(list)\n",
    "    for s in sets.keys():\n",
    "        out[sets[s]].append(s)\n",
    "    return out\n",
    "\n",
    "def get_df():\n",
    "    reuse = pd.DataFrame.from_csv(\"pairs_enhanced_again.txt\") #.head()\n",
    "    reuse[\"ideology\"] = reuse[\"jac\"].astype(float)\n",
    "    reuse = reuse[reuse[\"jac\"] > .8]\n",
    "    return reuse # .head()\n",
    "\n",
    "def get_guids(reuse):\n",
    "    guids = reuse[\"b_section_guid\"].append(reuse[\"a_section_guid\"]).unique()\n",
    "    guid_dic = {k: guid for k, guid in enumerate(guids)}\n",
    "    guid_dic_r = {guid: k for k, guid in enumerate(guids)}\n",
    "    return guid_dic, guid_dic_r\n",
    "\n",
    "def make_reuse_graph():\n",
    "    reuse = get_df()\n",
    "    guid_dic, guid_dic_r = get_guids(reuse)\n",
    "    G = np.zeros((len(guid_dic), len(guid_dic)))\n",
    "    def fill_v(row):\n",
    "        G[guid_dic_r[row[\"a_section_guid\"]]][guid_dic_r[row[\"b_section_guid\"]]] = 1\n",
    "        G[guid_dic_r[row[\"b_section_guid\"]]][guid_dic_r[row[\"a_section_guid\"]]] = 1\n",
    "    reuse.apply(fill_v, axis=1)\n",
    "    return G"
   ]
  },
  {
   "cell_type": "code",
   "execution_count": null,
   "metadata": {
    "collapsed": true
   },
   "outputs": [],
   "source": [
    "'''make graph and sets'''\n",
    "g = make_reuse_graph()\n",
    "sets = connected_components(g)\n",
    "with open(\"sets.p\", \"w\") as outf:\n",
    "    pickle.dump(sets, outf)"
   ]
  },
  {
   "cell_type": "code",
   "execution_count": null,
   "metadata": {
    "collapsed": false
   },
   "outputs": [],
   "source": [
    "'''plot set size'''\n",
    "import cPickle as pickle\n",
    "import pandas as pd\n",
    "with open(\"sets.p\", \"r\") as inf:\n",
    "    sets = pickle.load(inf)\n",
    "%matplotlib inline\n",
    "\n",
    "g = make_reuse_graph()\n",
    "sets = connected_components(g)\n",
    "\n",
    "reuse = get_df()\n",
    "guid_dic, guid_dic_r = get_guids(reuse)\n",
    "lens = pd.DataFrame([len(sets[s]) for s in sets])\n",
    "lens.columns=[\"count\"]\n",
    "\n",
    "lens = lens[lens[\"count\"] < 100] # get rid of outlier\n",
    "lens.sort(columns=\"count\", ascending=False)\n",
    "lens.plot(kind='hist',  bins=50)"
   ]
  },
  {
   "cell_type": "code",
   "execution_count": null,
   "metadata": {
    "collapsed": false
   },
   "outputs": [],
   "source": [
    "import ipdb\n",
    "\n",
    "def lookup_ideology(guid):\n",
    "    '''remember that many ideologies are not known'''\n",
    "    d = reuse.query(\"a_section_guid == '{}'\".format(guid))\n",
    "    if d.shape[0] > 0:\n",
    "        a = d.get_value(list(d.index)[0], \"ideology_a\")\n",
    "        return a\n",
    "    d = reuse.query(\"b_section_guid == '{}'\".format(guid))\n",
    "    if d.shape[0] > 0:\n",
    "        b = d.get_value(list(d.index)[0], \"ideology_b\")\n",
    "        return b\n",
    "    assert 'this is a problem' == \"ideology not found\"\n",
    "\n",
    "def expand(val_list):\n",
    "    return [(a, guid_dic[a], lookup_ideology(guid_dic[a])) for a in val_list]\n",
    "\n",
    "def get_set_ideology(sets):\n",
    "    sets = {k:expand(v) for k,v in sets.items()}\n",
    "    with open(\"sets_enhanced.p\", \"w\") as outf:\n",
    "        pickle.dump(sets, outf)\n",
    "    with open(\"sets_enhanced.p\", \"r\") as inf:\n",
    "        return pickle.load(inf)\n",
    "\n",
    "sets = get_set_ideology(sets)"
   ]
  }
 ],
 "metadata": {
  "kernelspec": {
   "display_name": "Python 2",
   "language": "python",
   "name": "python2"
  },
  "language_info": {
   "codemirror_mode": {
    "name": "ipython",
    "version": 2
   },
   "file_extension": ".py",
   "mimetype": "text/x-python",
   "name": "python",
   "nbconvert_exporter": "python",
   "pygments_lexer": "ipython2",
   "version": "2.7.10"
  }
 },
 "nbformat": 4,
 "nbformat_minor": 1
}
