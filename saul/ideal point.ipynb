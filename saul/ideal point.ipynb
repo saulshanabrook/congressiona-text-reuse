{
 "cells": [
  {
   "cell_type": "code",
   "execution_count": 3,
   "metadata": {
    "ExecuteTime": {
     "end_time": "2016-12-01T01:44:23.104108",
     "start_time": "2016-12-01T01:44:23.052507"
    },
    "collapsed": false
   },
   "outputs": [],
   "source": [
    "%load_ext autoreload\n",
    "%autoreload 2"
   ]
  },
  {
   "cell_type": "code",
   "execution_count": 4,
   "metadata": {
    "ExecuteTime": {
     "end_time": "2016-12-01T01:44:23.454269",
     "start_time": "2016-12-01T01:44:23.109647"
    },
    "collapsed": false
   },
   "outputs": [
    {
     "name": "stdout",
     "output_type": "stream",
     "text": [
      "In [4] used 0.000 MiB RAM in 0.005s, peaked 0.000 MiB above current, total RAM usage 43.074 MiB\n"
     ]
    }
   ],
   "source": [
    "from ipython_memwatcher import MemWatcher\n",
    "mw = MemWatcher()\n",
    "mw.start_watching_memory()"
   ]
  },
  {
   "cell_type": "markdown",
   "metadata": {},
   "source": [
    "# Ideal Point Estimation\n",
    "\n",
    "Here we perform Ideal Point Estimation of legislators in 113th Congress.\n",
    "\n",
    "## Load Data\n",
    "### Legislators\n",
    "First we have to load in all legislators (this is for all of time, from GovTrack)."
   ]
  },
  {
   "cell_type": "code",
   "execution_count": 5,
   "metadata": {
    "ExecuteTime": {
     "end_time": "2016-12-01T01:44:24.653734",
     "start_time": "2016-12-01T01:44:23.457809"
    },
    "collapsed": false
   },
   "outputs": [
    {
     "name": "stdout",
     "output_type": "stream",
     "text": [
      "In [5] used 32.363 MiB RAM in 1.060s, peaked 0.000 MiB above current, total RAM usage 75.438 MiB\n"
     ]
    }
   ],
   "source": [
    "import ideal_point.raw_data"
   ]
  },
  {
   "cell_type": "code",
   "execution_count": null,
   "metadata": {
    "ExecuteTime": {
     "start_time": "2016-12-01T01:44:23.056Z"
    },
    "collapsed": false
   },
   "outputs": [
    {
     "data": {
      "text/html": [
       "<div>\n",
       "<table border=\"1\" class=\"dataframe\">\n",
       "  <thead>\n",
       "    <tr style=\"text-align: right;\">\n",
       "      <th></th>\n",
       "      <th>last_name</th>\n",
       "      <th>first_name</th>\n",
       "      <th>birthday</th>\n",
       "      <th>gender</th>\n",
       "      <th>type</th>\n",
       "      <th>state</th>\n",
       "      <th>district</th>\n",
       "      <th>party</th>\n",
       "      <th>url</th>\n",
       "      <th>address</th>\n",
       "      <th>...</th>\n",
       "      <th>thomas_id</th>\n",
       "      <th>opensecrets_id</th>\n",
       "      <th>lis_id</th>\n",
       "      <th>cspan_id</th>\n",
       "      <th>govtrack_id</th>\n",
       "      <th>votesmart_id</th>\n",
       "      <th>ballotpedia_id</th>\n",
       "      <th>washington_post_id</th>\n",
       "      <th>icpsr_id</th>\n",
       "      <th>wikipedia_id</th>\n",
       "    </tr>\n",
       "  </thead>\n",
       "  <tbody>\n",
       "    <tr>\n",
       "      <th>0</th>\n",
       "      <td>Brown</td>\n",
       "      <td>Sherrod</td>\n",
       "      <td>1952-11-09</td>\n",
       "      <td>M</td>\n",
       "      <td>sen</td>\n",
       "      <td>OH</td>\n",
       "      <td>NaN</td>\n",
       "      <td>Democrat</td>\n",
       "      <td>https://www.brown.senate.gov</td>\n",
       "      <td>713 Hart Senate Office Building Washington DC ...</td>\n",
       "      <td>...</td>\n",
       "      <td>136.0</td>\n",
       "      <td>N00003535</td>\n",
       "      <td>S307</td>\n",
       "      <td>5051.0</td>\n",
       "      <td>400050</td>\n",
       "      <td>27018.0</td>\n",
       "      <td>Sherrod Brown</td>\n",
       "      <td>NaN</td>\n",
       "      <td>29389.0</td>\n",
       "      <td>Sherrod Brown</td>\n",
       "    </tr>\n",
       "    <tr>\n",
       "      <th>1</th>\n",
       "      <td>Cantwell</td>\n",
       "      <td>Maria</td>\n",
       "      <td>1958-10-13</td>\n",
       "      <td>F</td>\n",
       "      <td>sen</td>\n",
       "      <td>WA</td>\n",
       "      <td>NaN</td>\n",
       "      <td>Democrat</td>\n",
       "      <td>https://www.cantwell.senate.gov</td>\n",
       "      <td>511 Hart Senate Office Building Washington DC ...</td>\n",
       "      <td>...</td>\n",
       "      <td>172.0</td>\n",
       "      <td>N00007836</td>\n",
       "      <td>S275</td>\n",
       "      <td>26137.0</td>\n",
       "      <td>300018</td>\n",
       "      <td>27122.0</td>\n",
       "      <td>Maria Cantwell</td>\n",
       "      <td>NaN</td>\n",
       "      <td>39310.0</td>\n",
       "      <td>Maria Cantwell</td>\n",
       "    </tr>\n",
       "    <tr>\n",
       "      <th>2</th>\n",
       "      <td>Cardin</td>\n",
       "      <td>Benjamin</td>\n",
       "      <td>1943-10-05</td>\n",
       "      <td>M</td>\n",
       "      <td>sen</td>\n",
       "      <td>MD</td>\n",
       "      <td>NaN</td>\n",
       "      <td>Democrat</td>\n",
       "      <td>https://www.cardin.senate.gov</td>\n",
       "      <td>509 Hart Senate Office Building Washington DC ...</td>\n",
       "      <td>...</td>\n",
       "      <td>174.0</td>\n",
       "      <td>N00001955</td>\n",
       "      <td>S308</td>\n",
       "      <td>4004.0</td>\n",
       "      <td>400064</td>\n",
       "      <td>26888.0</td>\n",
       "      <td>Ben Cardin</td>\n",
       "      <td>NaN</td>\n",
       "      <td>15408.0</td>\n",
       "      <td>Ben Cardin</td>\n",
       "    </tr>\n",
       "    <tr>\n",
       "      <th>3</th>\n",
       "      <td>Carper</td>\n",
       "      <td>Thomas</td>\n",
       "      <td>1947-01-23</td>\n",
       "      <td>M</td>\n",
       "      <td>sen</td>\n",
       "      <td>DE</td>\n",
       "      <td>NaN</td>\n",
       "      <td>Democrat</td>\n",
       "      <td>http://www.carper.senate.gov</td>\n",
       "      <td>513 Hart Senate Office Building Washington DC ...</td>\n",
       "      <td>...</td>\n",
       "      <td>179.0</td>\n",
       "      <td>N00012508</td>\n",
       "      <td>S277</td>\n",
       "      <td>663.0</td>\n",
       "      <td>300019</td>\n",
       "      <td>22421.0</td>\n",
       "      <td>Tom Carper</td>\n",
       "      <td>NaN</td>\n",
       "      <td>15015.0</td>\n",
       "      <td>Tom Carper</td>\n",
       "    </tr>\n",
       "    <tr>\n",
       "      <th>4</th>\n",
       "      <td>Casey</td>\n",
       "      <td>Robert</td>\n",
       "      <td>1960-04-13</td>\n",
       "      <td>M</td>\n",
       "      <td>sen</td>\n",
       "      <td>PA</td>\n",
       "      <td>NaN</td>\n",
       "      <td>Democrat</td>\n",
       "      <td>https://www.casey.senate.gov</td>\n",
       "      <td>393 Russell Senate Office Building Washington ...</td>\n",
       "      <td>...</td>\n",
       "      <td>1828.0</td>\n",
       "      <td>N00027503</td>\n",
       "      <td>S309</td>\n",
       "      <td>47036.0</td>\n",
       "      <td>412246</td>\n",
       "      <td>2541.0</td>\n",
       "      <td>Bob Casey, Jr.</td>\n",
       "      <td>NaN</td>\n",
       "      <td>40703.0</td>\n",
       "      <td>Bob Casey Jr.</td>\n",
       "    </tr>\n",
       "  </tbody>\n",
       "</table>\n",
       "<p>5 rows × 29 columns</p>\n",
       "</div>"
      ],
      "text/plain": [
       "  last_name first_name    birthday gender type state  district     party  \\\n",
       "0     Brown    Sherrod  1952-11-09      M  sen    OH       NaN  Democrat   \n",
       "1  Cantwell      Maria  1958-10-13      F  sen    WA       NaN  Democrat   \n",
       "2    Cardin   Benjamin  1943-10-05      M  sen    MD       NaN  Democrat   \n",
       "3    Carper     Thomas  1947-01-23      M  sen    DE       NaN  Democrat   \n",
       "4     Casey     Robert  1960-04-13      M  sen    PA       NaN  Democrat   \n",
       "\n",
       "                               url  \\\n",
       "0     https://www.brown.senate.gov   \n",
       "1  https://www.cantwell.senate.gov   \n",
       "2    https://www.cardin.senate.gov   \n",
       "3     http://www.carper.senate.gov   \n",
       "4     https://www.casey.senate.gov   \n",
       "\n",
       "                                             address       ...        \\\n",
       "0  713 Hart Senate Office Building Washington DC ...       ...         \n",
       "1  511 Hart Senate Office Building Washington DC ...       ...         \n",
       "2  509 Hart Senate Office Building Washington DC ...       ...         \n",
       "3  513 Hart Senate Office Building Washington DC ...       ...         \n",
       "4  393 Russell Senate Office Building Washington ...       ...         \n",
       "\n",
       "  thomas_id opensecrets_id lis_id cspan_id govtrack_id  votesmart_id  \\\n",
       "0     136.0      N00003535   S307   5051.0      400050       27018.0   \n",
       "1     172.0      N00007836   S275  26137.0      300018       27122.0   \n",
       "2     174.0      N00001955   S308   4004.0      400064       26888.0   \n",
       "3     179.0      N00012508   S277    663.0      300019       22421.0   \n",
       "4    1828.0      N00027503   S309  47036.0      412246        2541.0   \n",
       "\n",
       "   ballotpedia_id washington_post_id icpsr_id    wikipedia_id  \n",
       "0   Sherrod Brown                NaN  29389.0   Sherrod Brown  \n",
       "1  Maria Cantwell                NaN  39310.0  Maria Cantwell  \n",
       "2      Ben Cardin                NaN  15408.0      Ben Cardin  \n",
       "3      Tom Carper                NaN  15015.0      Tom Carper  \n",
       "4  Bob Casey, Jr.                NaN  40703.0   Bob Casey Jr.  \n",
       "\n",
       "[5 rows x 29 columns]"
      ]
     },
     "execution_count": 6,
     "metadata": {},
     "output_type": "execute_result"
    },
    {
     "name": "stdout",
     "output_type": "stream",
     "text": [
      "In [6] used 10.203 MiB RAM in 0.259s, peaked 0.000 MiB above current, total RAM usage 85.641 MiB\n"
     ]
    }
   ],
   "source": [
    "legislator_df = ideal_point.raw_data.legislators()\n",
    "legislator_df.head()"
   ]
  },
  {
   "cell_type": "markdown",
   "metadata": {},
   "source": [
    "### Votes\n",
    "\n",
    "Next we can load in all the votes. We get two dataframes from this, `vote_df` and `position_df`.\n",
    "\n",
    "Each row of `vote_df` corresponds to one roll call vote (like on the passage of a bill).\n",
    "\n",
    "Each row of `position_df` corresponds to one legislators position on a vote."
   ]
  },
  {
   "cell_type": "code",
   "execution_count": null,
   "metadata": {
    "ExecuteTime": {
     "start_time": "2016-12-01T01:44:23.060Z"
    },
    "collapsed": false
   },
   "outputs": [],
   "source": [
    "vote_df, position_df = ideal_point.raw_data.votes(legislator_df)"
   ]
  },
  {
   "cell_type": "code",
   "execution_count": null,
   "metadata": {
    "ExecuteTime": {
     "start_time": "2016-12-01T01:44:23.068Z"
    },
    "collapsed": false
   },
   "outputs": [],
   "source": [
    "vote_df.head()"
   ]
  },
  {
   "cell_type": "code",
   "execution_count": null,
   "metadata": {
    "ExecuteTime": {
     "start_time": "2016-12-01T01:44:23.074Z"
    },
    "collapsed": false
   },
   "outputs": [],
   "source": [
    "position_df.head()"
   ]
  },
  {
   "cell_type": "markdown",
   "metadata": {},
   "source": [
    "## Transform Data\n",
    "\n",
    "Next we have to transform our data to a format we can train our model on.\n",
    "\n",
    "Our observed data is basically `position_df`. but instead of categorical `position`s, we need them to\n",
    "be 1s and 0s. Also, since we aren't using all of the legislators, we need to transform\n",
    "the `legislator_index` into a relative index. We call this transformed dataframe `model_position_df`."
   ]
  },
  {
   "cell_type": "code",
   "execution_count": null,
   "metadata": {
    "ExecuteTime": {
     "start_time": "2016-12-01T01:44:23.078Z"
    },
    "collapsed": false
   },
   "outputs": [],
   "source": [
    "import ideal_point.ideal_point"
   ]
  },
  {
   "cell_type": "code",
   "execution_count": null,
   "metadata": {
    "ExecuteTime": {
     "start_time": "2016-12-01T01:44:23.081Z"
    },
    "collapsed": false
   },
   "outputs": [],
   "source": [
    "model_position_df, model_legislator_index, model_vote_index = ideal_point.ideal_point.transform_data(position_df, vote_df, legislator_df)"
   ]
  },
  {
   "cell_type": "code",
   "execution_count": null,
   "metadata": {
    "ExecuteTime": {
     "start_time": "2016-12-01T01:44:23.086Z"
    },
    "collapsed": false
   },
   "outputs": [],
   "source": [
    "model_position_df.head()"
   ]
  },
  {
   "cell_type": "code",
   "execution_count": null,
   "metadata": {
    "ExecuteTime": {
     "start_time": "2016-12-01T01:44:23.088Z"
    },
    "collapsed": false
   },
   "outputs": [],
   "source": [
    "model_position_df.info()"
   ]
  },
  {
   "cell_type": "markdown",
   "metadata": {},
   "source": [
    "The two series `model_legislator_index` and `model_vote_index` map the values in `model_position_df` to the full dataframes, from index to value."
   ]
  },
  {
   "cell_type": "markdown",
   "metadata": {},
   "source": [
    "## Create Model\n",
    "\n",
    "Now we can create our model, given we have observed those votes. The notation is based\n",
    "on [\"Comparing NOMINATE and IDEAL: Points of Difference and Monte Carlo Tests\"](http://scholar-qa.princeton.edu/sites/default/files/jameslo/files/lsq_nomvsideal.pdf)."
   ]
  },
  {
   "cell_type": "code",
   "execution_count": null,
   "metadata": {
    "ExecuteTime": {
     "start_time": "2016-12-01T01:44:23.093Z"
    },
    "collapsed": false,
    "scrolled": true
   },
   "outputs": [],
   "source": [
    "model = ideal_point.ideal_point.create_model(model_position_df)"
   ]
  },
  {
   "cell_type": "markdown",
   "metadata": {},
   "source": [
    "## Train Model\n",
    "\n",
    "Now we can run variational inference to compute estimated parameters for the model."
   ]
  },
  {
   "cell_type": "code",
   "execution_count": null,
   "metadata": {
    "ExecuteTime": {
     "start_time": "2016-12-01T01:44:23.095Z"
    },
    "collapsed": false
   },
   "outputs": [],
   "source": [
    "#advi_params = ideal_point.ideal_point.advi_params(model)\n",
    "#ideal_point.ideal_point.save_advi_params(advi_params)"
   ]
  },
  {
   "cell_type": "markdown",
   "metadata": {},
   "source": [
    "Or load it from disk, if we have already computed it (takes about an hour and a half on my computer)"
   ]
  },
  {
   "cell_type": "code",
   "execution_count": null,
   "metadata": {
    "ExecuteTime": {
     "start_time": "2016-12-01T01:44:23.098Z"
    },
    "collapsed": false
   },
   "outputs": [],
   "source": [
    "advi_params = ideal_point.ideal_point.load_advi_params()"
   ]
  },
  {
   "cell_type": "markdown",
   "metadata": {},
   "source": [
    "## Integrate Data\n",
    "\n",
    "Now we can integrate the parameters we learned backed info our `vote_df` and `legislator_df`. We add a `ideology` column to both of them and filter out rows without ideal points. We also add a `bias` to the votes (which is greater if any senator is more likely to vote yes)."
   ]
  },
  {
   "cell_type": "code",
   "execution_count": null,
   "metadata": {
    "ExecuteTime": {
     "start_time": "2016-12-01T01:44:23.100Z"
    },
    "collapsed": false
   },
   "outputs": [],
   "source": [
    "legislators_pt_df = ideal_point.ideal_point.leg_add_ideology(legislator_df, model_legislator_index, advi_params)\n",
    "vote_pt_df = ideal_point.ideal_point.vote_add_ideology_and_bias(vote_df, model_vote_index, advi_params)"
   ]
  },
  {
   "cell_type": "markdown",
   "metadata": {},
   "source": [
    "### Visualize Points\n",
    "\n",
    "We can do a quick gut chuck of our legislator ideal points to make sure they seperate democrats and republicans"
   ]
  },
  {
   "cell_type": "code",
   "execution_count": null,
   "metadata": {
    "ExecuteTime": {
     "start_time": "2016-12-01T01:44:23.102Z"
    },
    "collapsed": false
   },
   "outputs": [],
   "source": [
    "from altair import *"
   ]
  },
  {
   "cell_type": "code",
   "execution_count": null,
   "metadata": {
    "ExecuteTime": {
     "start_time": "2016-12-01T01:44:23.109Z"
    },
    "collapsed": false
   },
   "outputs": [],
   "source": [
    "Chart(legislators_pt_df).mark_tick().encode(\n",
    "    x='ideology:Q',\n",
    "    y='party:O',\n",
    ")"
   ]
  },
  {
   "cell_type": "code",
   "execution_count": null,
   "metadata": {
    "ExecuteTime": {
     "start_time": "2016-12-01T01:44:23.129Z"
    },
    "collapsed": false
   },
   "outputs": [],
   "source": [
    "legislators_pt_df.sort_values(by=[\"ideology\"])"
   ]
  },
  {
   "cell_type": "markdown",
   "metadata": {},
   "source": [
    "### Validation\n",
    "\n",
    "Some of the most conservative members in our model include Mike Pompeo, who lead the house inquiry into Benghazi, and Randy Weber, who drew fire for a tweet declaring Barack Obama a \"socialist dictator.\"\n",
    "\n",
    "Some of the most liberal members include Jim McGovern, who represents the pioneer valley and Jerrold Nadler, who represents Manhattan's upper west side. The most liberal legislator, Jan Schakowsky, is a longtime critic of the Iraq war."
   ]
  },
  {
   "cell_type": "markdown",
   "metadata": {},
   "source": [
    "The house bills to remove voted on by all democrats are close to the democratic ideology."
   ]
  },
  {
   "cell_type": "code",
   "execution_count": null,
   "metadata": {
    "ExecuteTime": {
     "start_time": "2016-12-01T01:44:23.134Z"
    },
    "collapsed": false
   },
   "outputs": [],
   "source": [
    "r = vote_pt_df[vote_pt_df[\"question\"].str.contains(\"To repeal the Patient Protection \")]\n",
    "r"
   ]
  },
  {
   "cell_type": "markdown",
   "metadata": {},
   "source": [
    "This is to get bills linked w/ duplication data for now"
   ]
  },
  {
   "cell_type": "code",
   "execution_count": null,
   "metadata": {
    "ExecuteTime": {
     "start_time": "2016-12-01T01:44:23.153Z"
    },
    "collapsed": false,
    "scrolled": false
   },
   "outputs": [],
   "source": [
    "vote_pt_df.sort_values(\"ideology\", ascending=False)"
   ]
  },
  {
   "cell_type": "markdown",
   "metadata": {
    "ExecuteTime": {
     "end_time": "2016-12-01T00:37:52.628473",
     "start_time": "2016-12-01T00:37:52.412088"
    },
    "collapsed": false
   },
   "source": [
    "## Text reuse"
   ]
  },
  {
   "cell_type": "code",
   "execution_count": null,
   "metadata": {
    "ExecuteTime": {
     "start_time": "2016-12-01T01:44:23.157Z"
    },
    "collapsed": false
   },
   "outputs": [],
   "source": [
    "import pandas as pd\n",
    "reuse_df = pd.DataFrame.from_csv(\"pairs_enhanced.txt\")\n",
    "reuse_df[\"congress_b\"] = reuse_df[\"congress_b\"].astype(float)\n",
    "reuse_df[\"congress_a\"] = reuse_df[\"congress_a\"].astype(float)\n",
    "reuse_df[\"bill_no_a\"] = reuse_df[\"bill_no_a\"].astype(float)\n",
    "reuse_df[\"bill_no_b\"] = reuse_df[\"bill_no_b\"].astype(float)"
   ]
  },
  {
   "cell_type": "code",
   "execution_count": null,
   "metadata": {
    "ExecuteTime": {
     "start_time": "2016-12-01T01:44:23.161Z"
    },
    "collapsed": false
   },
   "outputs": [],
   "source": [
    "pd.merge(reuse_df, vote_pt_df, how='inner', left_on = 'bill_kind_a',  right_on = 'bill_type')\n",
    "#result_a = pd.merge(reuse_df, vote_pt_df, how='inner', left_on = [['bill_no_a', 'bill_kind_a']], right_on = [['bill_number', 'bill_type']])\n",
    "# result_b = pd.merge(reuse_df, vote_pt_df, how='inner', left_on = [['bill_no_b', 'bill_kind_b']], right_on = [['bill_number', 'bill_type']])\n",
    "\n",
    "#print(result_a.head()[[\"bill_no_a\", \"bill_number\", \"ideology\"]])\n",
    "#print(result_b.head()[[\"bill_no_b\", \"bill_number\", \"ideology\"]])"
   ]
  }
 ],
 "metadata": {
  "anaconda-cloud": {},
  "kernelspec": {
   "display_name": "Python [default]",
   "language": "python",
   "name": "python3"
  },
  "language_info": {
   "codemirror_mode": {
    "name": "ipython",
    "version": 3
   },
   "file_extension": ".py",
   "mimetype": "text/x-python",
   "name": "python",
   "nbconvert_exporter": "python",
   "pygments_lexer": "ipython3",
   "version": "3.5.2"
  },
  "notify_time": "10",
  "toc": {
   "nav_menu": {
    "height": "146px",
    "width": "271px"
   },
   "navigate_menu": true,
   "number_sections": false,
   "sideBar": true,
   "threshold": 4,
   "toc_cell": false,
   "toc_section_display": "block",
   "toc_window_display": true
  }
 },
 "nbformat": 4,
 "nbformat_minor": 0
}
