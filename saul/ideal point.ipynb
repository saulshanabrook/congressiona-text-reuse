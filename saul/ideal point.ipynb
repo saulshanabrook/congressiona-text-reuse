{
 "cells": [
  {
   "cell_type": "code",
   "execution_count": 1,
   "metadata": {
    "ExecuteTime": {
     "end_time": "2016-12-15T18:21:33.597191",
     "start_time": "2016-12-15T18:21:33.544877"
    },
    "collapsed": false
   },
   "outputs": [],
   "source": [
    "%load_ext autoreload\n",
    "%autoreload 2"
   ]
  },
  {
   "cell_type": "code",
   "execution_count": 2,
   "metadata": {
    "ExecuteTime": {
     "end_time": "2016-12-15T18:21:33.970794",
     "start_time": "2016-12-15T18:21:33.601043"
    },
    "collapsed": false
   },
   "outputs": [
    {
     "name": "stdout",
     "output_type": "stream",
     "text": [
      "In [2] used 0.000 MiB RAM in 0.002s, peaked 0.000 MiB above current, total RAM usage 42.496 MiB\n"
     ]
    }
   ],
   "source": [
    "from ipython_memwatcher import MemWatcher\n",
    "mw = MemWatcher()\n",
    "mw.start_watching_memory()"
   ]
  },
  {
   "cell_type": "markdown",
   "metadata": {},
   "source": [
    "# Ideal Point Estimation\n",
    "\n",
    "Here we perform Ideal Point Estimation of legislators in 113th Congress.\n",
    "\n",
    "## Load Data\n",
    "### Legislators\n",
    "First we have to load in all legislators (this is for all of time, from GovTrack)."
   ]
  },
  {
   "cell_type": "code",
   "execution_count": 3,
   "metadata": {
    "ExecuteTime": {
     "end_time": "2016-12-15T18:21:35.350930",
     "start_time": "2016-12-15T18:21:33.973859"
    },
    "collapsed": false
   },
   "outputs": [
    {
     "name": "stdout",
     "output_type": "stream",
     "text": [
      "In [3] used 32.645 MiB RAM in 1.254s, peaked 0.000 MiB above current, total RAM usage 75.141 MiB\n"
     ]
    }
   ],
   "source": [
    "import ideal_point.raw_data"
   ]
  },
  {
   "cell_type": "code",
   "execution_count": 4,
   "metadata": {
    "ExecuteTime": {
     "end_time": "2016-12-15T18:21:35.735093",
     "start_time": "2016-12-15T18:21:35.354389"
    },
    "collapsed": false
   },
   "outputs": [
    {
     "data": {
      "text/html": [
       "<div>\n",
       "<table border=\"1\" class=\"dataframe\">\n",
       "  <thead>\n",
       "    <tr style=\"text-align: right;\">\n",
       "      <th></th>\n",
       "      <th>last_name</th>\n",
       "      <th>first_name</th>\n",
       "      <th>birthday</th>\n",
       "      <th>gender</th>\n",
       "      <th>type</th>\n",
       "      <th>state</th>\n",
       "      <th>district</th>\n",
       "      <th>party</th>\n",
       "      <th>url</th>\n",
       "      <th>address</th>\n",
       "      <th>...</th>\n",
       "      <th>thomas_id</th>\n",
       "      <th>opensecrets_id</th>\n",
       "      <th>lis_id</th>\n",
       "      <th>cspan_id</th>\n",
       "      <th>govtrack_id</th>\n",
       "      <th>votesmart_id</th>\n",
       "      <th>ballotpedia_id</th>\n",
       "      <th>washington_post_id</th>\n",
       "      <th>icpsr_id</th>\n",
       "      <th>wikipedia_id</th>\n",
       "    </tr>\n",
       "  </thead>\n",
       "  <tbody>\n",
       "    <tr>\n",
       "      <th>0</th>\n",
       "      <td>Brown</td>\n",
       "      <td>Sherrod</td>\n",
       "      <td>1952-11-09</td>\n",
       "      <td>M</td>\n",
       "      <td>sen</td>\n",
       "      <td>OH</td>\n",
       "      <td>NaN</td>\n",
       "      <td>Democrat</td>\n",
       "      <td>https://www.brown.senate.gov</td>\n",
       "      <td>713 Hart Senate Office Building Washington DC ...</td>\n",
       "      <td>...</td>\n",
       "      <td>136.0</td>\n",
       "      <td>N00003535</td>\n",
       "      <td>S307</td>\n",
       "      <td>5051.0</td>\n",
       "      <td>400050</td>\n",
       "      <td>27018.0</td>\n",
       "      <td>Sherrod Brown</td>\n",
       "      <td>NaN</td>\n",
       "      <td>29389.0</td>\n",
       "      <td>Sherrod Brown</td>\n",
       "    </tr>\n",
       "    <tr>\n",
       "      <th>1</th>\n",
       "      <td>Cantwell</td>\n",
       "      <td>Maria</td>\n",
       "      <td>1958-10-13</td>\n",
       "      <td>F</td>\n",
       "      <td>sen</td>\n",
       "      <td>WA</td>\n",
       "      <td>NaN</td>\n",
       "      <td>Democrat</td>\n",
       "      <td>https://www.cantwell.senate.gov</td>\n",
       "      <td>511 Hart Senate Office Building Washington DC ...</td>\n",
       "      <td>...</td>\n",
       "      <td>172.0</td>\n",
       "      <td>N00007836</td>\n",
       "      <td>S275</td>\n",
       "      <td>26137.0</td>\n",
       "      <td>300018</td>\n",
       "      <td>27122.0</td>\n",
       "      <td>Maria Cantwell</td>\n",
       "      <td>NaN</td>\n",
       "      <td>39310.0</td>\n",
       "      <td>Maria Cantwell</td>\n",
       "    </tr>\n",
       "    <tr>\n",
       "      <th>2</th>\n",
       "      <td>Cardin</td>\n",
       "      <td>Benjamin</td>\n",
       "      <td>1943-10-05</td>\n",
       "      <td>M</td>\n",
       "      <td>sen</td>\n",
       "      <td>MD</td>\n",
       "      <td>NaN</td>\n",
       "      <td>Democrat</td>\n",
       "      <td>https://www.cardin.senate.gov</td>\n",
       "      <td>509 Hart Senate Office Building Washington DC ...</td>\n",
       "      <td>...</td>\n",
       "      <td>174.0</td>\n",
       "      <td>N00001955</td>\n",
       "      <td>S308</td>\n",
       "      <td>4004.0</td>\n",
       "      <td>400064</td>\n",
       "      <td>26888.0</td>\n",
       "      <td>Ben Cardin</td>\n",
       "      <td>NaN</td>\n",
       "      <td>15408.0</td>\n",
       "      <td>Ben Cardin</td>\n",
       "    </tr>\n",
       "    <tr>\n",
       "      <th>3</th>\n",
       "      <td>Carper</td>\n",
       "      <td>Thomas</td>\n",
       "      <td>1947-01-23</td>\n",
       "      <td>M</td>\n",
       "      <td>sen</td>\n",
       "      <td>DE</td>\n",
       "      <td>NaN</td>\n",
       "      <td>Democrat</td>\n",
       "      <td>http://www.carper.senate.gov</td>\n",
       "      <td>513 Hart Senate Office Building Washington DC ...</td>\n",
       "      <td>...</td>\n",
       "      <td>179.0</td>\n",
       "      <td>N00012508</td>\n",
       "      <td>S277</td>\n",
       "      <td>663.0</td>\n",
       "      <td>300019</td>\n",
       "      <td>22421.0</td>\n",
       "      <td>Tom Carper</td>\n",
       "      <td>NaN</td>\n",
       "      <td>15015.0</td>\n",
       "      <td>Tom Carper</td>\n",
       "    </tr>\n",
       "    <tr>\n",
       "      <th>4</th>\n",
       "      <td>Casey</td>\n",
       "      <td>Robert</td>\n",
       "      <td>1960-04-13</td>\n",
       "      <td>M</td>\n",
       "      <td>sen</td>\n",
       "      <td>PA</td>\n",
       "      <td>NaN</td>\n",
       "      <td>Democrat</td>\n",
       "      <td>https://www.casey.senate.gov</td>\n",
       "      <td>393 Russell Senate Office Building Washington ...</td>\n",
       "      <td>...</td>\n",
       "      <td>1828.0</td>\n",
       "      <td>N00027503</td>\n",
       "      <td>S309</td>\n",
       "      <td>47036.0</td>\n",
       "      <td>412246</td>\n",
       "      <td>2541.0</td>\n",
       "      <td>Bob Casey, Jr.</td>\n",
       "      <td>NaN</td>\n",
       "      <td>40703.0</td>\n",
       "      <td>Bob Casey Jr.</td>\n",
       "    </tr>\n",
       "  </tbody>\n",
       "</table>\n",
       "<p>5 rows × 29 columns</p>\n",
       "</div>"
      ],
      "text/plain": [
       "  last_name first_name    birthday gender type state  district     party  \\\n",
       "0     Brown    Sherrod  1952-11-09      M  sen    OH       NaN  Democrat   \n",
       "1  Cantwell      Maria  1958-10-13      F  sen    WA       NaN  Democrat   \n",
       "2    Cardin   Benjamin  1943-10-05      M  sen    MD       NaN  Democrat   \n",
       "3    Carper     Thomas  1947-01-23      M  sen    DE       NaN  Democrat   \n",
       "4     Casey     Robert  1960-04-13      M  sen    PA       NaN  Democrat   \n",
       "\n",
       "                               url  \\\n",
       "0     https://www.brown.senate.gov   \n",
       "1  https://www.cantwell.senate.gov   \n",
       "2    https://www.cardin.senate.gov   \n",
       "3     http://www.carper.senate.gov   \n",
       "4     https://www.casey.senate.gov   \n",
       "\n",
       "                                             address       ...        \\\n",
       "0  713 Hart Senate Office Building Washington DC ...       ...         \n",
       "1  511 Hart Senate Office Building Washington DC ...       ...         \n",
       "2  509 Hart Senate Office Building Washington DC ...       ...         \n",
       "3  513 Hart Senate Office Building Washington DC ...       ...         \n",
       "4  393 Russell Senate Office Building Washington ...       ...         \n",
       "\n",
       "  thomas_id opensecrets_id lis_id cspan_id govtrack_id  votesmart_id  \\\n",
       "0     136.0      N00003535   S307   5051.0      400050       27018.0   \n",
       "1     172.0      N00007836   S275  26137.0      300018       27122.0   \n",
       "2     174.0      N00001955   S308   4004.0      400064       26888.0   \n",
       "3     179.0      N00012508   S277    663.0      300019       22421.0   \n",
       "4    1828.0      N00027503   S309  47036.0      412246        2541.0   \n",
       "\n",
       "   ballotpedia_id washington_post_id icpsr_id    wikipedia_id  \n",
       "0   Sherrod Brown                NaN  29389.0   Sherrod Brown  \n",
       "1  Maria Cantwell                NaN  39310.0  Maria Cantwell  \n",
       "2      Ben Cardin                NaN  15408.0      Ben Cardin  \n",
       "3      Tom Carper                NaN  15015.0      Tom Carper  \n",
       "4  Bob Casey, Jr.                NaN  40703.0   Bob Casey Jr.  \n",
       "\n",
       "[5 rows x 29 columns]"
      ]
     },
     "execution_count": 4,
     "metadata": {},
     "output_type": "execute_result"
    },
    {
     "name": "stdout",
     "output_type": "stream",
     "text": [
      "In [4] used 10.219 MiB RAM in 0.245s, peaked 0.000 MiB above current, total RAM usage 85.359 MiB\n"
     ]
    }
   ],
   "source": [
    "legislator_df = ideal_point.raw_data.legislators()\n",
    "legislator_df.head()"
   ]
  },
  {
   "cell_type": "markdown",
   "metadata": {},
   "source": [
    "### Votes\n",
    "\n",
    "Next we can load in all the votes. We get two dataframes from this, `vote_df` and `position_df`.\n",
    "\n",
    "Each row of `vote_df` corresponds to one roll call vote (like on the passage of a bill).\n",
    "\n",
    "Each row of `position_df` corresponds to one legislators position on a vote."
   ]
  },
  {
   "cell_type": "code",
   "execution_count": 5,
   "metadata": {
    "ExecuteTime": {
     "end_time": "2016-12-15T18:26:51.040410",
     "start_time": "2016-12-15T18:21:35.738647"
    },
    "collapsed": false
   },
   "outputs": [
    {
     "name": "stdout",
     "output_type": "stream",
     "text": [
      "\n",
      "In [5] used 196.305 MiB RAM in 315.142s, peaked 22.344 MiB above current, total RAM usage 281.664 MiB\n"
     ]
    }
   ],
   "source": [
    "vote_df, position_df = ideal_point.raw_data.votes(legislator_df)"
   ]
  },
  {
   "cell_type": "code",
   "execution_count": 6,
   "metadata": {
    "ExecuteTime": {
     "end_time": "2016-12-15T18:26:51.242805",
     "start_time": "2016-12-15T18:26:51.044249"
    },
    "collapsed": false
   },
   "outputs": [
    {
     "data": {
      "text/html": [
       "<div>\n",
       "<table border=\"1\" class=\"dataframe\">\n",
       "  <thead>\n",
       "    <tr style=\"text-align: right;\">\n",
       "      <th></th>\n",
       "      <th>amendment_author</th>\n",
       "      <th>amendment_number</th>\n",
       "      <th>amendment_purpose</th>\n",
       "      <th>amendment_type</th>\n",
       "      <th>bill_congress</th>\n",
       "      <th>bill_number</th>\n",
       "      <th>bill_title</th>\n",
       "      <th>bill_type</th>\n",
       "      <th>category</th>\n",
       "      <th>chamber</th>\n",
       "      <th>...</th>\n",
       "      <th>record_modified</th>\n",
       "      <th>requires</th>\n",
       "      <th>result</th>\n",
       "      <th>result_text</th>\n",
       "      <th>session</th>\n",
       "      <th>source_url</th>\n",
       "      <th>subject</th>\n",
       "      <th>type</th>\n",
       "      <th>updated_at</th>\n",
       "      <th>vote_id</th>\n",
       "    </tr>\n",
       "  </thead>\n",
       "  <tbody>\n",
       "    <tr>\n",
       "      <th>0</th>\n",
       "      <td>NaN</td>\n",
       "      <td>NaN</td>\n",
       "      <td>NaN</td>\n",
       "      <td>NaN</td>\n",
       "      <td>NaN</td>\n",
       "      <td>NaN</td>\n",
       "      <td>NaN</td>\n",
       "      <td>NaN</td>\n",
       "      <td>quorum</td>\n",
       "      <td>h</td>\n",
       "      <td>...</td>\n",
       "      <td>NaN</td>\n",
       "      <td>QUORUM</td>\n",
       "      <td>Passed</td>\n",
       "      <td>Passed</td>\n",
       "      <td>2013</td>\n",
       "      <td>http://clerk.house.gov/evs/2013/roll001.xml</td>\n",
       "      <td>NaN</td>\n",
       "      <td>Call of the House</td>\n",
       "      <td>2014-06-18T11:22:24-04:00</td>\n",
       "      <td>h1-113.2013</td>\n",
       "    </tr>\n",
       "    <tr>\n",
       "      <th>1</th>\n",
       "      <td>NaN</td>\n",
       "      <td>NaN</td>\n",
       "      <td>NaN</td>\n",
       "      <td>NaN</td>\n",
       "      <td>NaN</td>\n",
       "      <td>NaN</td>\n",
       "      <td>NaN</td>\n",
       "      <td>NaN</td>\n",
       "      <td>procedural</td>\n",
       "      <td>h</td>\n",
       "      <td>...</td>\n",
       "      <td>NaN</td>\n",
       "      <td>1/2</td>\n",
       "      <td>Failed</td>\n",
       "      <td>Failed</td>\n",
       "      <td>2013</td>\n",
       "      <td>http://clerk.house.gov/evs/2013/roll010.xml</td>\n",
       "      <td>NaN</td>\n",
       "      <td>On the Motion to Adjourn</td>\n",
       "      <td>2014-06-18T11:22:23-04:00</td>\n",
       "      <td>h10-113.2013</td>\n",
       "    </tr>\n",
       "    <tr>\n",
       "      <th>2</th>\n",
       "      <td>NaN</td>\n",
       "      <td>NaN</td>\n",
       "      <td>NaN</td>\n",
       "      <td>NaN</td>\n",
       "      <td>113.0</td>\n",
       "      <td>1120.0</td>\n",
       "      <td>NaN</td>\n",
       "      <td>hr</td>\n",
       "      <td>recommit</td>\n",
       "      <td>h</td>\n",
       "      <td>...</td>\n",
       "      <td>NaN</td>\n",
       "      <td>1/2</td>\n",
       "      <td>Failed</td>\n",
       "      <td>Failed</td>\n",
       "      <td>2013</td>\n",
       "      <td>http://clerk.house.gov/evs/2013/roll100.xml</td>\n",
       "      <td>Preventing Greater Uncertainty in Labor-Manage...</td>\n",
       "      <td>On the Motion to Recommit</td>\n",
       "      <td>2014-06-18T11:22:04-04:00</td>\n",
       "      <td>h100-113.2013</td>\n",
       "    </tr>\n",
       "    <tr>\n",
       "      <th>3</th>\n",
       "      <td>NaN</td>\n",
       "      <td>NaN</td>\n",
       "      <td>NaN</td>\n",
       "      <td>NaN</td>\n",
       "      <td>113.0</td>\n",
       "      <td>1120.0</td>\n",
       "      <td>NaN</td>\n",
       "      <td>hr</td>\n",
       "      <td>passage</td>\n",
       "      <td>h</td>\n",
       "      <td>...</td>\n",
       "      <td>NaN</td>\n",
       "      <td>1/2</td>\n",
       "      <td>Passed</td>\n",
       "      <td>Passed</td>\n",
       "      <td>2013</td>\n",
       "      <td>http://clerk.house.gov/evs/2013/roll101.xml</td>\n",
       "      <td>Preventing Greater Uncertainty in Labor-Manage...</td>\n",
       "      <td>On Passage of the Bill</td>\n",
       "      <td>2014-06-18T11:22:04-04:00</td>\n",
       "      <td>h101-113.2013</td>\n",
       "    </tr>\n",
       "    <tr>\n",
       "      <th>4</th>\n",
       "      <td>NaN</td>\n",
       "      <td>NaN</td>\n",
       "      <td>NaN</td>\n",
       "      <td>NaN</td>\n",
       "      <td>NaN</td>\n",
       "      <td>NaN</td>\n",
       "      <td>NaN</td>\n",
       "      <td>NaN</td>\n",
       "      <td>procedural</td>\n",
       "      <td>h</td>\n",
       "      <td>...</td>\n",
       "      <td>NaN</td>\n",
       "      <td>1/2</td>\n",
       "      <td>Passed</td>\n",
       "      <td>Passed</td>\n",
       "      <td>2013</td>\n",
       "      <td>http://clerk.house.gov/evs/2013/roll102.xml</td>\n",
       "      <td>NaN</td>\n",
       "      <td>On Approving the Journal</td>\n",
       "      <td>2014-06-18T11:22:04-04:00</td>\n",
       "      <td>h102-113.2013</td>\n",
       "    </tr>\n",
       "  </tbody>\n",
       "</table>\n",
       "<p>5 rows × 26 columns</p>\n",
       "</div>"
      ],
      "text/plain": [
       "  amendment_author  amendment_number amendment_purpose amendment_type  \\\n",
       "0              NaN               NaN               NaN            NaN   \n",
       "1              NaN               NaN               NaN            NaN   \n",
       "2              NaN               NaN               NaN            NaN   \n",
       "3              NaN               NaN               NaN            NaN   \n",
       "4              NaN               NaN               NaN            NaN   \n",
       "\n",
       "   bill_congress  bill_number bill_title bill_type    category chamber  \\\n",
       "0            NaN          NaN        NaN       NaN      quorum       h   \n",
       "1            NaN          NaN        NaN       NaN  procedural       h   \n",
       "2          113.0       1120.0        NaN        hr    recommit       h   \n",
       "3          113.0       1120.0        NaN        hr     passage       h   \n",
       "4            NaN          NaN        NaN       NaN  procedural       h   \n",
       "\n",
       "       ...        record_modified requires  result result_text  session  \\\n",
       "0      ...                    NaN   QUORUM  Passed      Passed     2013   \n",
       "1      ...                    NaN      1/2  Failed      Failed     2013   \n",
       "2      ...                    NaN      1/2  Failed      Failed     2013   \n",
       "3      ...                    NaN      1/2  Passed      Passed     2013   \n",
       "4      ...                    NaN      1/2  Passed      Passed     2013   \n",
       "\n",
       "                                    source_url  \\\n",
       "0  http://clerk.house.gov/evs/2013/roll001.xml   \n",
       "1  http://clerk.house.gov/evs/2013/roll010.xml   \n",
       "2  http://clerk.house.gov/evs/2013/roll100.xml   \n",
       "3  http://clerk.house.gov/evs/2013/roll101.xml   \n",
       "4  http://clerk.house.gov/evs/2013/roll102.xml   \n",
       "\n",
       "                                             subject  \\\n",
       "0                                                NaN   \n",
       "1                                                NaN   \n",
       "2  Preventing Greater Uncertainty in Labor-Manage...   \n",
       "3  Preventing Greater Uncertainty in Labor-Manage...   \n",
       "4                                                NaN   \n",
       "\n",
       "                        type                 updated_at        vote_id  \n",
       "0          Call of the House  2014-06-18T11:22:24-04:00    h1-113.2013  \n",
       "1   On the Motion to Adjourn  2014-06-18T11:22:23-04:00   h10-113.2013  \n",
       "2  On the Motion to Recommit  2014-06-18T11:22:04-04:00  h100-113.2013  \n",
       "3     On Passage of the Bill  2014-06-18T11:22:04-04:00  h101-113.2013  \n",
       "4   On Approving the Journal  2014-06-18T11:22:04-04:00  h102-113.2013  \n",
       "\n",
       "[5 rows x 26 columns]"
      ]
     },
     "execution_count": 6,
     "metadata": {},
     "output_type": "execute_result"
    },
    {
     "name": "stdout",
     "output_type": "stream",
     "text": [
      "In [6] used 0.098 MiB RAM in 0.039s, peaked 0.000 MiB above current, total RAM usage 281.762 MiB\n"
     ]
    }
   ],
   "source": [
    "vote_df.head()"
   ]
  },
  {
   "cell_type": "code",
   "execution_count": 7,
   "metadata": {
    "ExecuteTime": {
     "end_time": "2016-12-15T18:26:51.391113",
     "start_time": "2016-12-15T18:26:51.247594"
    },
    "collapsed": false
   },
   "outputs": [
    {
     "data": {
      "text/html": [
       "<div>\n",
       "<table border=\"1\" class=\"dataframe\">\n",
       "  <thead>\n",
       "    <tr style=\"text-align: right;\">\n",
       "      <th></th>\n",
       "      <th>legislator_index</th>\n",
       "      <th>position</th>\n",
       "      <th>vote_index</th>\n",
       "    </tr>\n",
       "  </thead>\n",
       "  <tbody>\n",
       "    <tr>\n",
       "      <th>0</th>\n",
       "      <td>54</td>\n",
       "      <td>Not Voting</td>\n",
       "      <td>0</td>\n",
       "    </tr>\n",
       "    <tr>\n",
       "      <th>1</th>\n",
       "      <td>212</td>\n",
       "      <td>Not Voting</td>\n",
       "      <td>0</td>\n",
       "    </tr>\n",
       "    <tr>\n",
       "      <th>2</th>\n",
       "      <td>213</td>\n",
       "      <td>Not Voting</td>\n",
       "      <td>0</td>\n",
       "    </tr>\n",
       "    <tr>\n",
       "      <th>3</th>\n",
       "      <td>301</td>\n",
       "      <td>Not Voting</td>\n",
       "      <td>0</td>\n",
       "    </tr>\n",
       "    <tr>\n",
       "      <th>4</th>\n",
       "      <td>39</td>\n",
       "      <td>Present</td>\n",
       "      <td>0</td>\n",
       "    </tr>\n",
       "  </tbody>\n",
       "</table>\n",
       "</div>"
      ],
      "text/plain": [
       "   legislator_index    position  vote_index\n",
       "0                54  Not Voting           0\n",
       "1               212  Not Voting           0\n",
       "2               213  Not Voting           0\n",
       "3               301  Not Voting           0\n",
       "4                39     Present           0"
      ]
     },
     "execution_count": 7,
     "metadata": {},
     "output_type": "execute_result"
    },
    {
     "name": "stdout",
     "output_type": "stream",
     "text": [
      "In [7] used 0.000 MiB RAM in 0.009s, peaked 0.000 MiB above current, total RAM usage 281.762 MiB\n"
     ]
    }
   ],
   "source": [
    "position_df.head()"
   ]
  },
  {
   "cell_type": "markdown",
   "metadata": {},
   "source": [
    "## Transform Data\n",
    "\n",
    "Next we have to transform our data to a format we can train our model on.\n",
    "\n",
    "Our observed data is basically `position_df`. but instead of categorical `position`s, we need them to\n",
    "be 1s and 0s. Also, since we aren't using all of the legislators, we need to transform\n",
    "the `legislator_index` into a relative index. We call this transformed dataframe `model_position_df`."
   ]
  },
  {
   "cell_type": "code",
   "execution_count": 8,
   "metadata": {
    "ExecuteTime": {
     "end_time": "2016-12-15T18:26:53.296615",
     "start_time": "2016-12-15T18:26:51.399750"
    },
    "collapsed": false
   },
   "outputs": [
    {
     "name": "stdout",
     "output_type": "stream",
     "text": [
      "In [8] used 9.543 MiB RAM in 1.769s, peaked 0.000 MiB above current, total RAM usage 291.305 MiB\n"
     ]
    }
   ],
   "source": [
    "import ideal_point.ideal_point"
   ]
  },
  {
   "cell_type": "code",
   "execution_count": 9,
   "metadata": {
    "ExecuteTime": {
     "end_time": "2016-12-15T18:26:54.823393",
     "start_time": "2016-12-15T18:26:53.301787"
    },
    "collapsed": false
   },
   "outputs": [
    {
     "name": "stdout",
     "output_type": "stream",
     "text": [
      "In [9] used 15.746 MiB RAM in 1.372s, peaked 21.543 MiB above current, total RAM usage 307.051 MiB\n"
     ]
    }
   ],
   "source": [
    "model_position_df, model_legislator_index, model_vote_index = ideal_point.ideal_point.transform_data(position_df, vote_df, legislator_df)"
   ]
  },
  {
   "cell_type": "code",
   "execution_count": 10,
   "metadata": {
    "ExecuteTime": {
     "end_time": "2016-12-15T18:26:54.990644",
     "start_time": "2016-12-15T18:26:54.830924"
    },
    "collapsed": false
   },
   "outputs": [
    {
     "data": {
      "text/html": [
       "<div>\n",
       "<table border=\"1\" class=\"dataframe\">\n",
       "  <thead>\n",
       "    <tr style=\"text-align: right;\">\n",
       "      <th></th>\n",
       "      <th>legislator</th>\n",
       "      <th>position</th>\n",
       "      <th>vote</th>\n",
       "    </tr>\n",
       "  </thead>\n",
       "  <tbody>\n",
       "    <tr>\n",
       "      <th>0</th>\n",
       "      <td>39</td>\n",
       "      <td>0</td>\n",
       "      <td>0</td>\n",
       "    </tr>\n",
       "    <tr>\n",
       "      <th>1</th>\n",
       "      <td>530</td>\n",
       "      <td>0</td>\n",
       "      <td>0</td>\n",
       "    </tr>\n",
       "    <tr>\n",
       "      <th>2</th>\n",
       "      <td>40</td>\n",
       "      <td>0</td>\n",
       "      <td>0</td>\n",
       "    </tr>\n",
       "    <tr>\n",
       "      <th>3</th>\n",
       "      <td>375</td>\n",
       "      <td>0</td>\n",
       "      <td>0</td>\n",
       "    </tr>\n",
       "    <tr>\n",
       "      <th>4</th>\n",
       "      <td>0</td>\n",
       "      <td>0</td>\n",
       "      <td>0</td>\n",
       "    </tr>\n",
       "  </tbody>\n",
       "</table>\n",
       "</div>"
      ],
      "text/plain": [
       "   legislator  position  vote\n",
       "0          39         0     0\n",
       "1         530         0     0\n",
       "2          40         0     0\n",
       "3         375         0     0\n",
       "4           0         0     0"
      ]
     },
     "execution_count": 10,
     "metadata": {},
     "output_type": "execute_result"
    },
    {
     "name": "stdout",
     "output_type": "stream",
     "text": [
      "In [10] used 0.000 MiB RAM in 0.013s, peaked 0.000 MiB above current, total RAM usage 307.051 MiB\n"
     ]
    }
   ],
   "source": [
    "model_position_df.head()"
   ]
  },
  {
   "cell_type": "code",
   "execution_count": 11,
   "metadata": {
    "ExecuteTime": {
     "end_time": "2016-12-15T18:26:55.144820",
     "start_time": "2016-12-15T18:26:54.996983"
    },
    "collapsed": false
   },
   "outputs": [
    {
     "name": "stdout",
     "output_type": "stream",
     "text": [
      "<class 'pandas.core.frame.DataFrame'>\n",
      "RangeIndex: 508555 entries, 0 to 508554\n",
      "Data columns (total 3 columns):\n",
      "legislator    508555 non-null int64\n",
      "position      508555 non-null int64\n",
      "vote          508555 non-null int64\n",
      "dtypes: int64(3)\n",
      "memory usage: 11.6 MB\n",
      "In [11] used 0.000 MiB RAM in 0.010s, peaked 0.000 MiB above current, total RAM usage 307.051 MiB\n"
     ]
    }
   ],
   "source": [
    "model_position_df.info()"
   ]
  },
  {
   "cell_type": "markdown",
   "metadata": {},
   "source": [
    "The two series `model_legislator_index` and `model_vote_index` map the values in `model_position_df` to the full dataframes, from index to value."
   ]
  },
  {
   "cell_type": "markdown",
   "metadata": {},
   "source": [
    "## Create Model\n",
    "\n",
    "Now we can create our model, given we have observed those votes. The notation is based\n",
    "on [\"Comparing NOMINATE and IDEAL: Points of Difference and Monte Carlo Tests\"](http://scholar-qa.princeton.edu/sites/default/files/jameslo/files/lsq_nomvsideal.pdf)."
   ]
  },
  {
   "cell_type": "code",
   "execution_count": 12,
   "metadata": {
    "ExecuteTime": {
     "end_time": "2016-12-15T18:26:55.300818",
     "start_time": "2016-12-15T18:26:55.151715"
    },
    "collapsed": false
   },
   "outputs": [
    {
     "name": "stdout",
     "output_type": "stream",
     "text": [
      "In [12] used 0.000 MiB RAM in 0.012s, peaked 0.000 MiB above current, total RAM usage 307.051 MiB\n"
     ]
    }
   ],
   "source": [
    "import ideal_point.gradient"
   ]
  },
  {
   "cell_type": "code",
   "execution_count": 13,
   "metadata": {
    "ExecuteTime": {
     "end_time": "2016-12-15T18:26:59.341890",
     "start_time": "2016-12-15T18:26:55.307730"
    },
    "collapsed": false,
    "scrolled": true
   },
   "outputs": [
    {
     "name": "stdout",
     "output_type": "stream",
     "text": [
      "In [13] used 883.781 MiB RAM in 3.888s, peaked 0.000 MiB above current, total RAM usage 1190.832 MiB\n"
     ]
    }
   ],
   "source": [
    "g = ideal_point.gradient.Gradient(model_position_df)"
   ]
  },
  {
   "cell_type": "code",
   "execution_count": 14,
   "metadata": {
    "ExecuteTime": {
     "end_time": "2016-12-15T18:26:59.541516",
     "start_time": "2016-12-15T18:26:59.349440"
    },
    "collapsed": false
   },
   "outputs": [
    {
     "data": {
      "text/plain": [
       "(548, 1446)"
      ]
     },
     "execution_count": 14,
     "metadata": {},
     "output_type": "execute_result"
    },
    {
     "name": "stdout",
     "output_type": "stream",
     "text": [
      "In [14] used 0.023 MiB RAM in 0.007s, peaked 0.000 MiB above current, total RAM usage 1190.855 MiB\n"
     ]
    }
   ],
   "source": [
    "g.n_legislators, g.n_votes"
   ]
  },
  {
   "cell_type": "markdown",
   "metadata": {},
   "source": [
    "## Train Model\n",
    "\n",
    "Now we can run variational inference to compute estimated parameters for the model."
   ]
  },
  {
   "cell_type": "code",
   "execution_count": 15,
   "metadata": {
    "ExecuteTime": {
     "end_time": "2016-12-15T18:26:59.685680",
     "start_time": "2016-12-15T18:26:59.545504"
    },
    "collapsed": false
   },
   "outputs": [
    {
     "name": "stdout",
     "output_type": "stream",
     "text": [
      "In [15] used 0.000 MiB RAM in 0.001s, peaked 0.000 MiB above current, total RAM usage 1190.855 MiB\n"
     ]
    }
   ],
   "source": [
    "# g.run(1000)\n",
    "# params = g.params\n",
    "# ideal_point.ideal_point.save_params(params)"
   ]
  },
  {
   "cell_type": "markdown",
   "metadata": {},
   "source": [
    "Or load it from disk, if we have already computed it (takes about an hour and a half on my computer)"
   ]
  },
  {
   "cell_type": "code",
   "execution_count": 16,
   "metadata": {
    "ExecuteTime": {
     "end_time": "2016-12-15T18:26:59.861458",
     "start_time": "2016-12-15T18:26:59.689327"
    },
    "collapsed": false
   },
   "outputs": [
    {
     "name": "stdout",
     "output_type": "stream",
     "text": [
      "In [16] used 0.070 MiB RAM in 0.032s, peaked 0.000 MiB above current, total RAM usage 1190.926 MiB\n"
     ]
    }
   ],
   "source": [
    "params = ideal_point.ideal_point.load_params()"
   ]
  },
  {
   "cell_type": "markdown",
   "metadata": {},
   "source": [
    "## Integrate Data\n",
    "\n",
    "Now we can integrate the parameters we learned backed info our `vote_df` and `legislator_df`. We add a `ideology` column to both of them and filter out rows without ideal points. We also add a `bias` to the votes (which is greater if any senator is more likely to vote yes)."
   ]
  },
  {
   "cell_type": "code",
   "execution_count": 17,
   "metadata": {
    "ExecuteTime": {
     "end_time": "2016-12-15T18:27:00.158638",
     "start_time": "2016-12-15T18:26:59.865788"
    },
    "collapsed": false
   },
   "outputs": [
    {
     "name": "stdout",
     "output_type": "stream",
     "text": [
      "In [17] used 6.031 MiB RAM in 0.065s, peaked 0.000 MiB above current, total RAM usage 1196.957 MiB\n"
     ]
    }
   ],
   "source": [
    "legislators_pt_df = ideal_point.ideal_point.leg_add_ideology(legislator_df, model_legislator_index, g.params)\n",
    "vote_pt_df = ideal_point.ideal_point.vote_add_ideology_and_bias(vote_df, model_vote_index, g.params)"
   ]
  },
  {
   "cell_type": "markdown",
   "metadata": {},
   "source": [
    "### Visualize Points\n",
    "\n",
    "We can do a quick gut chuck of our legislator ideal points to make sure they seperate democrats and republicans"
   ]
  },
  {
   "cell_type": "code",
   "execution_count": 18,
   "metadata": {
    "ExecuteTime": {
     "end_time": "2016-12-15T18:27:00.605377",
     "start_time": "2016-12-15T18:27:00.166106"
    },
    "collapsed": false
   },
   "outputs": [
    {
     "name": "stdout",
     "output_type": "stream",
     "text": [
      "In [18] used 0.000 MiB RAM in 0.261s, peaked 0.000 MiB above current, total RAM usage 1196.957 MiB\n"
     ]
    }
   ],
   "source": [
    "from altair import *"
   ]
  },
  {
   "cell_type": "code",
   "execution_count": 19,
   "metadata": {
    "ExecuteTime": {
     "end_time": "2016-12-15T18:27:00.843465",
     "start_time": "2016-12-15T18:27:00.611939"
    },
    "collapsed": false
   },
   "outputs": [
    {
     "data": {
      "text/html": [
       "<div class=\"vega-embed\" id=\"05b06ba8-a63d-42cb-b729-ce7408e1cac3\"></div>\n",
       "\n",
       "<style>\n",
       ".vega-embed svg, .vega-embed canvas {\n",
       "  border: 1px dotted gray;\n",
       "}\n",
       "\n",
       ".vega-embed .vega-actions a {\n",
       "  margin-right: 6px;\n",
       "}\n",
       "</style>\n"
      ]
     },
     "metadata": {
      "jupyter-vega": "#05b06ba8-a63d-42cb-b729-ce7408e1cac3"
     },
     "output_type": "display_data"
    },
    {
     "data": {
      "application/javascript": [
       "var spec = {\"data\": {\"values\": [{\"ideology\": -0.05889711783097748, \"party\": \"Democrat\"}, {\"ideology\": -0.8644165064269211, \"party\": \"Democrat\"}, {\"ideology\": -0.18842855344412124, \"party\": \"Democrat\"}, {\"ideology\": 0.9781247275525571, \"party\": \"Democrat\"}, {\"ideology\": 0.8532044490801192, \"party\": \"Democrat\"}, {\"ideology\": 1.1265142792321317, \"party\": \"Republican\"}, {\"ideology\": -0.7875636986907811, \"party\": \"Democrat\"}, {\"ideology\": -1.9803491406139777, \"party\": \"Republican\"}, {\"ideology\": -0.4509130588522021, \"party\": \"Democrat\"}, {\"ideology\": 0.5194443059961965, \"party\": \"Democrat\"}, {\"ideology\": -0.49019432988039396, \"party\": \"Democrat\"}, {\"ideology\": 0.6180349321594484, \"party\": \"Democrat\"}, {\"ideology\": 0.8100392240952563, \"party\": \"Independent\"}, {\"ideology\": -1.5800979241252289, \"party\": \"Democrat\"}, {\"ideology\": -0.4650377822840276, \"party\": \"Democrat\"}, {\"ideology\": 2.039496283281377, \"party\": \"Democrat\"}, {\"ideology\": -0.1415861106672075, \"party\": \"Republican\"}, {\"ideology\": 0.6038044069937749, \"party\": \"Republican\"}, {\"ideology\": 1.880606638003595, \"party\": \"Republican\"}, {\"ideology\": 1.81428434866335, \"party\": \"Republican\"}, {\"ideology\": 1.4220615002159027, \"party\": \"Republican\"}, {\"ideology\": 1.1121230469908285, \"party\": \"Republican\"}, {\"ideology\": 2.380155634056835, \"party\": \"Democrat\"}, {\"ideology\": 0.1428029993528313, \"party\": \"Republican\"}, {\"ideology\": -1.4329333740265526, \"party\": \"Republican\"}, {\"ideology\": -0.9135598632523535, \"party\": \"Republican\"}, {\"ideology\": 1.2462639651942626, \"party\": \"Republican\"}, {\"ideology\": 1.0538765787172863, \"party\": \"Democrat\"}, {\"ideology\": -0.4548559926629543, \"party\": \"Democrat\"}, {\"ideology\": 0.38568747674842807, \"party\": \"Republican\"}, {\"ideology\": 0.19318399292155608, \"party\": \"Republican\"}, {\"ideology\": 1.2066611758029677, \"party\": \"Republican\"}, {\"ideology\": -0.6421231228080135, \"party\": \"Democrat\"}, {\"ideology\": -0.16563055697745974, \"party\": \"Democrat\"}, {\"ideology\": -0.6861155765750059, \"party\": \"Democrat\"}, {\"ideology\": -0.015319475535816115, \"party\": \"Democrat\"}, {\"ideology\": 1.8689994373256809, \"party\": \"Democrat\"}, {\"ideology\": -0.6470510224923166, \"party\": \"Democrat\"}, {\"ideology\": -0.8962404444786786, \"party\": \"Democrat\"}, {\"ideology\": 0.14153446051379842, \"party\": \"Republican\"}, {\"ideology\": 0.5483458611603116, \"party\": \"Republican\"}, {\"ideology\": -0.0012247320526641162, \"party\": \"Republican\"}, {\"ideology\": -0.30564744808726635, \"party\": \"Democrat\"}, {\"ideology\": -0.36984808101535566, \"party\": \"Republican\"}, {\"ideology\": -1.2768337771311278, \"party\": \"Republican\"}, {\"ideology\": -0.20329435753181524, \"party\": \"Democrat\"}, {\"ideology\": 0.5571357024171555, \"party\": \"Democrat\"}, {\"ideology\": 0.48487193639077186, \"party\": \"Republican\"}, {\"ideology\": 1.4163477295903457, \"party\": \"Democrat\"}, {\"ideology\": 0.5452971336904334, \"party\": \"Republican\"}, {\"ideology\": -1.42572764339394, \"party\": \"Republican\"}, {\"ideology\": -1.016805652436944, \"party\": \"Democrat\"}, {\"ideology\": -0.5780238560204833, \"party\": \"Republican\"}, {\"ideology\": -0.46744502478786953, \"party\": \"Republican\"}, {\"ideology\": -0.6673707195896595, \"party\": \"Democrat\"}, {\"ideology\": -0.5435205526770699, \"party\": \"Democrat\"}, {\"ideology\": 0.015764370969878466, \"party\": \"Republican\"}, {\"ideology\": -1.6418965624205735, \"party\": \"Republican\"}, {\"ideology\": 1.026583829965678, \"party\": \"Republican\"}, {\"ideology\": 1.0755248541026052, \"party\": \"Democrat\"}, {\"ideology\": -0.7960837837529218, \"party\": \"Republican\"}, {\"ideology\": -0.7916042035434561, \"party\": \"Democrat\"}, {\"ideology\": 0.16364153998013614, \"party\": \"Republican\"}, {\"ideology\": 0.743300640732789, \"party\": \"Democrat\"}, {\"ideology\": 0.28530278598543907, \"party\": \"Republican\"}, {\"ideology\": 0.19063289490352853, \"party\": \"Republican\"}, {\"ideology\": 2.5491741413801963, \"party\": \"Republican\"}, {\"ideology\": -0.25026216313564553, \"party\": \"Republican\"}, {\"ideology\": 0.5866155520787171, \"party\": \"Democrat\"}, {\"ideology\": -1.4891825716763554, \"party\": \"Republican\"}, {\"ideology\": 0.10348219525935978, \"party\": \"Republican\"}, {\"ideology\": 0.031102718156624316, \"party\": \"Democrat\"}, {\"ideology\": 0.8495462262863676, \"party\": \"Democrat\"}, {\"ideology\": -0.0494257237308409, \"party\": \"Democrat\"}, {\"ideology\": 0.16006915261945798, \"party\": \"Democrat\"}, {\"ideology\": -2.514358412998113, \"party\": \"Republican\"}, {\"ideology\": -0.9630886706937521, \"party\": \"Republican\"}, {\"ideology\": -0.0009034295815629186, \"party\": \"Democrat\"}, {\"ideology\": -0.9035470125037289, \"party\": \"Republican\"}, {\"ideology\": -1.4984786194883963, \"party\": \"Republican\"}, {\"ideology\": -0.9477313649281655, \"party\": \"Democrat\"}, {\"ideology\": 0.4739308238714571, \"party\": \"Democrat\"}, {\"ideology\": 0.9108416342463902, \"party\": \"Democrat\"}, {\"ideology\": 0.667175456269295, \"party\": \"Democrat\"}, {\"ideology\": -0.7582691815726784, \"party\": \"Democrat\"}, {\"ideology\": 0.45844018065850545, \"party\": \"Democrat\"}, {\"ideology\": -0.8909330808407977, \"party\": \"Republican\"}, {\"ideology\": 0.5642096321250891, \"party\": \"Republican\"}, {\"ideology\": 0.5339098664891869, \"party\": \"Democrat\"}, {\"ideology\": -1.0714634489213082, \"party\": \"Republican\"}, {\"ideology\": -1.6203787527278135, \"party\": \"Republican\"}, {\"ideology\": -1.3700415632573963, \"party\": \"Democrat\"}, {\"ideology\": 0.22686012450514512, \"party\": \"Democrat\"}, {\"ideology\": 1.5788675465174096, \"party\": \"Democrat\"}, {\"ideology\": -0.5460417382053739, \"party\": \"Democrat\"}, {\"ideology\": -1.4019406004688244, \"party\": \"Democrat\"}, {\"ideology\": -1.0589627081964341, \"party\": \"Republican\"}, {\"ideology\": 1.0284224167428124, \"party\": \"Republican\"}, {\"ideology\": -0.10607674139409516, \"party\": \"Republican\"}, {\"ideology\": 1.1155264073801214, \"party\": \"Democrat\"}, {\"ideology\": -0.333351299146742, \"party\": \"Democrat\"}, {\"ideology\": -0.08110379612413525, \"party\": \"Republican\"}, {\"ideology\": 0.7434702462086336, \"party\": \"Democrat\"}, {\"ideology\": -0.9828723863366439, \"party\": \"Democrat\"}, {\"ideology\": 0.14942972537674937, \"party\": \"Democrat\"}, {\"ideology\": -0.549868589673941, \"party\": \"Democrat\"}, {\"ideology\": -1.6065090317337642, \"party\": \"Democrat\"}, {\"ideology\": 1.0191624469490979, \"party\": \"Democrat\"}, {\"ideology\": 0.04897168963647648, \"party\": \"Republican\"}, {\"ideology\": 0.4963918460033428, \"party\": \"Republican\"}, {\"ideology\": 0.16249747702638986, \"party\": \"Republican\"}, {\"ideology\": 1.0152236053177295, \"party\": \"Democrat\"}, {\"ideology\": 0.6481432204105916, \"party\": \"Republican\"}, {\"ideology\": 0.024008452238445, \"party\": \"Democrat\"}, {\"ideology\": -1.5361666584911322, \"party\": \"Democrat\"}, {\"ideology\": -0.6197001560949704, \"party\": \"Democrat\"}, {\"ideology\": -0.4149614153015671, \"party\": \"Republican\"}, {\"ideology\": -0.15542567158442486, \"party\": \"Republican\"}, {\"ideology\": -0.008203340177588328, \"party\": \"Republican\"}, {\"ideology\": -0.10533976953626545, \"party\": \"Democrat\"}, {\"ideology\": -0.2484311266113855, \"party\": \"Democrat\"}, {\"ideology\": -0.4828089963955379, \"party\": \"Republican\"}, {\"ideology\": 0.22906180349682811, \"party\": \"Democrat\"}, {\"ideology\": 0.15005985332445795, \"party\": \"Democrat\"}, {\"ideology\": -0.2564243676422866, \"party\": \"Republican\"}, {\"ideology\": -0.0006909585036998676, \"party\": \"Democrat\"}, {\"ideology\": 0.9769750396833385, \"party\": \"Republican\"}, {\"ideology\": 1.3080800068332816, \"party\": \"Republican\"}, {\"ideology\": -0.5286634033765536, \"party\": \"Republican\"}, {\"ideology\": 0.10617873827442212, \"party\": \"Republican\"}, {\"ideology\": 0.7481611467873323, \"party\": \"Republican\"}, {\"ideology\": -0.6852012092564019, \"party\": \"Republican\"}, {\"ideology\": -0.26543307641607705, \"party\": \"Republican\"}, {\"ideology\": -0.8837869337972762, \"party\": \"Republican\"}, {\"ideology\": 1.9027089574091474, \"party\": \"Republican\"}, {\"ideology\": 1.203369904485202, \"party\": \"Republican\"}, {\"ideology\": 0.42149789118282194, \"party\": \"Republican\"}, {\"ideology\": -0.7980485446047763, \"party\": \"Democrat\"}, {\"ideology\": -0.7237157890228683, \"party\": \"Democrat\"}, {\"ideology\": 0.056813043565118695, \"party\": \"Republican\"}, {\"ideology\": 1.164757618936125, \"party\": \"Republican\"}, {\"ideology\": -0.3929155649029789, \"party\": \"Republican\"}, {\"ideology\": -1.6892225499107942, \"party\": \"Republican\"}, {\"ideology\": 0.08724464311370783, \"party\": \"Republican\"}, {\"ideology\": -0.7037324232770471, \"party\": \"Republican\"}, {\"ideology\": -0.4938668332857547, \"party\": \"Republican\"}, {\"ideology\": -0.2468302321760069, \"party\": \"Republican\"}, {\"ideology\": 1.2820859458289393, \"party\": \"Republican\"}, {\"ideology\": 0.5312565444296956, \"party\": \"Republican\"}, {\"ideology\": 2.116133093817476, \"party\": \"Republican\"}, {\"ideology\": 1.416008901880182, \"party\": \"Republican\"}, {\"ideology\": 0.40784746204317723, \"party\": \"Democrat\"}, {\"ideology\": -0.8127470107652166, \"party\": \"Democrat\"}, {\"ideology\": 1.1678528037192104, \"party\": \"Republican\"}, {\"ideology\": -0.3696469163405454, \"party\": \"Democrat\"}, {\"ideology\": 1.1224808027856272, \"party\": \"Republican\"}, {\"ideology\": -0.0060973977694923345, \"party\": \"Democrat\"}, {\"ideology\": 1.050748400251618, \"party\": \"Republican\"}, {\"ideology\": -0.6875485243955745, \"party\": \"Republican\"}, {\"ideology\": -1.3664787150317934, \"party\": \"Republican\"}, {\"ideology\": -0.9759206054038547, \"party\": \"Republican\"}, {\"ideology\": -0.2861831202079881, \"party\": \"Democrat\"}, {\"ideology\": 0.6207938028280893, \"party\": \"Republican\"}, {\"ideology\": 0.4662946057655221, \"party\": \"Democrat\"}, {\"ideology\": 0.5325980595410912, \"party\": \"Republican\"}, {\"ideology\": -0.9814030822116347, \"party\": \"Republican\"}, {\"ideology\": 0.8661820735697933, \"party\": \"Democrat\"}, {\"ideology\": -0.9327094579567731, \"party\": \"Democrat\"}, {\"ideology\": 0.45746955659382466, \"party\": \"Democrat\"}, {\"ideology\": -0.4510164921453722, \"party\": \"Democrat\"}, {\"ideology\": 1.7777265072078596, \"party\": \"Republican\"}, {\"ideology\": -0.8496485995672707, \"party\": \"Democrat\"}, {\"ideology\": -1.3792908210304433, \"party\": \"Democrat\"}, {\"ideology\": 0.6055222324728302, \"party\": \"Republican\"}, {\"ideology\": 1.4013929145098183, \"party\": \"Republican\"}, {\"ideology\": -0.0611812139638618, \"party\": \"Republican\"}, {\"ideology\": 1.4038133891032967, \"party\": \"Republican\"}, {\"ideology\": -1.2467829617016128, \"party\": \"Republican\"}, {\"ideology\": 0.1282964333882496, \"party\": \"Republican\"}, {\"ideology\": -0.6907517634626303, \"party\": \"Democrat\"}, {\"ideology\": 0.294020380282943, \"party\": \"Republican\"}, {\"ideology\": -0.3604351246039907, \"party\": \"Democrat\"}, {\"ideology\": 1.083794494297714, \"party\": \"Republican\"}, {\"ideology\": -1.0533485602737698, \"party\": \"Republican\"}, {\"ideology\": -0.20597606974212995, \"party\": \"Democrat\"}, {\"ideology\": 1.0831255941564961, \"party\": \"Democrat\"}, {\"ideology\": -1.285039940967326, \"party\": \"Republican\"}, {\"ideology\": 0.7643438658813757, \"party\": \"Republican\"}, {\"ideology\": -0.5673181717958768, \"party\": \"Republican\"}, {\"ideology\": 1.0283430691832947, \"party\": \"Republican\"}, {\"ideology\": 0.6561452080502046, \"party\": \"Democrat\"}, {\"ideology\": -0.5789094431620325, \"party\": \"Democrat\"}, {\"ideology\": 0.6505735262585984, \"party\": \"Republican\"}, {\"ideology\": 0.32708832807684685, \"party\": \"Democrat\"}, {\"ideology\": 0.4873039977059973, \"party\": \"Republican\"}, {\"ideology\": 0.17766488557999874, \"party\": \"Republican\"}, {\"ideology\": -0.5742121901449756, \"party\": \"Republican\"}, {\"ideology\": 0.0599205253979875, \"party\": \"Republican\"}, {\"ideology\": 0.6049727047831064, \"party\": \"Republican\"}, {\"ideology\": -0.37224971989653316, \"party\": \"Republican\"}, {\"ideology\": -0.7265523805066464, \"party\": \"Republican\"}, {\"ideology\": 0.09411264656759732, \"party\": \"Republican\"}, {\"ideology\": 1.1217014259706115, \"party\": \"Democrat\"}, {\"ideology\": -0.00422905866028349, \"party\": \"Republican\"}, {\"ideology\": 0.7931443870943258, \"party\": \"Democrat\"}, {\"ideology\": 1.5482291899771312, \"party\": \"Democrat\"}, {\"ideology\": -1.282603965153297, \"party\": \"Republican\"}, {\"ideology\": 0.5835478939532742, \"party\": \"Democrat\"}, {\"ideology\": -1.0235294654996352, \"party\": \"Democrat\"}, {\"ideology\": 0.5918937083121537, \"party\": \"Republican\"}, {\"ideology\": -1.5577054202748557, \"party\": \"Democrat\"}, {\"ideology\": -0.8165951612458987, \"party\": \"Democrat\"}, {\"ideology\": 0.7457718763129781, \"party\": \"Democrat\"}, {\"ideology\": -0.6947125390743926, \"party\": \"Republican\"}, {\"ideology\": 0.03949270573433348, \"party\": \"Democrat\"}, {\"ideology\": 0.1320427767889171, \"party\": \"Democrat\"}, {\"ideology\": 0.0012651480131407778, \"party\": \"Republican\"}, {\"ideology\": 0.02490886481427052, \"party\": \"Democrat\"}, {\"ideology\": 0.1894057384128304, \"party\": \"Republican\"}, {\"ideology\": -0.8615880061381237, \"party\": \"Republican\"}, {\"ideology\": 1.6650171553400561, \"party\": \"Democrat\"}, {\"ideology\": -0.5451067821533534, \"party\": \"Republican\"}, {\"ideology\": -0.10914798860638765, \"party\": \"Democrat\"}, {\"ideology\": -1.3754451538443997, \"party\": \"Democrat\"}, {\"ideology\": -0.008968005724992319, \"party\": \"Republican\"}, {\"ideology\": 0.3239502979320404, \"party\": \"Republican\"}, {\"ideology\": -0.6187825313658547, \"party\": \"Democrat\"}, {\"ideology\": -0.36050362315445167, \"party\": \"Democrat\"}, {\"ideology\": 0.10269677586146447, \"party\": \"Republican\"}, {\"ideology\": 0.5442762367440133, \"party\": \"Republican\"}, {\"ideology\": 0.6007671452149449, \"party\": \"Republican\"}, {\"ideology\": 0.97297454001486, \"party\": \"Republican\"}, {\"ideology\": 0.9754092324766455, \"party\": \"Democrat\"}, {\"ideology\": -0.34128490729451794, \"party\": \"Democrat\"}, {\"ideology\": -0.5768729052734295, \"party\": \"Democrat\"}, {\"ideology\": 1.1937757857297917, \"party\": \"Republican\"}, {\"ideology\": -0.048067067077274955, \"party\": \"Republican\"}, {\"ideology\": -0.333746608194491, \"party\": \"Republican\"}, {\"ideology\": 0.7580998949101313, \"party\": \"Democrat\"}, {\"ideology\": 0.2035521348037544, \"party\": \"Republican\"}, {\"ideology\": 0.5439018963198283, \"party\": \"Democrat\"}, {\"ideology\": -0.13016282213399816, \"party\": \"Republican\"}, {\"ideology\": 0.7344741488975475, \"party\": \"Democrat\"}, {\"ideology\": 0.8583516105526077, \"party\": \"Republican\"}, {\"ideology\": 2.1167680000276925, \"party\": \"Republican\"}, {\"ideology\": 0.5666002624677151, \"party\": \"Democrat\"}, {\"ideology\": 0.9580500317196101, \"party\": \"Republican\"}, {\"ideology\": -0.4236219343656716, \"party\": \"Republican\"}, {\"ideology\": 2.0531672119020743, \"party\": \"Republican\"}, {\"ideology\": -0.23527840092329366, \"party\": \"Democrat\"}, {\"ideology\": -0.9962517478319806, \"party\": \"Republican\"}, {\"ideology\": 0.07973550823920075, \"party\": \"Democrat\"}, {\"ideology\": -0.1767338102113003, \"party\": \"Democrat\"}, {\"ideology\": 0.24234910895314327, \"party\": \"Democrat\"}, {\"ideology\": -1.2868166571862654, \"party\": \"Democrat\"}, {\"ideology\": -1.9941589760468685, \"party\": \"Republican\"}, {\"ideology\": 0.13630981297882946, \"party\": \"Republican\"}, {\"ideology\": 1.4850535760639103, \"party\": \"Republican\"}, {\"ideology\": -0.025042165680970528, \"party\": \"Republican\"}, {\"ideology\": -0.0031927128047936743, \"party\": \"Republican\"}, {\"ideology\": -1.3274924272469886, \"party\": \"Republican\"}, {\"ideology\": 0.9961796929403799, \"party\": \"Democrat\"}, {\"ideology\": -0.7050634341451745, \"party\": \"Democrat\"}, {\"ideology\": 1.7378786795809802, \"party\": \"Republican\"}, {\"ideology\": -0.7990782061058773, \"party\": \"Republican\"}, {\"ideology\": 0.011346917633893543, \"party\": \"Republican\"}, {\"ideology\": 0.9234898096699625, \"party\": \"Democrat\"}, {\"ideology\": -1.6105741251666108, \"party\": \"Democrat\"}, {\"ideology\": 0.6117170199588902, \"party\": \"Democrat\"}, {\"ideology\": 0.10667930308418161, \"party\": \"Democrat\"}, {\"ideology\": 1.8702567587819532, \"party\": \"Democrat\"}, {\"ideology\": -0.7808975722001618, \"party\": \"Republican\"}, {\"ideology\": -0.1440765023069192, \"party\": \"Republican\"}, {\"ideology\": -0.07362867205871615, \"party\": \"Democrat\"}, {\"ideology\": 1.553169533704343, \"party\": \"Republican\"}, {\"ideology\": -0.4300995218789974, \"party\": \"Republican\"}, {\"ideology\": -0.40383171000646423, \"party\": \"Republican\"}, {\"ideology\": 0.9107913848010564, \"party\": \"Democrat\"}, {\"ideology\": -1.2588810212892094, \"party\": \"Republican\"}, {\"ideology\": -0.043637525708738405, \"party\": \"Democrat\"}, {\"ideology\": -0.09326620144639307, \"party\": \"Democrat\"}, {\"ideology\": 0.14579550557610976, \"party\": \"Republican\"}, {\"ideology\": -0.8495694129705931, \"party\": \"Republican\"}, {\"ideology\": -0.19702271154349318, \"party\": \"Democrat\"}, {\"ideology\": 0.3340658933879136, \"party\": \"Republican\"}, {\"ideology\": 0.5937180593322297, \"party\": \"Republican\"}, {\"ideology\": -1.532200029137702, \"party\": \"Democrat\"}, {\"ideology\": 1.6527359677839155, \"party\": \"Republican\"}, {\"ideology\": -1.4582164212832744, \"party\": \"Republican\"}, {\"ideology\": 0.33580111540900465, \"party\": \"Republican\"}, {\"ideology\": 0.8867842145421431, \"party\": \"Republican\"}, {\"ideology\": 1.125939503876863, \"party\": \"Republican\"}, {\"ideology\": 0.1701442958773095, \"party\": \"Republican\"}, {\"ideology\": -1.0676931006924821, \"party\": \"Republican\"}, {\"ideology\": 0.4315252130087349, \"party\": \"Republican\"}, {\"ideology\": 1.0856148486371757, \"party\": \"Republican\"}, {\"ideology\": -0.6580574625322022, \"party\": \"Republican\"}, {\"ideology\": -0.642253025307966, \"party\": \"Republican\"}, {\"ideology\": -1.1137718095880986, \"party\": \"Democrat\"}, {\"ideology\": -0.1819366724245746, \"party\": \"Republican\"}, {\"ideology\": 0.1253297536790078, \"party\": \"Republican\"}, {\"ideology\": 0.2898457895408212, \"party\": \"Democrat\"}, {\"ideology\": 1.7628020726685913, \"party\": \"Democrat\"}, {\"ideology\": 0.9231282740539596, \"party\": \"Republican\"}, {\"ideology\": -0.19262904093512842, \"party\": \"Democrat\"}, {\"ideology\": 0.9858633064126857, \"party\": \"Democrat\"}, {\"ideology\": -0.35725140321803617, \"party\": \"Democrat\"}, {\"ideology\": 0.5736976901406188, \"party\": \"Republican\"}, {\"ideology\": 0.01501088835509919, \"party\": \"Democrat\"}, {\"ideology\": -0.591248859970791, \"party\": \"Democrat\"}, {\"ideology\": 0.030512528116804043, \"party\": \"Democrat\"}, {\"ideology\": 1.7496811056951815, \"party\": \"Democrat\"}, {\"ideology\": -0.061715606137595976, \"party\": \"Republican\"}, {\"ideology\": 0.5947909119495561, \"party\": \"Republican\"}, {\"ideology\": 0.1486406667311917, \"party\": \"Democrat\"}, {\"ideology\": -1.1955677628102783, \"party\": \"Democrat\"}, {\"ideology\": 1.610252424389138, \"party\": \"Republican\"}, {\"ideology\": 0.5724858274661108, \"party\": \"Republican\"}, {\"ideology\": 1.8005002113605004, \"party\": \"Democrat\"}, {\"ideology\": -2.552921364151657, \"party\": \"Republican\"}, {\"ideology\": -1.4899075747375057, \"party\": \"Democrat\"}, {\"ideology\": 1.088910361844175, \"party\": \"Republican\"}, {\"ideology\": -0.34841602565415725, \"party\": \"Democrat\"}, {\"ideology\": -0.5241484068608915, \"party\": \"Republican\"}, {\"ideology\": -0.42854822291796185, \"party\": \"Republican\"}, {\"ideology\": -0.5164350331490618, \"party\": \"Republican\"}, {\"ideology\": 0.02273199057765996, \"party\": \"Democrat\"}, {\"ideology\": 0.5794067581946228, \"party\": \"Democrat\"}, {\"ideology\": 0.5421606309577309, \"party\": \"Democrat\"}, {\"ideology\": 0.11032651657808637, \"party\": \"Republican\"}, {\"ideology\": -0.476251603773019, \"party\": \"Republican\"}, {\"ideology\": -0.1831577027116589, \"party\": \"Republican\"}, {\"ideology\": 0.7352017905952519, \"party\": \"Democrat\"}, {\"ideology\": -0.2171510218173696, \"party\": \"Republican\"}, {\"ideology\": -1.8527964594939108, \"party\": \"Republican\"}, {\"ideology\": -1.0569072619589428, \"party\": \"Democrat\"}, {\"ideology\": 0.41411154923365967, \"party\": \"Democrat\"}, {\"ideology\": 0.9191330492697106, \"party\": \"Democrat\"}, {\"ideology\": -0.4143423555594826, \"party\": \"Republican\"}, {\"ideology\": -1.5948945911272743, \"party\": \"Republican\"}, {\"ideology\": -0.7799535192431245, \"party\": \"Republican\"}, {\"ideology\": 0.5458661909526638, \"party\": \"Republican\"}, {\"ideology\": 1.6298706455187704, \"party\": \"Republican\"}, {\"ideology\": 0.629252359182667, \"party\": \"Democrat\"}, {\"ideology\": -0.27390204271594243, \"party\": \"Republican\"}, {\"ideology\": -0.057151939952738436, \"party\": \"Democrat\"}, {\"ideology\": -1.26452386328694, \"party\": \"Republican\"}, {\"ideology\": -1.539081026570012, \"party\": \"Republican\"}, {\"ideology\": 1.1305803855906, \"party\": \"Democrat\"}, {\"ideology\": 2.7078128698556685, \"party\": \"Democrat\"}, {\"ideology\": 0.5832305853084429, \"party\": \"Democrat\"}, {\"ideology\": -1.446231435749787, \"party\": \"Republican\"}, {\"ideology\": -0.6482784247631929, \"party\": \"Republican\"}, {\"ideology\": 0.04562152897685166, \"party\": \"Republican\"}, {\"ideology\": -0.8496745600644288, \"party\": \"Democrat\"}, {\"ideology\": 0.06433823386689742, \"party\": \"Democrat\"}, {\"ideology\": -0.6376559622130916, \"party\": \"Democrat\"}, {\"ideology\": 0.5745184760635544, \"party\": \"Republican\"}, {\"ideology\": -0.503129271382129, \"party\": \"Democrat\"}, {\"ideology\": -0.7146206159970827, \"party\": \"Republican\"}, {\"ideology\": -0.29525583184723775, \"party\": \"Republican\"}, {\"ideology\": -0.24992644532375813, \"party\": \"Democrat\"}, {\"ideology\": -0.7154608400739367, \"party\": \"Republican\"}, {\"ideology\": 0.38479333629597684, \"party\": \"Republican\"}, {\"ideology\": 0.04156816281291851, \"party\": \"Republican\"}, {\"ideology\": -0.2961961243617685, \"party\": \"Democrat\"}, {\"ideology\": 0.6108199478260735, \"party\": \"Democrat\"}, {\"ideology\": 0.2546053276780675, \"party\": \"Republican\"}, {\"ideology\": -1.3062109397979194, \"party\": \"Republican\"}, {\"ideology\": 0.9848762332319559, \"party\": \"Republican\"}, {\"ideology\": -0.7609923942275102, \"party\": \"Republican\"}, {\"ideology\": -1.212042451816905, \"party\": \"Democrat\"}, {\"ideology\": -0.8241678775889026, \"party\": \"Republican\"}, {\"ideology\": -0.11548633992174827, \"party\": \"Democrat\"}, {\"ideology\": -0.7617916585178828, \"party\": \"Democrat\"}, {\"ideology\": 0.5730210150929711, \"party\": \"Republican\"}, {\"ideology\": -0.2577052757006228, \"party\": \"Democrat\"}, {\"ideology\": -0.9321067624426688, \"party\": \"Democrat\"}, {\"ideology\": 2.378402706532787, \"party\": \"Republican\"}, {\"ideology\": -0.1032073931472527, \"party\": \"Democrat\"}, {\"ideology\": 0.27183532839062946, \"party\": \"Democrat\"}, {\"ideology\": -2.543732654112498, \"party\": \"Democrat\"}, {\"ideology\": -0.8804632594218691, \"party\": \"Democrat\"}, {\"ideology\": 1.3204711321401417, \"party\": \"Republican\"}, {\"ideology\": -1.6738162809463983, \"party\": \"Democrat\"}, {\"ideology\": -1.1838084462548801, \"party\": \"Republican\"}, {\"ideology\": -0.989119046872885, \"party\": \"Democrat\"}, {\"ideology\": -0.584331815983798, \"party\": \"Democrat\"}, {\"ideology\": -0.31881250532456606, \"party\": \"Republican\"}, {\"ideology\": 0.6320594239448207, \"party\": \"Democrat\"}, {\"ideology\": 0.4011621035344282, \"party\": \"Republican\"}, {\"ideology\": 0.5086565544385294, \"party\": \"Democrat\"}, {\"ideology\": 0.49639804976210133, \"party\": \"Democrat\"}, {\"ideology\": 0.44815489546945386, \"party\": \"Democrat\"}, {\"ideology\": 1.9877806162620926, \"party\": \"Democrat\"}, {\"ideology\": -1.3906420299717785, \"party\": \"Democrat\"}, {\"ideology\": -0.37787650868253764, \"party\": \"Democrat\"}, {\"ideology\": 0.8409102803025524, \"party\": \"Democrat\"}, {\"ideology\": 0.012267987752208415, \"party\": \"Democrat\"}, {\"ideology\": -1.6185533566374726, \"party\": \"Republican\"}, {\"ideology\": -2.447565982512799, \"party\": \"Republican\"}, {\"ideology\": 0.11106698283292446, \"party\": \"Democrat\"}, {\"ideology\": -0.14328586909143928, \"party\": \"Democrat\"}, {\"ideology\": 0.8504254388196367, \"party\": \"Republican\"}, {\"ideology\": -0.2640682263644529, \"party\": \"Democrat\"}, {\"ideology\": 0.5912661709682251, \"party\": \"Democrat\"}, {\"ideology\": -0.45912071911648433, \"party\": \"Republican\"}, {\"ideology\": -1.2495672398272355, \"party\": \"Democrat\"}, {\"ideology\": -0.6594723731461086, \"party\": \"Republican\"}, {\"ideology\": 0.45855411716402217, \"party\": \"Republican\"}, {\"ideology\": 0.8107301532475777, \"party\": \"Republican\"}, {\"ideology\": 0.3699755006805722, \"party\": \"Republican\"}, {\"ideology\": 0.5426260233749203, \"party\": \"Democrat\"}, {\"ideology\": 0.20131736978954873, \"party\": \"Democrat\"}, {\"ideology\": -0.6314508705721659, \"party\": \"Democrat\"}, {\"ideology\": 0.9006066042942051, \"party\": \"Independent\"}, {\"ideology\": 1.0293315749845202, \"party\": \"Democrat\"}, {\"ideology\": 0.46637573294540297, \"party\": \"Democrat\"}, {\"ideology\": -0.17946974787711045, \"party\": \"Republican\"}, {\"ideology\": -0.919462484616163, \"party\": \"Republican\"}, {\"ideology\": -2.0804630104416595, \"party\": \"Republican\"}, {\"ideology\": -1.5493838955161419, \"party\": \"Republican\"}, {\"ideology\": 0.8100871699767664, \"party\": \"Republican\"}, {\"ideology\": 1.6121329634339532, \"party\": \"Republican\"}, {\"ideology\": 1.2067849181490071, \"party\": \"Democrat\"}, {\"ideology\": -0.30785916833481247, \"party\": \"Republican\"}, {\"ideology\": 0.8728818375005184, \"party\": \"Republican\"}, {\"ideology\": 0.13068822045268294, \"party\": \"Democrat\"}, {\"ideology\": -0.4411775065109328, \"party\": \"Democrat\"}, {\"ideology\": -0.08420935806188116, \"party\": \"Democrat\"}, {\"ideology\": -0.10853860045857931, \"party\": \"Democrat\"}, {\"ideology\": 1.0783263061860109, \"party\": \"Democrat\"}, {\"ideology\": 2.006610381688609, \"party\": \"Republican\"}, {\"ideology\": 1.0429499239501878, \"party\": \"Republican\"}, {\"ideology\": 0.607810799714476, \"party\": \"Democrat\"}, {\"ideology\": -2.3014375938923264, \"party\": \"Republican\"}, {\"ideology\": -0.7842539687090005, \"party\": \"Republican\"}, {\"ideology\": -0.3651921955349784, \"party\": \"Republican\"}, {\"ideology\": -0.240691994828936, \"party\": \"Republican\"}, {\"ideology\": 0.622244439725557, \"party\": \"Republican\"}, {\"ideology\": 0.5338820962413191, \"party\": \"Democrat\"}, {\"ideology\": 0.3877443178856131, \"party\": \"Republican\"}, {\"ideology\": 1.1846060535532807, \"party\": \"Republican\"}, {\"ideology\": 0.5808250123356603, \"party\": \"Republican\"}, {\"ideology\": 1.311480884894913, \"party\": \"Democrat\"}, {\"ideology\": 0.20587672996061657, \"party\": \"Democrat\"}, {\"ideology\": -0.39238510440366736, \"party\": \"Republican\"}, {\"ideology\": -0.6899720993347114, \"party\": \"Democrat\"}, {\"ideology\": 0.6497041629900793, \"party\": \"Democrat\"}, {\"ideology\": 0.6421627236766871, \"party\": \"Republican\"}, {\"ideology\": -0.16646055552980782, \"party\": \"Democrat\"}, {\"ideology\": -1.4483080494621459, \"party\": \"Democrat\"}, {\"ideology\": -0.991634924551469, \"party\": \"Democrat\"}, {\"ideology\": 0.4327864883332042, \"party\": \"Democrat\"}, {\"ideology\": -2.3817783653354643, \"party\": \"Democrat\"}, {\"ideology\": -0.7080493460413756, \"party\": \"Republican\"}, {\"ideology\": -0.13147630953872105, \"party\": \"Republican\"}, {\"ideology\": -0.2819860720023431, \"party\": \"Democrat\"}, {\"ideology\": 0.6590616895145919, \"party\": \"Democrat\"}, {\"ideology\": 1.5241702473072143, \"party\": \"Republican\"}, {\"ideology\": -1.979354611717072, \"party\": \"Republican\"}, {\"ideology\": 0.6219850159795051, \"party\": \"Republican\"}, {\"ideology\": -0.03926467377993898, \"party\": \"Republican\"}, {\"ideology\": -0.09733633003159951, \"party\": \"Democrat\"}, {\"ideology\": 1.1166352360522454, \"party\": \"Democrat\"}, {\"ideology\": 0.8772960793960168, \"party\": \"Democrat\"}, {\"ideology\": 1.2802654490633685, \"party\": \"Republican\"}, {\"ideology\": -0.01582583980073067, \"party\": \"Democrat\"}, {\"ideology\": -2.3569542229892226, \"party\": \"Democrat\"}, {\"ideology\": 1.1078508771759332, \"party\": \"Democrat\"}, {\"ideology\": 0.3991689413551124, \"party\": \"Republican\"}, {\"ideology\": 1.6211718058364115, \"party\": \"Republican\"}, {\"ideology\": 0.8467970124035525, \"party\": \"Republican\"}, {\"ideology\": 0.28544288630283754, \"party\": \"Republican\"}, {\"ideology\": 0.29590062178702886, \"party\": \"Democrat\"}, {\"ideology\": -0.7250408118264889, \"party\": \"Republican\"}, {\"ideology\": -0.05644581303449562, \"party\": \"Democrat\"}, {\"ideology\": -0.258886463589737, \"party\": \"Democrat\"}, {\"ideology\": -0.10449612284719227, \"party\": \"Republican\"}, {\"ideology\": 1.149259423778971, \"party\": \"Democrat\"}, {\"ideology\": 0.5225808839986459, \"party\": \"Republican\"}, {\"ideology\": -1.21326464554885, \"party\": \"Democrat\"}, {\"ideology\": 1.6417210979245136, \"party\": \"Democrat\"}, {\"ideology\": -0.27699102383797847, \"party\": \"Democrat\"}, {\"ideology\": -0.15339216944657127, \"party\": \"Democrat\"}, {\"ideology\": 1.4383832713369606, \"party\": \"Democrat\"}, {\"ideology\": 3.159593355423738, \"party\": \"Democrat\"}, {\"ideology\": 2.0562178801196906, \"party\": \"Democrat\"}, {\"ideology\": -1.124350055185124, \"party\": \"Democrat\"}, {\"ideology\": -0.931086104427837, \"party\": \"Republican\"}, {\"ideology\": -1.4797499690431188, \"party\": \"Republican\"}, {\"ideology\": 0.1936887188018025, \"party\": \"Democrat\"}, {\"ideology\": 0.33702514169489556, \"party\": \"Democrat\"}, {\"ideology\": -1.0750307898519498, \"party\": \"Democrat\"}, {\"ideology\": 0.33283459194519477, \"party\": \"Republican\"}, {\"ideology\": -1.5707935755663391, \"party\": \"Republican\"}, {\"ideology\": 1.422608626887915, \"party\": \"Republican\"}, {\"ideology\": -0.6399128439478966, \"party\": \"Republican\"}, {\"ideology\": -0.2869268501959492, \"party\": \"Democrat\"}, {\"ideology\": 0.044168665863576866, \"party\": \"Republican\"}, {\"ideology\": 1.1305521094574185, \"party\": \"Republican\"}, {\"ideology\": -0.6128729974795687, \"party\": \"Republican\"}, {\"ideology\": -0.7396511714868538, \"party\": \"Republican\"}, {\"ideology\": 0.06998371093532609, \"party\": \"Republican\"}, {\"ideology\": -1.3212710818563087, \"party\": \"Democrat\"}, {\"ideology\": -2.393350899509811, \"party\": \"Republican\"}, {\"ideology\": -1.5706072045423582, \"party\": \"Republican\"}, {\"ideology\": -0.8387042266996056, \"party\": \"Democrat\"}, {\"ideology\": 2.1624455033547902, \"party\": \"Democrat\"}, {\"ideology\": 0.8777878004346557, \"party\": \"Democrat\"}, {\"ideology\": 1.3759381799935446, \"party\": \"Republican\"}, {\"ideology\": 1.003248356265609, \"party\": \"Democrat\"}, {\"ideology\": -1.5095795008333224, \"party\": \"Republican\"}, {\"ideology\": 1.1599223924218647, \"party\": \"Democrat\"}, {\"ideology\": -0.16154775910813257, \"party\": \"Democrat\"}, {\"ideology\": -0.09061389344300586, \"party\": \"Democrat\"}, {\"ideology\": 0.31895995680669215, \"party\": \"Democrat\"}, {\"ideology\": -1.4051950318131343, \"party\": \"Republican\"}, {\"ideology\": -0.8537718579136953, \"party\": \"Democrat\"}, {\"ideology\": -0.4954659545839383, \"party\": \"Republican\"}, {\"ideology\": -1.6772633485023338, \"party\": \"Republican\"}, {\"ideology\": 1.4350498093207538, \"party\": \"Democrat\"}, {\"ideology\": -0.11269907258924751, \"party\": \"Republican\"}, {\"ideology\": 0.24239473873666445, \"party\": \"Republican\"}, {\"ideology\": -0.44771911033531325, \"party\": \"Democrat\"}, {\"ideology\": 0.04677828101064038, \"party\": \"Democrat\"}, {\"ideology\": -0.0195534461557219, \"party\": \"Republican\"}, {\"ideology\": 0.29203472945050674, \"party\": \"Democrat\"}, {\"ideology\": -1.0671552844148575, \"party\": \"Republican\"}, {\"ideology\": 0.7318719440858726, \"party\": \"Democrat\"}, {\"ideology\": 0.1698179691284593, \"party\": \"Democrat\"}, {\"ideology\": 1.5466655868608747, \"party\": \"Democrat\"}, {\"ideology\": 1.5960735900335854, \"party\": \"Democrat\"}, {\"ideology\": 1.1468605404172127, \"party\": \"Democrat\"}, {\"ideology\": 0.8350731301715956, \"party\": \"Democrat\"}, {\"ideology\": 0.4345293083984387, \"party\": \"Republican\"}, {\"ideology\": 0.8272221555174639, \"party\": \"Democrat\"}, {\"ideology\": -0.008544085063782259, \"party\": \"Democrat\"}, {\"ideology\": -1.3622617273613524, \"party\": \"Republican\"}, {\"ideology\": 0.07182964567128391, \"party\": \"Democrat\"}, {\"ideology\": 0.4878086473726952, \"party\": \"Republican\"}, {\"ideology\": -0.6937234471592574, \"party\": \"Republican\"}, {\"ideology\": 0.8922864592670361, \"party\": \"Republican\"}, {\"ideology\": -0.6668260338267104, \"party\": \"Republican\"}, {\"ideology\": -1.870967757622429, \"party\": \"Republican\"}, {\"ideology\": 0.3276808072314758, \"party\": \"Republican\"}, {\"ideology\": 0.04638827139102487, \"party\": \"Democrat\"}, {\"ideology\": -1.1601105163942966, \"party\": \"Republican\"}]}, \"mark\": \"tick\", \"encoding\": {\"y\": {\"field\": \"party\", \"type\": \"ordinal\"}, \"x\": {\"field\": \"ideology\", \"type\": \"quantitative\"}}, \"config\": {\"cell\": {\"width\": 500, \"height\": 350}}};\n",
       "var selector = \"#05b06ba8-a63d-42cb-b729-ce7408e1cac3\";\n",
       "var type = \"vega-lite\";\n",
       "\n",
       "var output_area = this;\n",
       "require(['nbextensions/jupyter-vega/index'], function(vega) {\n",
       "  vega.render(selector, spec, type, output_area);\n",
       "}, function (err) {\n",
       "  if (err.requireType !== 'scripterror') {\n",
       "    throw(err);\n",
       "  }\n",
       "});\n"
      ]
     },
     "metadata": {
      "jupyter-vega": "#05b06ba8-a63d-42cb-b729-ce7408e1cac3"
     },
     "output_type": "display_data"
    },
    {
     "name": "stdout",
     "output_type": "stream",
     "text": [
      "In [19] used 0.121 MiB RAM in 0.078s, peaked 0.000 MiB above current, total RAM usage 1197.078 MiB\n"
     ]
    }
   ],
   "source": [
    "Chart(legislators_pt_df[[\"ideology\", \"party\"]]).mark_tick().encode(\n",
    "    x='ideology:Q',\n",
    "    y='party:O',\n",
    ")"
   ]
  },
  {
   "cell_type": "code",
   "execution_count": 20,
   "metadata": {
    "ExecuteTime": {
     "end_time": "2016-12-15T18:27:01.020222",
     "start_time": "2016-12-15T18:27:00.850217"
    },
    "collapsed": false
   },
   "outputs": [
    {
     "data": {
      "text/html": [
       "<div>\n",
       "<table border=\"1\" class=\"dataframe\">\n",
       "  <thead>\n",
       "    <tr style=\"text-align: right;\">\n",
       "      <th></th>\n",
       "      <th>amendment_author</th>\n",
       "      <th>amendment_number</th>\n",
       "      <th>amendment_purpose</th>\n",
       "      <th>amendment_type</th>\n",
       "      <th>bill_congress</th>\n",
       "      <th>bill_number</th>\n",
       "      <th>bill_title</th>\n",
       "      <th>bill_type</th>\n",
       "      <th>category</th>\n",
       "      <th>chamber</th>\n",
       "      <th>...</th>\n",
       "      <th>result</th>\n",
       "      <th>result_text</th>\n",
       "      <th>session</th>\n",
       "      <th>source_url</th>\n",
       "      <th>subject</th>\n",
       "      <th>type</th>\n",
       "      <th>updated_at</th>\n",
       "      <th>vote_id</th>\n",
       "      <th>bias</th>\n",
       "      <th>ideology</th>\n",
       "    </tr>\n",
       "  </thead>\n",
       "  <tbody>\n",
       "    <tr>\n",
       "      <th>2</th>\n",
       "      <td>NaN</td>\n",
       "      <td>NaN</td>\n",
       "      <td>NaN</td>\n",
       "      <td>NaN</td>\n",
       "      <td>113.0</td>\n",
       "      <td>1120.0</td>\n",
       "      <td>NaN</td>\n",
       "      <td>hr</td>\n",
       "      <td>recommit</td>\n",
       "      <td>h</td>\n",
       "      <td>...</td>\n",
       "      <td>Failed</td>\n",
       "      <td>Failed</td>\n",
       "      <td>2013</td>\n",
       "      <td>http://clerk.house.gov/evs/2013/roll100.xml</td>\n",
       "      <td>Preventing Greater Uncertainty in Labor-Manage...</td>\n",
       "      <td>On the Motion to Recommit</td>\n",
       "      <td>2014-06-18T11:22:04-04:00</td>\n",
       "      <td>h100-113.2013</td>\n",
       "      <td>0.206324</td>\n",
       "      <td>-0.909870</td>\n",
       "    </tr>\n",
       "    <tr>\n",
       "      <th>3</th>\n",
       "      <td>NaN</td>\n",
       "      <td>NaN</td>\n",
       "      <td>NaN</td>\n",
       "      <td>NaN</td>\n",
       "      <td>113.0</td>\n",
       "      <td>1120.0</td>\n",
       "      <td>NaN</td>\n",
       "      <td>hr</td>\n",
       "      <td>passage</td>\n",
       "      <td>h</td>\n",
       "      <td>...</td>\n",
       "      <td>Passed</td>\n",
       "      <td>Passed</td>\n",
       "      <td>2013</td>\n",
       "      <td>http://clerk.house.gov/evs/2013/roll101.xml</td>\n",
       "      <td>Preventing Greater Uncertainty in Labor-Manage...</td>\n",
       "      <td>On Passage of the Bill</td>\n",
       "      <td>2014-06-18T11:22:04-04:00</td>\n",
       "      <td>h101-113.2013</td>\n",
       "      <td>0.351693</td>\n",
       "      <td>-0.051634</td>\n",
       "    </tr>\n",
       "    <tr>\n",
       "      <th>5</th>\n",
       "      <td>NaN</td>\n",
       "      <td>NaN</td>\n",
       "      <td>NaN</td>\n",
       "      <td>NaN</td>\n",
       "      <td>113.0</td>\n",
       "      <td>1162.0</td>\n",
       "      <td>NaN</td>\n",
       "      <td>hr</td>\n",
       "      <td>passage-suspension</td>\n",
       "      <td>h</td>\n",
       "      <td>...</td>\n",
       "      <td>Passed</td>\n",
       "      <td>Passed</td>\n",
       "      <td>2013</td>\n",
       "      <td>http://clerk.house.gov/evs/2013/roll103.xml</td>\n",
       "      <td>To amend title 31, United States Code, to make...</td>\n",
       "      <td>On Motion to Suspend the Rules and Pass, as Am...</td>\n",
       "      <td>2014-06-18T11:22:04-04:00</td>\n",
       "      <td>h103-113.2013</td>\n",
       "      <td>2.138762</td>\n",
       "      <td>0.761325</td>\n",
       "    </tr>\n",
       "    <tr>\n",
       "      <th>6</th>\n",
       "      <td>NaN</td>\n",
       "      <td>NaN</td>\n",
       "      <td>NaN</td>\n",
       "      <td>NaN</td>\n",
       "      <td>113.0</td>\n",
       "      <td>882.0</td>\n",
       "      <td>NaN</td>\n",
       "      <td>hr</td>\n",
       "      <td>passage-suspension</td>\n",
       "      <td>h</td>\n",
       "      <td>...</td>\n",
       "      <td>Passed</td>\n",
       "      <td>Passed</td>\n",
       "      <td>2013</td>\n",
       "      <td>http://clerk.house.gov/evs/2013/roll104.xml</td>\n",
       "      <td>To prohibit the awarding of a contract or gran...</td>\n",
       "      <td>On Motion to Suspend the Rules and Pass, as Am...</td>\n",
       "      <td>2014-06-18T11:22:04-04:00</td>\n",
       "      <td>h104-113.2013</td>\n",
       "      <td>-0.332675</td>\n",
       "      <td>-2.306667</td>\n",
       "    </tr>\n",
       "    <tr>\n",
       "      <th>7</th>\n",
       "      <td>NaN</td>\n",
       "      <td>NaN</td>\n",
       "      <td>NaN</td>\n",
       "      <td>NaN</td>\n",
       "      <td>113.0</td>\n",
       "      <td>249.0</td>\n",
       "      <td>NaN</td>\n",
       "      <td>hr</td>\n",
       "      <td>passage-suspension</td>\n",
       "      <td>h</td>\n",
       "      <td>...</td>\n",
       "      <td>Failed</td>\n",
       "      <td>Failed</td>\n",
       "      <td>2013</td>\n",
       "      <td>http://clerk.house.gov/evs/2013/roll105.xml</td>\n",
       "      <td>To amend title 5, United States Code, to provi...</td>\n",
       "      <td>On Motion to Suspend the Rules and Pass</td>\n",
       "      <td>2014-06-18T11:22:04-04:00</td>\n",
       "      <td>h105-113.2013</td>\n",
       "      <td>0.004038</td>\n",
       "      <td>-0.457308</td>\n",
       "    </tr>\n",
       "  </tbody>\n",
       "</table>\n",
       "<p>5 rows × 28 columns</p>\n",
       "</div>"
      ],
      "text/plain": [
       "  amendment_author  amendment_number amendment_purpose amendment_type  \\\n",
       "2              NaN               NaN               NaN            NaN   \n",
       "3              NaN               NaN               NaN            NaN   \n",
       "5              NaN               NaN               NaN            NaN   \n",
       "6              NaN               NaN               NaN            NaN   \n",
       "7              NaN               NaN               NaN            NaN   \n",
       "\n",
       "   bill_congress  bill_number bill_title bill_type            category  \\\n",
       "2          113.0       1120.0        NaN        hr            recommit   \n",
       "3          113.0       1120.0        NaN        hr             passage   \n",
       "5          113.0       1162.0        NaN        hr  passage-suspension   \n",
       "6          113.0        882.0        NaN        hr  passage-suspension   \n",
       "7          113.0        249.0        NaN        hr  passage-suspension   \n",
       "\n",
       "  chamber    ...     result result_text session  \\\n",
       "2       h    ...     Failed      Failed    2013   \n",
       "3       h    ...     Passed      Passed    2013   \n",
       "5       h    ...     Passed      Passed    2013   \n",
       "6       h    ...     Passed      Passed    2013   \n",
       "7       h    ...     Failed      Failed    2013   \n",
       "\n",
       "                                    source_url  \\\n",
       "2  http://clerk.house.gov/evs/2013/roll100.xml   \n",
       "3  http://clerk.house.gov/evs/2013/roll101.xml   \n",
       "5  http://clerk.house.gov/evs/2013/roll103.xml   \n",
       "6  http://clerk.house.gov/evs/2013/roll104.xml   \n",
       "7  http://clerk.house.gov/evs/2013/roll105.xml   \n",
       "\n",
       "                                             subject  \\\n",
       "2  Preventing Greater Uncertainty in Labor-Manage...   \n",
       "3  Preventing Greater Uncertainty in Labor-Manage...   \n",
       "5  To amend title 31, United States Code, to make...   \n",
       "6  To prohibit the awarding of a contract or gran...   \n",
       "7  To amend title 5, United States Code, to provi...   \n",
       "\n",
       "                                                type  \\\n",
       "2                          On the Motion to Recommit   \n",
       "3                             On Passage of the Bill   \n",
       "5  On Motion to Suspend the Rules and Pass, as Am...   \n",
       "6  On Motion to Suspend the Rules and Pass, as Am...   \n",
       "7            On Motion to Suspend the Rules and Pass   \n",
       "\n",
       "                  updated_at        vote_id      bias  ideology  \n",
       "2  2014-06-18T11:22:04-04:00  h100-113.2013  0.206324 -0.909870  \n",
       "3  2014-06-18T11:22:04-04:00  h101-113.2013  0.351693 -0.051634  \n",
       "5  2014-06-18T11:22:04-04:00  h103-113.2013  2.138762  0.761325  \n",
       "6  2014-06-18T11:22:04-04:00  h104-113.2013 -0.332675 -2.306667  \n",
       "7  2014-06-18T11:22:04-04:00  h105-113.2013  0.004038 -0.457308  \n",
       "\n",
       "[5 rows x 28 columns]"
      ]
     },
     "execution_count": 20,
     "metadata": {},
     "output_type": "execute_result"
    },
    {
     "name": "stdout",
     "output_type": "stream",
     "text": [
      "In [20] used 0.000 MiB RAM in 0.033s, peaked 0.000 MiB above current, total RAM usage 1197.078 MiB\n"
     ]
    }
   ],
   "source": [
    "vote_pt_df.head()"
   ]
  },
  {
   "cell_type": "markdown",
   "metadata": {},
   "source": [
    "### Validation\n",
    "\n",
    "Some of the most conservative members in our model include Mike Pompeo, who lead the house inquiry into Benghazi, and Randy Weber, who drew fire for a tweet declaring Barack Obama a \"socialist dictator.\"\n",
    "\n",
    "Some of the most liberal members include Jim McGovern, who represents the pioneer valley and Jerrold Nadler, who represents Manhattan's upper west side. The most liberal legislator, Jan Schakowsky, is a longtime critic of the Iraq war."
   ]
  },
  {
   "cell_type": "markdown",
   "metadata": {},
   "source": [
    "The house bills to remove voted on by all democrats are close to the democratic ideology."
   ]
  },
  {
   "cell_type": "code",
   "execution_count": 21,
   "metadata": {
    "ExecuteTime": {
     "end_time": "2016-12-15T18:27:01.206346",
     "start_time": "2016-12-15T18:27:01.027044"
    },
    "collapsed": false
   },
   "outputs": [
    {
     "name": "stdout",
     "output_type": "stream",
     "text": [
      "In [21] used 0.000 MiB RAM in 0.002s, peaked 0.000 MiB above current, total RAM usage 1197.078 MiB\n"
     ]
    }
   ],
   "source": [
    "# pd.set_option('display.max_columns', 999)\n",
    "# pd.set_option('display.max_colwidth', 200)\n",
    "# vote_pt_df[vote_pt_df[\"question\"].str.contains(\"Immigration\", na=False)]\n",
    "# vote_pt_df[vote_pt_df[\"number\"] == 168]"
   ]
  },
  {
   "cell_type": "code",
   "execution_count": 22,
   "metadata": {
    "ExecuteTime": {
     "end_time": "2016-12-15T18:27:01.576410",
     "start_time": "2016-12-15T18:27:01.213549"
    },
    "collapsed": false
   },
   "outputs": [
    {
     "ename": "NameError",
     "evalue": "name 'pd' is not defined",
     "output_type": "error",
     "traceback": [
      "\u001b[0;31m---------------------------------------------------------------------------\u001b[0m",
      "\u001b[0;31mNameError\u001b[0m                                 Traceback (most recent call last)",
      "\u001b[0;32m<ipython-input-22-e524f22b5d65>\u001b[0m in \u001b[0;36m<module>\u001b[0;34m()\u001b[0m\n\u001b[0;32m----> 1\u001b[0;31m labels = pd.Series([\n\u001b[0m\u001b[1;32m      2\u001b[0m     \u001b[0;34m\"Violence Against Women Reauthorization Act of 2013\"\u001b[0m\u001b[0;34m,\u001b[0m\u001b[0;34m\u001b[0m\u001b[0m\n\u001b[1;32m      3\u001b[0m     \u001b[0;34m\"Border Security, Economic Opportunity, and Immigration Modernization Act\"\u001b[0m\u001b[0;34m,\u001b[0m\u001b[0;34m\u001b[0m\u001b[0m\n\u001b[1;32m      4\u001b[0m     \u001b[0;34m\"Keystone XL Pipeline Approval Act\"\u001b[0m\u001b[0;34m,\u001b[0m\u001b[0;34m\u001b[0m\u001b[0m\n\u001b[1;32m      5\u001b[0m     \u001b[0;34m\"Consolidated Appropriations Act, 2014\"\u001b[0m\u001b[0;34m\u001b[0m\u001b[0m\n",
      "\u001b[0;31mNameError\u001b[0m: name 'pd' is not defined"
     ]
    },
    {
     "name": "stdout",
     "output_type": "stream",
     "text": [
      "In [22] used 0.000 MiB RAM in 0.204s, peaked 0.000 MiB above current, total RAM usage 1197.078 MiB\n"
     ]
    }
   ],
   "source": [
    "labels = pd.Series([\n",
    "    \"Violence Against Women Reauthorization Act of 2013\",\n",
    "    \"Border Security, Economic Opportunity, and Immigration Modernization Act\",\n",
    "    \"Keystone XL Pipeline Approval Act\",\n",
    "    \"Consolidated Appropriations Act, 2014\"\n",
    "], index=[\n",
    "    500,\n",
    "    717,\n",
    "    76,  \n",
    "    570\n",
    "])"
   ]
  },
  {
   "cell_type": "code",
   "execution_count": null,
   "metadata": {
    "ExecuteTime": {
     "end_time": "2016-12-15T18:27:01.577374",
     "start_time": "2016-12-15T18:21:33.955Z"
    },
    "collapsed": false
   },
   "outputs": [],
   "source": [
    "chart_df = vote_pt_df[[\"ideology\", \"bias\"]].assign(bill=labels).dropna()"
   ]
  },
  {
   "cell_type": "code",
   "execution_count": null,
   "metadata": {
    "ExecuteTime": {
     "end_time": "2016-12-15T18:27:01.578142",
     "start_time": "2016-12-15T18:21:33.958Z"
    },
    "collapsed": false
   },
   "outputs": [],
   "source": [
    "Chart(chart_df).mark_text().encode(\n",
    "    x='ideology:Q',\n",
    "    y='bias:Q',\n",
    "    text='bill',\n",
    ")"
   ]
  },
  {
   "cell_type": "code",
   "execution_count": null,
   "metadata": {
    "ExecuteTime": {
     "end_time": "2016-12-15T18:27:01.578910",
     "start_time": "2016-12-15T18:21:33.962Z"
    },
    "collapsed": false
   },
   "outputs": [],
   "source": [
    "Chart(vote_pt_df[[\"ideology\", \"bias\"]].dropna()).mark_circle().encode(\n",
    "    x='ideology:Q',\n",
    "    y='bias:Q',)"
   ]
  },
  {
   "cell_type": "markdown",
   "metadata": {},
   "source": [
    "This is to get bills linked w/ duplication data for now"
   ]
  },
  {
   "cell_type": "markdown",
   "metadata": {
    "ExecuteTime": {
     "end_time": "2016-12-01T00:37:52.628473",
     "start_time": "2016-12-01T00:37:52.412088"
    },
    "collapsed": false
   },
   "source": [
    "## Text reuse"
   ]
  },
  {
   "cell_type": "code",
   "execution_count": 26,
   "metadata": {
    "ExecuteTime": {
     "end_time": "2016-12-15T20:41:01.227167",
     "start_time": "2016-12-15T20:41:01.040277"
    },
    "collapsed": false
   },
   "outputs": [
    {
     "name": "stdout",
     "output_type": "stream",
     "text": [
      "In [26] used 0.000 MiB RAM in 0.040s, peaked 0.000 MiB above current, total RAM usage 1197.238 MiB\n"
     ]
    }
   ],
   "source": [
    "tmp = vote_pt_df[[\"bill_congress\", \"bill_number\", \"bill_type\", \"ideology\"]]\n",
    "tmp.to_csv(\"vote_pt_df.csv\")\n",
    "# run wtfpandasjoin.py to do the join. i kept trying to do w/ pandas and getting errors/bugs"
   ]
  },
  {
   "cell_type": "code",
   "execution_count": null,
   "metadata": {
    "ExecuteTime": {
     "end_time": "2016-12-15T18:27:01.580349",
     "start_time": "2016-12-15T18:21:33.968Z"
    },
    "collapsed": false
   },
   "outputs": [],
   "source": [
    "import pandas as pd\n",
    "import math\n",
    "reuse_df = pd.DataFrame.from_csv(\"pairs_enhanced_again.txt\")\n",
    "# many, many, many unknowns b.c no votes. research opportunity. ideal point w/o vote. interesting... b/c many\n",
    "# things are killed in committee. \n",
    "criterion = reuse_df['ideology_a'].map(lambda x: x != \"unknown\") \n",
    "reuse_df_no_unk = reuse_df[criterion]\n",
    "reuse_df_no_unk['ideology_a'] = reuse_df_no_unk['ideology_a'].astype(float)\n",
    "reuse_df_no_unk['ideology_a'] = reuse_df_no_unk['ideology_b'].astype(float)\n",
    "reuse_df_no_unk['ideology_eq'] = reuse_df_no_unk.apply(lambda x:x[\"ideology_a\"] == x[\"ideology_b\"], axis=1)\n",
    "reuse_df_no_unk = reuse_df_no_unk[reuse_df_no_unk['ideology_eq'] == False]"
   ]
  },
  {
   "cell_type": "code",
   "execution_count": null,
   "metadata": {
    "ExecuteTime": {
     "end_time": "2016-12-15T18:27:01.580881",
     "start_time": "2016-12-15T18:21:33.971Z"
    },
    "collapsed": false
   },
   "outputs": [],
   "source": [
    "reuse_df_no_unk.tail()"
   ]
  },
  {
   "cell_type": "code",
   "execution_count": null,
   "metadata": {
    "ExecuteTime": {
     "end_time": "2016-12-15T18:27:01.581384",
     "start_time": "2016-12-15T18:21:33.973Z"
    },
    "collapsed": false
   },
   "outputs": [],
   "source": [
    "%matplotlib inline\n",
    "# http://stackoverflow.com/questions/14300137/making-matplotlib-scatter-plots-from-dataframes-in-pythons-pandas\n",
    "import matplotlib.pylab as plt\n",
    "\n",
    "reuse_df_no_unk.plot(kind='scatter', x='ideology_a', y='ideology_b', title=\"Ideologies for reuse pairings\")"
   ]
  },
  {
   "cell_type": "markdown",
   "metadata": {},
   "source": [
    "#### Bipartisanship?\n",
    "\n",
    "It appears that a liberal section "
   ]
  },
  {
   "cell_type": "code",
   "execution_count": null,
   "metadata": {
    "ExecuteTime": {
     "end_time": "2016-12-15T18:27:01.582155",
     "start_time": "2016-12-15T18:21:33.977Z"
    },
    "collapsed": false
   },
   "outputs": [],
   "source": [
    "import pandas as pd\n",
    "import math\n",
    "reuse_df = pd.DataFrame.from_csv(\"pairs_enhanced_again.txt\")\n",
    "# many, many, many unknowns b.c no votes. research opportunity. ideal point w/o vote. interesting... b/c many\n",
    "# things are killed in committee. \n",
    "criterion = reuse_df['ideology_a'].map(lambda x: x != \"unknown\") \n",
    "reuse_df_no_unk = reuse_df[criterion]\n",
    "reuse_df_no_unk[\"sa\"] = reuse_df_no_unk[\"ideology_a\"].astype(float)> 0\n",
    "reuse_df_no_unk[\"sb\"] = reuse_df_no_unk[\"ideology_b\"].astype(float)> 0\n",
    "reuse_df_no_unk[\"diff\"] = reuse_df_no_unk[\"sa\"] == reuse_df_no_unk[\"sb\"]\n",
    "c2 = reuse_df_no_unk[\"diff\"].map(lambda x: x == False) \n",
    "reuse_df_no_unk = reuse_df_no_unk[c2]\n",
    "reuse_df_no_unk.shape"
   ]
  }
 ],
 "metadata": {
  "anaconda-cloud": {},
  "kernelspec": {
   "display_name": "Python [default]",
   "language": "python",
   "name": "python3"
  },
  "language_info": {
   "codemirror_mode": {
    "name": "ipython",
    "version": 3
   },
   "file_extension": ".py",
   "mimetype": "text/x-python",
   "name": "python",
   "nbconvert_exporter": "python",
   "pygments_lexer": "ipython3",
   "version": "3.5.2"
  },
  "notify_time": "10",
  "toc": {
   "nav_menu": {
    "height": "228px",
    "width": "252px"
   },
   "navigate_menu": true,
   "number_sections": false,
   "sideBar": true,
   "threshold": 4,
   "toc_cell": false,
   "toc_section_display": "block",
   "toc_window_display": true
  },
  "widgets": {
   "state": {
    "fb37e78bb8b64bac8ea48230a44f7741": {
     "views": [
      {
       "cell_index": 6
      }
     ]
    }
   },
   "version": "1.2.0"
  }
 },
 "nbformat": 4,
 "nbformat_minor": 0
}
