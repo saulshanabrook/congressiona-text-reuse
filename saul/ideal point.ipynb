{
 "cells": [
  {
   "cell_type": "code",
   "execution_count": 1,
   "metadata": {
    "ExecuteTime": {
     "end_time": "2016-12-12T16:57:10.184063",
     "start_time": "2016-12-12T16:57:10.158225"
    },
    "collapsed": false
   },
   "outputs": [],
   "source": [
    "%load_ext autoreload\n",
    "%autoreload 2"
   ]
  },
  {
   "cell_type": "code",
   "execution_count": 2,
   "metadata": {
    "ExecuteTime": {
     "end_time": "2016-12-12T16:57:10.602785",
     "start_time": "2016-12-12T16:57:10.315049"
    },
    "collapsed": false
   },
   "outputs": [
    {
     "name": "stdout",
     "output_type": "stream",
     "text": [
      "In [2] used 0.234 MiB RAM in 0.002s, peaked 0.000 MiB above current, total RAM usage 42.625 MiB\n"
     ]
    }
   ],
   "source": [
    "from ipython_memwatcher import MemWatcher\n",
    "mw = MemWatcher()\n",
    "mw.start_watching_memory()"
   ]
  },
  {
   "cell_type": "markdown",
   "metadata": {},
   "source": [
    "# Ideal Point Estimation\n",
    "\n",
    "Here we perform Ideal Point Estimation of legislators in 113th Congress.\n",
    "\n",
    "## Load Data\n",
    "### Legislators\n",
    "First we have to load in all legislators (this is for all of time, from GovTrack)."
   ]
  },
  {
   "cell_type": "code",
   "execution_count": 3,
   "metadata": {
    "ExecuteTime": {
     "end_time": "2016-12-12T16:57:14.184452",
     "start_time": "2016-12-12T16:57:13.187697"
    },
    "collapsed": false
   },
   "outputs": [
    {
     "name": "stdout",
     "output_type": "stream",
     "text": [
      "In [3] used 32.723 MiB RAM in 0.876s, peaked 0.000 MiB above current, total RAM usage 75.348 MiB\n"
     ]
    }
   ],
   "source": [
    "import ideal_point.raw_data"
   ]
  },
  {
   "cell_type": "code",
   "execution_count": 4,
   "metadata": {
    "ExecuteTime": {
     "end_time": "2016-12-12T16:57:14.482185",
     "start_time": "2016-12-12T16:57:14.187040"
    },
    "collapsed": false
   },
   "outputs": [
    {
     "data": {
      "text/html": [
       "<div>\n",
       "<table border=\"1\" class=\"dataframe\">\n",
       "  <thead>\n",
       "    <tr style=\"text-align: right;\">\n",
       "      <th></th>\n",
       "      <th>last_name</th>\n",
       "      <th>first_name</th>\n",
       "      <th>birthday</th>\n",
       "      <th>gender</th>\n",
       "      <th>type</th>\n",
       "      <th>state</th>\n",
       "      <th>district</th>\n",
       "      <th>party</th>\n",
       "      <th>url</th>\n",
       "      <th>address</th>\n",
       "      <th>...</th>\n",
       "      <th>thomas_id</th>\n",
       "      <th>opensecrets_id</th>\n",
       "      <th>lis_id</th>\n",
       "      <th>cspan_id</th>\n",
       "      <th>govtrack_id</th>\n",
       "      <th>votesmart_id</th>\n",
       "      <th>ballotpedia_id</th>\n",
       "      <th>washington_post_id</th>\n",
       "      <th>icpsr_id</th>\n",
       "      <th>wikipedia_id</th>\n",
       "    </tr>\n",
       "  </thead>\n",
       "  <tbody>\n",
       "    <tr>\n",
       "      <th>0</th>\n",
       "      <td>Brown</td>\n",
       "      <td>Sherrod</td>\n",
       "      <td>1952-11-09</td>\n",
       "      <td>M</td>\n",
       "      <td>sen</td>\n",
       "      <td>OH</td>\n",
       "      <td>NaN</td>\n",
       "      <td>Democrat</td>\n",
       "      <td>https://www.brown.senate.gov</td>\n",
       "      <td>713 Hart Senate Office Building Washington DC ...</td>\n",
       "      <td>...</td>\n",
       "      <td>136.0</td>\n",
       "      <td>N00003535</td>\n",
       "      <td>S307</td>\n",
       "      <td>5051.0</td>\n",
       "      <td>400050</td>\n",
       "      <td>27018.0</td>\n",
       "      <td>Sherrod Brown</td>\n",
       "      <td>NaN</td>\n",
       "      <td>29389.0</td>\n",
       "      <td>Sherrod Brown</td>\n",
       "    </tr>\n",
       "    <tr>\n",
       "      <th>1</th>\n",
       "      <td>Cantwell</td>\n",
       "      <td>Maria</td>\n",
       "      <td>1958-10-13</td>\n",
       "      <td>F</td>\n",
       "      <td>sen</td>\n",
       "      <td>WA</td>\n",
       "      <td>NaN</td>\n",
       "      <td>Democrat</td>\n",
       "      <td>https://www.cantwell.senate.gov</td>\n",
       "      <td>511 Hart Senate Office Building Washington DC ...</td>\n",
       "      <td>...</td>\n",
       "      <td>172.0</td>\n",
       "      <td>N00007836</td>\n",
       "      <td>S275</td>\n",
       "      <td>26137.0</td>\n",
       "      <td>300018</td>\n",
       "      <td>27122.0</td>\n",
       "      <td>Maria Cantwell</td>\n",
       "      <td>NaN</td>\n",
       "      <td>39310.0</td>\n",
       "      <td>Maria Cantwell</td>\n",
       "    </tr>\n",
       "    <tr>\n",
       "      <th>2</th>\n",
       "      <td>Cardin</td>\n",
       "      <td>Benjamin</td>\n",
       "      <td>1943-10-05</td>\n",
       "      <td>M</td>\n",
       "      <td>sen</td>\n",
       "      <td>MD</td>\n",
       "      <td>NaN</td>\n",
       "      <td>Democrat</td>\n",
       "      <td>https://www.cardin.senate.gov</td>\n",
       "      <td>509 Hart Senate Office Building Washington DC ...</td>\n",
       "      <td>...</td>\n",
       "      <td>174.0</td>\n",
       "      <td>N00001955</td>\n",
       "      <td>S308</td>\n",
       "      <td>4004.0</td>\n",
       "      <td>400064</td>\n",
       "      <td>26888.0</td>\n",
       "      <td>Ben Cardin</td>\n",
       "      <td>NaN</td>\n",
       "      <td>15408.0</td>\n",
       "      <td>Ben Cardin</td>\n",
       "    </tr>\n",
       "    <tr>\n",
       "      <th>3</th>\n",
       "      <td>Carper</td>\n",
       "      <td>Thomas</td>\n",
       "      <td>1947-01-23</td>\n",
       "      <td>M</td>\n",
       "      <td>sen</td>\n",
       "      <td>DE</td>\n",
       "      <td>NaN</td>\n",
       "      <td>Democrat</td>\n",
       "      <td>http://www.carper.senate.gov</td>\n",
       "      <td>513 Hart Senate Office Building Washington DC ...</td>\n",
       "      <td>...</td>\n",
       "      <td>179.0</td>\n",
       "      <td>N00012508</td>\n",
       "      <td>S277</td>\n",
       "      <td>663.0</td>\n",
       "      <td>300019</td>\n",
       "      <td>22421.0</td>\n",
       "      <td>Tom Carper</td>\n",
       "      <td>NaN</td>\n",
       "      <td>15015.0</td>\n",
       "      <td>Tom Carper</td>\n",
       "    </tr>\n",
       "    <tr>\n",
       "      <th>4</th>\n",
       "      <td>Casey</td>\n",
       "      <td>Robert</td>\n",
       "      <td>1960-04-13</td>\n",
       "      <td>M</td>\n",
       "      <td>sen</td>\n",
       "      <td>PA</td>\n",
       "      <td>NaN</td>\n",
       "      <td>Democrat</td>\n",
       "      <td>https://www.casey.senate.gov</td>\n",
       "      <td>393 Russell Senate Office Building Washington ...</td>\n",
       "      <td>...</td>\n",
       "      <td>1828.0</td>\n",
       "      <td>N00027503</td>\n",
       "      <td>S309</td>\n",
       "      <td>47036.0</td>\n",
       "      <td>412246</td>\n",
       "      <td>2541.0</td>\n",
       "      <td>Bob Casey, Jr.</td>\n",
       "      <td>NaN</td>\n",
       "      <td>40703.0</td>\n",
       "      <td>Bob Casey Jr.</td>\n",
       "    </tr>\n",
       "  </tbody>\n",
       "</table>\n",
       "<p>5 rows × 29 columns</p>\n",
       "</div>"
      ],
      "text/plain": [
       "  last_name first_name    birthday gender type state  district     party  \\\n",
       "0     Brown    Sherrod  1952-11-09      M  sen    OH       NaN  Democrat   \n",
       "1  Cantwell      Maria  1958-10-13      F  sen    WA       NaN  Democrat   \n",
       "2    Cardin   Benjamin  1943-10-05      M  sen    MD       NaN  Democrat   \n",
       "3    Carper     Thomas  1947-01-23      M  sen    DE       NaN  Democrat   \n",
       "4     Casey     Robert  1960-04-13      M  sen    PA       NaN  Democrat   \n",
       "\n",
       "                               url  \\\n",
       "0     https://www.brown.senate.gov   \n",
       "1  https://www.cantwell.senate.gov   \n",
       "2    https://www.cardin.senate.gov   \n",
       "3     http://www.carper.senate.gov   \n",
       "4     https://www.casey.senate.gov   \n",
       "\n",
       "                                             address       ...        \\\n",
       "0  713 Hart Senate Office Building Washington DC ...       ...         \n",
       "1  511 Hart Senate Office Building Washington DC ...       ...         \n",
       "2  509 Hart Senate Office Building Washington DC ...       ...         \n",
       "3  513 Hart Senate Office Building Washington DC ...       ...         \n",
       "4  393 Russell Senate Office Building Washington ...       ...         \n",
       "\n",
       "  thomas_id opensecrets_id lis_id cspan_id govtrack_id  votesmart_id  \\\n",
       "0     136.0      N00003535   S307   5051.0      400050       27018.0   \n",
       "1     172.0      N00007836   S275  26137.0      300018       27122.0   \n",
       "2     174.0      N00001955   S308   4004.0      400064       26888.0   \n",
       "3     179.0      N00012508   S277    663.0      300019       22421.0   \n",
       "4    1828.0      N00027503   S309  47036.0      412246        2541.0   \n",
       "\n",
       "   ballotpedia_id washington_post_id icpsr_id    wikipedia_id  \n",
       "0   Sherrod Brown                NaN  29389.0   Sherrod Brown  \n",
       "1  Maria Cantwell                NaN  39310.0  Maria Cantwell  \n",
       "2      Ben Cardin                NaN  15408.0      Ben Cardin  \n",
       "3      Tom Carper                NaN  15015.0      Tom Carper  \n",
       "4  Bob Casey, Jr.                NaN  40703.0   Bob Casey Jr.  \n",
       "\n",
       "[5 rows x 29 columns]"
      ]
     },
     "execution_count": 4,
     "metadata": {},
     "output_type": "execute_result"
    },
    {
     "name": "stdout",
     "output_type": "stream",
     "text": [
      "In [4] used 9.973 MiB RAM in 0.169s, peaked 1.172 MiB above current, total RAM usage 85.320 MiB\n"
     ]
    }
   ],
   "source": [
    "legislator_df = ideal_point.raw_data.legislators()\n",
    "legislator_df.head()"
   ]
  },
  {
   "cell_type": "markdown",
   "metadata": {},
   "source": [
    "### Votes\n",
    "\n",
    "Next we can load in all the votes. We get two dataframes from this, `vote_df` and `position_df`.\n",
    "\n",
    "Each row of `vote_df` corresponds to one roll call vote (like on the passage of a bill).\n",
    "\n",
    "Each row of `position_df` corresponds to one legislators position on a vote."
   ]
  },
  {
   "cell_type": "code",
   "execution_count": 5,
   "metadata": {
    "ExecuteTime": {
     "end_time": "2016-12-12T16:57:37.351573",
     "start_time": "2016-12-12T16:57:14.675444"
    },
    "collapsed": false
   },
   "outputs": [
    {
     "name": "stdout",
     "output_type": "stream",
     "text": [
      "\n",
      "In [5] used 196.488 MiB RAM in 22.554s, peaked 26.586 MiB above current, total RAM usage 281.809 MiB\n"
     ]
    }
   ],
   "source": [
    "vote_df, position_df = ideal_point.raw_data.votes(legislator_df)"
   ]
  },
  {
   "cell_type": "code",
   "execution_count": 6,
   "metadata": {
    "ExecuteTime": {
     "end_time": "2016-12-12T16:57:37.539114",
     "start_time": "2016-12-12T16:57:37.354312"
    },
    "collapsed": false
   },
   "outputs": [
    {
     "data": {
      "text/html": [
       "<div>\n",
       "<table border=\"1\" class=\"dataframe\">\n",
       "  <thead>\n",
       "    <tr style=\"text-align: right;\">\n",
       "      <th></th>\n",
       "      <th>amendment_author</th>\n",
       "      <th>amendment_number</th>\n",
       "      <th>amendment_purpose</th>\n",
       "      <th>amendment_type</th>\n",
       "      <th>bill_congress</th>\n",
       "      <th>bill_number</th>\n",
       "      <th>bill_title</th>\n",
       "      <th>bill_type</th>\n",
       "      <th>category</th>\n",
       "      <th>chamber</th>\n",
       "      <th>...</th>\n",
       "      <th>record_modified</th>\n",
       "      <th>requires</th>\n",
       "      <th>result</th>\n",
       "      <th>result_text</th>\n",
       "      <th>session</th>\n",
       "      <th>source_url</th>\n",
       "      <th>subject</th>\n",
       "      <th>type</th>\n",
       "      <th>updated_at</th>\n",
       "      <th>vote_id</th>\n",
       "    </tr>\n",
       "  </thead>\n",
       "  <tbody>\n",
       "    <tr>\n",
       "      <th>0</th>\n",
       "      <td>NaN</td>\n",
       "      <td>NaN</td>\n",
       "      <td>NaN</td>\n",
       "      <td>NaN</td>\n",
       "      <td>NaN</td>\n",
       "      <td>NaN</td>\n",
       "      <td>NaN</td>\n",
       "      <td>NaN</td>\n",
       "      <td>quorum</td>\n",
       "      <td>h</td>\n",
       "      <td>...</td>\n",
       "      <td>NaN</td>\n",
       "      <td>QUORUM</td>\n",
       "      <td>Passed</td>\n",
       "      <td>Passed</td>\n",
       "      <td>2013</td>\n",
       "      <td>http://clerk.house.gov/evs/2013/roll001.xml</td>\n",
       "      <td>NaN</td>\n",
       "      <td>Call of the House</td>\n",
       "      <td>2014-06-18T11:22:24-04:00</td>\n",
       "      <td>h1-113.2013</td>\n",
       "    </tr>\n",
       "    <tr>\n",
       "      <th>1</th>\n",
       "      <td>NaN</td>\n",
       "      <td>NaN</td>\n",
       "      <td>NaN</td>\n",
       "      <td>NaN</td>\n",
       "      <td>NaN</td>\n",
       "      <td>NaN</td>\n",
       "      <td>NaN</td>\n",
       "      <td>NaN</td>\n",
       "      <td>procedural</td>\n",
       "      <td>h</td>\n",
       "      <td>...</td>\n",
       "      <td>NaN</td>\n",
       "      <td>1/2</td>\n",
       "      <td>Failed</td>\n",
       "      <td>Failed</td>\n",
       "      <td>2013</td>\n",
       "      <td>http://clerk.house.gov/evs/2013/roll010.xml</td>\n",
       "      <td>NaN</td>\n",
       "      <td>On the Motion to Adjourn</td>\n",
       "      <td>2014-06-18T11:22:23-04:00</td>\n",
       "      <td>h10-113.2013</td>\n",
       "    </tr>\n",
       "    <tr>\n",
       "      <th>2</th>\n",
       "      <td>NaN</td>\n",
       "      <td>NaN</td>\n",
       "      <td>NaN</td>\n",
       "      <td>NaN</td>\n",
       "      <td>113.0</td>\n",
       "      <td>1120.0</td>\n",
       "      <td>NaN</td>\n",
       "      <td>hr</td>\n",
       "      <td>recommit</td>\n",
       "      <td>h</td>\n",
       "      <td>...</td>\n",
       "      <td>NaN</td>\n",
       "      <td>1/2</td>\n",
       "      <td>Failed</td>\n",
       "      <td>Failed</td>\n",
       "      <td>2013</td>\n",
       "      <td>http://clerk.house.gov/evs/2013/roll100.xml</td>\n",
       "      <td>Preventing Greater Uncertainty in Labor-Manage...</td>\n",
       "      <td>On the Motion to Recommit</td>\n",
       "      <td>2014-06-18T11:22:04-04:00</td>\n",
       "      <td>h100-113.2013</td>\n",
       "    </tr>\n",
       "    <tr>\n",
       "      <th>3</th>\n",
       "      <td>NaN</td>\n",
       "      <td>NaN</td>\n",
       "      <td>NaN</td>\n",
       "      <td>NaN</td>\n",
       "      <td>113.0</td>\n",
       "      <td>1120.0</td>\n",
       "      <td>NaN</td>\n",
       "      <td>hr</td>\n",
       "      <td>passage</td>\n",
       "      <td>h</td>\n",
       "      <td>...</td>\n",
       "      <td>NaN</td>\n",
       "      <td>1/2</td>\n",
       "      <td>Passed</td>\n",
       "      <td>Passed</td>\n",
       "      <td>2013</td>\n",
       "      <td>http://clerk.house.gov/evs/2013/roll101.xml</td>\n",
       "      <td>Preventing Greater Uncertainty in Labor-Manage...</td>\n",
       "      <td>On Passage of the Bill</td>\n",
       "      <td>2014-06-18T11:22:04-04:00</td>\n",
       "      <td>h101-113.2013</td>\n",
       "    </tr>\n",
       "    <tr>\n",
       "      <th>4</th>\n",
       "      <td>NaN</td>\n",
       "      <td>NaN</td>\n",
       "      <td>NaN</td>\n",
       "      <td>NaN</td>\n",
       "      <td>NaN</td>\n",
       "      <td>NaN</td>\n",
       "      <td>NaN</td>\n",
       "      <td>NaN</td>\n",
       "      <td>procedural</td>\n",
       "      <td>h</td>\n",
       "      <td>...</td>\n",
       "      <td>NaN</td>\n",
       "      <td>1/2</td>\n",
       "      <td>Passed</td>\n",
       "      <td>Passed</td>\n",
       "      <td>2013</td>\n",
       "      <td>http://clerk.house.gov/evs/2013/roll102.xml</td>\n",
       "      <td>NaN</td>\n",
       "      <td>On Approving the Journal</td>\n",
       "      <td>2014-06-18T11:22:04-04:00</td>\n",
       "      <td>h102-113.2013</td>\n",
       "    </tr>\n",
       "  </tbody>\n",
       "</table>\n",
       "<p>5 rows × 26 columns</p>\n",
       "</div>"
      ],
      "text/plain": [
       "  amendment_author  amendment_number amendment_purpose amendment_type  \\\n",
       "0              NaN               NaN               NaN            NaN   \n",
       "1              NaN               NaN               NaN            NaN   \n",
       "2              NaN               NaN               NaN            NaN   \n",
       "3              NaN               NaN               NaN            NaN   \n",
       "4              NaN               NaN               NaN            NaN   \n",
       "\n",
       "   bill_congress  bill_number bill_title bill_type    category chamber  \\\n",
       "0            NaN          NaN        NaN       NaN      quorum       h   \n",
       "1            NaN          NaN        NaN       NaN  procedural       h   \n",
       "2          113.0       1120.0        NaN        hr    recommit       h   \n",
       "3          113.0       1120.0        NaN        hr     passage       h   \n",
       "4            NaN          NaN        NaN       NaN  procedural       h   \n",
       "\n",
       "       ...        record_modified requires  result result_text  session  \\\n",
       "0      ...                    NaN   QUORUM  Passed      Passed     2013   \n",
       "1      ...                    NaN      1/2  Failed      Failed     2013   \n",
       "2      ...                    NaN      1/2  Failed      Failed     2013   \n",
       "3      ...                    NaN      1/2  Passed      Passed     2013   \n",
       "4      ...                    NaN      1/2  Passed      Passed     2013   \n",
       "\n",
       "                                    source_url  \\\n",
       "0  http://clerk.house.gov/evs/2013/roll001.xml   \n",
       "1  http://clerk.house.gov/evs/2013/roll010.xml   \n",
       "2  http://clerk.house.gov/evs/2013/roll100.xml   \n",
       "3  http://clerk.house.gov/evs/2013/roll101.xml   \n",
       "4  http://clerk.house.gov/evs/2013/roll102.xml   \n",
       "\n",
       "                                             subject  \\\n",
       "0                                                NaN   \n",
       "1                                                NaN   \n",
       "2  Preventing Greater Uncertainty in Labor-Manage...   \n",
       "3  Preventing Greater Uncertainty in Labor-Manage...   \n",
       "4                                                NaN   \n",
       "\n",
       "                        type                 updated_at        vote_id  \n",
       "0          Call of the House  2014-06-18T11:22:24-04:00    h1-113.2013  \n",
       "1   On the Motion to Adjourn  2014-06-18T11:22:23-04:00   h10-113.2013  \n",
       "2  On the Motion to Recommit  2014-06-18T11:22:04-04:00  h100-113.2013  \n",
       "3     On Passage of the Bill  2014-06-18T11:22:04-04:00  h101-113.2013  \n",
       "4   On Approving the Journal  2014-06-18T11:22:04-04:00  h102-113.2013  \n",
       "\n",
       "[5 rows x 26 columns]"
      ]
     },
     "execution_count": 6,
     "metadata": {},
     "output_type": "execute_result"
    },
    {
     "name": "stdout",
     "output_type": "stream",
     "text": [
      "In [6] used 0.000 MiB RAM in 0.055s, peaked 0.000 MiB above current, total RAM usage 281.809 MiB\n"
     ]
    }
   ],
   "source": [
    "vote_df.head()"
   ]
  },
  {
   "cell_type": "code",
   "execution_count": 7,
   "metadata": {
    "ExecuteTime": {
     "end_time": "2016-12-12T16:57:37.689415",
     "start_time": "2016-12-12T16:57:37.542702"
    },
    "collapsed": false
   },
   "outputs": [
    {
     "data": {
      "text/html": [
       "<div>\n",
       "<table border=\"1\" class=\"dataframe\">\n",
       "  <thead>\n",
       "    <tr style=\"text-align: right;\">\n",
       "      <th></th>\n",
       "      <th>legislator_index</th>\n",
       "      <th>position</th>\n",
       "      <th>vote_index</th>\n",
       "    </tr>\n",
       "  </thead>\n",
       "  <tbody>\n",
       "    <tr>\n",
       "      <th>0</th>\n",
       "      <td>54</td>\n",
       "      <td>Not Voting</td>\n",
       "      <td>0</td>\n",
       "    </tr>\n",
       "    <tr>\n",
       "      <th>1</th>\n",
       "      <td>212</td>\n",
       "      <td>Not Voting</td>\n",
       "      <td>0</td>\n",
       "    </tr>\n",
       "    <tr>\n",
       "      <th>2</th>\n",
       "      <td>213</td>\n",
       "      <td>Not Voting</td>\n",
       "      <td>0</td>\n",
       "    </tr>\n",
       "    <tr>\n",
       "      <th>3</th>\n",
       "      <td>301</td>\n",
       "      <td>Not Voting</td>\n",
       "      <td>0</td>\n",
       "    </tr>\n",
       "    <tr>\n",
       "      <th>4</th>\n",
       "      <td>39</td>\n",
       "      <td>Present</td>\n",
       "      <td>0</td>\n",
       "    </tr>\n",
       "  </tbody>\n",
       "</table>\n",
       "</div>"
      ],
      "text/plain": [
       "   legislator_index    position  vote_index\n",
       "0                54  Not Voting           0\n",
       "1               212  Not Voting           0\n",
       "2               213  Not Voting           0\n",
       "3               301  Not Voting           0\n",
       "4                39     Present           0"
      ]
     },
     "execution_count": 7,
     "metadata": {},
     "output_type": "execute_result"
    },
    {
     "name": "stdout",
     "output_type": "stream",
     "text": [
      "In [7] used 0.000 MiB RAM in 0.018s, peaked 0.000 MiB above current, total RAM usage 281.809 MiB\n"
     ]
    }
   ],
   "source": [
    "position_df.head()"
   ]
  },
  {
   "cell_type": "markdown",
   "metadata": {},
   "source": [
    "## Transform Data\n",
    "\n",
    "Next we have to transform our data to a format we can train our model on.\n",
    "\n",
    "Our observed data is basically `position_df`. but instead of categorical `position`s, we need them to\n",
    "be 1s and 0s. Also, since we aren't using all of the legislators, we need to transform\n",
    "the `legislator_index` into a relative index. We call this transformed dataframe `model_position_df`."
   ]
  },
  {
   "cell_type": "code",
   "execution_count": 9,
   "metadata": {
    "ExecuteTime": {
     "end_time": "2016-12-12T16:57:56.428636",
     "start_time": "2016-12-12T16:57:56.265149"
    },
    "collapsed": false
   },
   "outputs": [
    {
     "name": "stdout",
     "output_type": "stream",
     "text": [
      "In [9] used 0.000 MiB RAM in 0.027s, peaked 0.000 MiB above current, total RAM usage 291.570 MiB\n"
     ]
    }
   ],
   "source": [
    "import ideal_point.ideal_point"
   ]
  },
  {
   "cell_type": "code",
   "execution_count": 10,
   "metadata": {
    "ExecuteTime": {
     "end_time": "2016-12-12T16:57:58.678505",
     "start_time": "2016-12-12T16:57:57.141988"
    },
    "collapsed": false
   },
   "outputs": [
    {
     "name": "stdout",
     "output_type": "stream",
     "text": [
      "In [10] used 23.316 MiB RAM in 1.401s, peaked 21.609 MiB above current, total RAM usage 314.887 MiB\n"
     ]
    }
   ],
   "source": [
    "model_position_df, model_legislator_index, model_vote_index = ideal_point.ideal_point.transform_data(position_df, vote_df, legislator_df)"
   ]
  },
  {
   "cell_type": "code",
   "execution_count": 11,
   "metadata": {
    "ExecuteTime": {
     "end_time": "2016-12-12T16:57:58.832115",
     "start_time": "2016-12-12T16:57:58.682208"
    },
    "collapsed": false
   },
   "outputs": [
    {
     "data": {
      "text/html": [
       "<div>\n",
       "<table border=\"1\" class=\"dataframe\">\n",
       "  <thead>\n",
       "    <tr style=\"text-align: right;\">\n",
       "      <th></th>\n",
       "      <th>legislator</th>\n",
       "      <th>position</th>\n",
       "      <th>vote</th>\n",
       "    </tr>\n",
       "  </thead>\n",
       "  <tbody>\n",
       "    <tr>\n",
       "      <th>0</th>\n",
       "      <td>39</td>\n",
       "      <td>0</td>\n",
       "      <td>0</td>\n",
       "    </tr>\n",
       "    <tr>\n",
       "      <th>1</th>\n",
       "      <td>530</td>\n",
       "      <td>0</td>\n",
       "      <td>0</td>\n",
       "    </tr>\n",
       "    <tr>\n",
       "      <th>2</th>\n",
       "      <td>40</td>\n",
       "      <td>0</td>\n",
       "      <td>0</td>\n",
       "    </tr>\n",
       "    <tr>\n",
       "      <th>3</th>\n",
       "      <td>375</td>\n",
       "      <td>0</td>\n",
       "      <td>0</td>\n",
       "    </tr>\n",
       "    <tr>\n",
       "      <th>4</th>\n",
       "      <td>0</td>\n",
       "      <td>0</td>\n",
       "      <td>0</td>\n",
       "    </tr>\n",
       "  </tbody>\n",
       "</table>\n",
       "</div>"
      ],
      "text/plain": [
       "   legislator  position  vote\n",
       "0          39         0     0\n",
       "1         530         0     0\n",
       "2          40         0     0\n",
       "3         375         0     0\n",
       "4           0         0     0"
      ]
     },
     "execution_count": 11,
     "metadata": {},
     "output_type": "execute_result"
    },
    {
     "name": "stdout",
     "output_type": "stream",
     "text": [
      "In [11] used 0.000 MiB RAM in 0.010s, peaked 0.000 MiB above current, total RAM usage 314.887 MiB\n"
     ]
    }
   ],
   "source": [
    "model_position_df.head()"
   ]
  },
  {
   "cell_type": "code",
   "execution_count": 12,
   "metadata": {
    "ExecuteTime": {
     "end_time": "2016-12-12T16:57:58.995158",
     "start_time": "2016-12-12T16:57:58.837988"
    },
    "collapsed": false
   },
   "outputs": [
    {
     "name": "stdout",
     "output_type": "stream",
     "text": [
      "<class 'pandas.core.frame.DataFrame'>\n",
      "RangeIndex: 508555 entries, 0 to 508554\n",
      "Data columns (total 3 columns):\n",
      "legislator    508555 non-null int64\n",
      "position      508555 non-null int64\n",
      "vote          508555 non-null int64\n",
      "dtypes: int64(3)\n",
      "memory usage: 11.6 MB\n",
      "In [12] used 0.004 MiB RAM in 0.014s, peaked 0.000 MiB above current, total RAM usage 314.891 MiB\n"
     ]
    }
   ],
   "source": [
    "model_position_df.info()"
   ]
  },
  {
   "cell_type": "markdown",
   "metadata": {},
   "source": [
    "The two series `model_legislator_index` and `model_vote_index` map the values in `model_position_df` to the full dataframes, from index to value."
   ]
  },
  {
   "cell_type": "markdown",
   "metadata": {},
   "source": [
    "## Create Model\n",
    "\n",
    "Now we can create our model, given we have observed those votes. The notation is based\n",
    "on [\"Comparing NOMINATE and IDEAL: Points of Difference and Monte Carlo Tests\"](http://scholar-qa.princeton.edu/sites/default/files/jameslo/files/lsq_nomvsideal.pdf)."
   ]
  },
  {
   "cell_type": "code",
   "execution_count": 195,
   "metadata": {
    "ExecuteTime": {
     "end_time": "2016-12-13T16:13:14.307444",
     "start_time": "2016-12-13T16:13:14.147492"
    },
    "collapsed": false
   },
   "outputs": [
    {
     "name": "stdout",
     "output_type": "stream",
     "text": [
      "In [195] used 0.000 MiB RAM in 0.001s, peaked 0.000 MiB above current, total RAM usage 5234.535 MiB\n"
     ]
    }
   ],
   "source": [
    "import ideal_point.gradient"
   ]
  },
  {
   "cell_type": "code",
   "execution_count": 196,
   "metadata": {
    "ExecuteTime": {
     "end_time": "2016-12-13T16:13:15.199246",
     "start_time": "2016-12-13T16:13:14.329701"
    },
    "collapsed": false,
    "scrolled": true
   },
   "outputs": [
    {
     "name": "stdout",
     "output_type": "stream",
     "text": [
      "In [196] used 0.000 MiB RAM in 0.736s, peaked 0.000 MiB above current, total RAM usage 5234.535 MiB\n"
     ]
    }
   ],
   "source": [
    "g = ideal_point.gradient.Gradient(model_position_df)"
   ]
  },
  {
   "cell_type": "code",
   "execution_count": 248,
   "metadata": {
    "ExecuteTime": {
     "end_time": "2016-12-13T16:39:22.708103",
     "start_time": "2016-12-13T16:39:22.571163"
    },
    "collapsed": false
   },
   "outputs": [
    {
     "data": {
      "text/plain": [
       "(548, 1446)"
      ]
     },
     "execution_count": 248,
     "metadata": {},
     "output_type": "execute_result"
    },
    {
     "name": "stdout",
     "output_type": "stream",
     "text": [
      "In [248] used 0.000 MiB RAM in 0.004s, peaked 0.000 MiB above current, total RAM usage 5234.535 MiB\n"
     ]
    }
   ],
   "source": [
    "g.n_legislators, g.n_votes"
   ]
  },
  {
   "cell_type": "markdown",
   "metadata": {},
   "source": [
    "## Train Model\n",
    "\n",
    "Now we can run variational inference to compute estimated parameters for the model."
   ]
  },
  {
   "cell_type": "code",
   "execution_count": 197,
   "metadata": {
    "ExecuteTime": {
     "end_time": "2016-12-13T16:13:38.533950",
     "start_time": "2016-12-13T16:13:15.201793"
    },
    "collapsed": false
   },
   "outputs": [
    {
     "name": "stdout",
     "output_type": "stream",
     "text": [
      "-447019.752261\n",
      "-447019.752261\n",
      "-367078.032567\n",
      "-331701.535764\n",
      "-312158.600961\n",
      "-298885.03082\n",
      "-284988.133561\n",
      "-262671.945128\n",
      "-223259.814426\n",
      "-169343.987202\n",
      "-127138.051218\n",
      "-108909.132755\n",
      "-101258.133428\n",
      "-97021.2619289\n",
      "-94192.3275206\n",
      "-92064.6946644\n",
      "-90325.3932177\n",
      "-88813.3954589\n",
      "-87438.1970422\n",
      "-86147.3220382\n",
      "-84911.9206175\n",
      "-83719.6990024\n",
      "-82570.620822\n",
      "-81473.2292678\n",
      "-80440.6984371\n",
      "-79486.640459\n",
      "-78621.3555782\n",
      "-77849.4375774\n",
      "-77169.2822439\n",
      "-76574.2897017\n",
      "-76054.9162975\n",
      "-75600.6571859\n",
      "-75201.4321501\n",
      "-74848.3050656\n",
      "-74533.7103606\n",
      "-74251.403813\n",
      "-73996.2943699\n",
      "-73764.2511144\n",
      "-73551.9220106\n",
      "-73356.5873638\n",
      "-73176.0356254\n",
      "-73008.4969189\n",
      "-72852.5578734\n",
      "-72707.2832903\n",
      "-72572.0148494\n",
      "-72447.4784251\n",
      "-72333.8063634\n",
      "-72238.1643242\n",
      "-72154.3180095\n",
      "-72114.0710746\n",
      "-72040.5201839\n",
      "In [197] used 0.000 MiB RAM in 23.193s, peaked 0.000 MiB above current, total RAM usage 5234.535 MiB\n"
     ]
    }
   ],
   "source": [
    "# g.run(1000)\n",
    "# params = g.params\n",
    "# ideal_point.ideal_point.save_params(params)"
   ]
  },
  {
   "cell_type": "markdown",
   "metadata": {},
   "source": [
    "Or load it from disk, if we have already computed it (takes about an hour and a half on my computer)"
   ]
  },
  {
   "cell_type": "code",
   "execution_count": 27,
   "metadata": {
    "ExecuteTime": {
     "end_time": "2016-12-12T17:10:05.129424",
     "start_time": "2016-12-12T17:10:04.985483"
    },
    "collapsed": false
   },
   "outputs": [
    {
     "name": "stdout",
     "output_type": "stream",
     "text": [
      "In [27] used 0.000 MiB RAM in 0.001s, peaked 0.000 MiB above current, total RAM usage 4164.094 MiB\n"
     ]
    }
   ],
   "source": [
    "params = ideal_point.ideal_point.load_params()"
   ]
  },
  {
   "cell_type": "markdown",
   "metadata": {},
   "source": [
    "## Integrate Data\n",
    "\n",
    "Now we can integrate the parameters we learned backed info our `vote_df` and `legislator_df`. We add a `ideology` column to both of them and filter out rows without ideal points. We also add a `bias` to the votes (which is greater if any senator is more likely to vote yes)."
   ]
  },
  {
   "cell_type": "code",
   "execution_count": 198,
   "metadata": {
    "ExecuteTime": {
     "end_time": "2016-12-13T16:13:43.906393",
     "start_time": "2016-12-13T16:13:43.751655"
    },
    "collapsed": false
   },
   "outputs": [
    {
     "name": "stdout",
     "output_type": "stream",
     "text": [
      "In [198] used 0.000 MiB RAM in 0.014s, peaked 0.000 MiB above current, total RAM usage 5234.535 MiB\n"
     ]
    }
   ],
   "source": [
    "legislators_pt_df = ideal_point.ideal_point.leg_add_ideology(legislator_df, model_legislator_index, g.params)\n",
    "vote_pt_df = ideal_point.ideal_point.vote_add_ideology_and_bias(vote_df, model_vote_index, g.params)"
   ]
  },
  {
   "cell_type": "markdown",
   "metadata": {},
   "source": [
    "### Visualize Points\n",
    "\n",
    "We can do a quick gut chuck of our legislator ideal points to make sure they seperate democrats and republicans"
   ]
  },
  {
   "cell_type": "code",
   "execution_count": 199,
   "metadata": {
    "ExecuteTime": {
     "end_time": "2016-12-13T16:13:45.514313",
     "start_time": "2016-12-13T16:13:45.374994"
    },
    "collapsed": false
   },
   "outputs": [
    {
     "name": "stdout",
     "output_type": "stream",
     "text": [
      "In [199] used 0.000 MiB RAM in 0.001s, peaked 0.000 MiB above current, total RAM usage 5234.535 MiB\n"
     ]
    }
   ],
   "source": [
    "from altair import *"
   ]
  },
  {
   "cell_type": "code",
   "execution_count": 201,
   "metadata": {
    "ExecuteTime": {
     "end_time": "2016-12-13T16:13:49.223026",
     "start_time": "2016-12-13T16:13:49.066835"
    },
    "collapsed": false
   },
   "outputs": [
    {
     "data": {
      "text/html": [
       "<div class=\"vega-embed\" id=\"df5e0592-6301-4a7d-8cdf-f2874a21715b\"></div>\n",
       "\n",
       "<style>\n",
       ".vega-embed svg, .vega-embed canvas {\n",
       "  border: 1px dotted gray;\n",
       "}\n",
       "\n",
       ".vega-embed .vega-actions a {\n",
       "  margin-right: 6px;\n",
       "}\n",
       "</style>\n"
      ]
     },
     "metadata": {
      "jupyter-vega": "#df5e0592-6301-4a7d-8cdf-f2874a21715b"
     },
     "output_type": "display_data"
    },
    {
     "data": {
      "application/javascript": [
       "var spec = {\"data\": {\"values\": [{\"party\": \"Democrat\", \"ideology\": 2.375770204849925}, {\"party\": \"Democrat\", \"ideology\": 2.48358777363881}, {\"party\": \"Democrat\", \"ideology\": 2.459963908053111}, {\"party\": \"Democrat\", \"ideology\": 1.8142765400242393}, {\"party\": \"Democrat\", \"ideology\": 1.9138594390217147}, {\"party\": \"Republican\", \"ideology\": -1.4146840314491715}, {\"party\": \"Democrat\", \"ideology\": 2.3264714193021723}, {\"party\": \"Republican\", \"ideology\": -1.3503466270185314}, {\"party\": \"Democrat\", \"ideology\": 1.9882768574123784}, {\"party\": \"Democrat\", \"ideology\": 1.227024611450052}, {\"party\": \"Democrat\", \"ideology\": 2.4526806522635316}, {\"party\": \"Democrat\", \"ideology\": 2.101681449243458}, {\"party\": \"Independent\", \"ideology\": 2.1880641692613287}, {\"party\": \"Democrat\", \"ideology\": 2.4174024696926697}, {\"party\": \"Democrat\", \"ideology\": 1.3294527132138714}, {\"party\": \"Democrat\", \"ideology\": 2.253364531925947}, {\"party\": \"Republican\", \"ideology\": -2.2104941384947234}, {\"party\": \"Republican\", \"ideology\": -1.1831355707260418}, {\"party\": \"Republican\", \"ideology\": -1.322340869203239}, {\"party\": \"Republican\", \"ideology\": -1.1606238278616543}, {\"party\": \"Republican\", \"ideology\": -0.2449119337096576}, {\"party\": \"Republican\", \"ideology\": -2.0410594670541875}, {\"party\": \"Democrat\", \"ideology\": 2.338253886407102}, {\"party\": \"Republican\", \"ideology\": -2.1919822661584885}, {\"party\": \"Republican\", \"ideology\": -1.0973126833109847}, {\"party\": \"Republican\", \"ideology\": -2.4103991657581574}, {\"party\": \"Republican\", \"ideology\": -1.8193489486799759}, {\"party\": \"Democrat\", \"ideology\": 2.100102970530542}, {\"party\": \"Democrat\", \"ideology\": 2.3991616306502257}, {\"party\": \"Republican\", \"ideology\": -2.8065913121442416}, {\"party\": \"Republican\", \"ideology\": -2.6780310099839113}, {\"party\": \"Republican\", \"ideology\": -2.506239938747081}, {\"party\": \"Democrat\", \"ideology\": 1.798392509725266}, {\"party\": \"Democrat\", \"ideology\": 2.3250924357693}, {\"party\": \"Democrat\", \"ideology\": 1.4876767527442354}, {\"party\": \"Democrat\", \"ideology\": 2.3221095931637086}, {\"party\": \"Democrat\", \"ideology\": 2.3041029324794744}, {\"party\": \"Democrat\", \"ideology\": 2.224212088493403}, {\"party\": \"Democrat\", \"ideology\": 0.518793852053389}, {\"party\": \"Republican\", \"ideology\": -2.077124902246593}, {\"party\": \"Republican\", \"ideology\": -1.3662927582004514}, {\"party\": \"Republican\", \"ideology\": -1.1259573029956165}, {\"party\": \"Democrat\", \"ideology\": 2.356646720549376}, {\"party\": \"Republican\", \"ideology\": -1.666028354152962}, {\"party\": \"Republican\", \"ideology\": -2.4847842412814263}, {\"party\": \"Democrat\", \"ideology\": 3.8819705442740484}, {\"party\": \"Democrat\", \"ideology\": 4.168871880868057}, {\"party\": \"Republican\", \"ideology\": -1.964629791847273}, {\"party\": \"Democrat\", \"ideology\": 1.8478708747219836}, {\"party\": \"Republican\", \"ideology\": -2.4404564998798715}, {\"party\": \"Republican\", \"ideology\": -3.118560731931264}, {\"party\": \"Democrat\", \"ideology\": 1.070167803732773}, {\"party\": \"Republican\", \"ideology\": -3.309105592034487}, {\"party\": \"Republican\", \"ideology\": -3.4595381126150055}, {\"party\": \"Democrat\", \"ideology\": 3.2989294729395375}, {\"party\": \"Democrat\", \"ideology\": 2.38958461603041}, {\"party\": \"Republican\", \"ideology\": -1.3361624705386412}, {\"party\": \"Republican\", \"ideology\": -1.7351890700692776}, {\"party\": \"Republican\", \"ideology\": -2.3067696503926847}, {\"party\": \"Democrat\", \"ideology\": 2.507964993931539}, {\"party\": \"Republican\", \"ideology\": -3.119724819388365}, {\"party\": \"Democrat\", \"ideology\": 2.9891936578524705}, {\"party\": \"Republican\", \"ideology\": -2.2528424654311023}, {\"party\": \"Democrat\", \"ideology\": 2.5690115534396663}, {\"party\": \"Republican\", \"ideology\": -2.0137866635291184}, {\"party\": \"Republican\", \"ideology\": -2.4319155676926614}, {\"party\": \"Republican\", \"ideology\": -2.660689003840028}, {\"party\": \"Republican\", \"ideology\": -1.7574653928180388}, {\"party\": \"Democrat\", \"ideology\": 2.3806795340165112}, {\"party\": \"Republican\", \"ideology\": -1.808301161025784}, {\"party\": \"Republican\", \"ideology\": -1.6878894118899572}, {\"party\": \"Democrat\", \"ideology\": 2.8252990010880734}, {\"party\": \"Democrat\", \"ideology\": 3.344285956177494}, {\"party\": \"Democrat\", \"ideology\": 2.1049579107296084}, {\"party\": \"Democrat\", \"ideology\": 2.5851193153636247}, {\"party\": \"Republican\", \"ideology\": -2.3673351148853596}, {\"party\": \"Republican\", \"ideology\": -2.1237148636571064}, {\"party\": \"Democrat\", \"ideology\": 3.107558583104631}, {\"party\": \"Republican\", \"ideology\": -3.6683033789552155}, {\"party\": \"Republican\", \"ideology\": -2.637888504276286}, {\"party\": \"Democrat\", \"ideology\": 3.9024032114074285}, {\"party\": \"Democrat\", \"ideology\": 3.3647749455948386}, {\"party\": \"Democrat\", \"ideology\": 3.9052981283381447}, {\"party\": \"Democrat\", \"ideology\": 2.851961272808322}, {\"party\": \"Democrat\", \"ideology\": 2.77884331897698}, {\"party\": \"Democrat\", \"ideology\": 2.3691345458685644}, {\"party\": \"Republican\", \"ideology\": -1.7266398515806982}, {\"party\": \"Republican\", \"ideology\": -1.8900061696481985}, {\"party\": \"Democrat\", \"ideology\": 3.2225759918198427}, {\"party\": \"Republican\", \"ideology\": -1.6883145722568471}, {\"party\": \"Republican\", \"ideology\": -3.3093485416492543}, {\"party\": \"Democrat\", \"ideology\": 2.2109266366271862}, {\"party\": \"Democrat\", \"ideology\": 3.932367296180274}, {\"party\": \"Democrat\", \"ideology\": 1.3625644878535572}, {\"party\": \"Democrat\", \"ideology\": 0.6281530099924902}, {\"party\": \"Democrat\", \"ideology\": 2.3071364366296927}, {\"party\": \"Republican\", \"ideology\": -2.5769356812512134}, {\"party\": \"Republican\", \"ideology\": -1.9700048771450374}, {\"party\": \"Republican\", \"ideology\": -1.7271051021989101}, {\"party\": \"Democrat\", \"ideology\": 3.3551567465514154}, {\"party\": \"Democrat\", \"ideology\": 0.7303116632508923}, {\"party\": \"Republican\", \"ideology\": -2.0842722673036036}, {\"party\": \"Democrat\", \"ideology\": 3.5214108106936193}, {\"party\": \"Democrat\", \"ideology\": 3.300234084266362}, {\"party\": \"Democrat\", \"ideology\": 2.912338018327139}, {\"party\": \"Democrat\", \"ideology\": 2.475427870520392}, {\"party\": \"Democrat\", \"ideology\": 3.493835025228187}, {\"party\": \"Democrat\", \"ideology\": 3.183202226211826}, {\"party\": \"Republican\", \"ideology\": -1.5890932446895734}, {\"party\": \"Republican\", \"ideology\": -1.3438455517865542}, {\"party\": \"Republican\", \"ideology\": -3.0910320022479048}, {\"party\": \"Democrat\", \"ideology\": 3.1267927650171043}, {\"party\": \"Republican\", \"ideology\": -1.3821411256435263}, {\"party\": \"Democrat\", \"ideology\": 2.8468022464883704}, {\"party\": \"Democrat\", \"ideology\": 1.1112971236980387}, {\"party\": \"Democrat\", \"ideology\": 2.913716383615276}, {\"party\": \"Republican\", \"ideology\": -2.739624387627563}, {\"party\": \"Republican\", \"ideology\": -3.703998412172354}, {\"party\": \"Republican\", \"ideology\": -1.4029361078917764}, {\"party\": \"Democrat\", \"ideology\": 4.215086447506191}, {\"party\": \"Democrat\", \"ideology\": 3.9623616345628347}, {\"party\": \"Republican\", \"ideology\": -2.099534099659695}, {\"party\": \"Democrat\", \"ideology\": 2.8342257654141725}, {\"party\": \"Democrat\", \"ideology\": 3.1317698395827773}, {\"party\": \"Republican\", \"ideology\": -2.527208680119191}, {\"party\": \"Democrat\", \"ideology\": 3.2489485226368195}, {\"party\": \"Republican\", \"ideology\": -3.0193431918919207}, {\"party\": \"Republican\", \"ideology\": -0.9158790786812104}, {\"party\": \"Republican\", \"ideology\": -1.4380074912481657}, {\"party\": \"Republican\", \"ideology\": -2.823570648423725}, {\"party\": \"Republican\", \"ideology\": -3.4446403228126496}, {\"party\": \"Republican\", \"ideology\": -3.332025055090487}, {\"party\": \"Republican\", \"ideology\": -2.07119070310201}, {\"party\": \"Republican\", \"ideology\": -1.499669513365073}, {\"party\": \"Republican\", \"ideology\": -3.329666723036535}, {\"party\": \"Republican\", \"ideology\": -3.772187922238062}, {\"party\": \"Republican\", \"ideology\": -1.445372586329626}, {\"party\": \"Democrat\", \"ideology\": 3.111543960941355}, {\"party\": \"Democrat\", \"ideology\": 1.7953509136408836}, {\"party\": \"Republican\", \"ideology\": -2.110013580141633}, {\"party\": \"Republican\", \"ideology\": -2.852844105982422}, {\"party\": \"Republican\", \"ideology\": -2.423768593683402}, {\"party\": \"Republican\", \"ideology\": -0.42325143950691085}, {\"party\": \"Republican\", \"ideology\": -2.4115812474922107}, {\"party\": \"Republican\", \"ideology\": -2.7566847889653117}, {\"party\": \"Republican\", \"ideology\": -2.41103631252165}, {\"party\": \"Republican\", \"ideology\": -3.584378736746375}, {\"party\": \"Republican\", \"ideology\": -2.4758319885082454}, {\"party\": \"Republican\", \"ideology\": -2.0111690201826304}, {\"party\": \"Republican\", \"ideology\": -2.5648062350351792}, {\"party\": \"Republican\", \"ideology\": -3.455997861920391}, {\"party\": \"Democrat\", \"ideology\": 2.1654306179202387}, {\"party\": \"Democrat\", \"ideology\": 1.1425133821587006}, {\"party\": \"Republican\", \"ideology\": -1.7527674125185384}, {\"party\": \"Democrat\", \"ideology\": 3.615868803565552}, {\"party\": \"Republican\", \"ideology\": -2.4380710868301403}, {\"party\": \"Democrat\", \"ideology\": 3.421717778369491}, {\"party\": \"Republican\", \"ideology\": -1.060735874682013}, {\"party\": \"Republican\", \"ideology\": -1.9108378940176156}, {\"party\": \"Republican\", \"ideology\": -2.938049876435827}, {\"party\": \"Republican\", \"ideology\": -2.6332909740035033}, {\"party\": \"Democrat\", \"ideology\": 3.5593917663788113}, {\"party\": \"Republican\", \"ideology\": -1.4162431030073042}, {\"party\": \"Democrat\", \"ideology\": 1.981809618862801}, {\"party\": \"Republican\", \"ideology\": -3.601156269086754}, {\"party\": \"Republican\", \"ideology\": -1.4504965941575216}, {\"party\": \"Democrat\", \"ideology\": 2.874712751657458}, {\"party\": \"Democrat\", \"ideology\": 1.9677402579383094}, {\"party\": \"Democrat\", \"ideology\": 1.8914133237092947}, {\"party\": \"Democrat\", \"ideology\": 2.5162967055887573}, {\"party\": \"Republican\", \"ideology\": -1.2255789639668422}, {\"party\": \"Democrat\", \"ideology\": 3.726725960879954}, {\"party\": \"Democrat\", \"ideology\": 2.4612957889335414}, {\"party\": \"Republican\", \"ideology\": -2.3515023059963442}, {\"party\": \"Republican\", \"ideology\": -3.453757784513551}, {\"party\": \"Republican\", \"ideology\": -3.038909966508136}, {\"party\": \"Republican\", \"ideology\": -2.6061548185975645}, {\"party\": \"Republican\", \"ideology\": -3.09631181903991}, {\"party\": \"Republican\", \"ideology\": -1.2487462301242354}, {\"party\": \"Democrat\", \"ideology\": 2.3646538550243816}, {\"party\": \"Republican\", \"ideology\": -2.412725707327829}, {\"party\": \"Democrat\", \"ideology\": 2.4802519931940936}, {\"party\": \"Republican\", \"ideology\": -2.7678656487923727}, {\"party\": \"Republican\", \"ideology\": -2.5709017851975027}, {\"party\": \"Democrat\", \"ideology\": 2.7941087072963624}, {\"party\": \"Democrat\", \"ideology\": 3.0139188584468055}, {\"party\": \"Republican\", \"ideology\": -2.436278997894185}, {\"party\": \"Republican\", \"ideology\": -3.2621502196826353}, {\"party\": \"Republican\", \"ideology\": -0.4643774969735545}, {\"party\": \"Republican\", \"ideology\": -3.3717151315565794}, {\"party\": \"Democrat\", \"ideology\": 2.466334944911888}, {\"party\": \"Democrat\", \"ideology\": 2.4380027020697526}, {\"party\": \"Republican\", \"ideology\": -2.1211929982850317}, {\"party\": \"Democrat\", \"ideology\": 1.9715427280679145}, {\"party\": \"Republican\", \"ideology\": -1.132829862181143}, {\"party\": \"Republican\", \"ideology\": -2.6458334148969698}, {\"party\": \"Republican\", \"ideology\": -1.7150303026160618}, {\"party\": \"Republican\", \"ideology\": -0.8037884827212712}, {\"party\": \"Republican\", \"ideology\": -2.5587899882099236}, {\"party\": \"Republican\", \"ideology\": -2.4164344710492287}, {\"party\": \"Republican\", \"ideology\": -3.370121243511779}, {\"party\": \"Republican\", \"ideology\": -1.535259794651571}, {\"party\": \"Democrat\", \"ideology\": 2.5391415281061693}, {\"party\": \"Republican\", \"ideology\": -3.0891334776208286}, {\"party\": \"Democrat\", \"ideology\": 2.2399050087310233}, {\"party\": \"Democrat\", \"ideology\": 2.6660352060823436}, {\"party\": \"Republican\", \"ideology\": -3.2318074391200335}, {\"party\": \"Democrat\", \"ideology\": 2.3848437500429154}, {\"party\": \"Democrat\", \"ideology\": 4.207860937510631}, {\"party\": \"Republican\", \"ideology\": -2.718375485443966}, {\"party\": \"Democrat\", \"ideology\": 3.0751085326687777}, {\"party\": \"Democrat\", \"ideology\": 3.7556779421957787}, {\"party\": \"Democrat\", \"ideology\": 1.197453816504934}, {\"party\": \"Republican\", \"ideology\": -0.9550610575257835}, {\"party\": \"Democrat\", \"ideology\": 1.630209300488177}, {\"party\": \"Democrat\", \"ideology\": 2.580085753865941}, {\"party\": \"Republican\", \"ideology\": -3.200250962981571}, {\"party\": \"Democrat\", \"ideology\": 2.6608194637238434}, {\"party\": \"Republican\", \"ideology\": -1.895626454624489}, {\"party\": \"Republican\", \"ideology\": -2.4509324421886216}, {\"party\": \"Democrat\", \"ideology\": 2.3999667843732855}, {\"party\": \"Republican\", \"ideology\": -2.551280687895071}, {\"party\": \"Democrat\", \"ideology\": 2.21896966910704}, {\"party\": \"Democrat\", \"ideology\": 2.7791890892152686}, {\"party\": \"Republican\", \"ideology\": -3.4945921972190925}, {\"party\": \"Republican\", \"ideology\": -1.940878788856983}, {\"party\": \"Democrat\", \"ideology\": 2.724046382491062}, {\"party\": \"Democrat\", \"ideology\": 3.3600484574039013}, {\"party\": \"Republican\", \"ideology\": -1.0825049397346178}, {\"party\": \"Republican\", \"ideology\": -2.2867540043610886}, {\"party\": \"Republican\", \"ideology\": -2.998649465428214}, {\"party\": \"Republican\", \"ideology\": -2.5063938868234694}, {\"party\": \"Democrat\", \"ideology\": 2.5256117109429783}, {\"party\": \"Democrat\", \"ideology\": 3.927363995197937}, {\"party\": \"Democrat\", \"ideology\": 4.376465070262321}, {\"party\": \"Republican\", \"ideology\": -3.144562150024507}, {\"party\": \"Republican\", \"ideology\": -1.6055216768113567}, {\"party\": \"Republican\", \"ideology\": -2.381177369549433}, {\"party\": \"Democrat\", \"ideology\": 2.027244291636937}, {\"party\": \"Republican\", \"ideology\": -1.4278244243671612}, {\"party\": \"Democrat\", \"ideology\": 2.9935445560846543}, {\"party\": \"Republican\", \"ideology\": -2.536039333159902}, {\"party\": \"Democrat\", \"ideology\": 2.4260380780741975}, {\"party\": \"Republican\", \"ideology\": -2.519736124113574}, {\"party\": \"Republican\", \"ideology\": -3.0416651581584935}, {\"party\": \"Democrat\", \"ideology\": 3.523737770411755}, {\"party\": \"Republican\", \"ideology\": -1.867630228684325}, {\"party\": \"Republican\", \"ideology\": -2.72619392141143}, {\"party\": \"Republican\", \"ideology\": -0.345926229716361}, {\"party\": \"Democrat\", \"ideology\": 2.3363171469120148}, {\"party\": \"Republican\", \"ideology\": -2.0532578438382694}, {\"party\": \"Democrat\", \"ideology\": 2.3831993999102536}, {\"party\": \"Democrat\", \"ideology\": 4.262694814331029}, {\"party\": \"Democrat\", \"ideology\": 3.6033492570159917}, {\"party\": \"Democrat\", \"ideology\": 3.324349765145714}, {\"party\": \"Republican\", \"ideology\": -3.8549683415443363}, {\"party\": \"Republican\", \"ideology\": -2.1667901791690367}, {\"party\": \"Republican\", \"ideology\": -2.3447666134579244}, {\"party\": \"Republican\", \"ideology\": -2.062160808311101}, {\"party\": \"Republican\", \"ideology\": -3.330068293665985}, {\"party\": \"Republican\", \"ideology\": -3.24798113748743}, {\"party\": \"Democrat\", \"ideology\": 3.8927368278763277}, {\"party\": \"Democrat\", \"ideology\": 2.9677211986636594}, {\"party\": \"Republican\", \"ideology\": -2.436843816827361}, {\"party\": \"Republican\", \"ideology\": -2.234658942440628}, {\"party\": \"Republican\", \"ideology\": -2.1830490914885696}, {\"party\": \"Democrat\", \"ideology\": 3.5051560994275857}, {\"party\": \"Democrat\", \"ideology\": 1.6469949724037973}, {\"party\": \"Democrat\", \"ideology\": 1.475407094470435}, {\"party\": \"Democrat\", \"ideology\": -0.0508797870157891}, {\"party\": \"Democrat\", \"ideology\": 3.42571797625513}, {\"party\": \"Republican\", \"ideology\": -2.8638842342670983}, {\"party\": \"Republican\", \"ideology\": -2.451997784304027}, {\"party\": \"Democrat\", \"ideology\": 1.7767222519921138}, {\"party\": \"Republican\", \"ideology\": -3.684492245253535}, {\"party\": \"Republican\", \"ideology\": -1.3753219044678635}, {\"party\": \"Republican\", \"ideology\": -1.8045351219944423}, {\"party\": \"Democrat\", \"ideology\": 2.8540738267549974}, {\"party\": \"Republican\", \"ideology\": -3.4219454960621967}, {\"party\": \"Democrat\", \"ideology\": 2.7590812912995553}, {\"party\": \"Democrat\", \"ideology\": 2.9522409356631116}, {\"party\": \"Republican\", \"ideology\": -1.4369384652676405}, {\"party\": \"Republican\", \"ideology\": -1.2525806144289278}, {\"party\": \"Democrat\", \"ideology\": 1.5372066779953597}, {\"party\": \"Republican\", \"ideology\": -1.9913341696635347}, {\"party\": \"Republican\", \"ideology\": -3.0794379906107596}, {\"party\": \"Democrat\", \"ideology\": 2.0838850998312837}, {\"party\": \"Republican\", \"ideology\": -2.033827710923672}, {\"party\": \"Republican\", \"ideology\": -1.9123793786055832}, {\"party\": \"Republican\", \"ideology\": -2.619021341532518}, {\"party\": \"Republican\", \"ideology\": -1.73704824808027}, {\"party\": \"Republican\", \"ideology\": -2.3437477843678165}, {\"party\": \"Republican\", \"ideology\": -1.8643381609790037}, {\"party\": \"Republican\", \"ideology\": -3.1845221459534545}, {\"party\": \"Republican\", \"ideology\": -1.9316365539443312}, {\"party\": \"Republican\", \"ideology\": -1.3853552601310901}, {\"party\": \"Republican\", \"ideology\": -2.309586534009175}, {\"party\": \"Republican\", \"ideology\": -2.6544618715630186}, {\"party\": \"Democrat\", \"ideology\": 3.674210842885887}, {\"party\": \"Republican\", \"ideology\": -2.8200923414518124}, {\"party\": \"Republican\", \"ideology\": -1.8230118574166585}, {\"party\": \"Democrat\", \"ideology\": 1.8604122061486352}, {\"party\": \"Democrat\", \"ideology\": 2.863937206636575}, {\"party\": \"Republican\", \"ideology\": -2.996059064473273}, {\"party\": \"Democrat\", \"ideology\": 2.1274597534362694}, {\"party\": \"Democrat\", \"ideology\": 2.145839140407059}, {\"party\": \"Democrat\", \"ideology\": 3.6755968507717727}, {\"party\": \"Republican\", \"ideology\": -3.5004854426267245}, {\"party\": \"Democrat\", \"ideology\": 4.654962501135064}, {\"party\": \"Democrat\", \"ideology\": 2.985396263658735}, {\"party\": \"Democrat\", \"ideology\": 1.0477370438490152}, {\"party\": \"Democrat\", \"ideology\": 2.482228599826795}, {\"party\": \"Republican\", \"ideology\": -2.9553372392116835}, {\"party\": \"Republican\", \"ideology\": -3.096276423611394}, {\"party\": \"Democrat\", \"ideology\": 1.9436590570259402}, {\"party\": \"Democrat\", \"ideology\": 2.88424752907876}, {\"party\": \"Republican\", \"ideology\": -2.6129295402986368}, {\"party\": \"Republican\", \"ideology\": -2.4847776270776625}, {\"party\": \"Democrat\", \"ideology\": 4.018525620887613}, {\"party\": \"Republican\", \"ideology\": -3.2218077767763975}, {\"party\": \"Democrat\", \"ideology\": 1.8209214482047376}, {\"party\": \"Republican\", \"ideology\": -1.9973918613970427}, {\"party\": \"Democrat\", \"ideology\": 2.351092428228243}, {\"party\": \"Republican\", \"ideology\": -1.6066257794423513}, {\"party\": \"Republican\", \"ideology\": -2.1072538196303516}, {\"party\": \"Republican\", \"ideology\": -1.7419202356988865}, {\"party\": \"Democrat\", \"ideology\": 2.861679492774092}, {\"party\": \"Democrat\", \"ideology\": 2.917430906335033}, {\"party\": \"Democrat\", \"ideology\": 2.533786807683598}, {\"party\": \"Republican\", \"ideology\": -2.9405112523551664}, {\"party\": \"Republican\", \"ideology\": -1.1592834484601608}, {\"party\": \"Republican\", \"ideology\": -2.987293752182239}, {\"party\": \"Democrat\", \"ideology\": 3.456481489870769}, {\"party\": \"Republican\", \"ideology\": -1.8497287880407098}, {\"party\": \"Republican\", \"ideology\": -3.417502964184906}, {\"party\": \"Democrat\", \"ideology\": 3.354407214827569}, {\"party\": \"Democrat\", \"ideology\": 2.4453567097802713}, {\"party\": \"Democrat\", \"ideology\": 2.940689527650217}, {\"party\": \"Republican\", \"ideology\": -1.6301260560261126}, {\"party\": \"Republican\", \"ideology\": -3.1216973285249963}, {\"party\": \"Republican\", \"ideology\": -1.9182040701367544}, {\"party\": \"Republican\", \"ideology\": -2.0814956273431333}, {\"party\": \"Republican\", \"ideology\": -2.2312556307594575}, {\"party\": \"Democrat\", \"ideology\": 3.4039087600846596}, {\"party\": \"Republican\", \"ideology\": -1.9879858790920695}, {\"party\": \"Democrat\", \"ideology\": 3.148667233493456}, {\"party\": \"Republican\", \"ideology\": -1.5520162327416007}, {\"party\": \"Republican\", \"ideology\": -1.8575369607742562}, {\"party\": \"Democrat\", \"ideology\": 3.2851742872783114}, {\"party\": \"Democrat\", \"ideology\": 3.8925503821873506}, {\"party\": \"Democrat\", \"ideology\": 2.199056454615159}, {\"party\": \"Republican\", \"ideology\": -1.9238240336222387}, {\"party\": \"Republican\", \"ideology\": -3.1813787409106213}, {\"party\": \"Republican\", \"ideology\": -1.8668575422963232}, {\"party\": \"Democrat\", \"ideology\": 1.5245805936351449}, {\"party\": \"Democrat\", \"ideology\": 2.510269322690936}, {\"party\": \"Democrat\", \"ideology\": 3.4123531509546394}, {\"party\": \"Republican\", \"ideology\": -2.101348537832458}, {\"party\": \"Democrat\", \"ideology\": 3.0670307037418345}, {\"party\": \"Republican\", \"ideology\": -3.0766271598031607}, {\"party\": \"Republican\", \"ideology\": -3.3064771336810757}, {\"party\": \"Democrat\", \"ideology\": 3.491206249322827}, {\"party\": \"Republican\", \"ideology\": -2.3473862507231384}, {\"party\": \"Republican\", \"ideology\": -2.0071883516956324}, {\"party\": \"Republican\", \"ideology\": -2.8038944111115702}, {\"party\": \"Democrat\", \"ideology\": 1.9571746338664036}, {\"party\": \"Democrat\", \"ideology\": 3.114511184991134}, {\"party\": \"Republican\", \"ideology\": -2.874502480861903}, {\"party\": \"Republican\", \"ideology\": -1.3805535623114642}, {\"party\": \"Republican\", \"ideology\": -2.370571065671853}, {\"party\": \"Republican\", \"ideology\": -1.183776600828576}, {\"party\": \"Democrat\", \"ideology\": 3.3318194519380278}, {\"party\": \"Republican\", \"ideology\": -1.987182682125052}, {\"party\": \"Democrat\", \"ideology\": 3.5510191041779042}, {\"party\": \"Democrat\", \"ideology\": 1.8777440854349505}, {\"party\": \"Republican\", \"ideology\": -1.4406292427355418}, {\"party\": \"Democrat\", \"ideology\": 3.7215139987617367}, {\"party\": \"Democrat\", \"ideology\": 2.48076332794992}, {\"party\": \"Republican\", \"ideology\": -2.7840795667135314}, {\"party\": \"Democrat\", \"ideology\": 1.5899130537070731}, {\"party\": \"Democrat\", \"ideology\": 2.701303706177635}, {\"party\": \"Democrat\", \"ideology\": 1.3667267644901877}, {\"party\": \"Democrat\", \"ideology\": 2.4389608367085733}, {\"party\": \"Republican\", \"ideology\": -3.2211408764943625}, {\"party\": \"Democrat\", \"ideology\": 0.830123994116938}, {\"party\": \"Republican\", \"ideology\": -3.163611715204517}, {\"party\": \"Democrat\", \"ideology\": 3.6106620316704854}, {\"party\": \"Democrat\", \"ideology\": 1.4017205071213834}, {\"party\": \"Republican\", \"ideology\": -2.2839727809471486}, {\"party\": \"Democrat\", \"ideology\": 2.422797761762588}, {\"party\": \"Republican\", \"ideology\": -1.467299330043135}, {\"party\": \"Democrat\", \"ideology\": 1.770867579892301}, {\"party\": \"Democrat\", \"ideology\": 2.243593980889081}, {\"party\": \"Democrat\", \"ideology\": 1.2053510961097913}, {\"party\": \"Democrat\", \"ideology\": 3.416591868761064}, {\"party\": \"Democrat\", \"ideology\": 3.9329577496012473}, {\"party\": \"Democrat\", \"ideology\": 2.2964637915939896}, {\"party\": \"Democrat\", \"ideology\": 1.1157877523292006}, {\"party\": \"Democrat\", \"ideology\": 2.1714152399922826}, {\"party\": \"Republican\", \"ideology\": -2.679768124797759}, {\"party\": \"Republican\", \"ideology\": -3.327732627738241}, {\"party\": \"Democrat\", \"ideology\": 0.9458931232786639}, {\"party\": \"Democrat\", \"ideology\": 3.073058370007245}, {\"party\": \"Republican\", \"ideology\": -3.34110904553561}, {\"party\": \"Democrat\", \"ideology\": 1.7995354942538402}, {\"party\": \"Democrat\", \"ideology\": 1.7414164491866297}, {\"party\": \"Republican\", \"ideology\": -1.6201607252480903}, {\"party\": \"Democrat\", \"ideology\": 1.3060660793148717}, {\"party\": \"Republican\", \"ideology\": -2.3062443278420366}, {\"party\": \"Republican\", \"ideology\": -2.4396774558280985}, {\"party\": \"Republican\", \"ideology\": -3.0802857241258024}, {\"party\": \"Republican\", \"ideology\": -2.5396216076935483}, {\"party\": \"Democrat\", \"ideology\": 2.155771533280235}, {\"party\": \"Democrat\", \"ideology\": 3.5423295080919757}, {\"party\": \"Democrat\", \"ideology\": 1.8383541794505254}, {\"party\": \"Independent\", \"ideology\": 1.3907852533601472}, {\"party\": \"Democrat\", \"ideology\": 3.1013033085233443}, {\"party\": \"Democrat\", \"ideology\": 2.0674513256322933}, {\"party\": \"Republican\", \"ideology\": -2.748132791638111}, {\"party\": \"Republican\", \"ideology\": -2.366575970867655}, {\"party\": \"Republican\", \"ideology\": -3.7750054162794004}, {\"party\": \"Republican\", \"ideology\": -3.269346914335808}, {\"party\": \"Republican\", \"ideology\": -2.9984730293929918}, {\"party\": \"Republican\", \"ideology\": -3.855846277149309}, {\"party\": \"Democrat\", \"ideology\": 1.3476926227366959}, {\"party\": \"Republican\", \"ideology\": -1.9363836274189634}, {\"party\": \"Republican\", \"ideology\": -1.9292966068389699}, {\"party\": \"Democrat\", \"ideology\": 1.8692279562955771}, {\"party\": \"Democrat\", \"ideology\": 1.9327340822789665}, {\"party\": \"Democrat\", \"ideology\": 2.7561717910267327}, {\"party\": \"Democrat\", \"ideology\": 3.4400615182157592}, {\"party\": \"Democrat\", \"ideology\": 1.1450068539282865}, {\"party\": \"Republican\", \"ideology\": -2.0909861777269327}, {\"party\": \"Republican\", \"ideology\": -3.1393848573013}, {\"party\": \"Democrat\", \"ideology\": 3.133567645847294}, {\"party\": \"Republican\", \"ideology\": -1.4631164442548574}, {\"party\": \"Republican\", \"ideology\": -3.0163479823601644}, {\"party\": \"Republican\", \"ideology\": -2.816932687268735}, {\"party\": \"Republican\", \"ideology\": -2.983219364805084}, {\"party\": \"Republican\", \"ideology\": -2.5591500972699963}, {\"party\": \"Democrat\", \"ideology\": 3.0676845357703226}, {\"party\": \"Republican\", \"ideology\": -2.7813927619703063}, {\"party\": \"Republican\", \"ideology\": -2.6821852780209974}, {\"party\": \"Republican\", \"ideology\": -3.98834924245977}, {\"party\": \"Democrat\", \"ideology\": 2.719748609870361}, {\"party\": \"Democrat\", \"ideology\": 2.3963100277994926}, {\"party\": \"Republican\", \"ideology\": -3.489559762675673}, {\"party\": \"Democrat\", \"ideology\": 2.2190247790196627}, {\"party\": \"Democrat\", \"ideology\": 1.1691748463409422}, {\"party\": \"Republican\", \"ideology\": -2.39763563494741}, {\"party\": \"Democrat\", \"ideology\": 1.8594442254055734}, {\"party\": \"Democrat\", \"ideology\": 1.9653894322683063}, {\"party\": \"Democrat\", \"ideology\": 2.378914557817187}, {\"party\": \"Democrat\", \"ideology\": 4.555392273634157}, {\"party\": \"Democrat\", \"ideology\": 3.119344283510562}, {\"party\": \"Republican\", \"ideology\": -1.6418197682108666}, {\"party\": \"Republican\", \"ideology\": -3.426038132493044}, {\"party\": \"Democrat\", \"ideology\": 1.7577050841598545}, {\"party\": \"Democrat\", \"ideology\": 3.416489797915269}, {\"party\": \"Republican\", \"ideology\": -2.9782122915015132}, {\"party\": \"Republican\", \"ideology\": -1.2726171448054402}, {\"party\": \"Republican\", \"ideology\": -2.247607357549884}, {\"party\": \"Republican\", \"ideology\": -1.7043420399823397}, {\"party\": \"Democrat\", \"ideology\": 1.3397537137996}, {\"party\": \"Democrat\", \"ideology\": 1.4653462654408094}, {\"party\": \"Democrat\", \"ideology\": 2.5201718770525674}, {\"party\": \"Republican\", \"ideology\": -0.6906926228161772}, {\"party\": \"Democrat\", \"ideology\": 2.392986256936271}, {\"party\": \"Democrat\", \"ideology\": 1.4560281982121959}, {\"party\": \"Democrat\", \"ideology\": 1.8462948370717551}, {\"party\": \"Republican\", \"ideology\": -1.9421077632580541}, {\"party\": \"Republican\", \"ideology\": -1.6645778413992058}, {\"party\": \"Republican\", \"ideology\": -1.7769761202413998}, {\"party\": \"Republican\", \"ideology\": -0.20678649319369197}, {\"party\": \"Democrat\", \"ideology\": 2.9752717814693375}, {\"party\": \"Republican\", \"ideology\": -2.4691149715916927}, {\"party\": \"Democrat\", \"ideology\": 1.079160891622822}, {\"party\": \"Democrat\", \"ideology\": 2.386809315449976}, {\"party\": \"Republican\", \"ideology\": -2.457986478901488}, {\"party\": \"Democrat\", \"ideology\": 1.342780245100154}, {\"party\": \"Republican\", \"ideology\": -1.3890167567186047}, {\"party\": \"Democrat\", \"ideology\": 1.0055344435513178}, {\"party\": \"Democrat\", \"ideology\": 2.233593498106221}, {\"party\": \"Democrat\", \"ideology\": 2.1944468419880176}, {\"party\": \"Democrat\", \"ideology\": 1.3566306984960648}, {\"party\": \"Democrat\", \"ideology\": 2.454978414991131}, {\"party\": \"Democrat\", \"ideology\": 0.8861865322821514}, {\"party\": \"Democrat\", \"ideology\": 2.3604098769414503}, {\"party\": \"Democrat\", \"ideology\": 1.7964156213335547}, {\"party\": \"Republican\", \"ideology\": -2.6442713966677935}, {\"party\": \"Republican\", \"ideology\": -1.8202763674898097}, {\"party\": \"Democrat\", \"ideology\": 0.30818137538882334}, {\"party\": \"Democrat\", \"ideology\": 2.241926301111747}, {\"party\": \"Democrat\", \"ideology\": 1.8199924499551299}, {\"party\": \"Republican\", \"ideology\": -1.5483146662695517}, {\"party\": \"Republican\", \"ideology\": -2.144831210863582}, {\"party\": \"Republican\", \"ideology\": -2.564258872237661}, {\"party\": \"Republican\", \"ideology\": -2.7712443259871313}, {\"party\": \"Democrat\", \"ideology\": 2.496230547988087}, {\"party\": \"Republican\", \"ideology\": -1.4050809047990056}, {\"party\": \"Republican\", \"ideology\": -2.8077029904833557}, {\"party\": \"Republican\", \"ideology\": -2.1483387312614144}, {\"party\": \"Republican\", \"ideology\": -2.3559158862997616}, {\"party\": \"Republican\", \"ideology\": -1.839953953470389}, {\"party\": \"Democrat\", \"ideology\": 3.9391634213260023}, {\"party\": \"Republican\", \"ideology\": -3.3969500758785065}, {\"party\": \"Republican\", \"ideology\": -1.5884122406024117}, {\"party\": \"Democrat\", \"ideology\": -0.3545102482582043}, {\"party\": \"Democrat\", \"ideology\": 1.8055627840176265}, {\"party\": \"Democrat\", \"ideology\": 0.2881873992278871}, {\"party\": \"Republican\", \"ideology\": -1.7502561854439962}, {\"party\": \"Democrat\", \"ideology\": 2.0491173124663966}, {\"party\": \"Republican\", \"ideology\": -1.8901296630550422}, {\"party\": \"Democrat\", \"ideology\": 3.265623225614108}, {\"party\": \"Democrat\", \"ideology\": 2.3164222256295344}, {\"party\": \"Democrat\", \"ideology\": 0.6776893889572195}, {\"party\": \"Democrat\", \"ideology\": 2.53399049338504}, {\"party\": \"Republican\", \"ideology\": -1.9403844988626322}, {\"party\": \"Democrat\", \"ideology\": 0.6817074458430579}, {\"party\": \"Republican\", \"ideology\": -2.1645737970315984}, {\"party\": \"Republican\", \"ideology\": -1.1585200608637036}, {\"party\": \"Democrat\", \"ideology\": 2.6707946349215685}, {\"party\": \"Republican\", \"ideology\": -2.757896485231924}, {\"party\": \"Republican\", \"ideology\": -1.911769478843619}, {\"party\": \"Democrat\", \"ideology\": 2.9475772444368853}, {\"party\": \"Democrat\", \"ideology\": 3.455344999641288}, {\"party\": \"Republican\", \"ideology\": -1.3978644632504558}, {\"party\": \"Democrat\", \"ideology\": 0.6508521878144036}, {\"party\": \"Republican\", \"ideology\": -1.8984005047539745}, {\"party\": \"Democrat\", \"ideology\": 2.1674120887658486}, {\"party\": \"Democrat\", \"ideology\": 1.0000030201203816}, {\"party\": \"Democrat\", \"ideology\": 2.7229817401309777}, {\"party\": \"Democrat\", \"ideology\": 1.2264696934408261}, {\"party\": \"Democrat\", \"ideology\": 1.4155326508492005}, {\"party\": \"Democrat\", \"ideology\": 1.356549472486015}, {\"party\": \"Republican\", \"ideology\": -2.7771966598669513}, {\"party\": \"Democrat\", \"ideology\": 2.22930285218067}, {\"party\": \"Democrat\", \"ideology\": 0.889330117978656}, {\"party\": \"Republican\", \"ideology\": -2.1031375280773594}, {\"party\": \"Democrat\", \"ideology\": 1.4466034661764082}, {\"party\": \"Republican\", \"ideology\": -1.1190265470949066}, {\"party\": \"Republican\", \"ideology\": -2.620787296639374}, {\"party\": \"Republican\", \"ideology\": -1.525395676564274}, {\"party\": \"Republican\", \"ideology\": -2.6677538545342308}, {\"party\": \"Republican\", \"ideology\": -1.726642700648161}, {\"party\": \"Republican\", \"ideology\": -0.9302102029926088}, {\"party\": \"Democrat\", \"ideology\": 3.1932172941493926}, {\"party\": \"Republican\", \"ideology\": -1.7693743931973605}]}, \"mark\": \"tick\", \"encoding\": {\"y\": {\"field\": \"party\", \"type\": \"ordinal\"}, \"x\": {\"field\": \"ideology\", \"type\": \"quantitative\"}}, \"config\": {\"cell\": {\"width\": 500, \"height\": 350}}};\n",
       "var selector = \"#df5e0592-6301-4a7d-8cdf-f2874a21715b\";\n",
       "var type = \"vega-lite\";\n",
       "\n",
       "var output_area = this;\n",
       "require(['nbextensions/jupyter-vega/index'], function(vega) {\n",
       "  vega.render(selector, spec, type, output_area);\n",
       "}, function (err) {\n",
       "  if (err.requireType !== 'scripterror') {\n",
       "    throw(err);\n",
       "  }\n",
       "});\n"
      ]
     },
     "metadata": {
      "jupyter-vega": "#df5e0592-6301-4a7d-8cdf-f2874a21715b"
     },
     "output_type": "display_data"
    },
    {
     "name": "stdout",
     "output_type": "stream",
     "text": [
      "In [201] used 0.000 MiB RAM in 0.022s, peaked 0.000 MiB above current, total RAM usage 5234.535 MiB\n"
     ]
    },
    {
     "data": {
      "image/png": "[encoded data removed]"
     },
     "metadata": {
      "jupyter-vega": "#df5e0592-6301-4a7d-8cdf-f2874a21715b"
     },
     "output_type": "display_data"
    }
   ],
   "source": [
    "Chart(legislators_pt_df[[\"ideology\", \"party\"]]).mark_tick().encode(\n",
    "    x='ideology:Q',\n",
    "    y='party:O',\n",
    ")"
   ]
  },
  {
   "cell_type": "markdown",
   "metadata": {},
   "source": [
    "### Validation\n",
    "\n",
    "Some of the most conservative members in our model include Mike Pompeo, who lead the house inquiry into Benghazi, and Randy Weber, who drew fire for a tweet declaring Barack Obama a \"socialist dictator.\"\n",
    "\n",
    "Some of the most liberal members include Jim McGovern, who represents the pioneer valley and Jerrold Nadler, who represents Manhattan's upper west side. The most liberal legislator, Jan Schakowsky, is a longtime critic of the Iraq war."
   ]
  },
  {
   "cell_type": "markdown",
   "metadata": {},
   "source": [
    "The house bills to remove voted on by all democrats are close to the democratic ideology."
   ]
  },
  {
   "cell_type": "code",
   "execution_count": 246,
   "metadata": {
    "ExecuteTime": {
     "end_time": "2016-12-13T16:39:02.367722",
     "start_time": "2016-12-13T16:39:02.230749"
    },
    "collapsed": false
   },
   "outputs": [
    {
     "name": "stdout",
     "output_type": "stream",
     "text": [
      "In [246] used 0.000 MiB RAM in 0.001s, peaked 0.000 MiB above current, total RAM usage 5234.535 MiB\n"
     ]
    }
   ],
   "source": [
    "# pd.set_option('display.max_columns', 999)\n",
    "# pd.set_option('display.max_colwidth', 200)\n",
    "# vote_pt_df[vote_pt_df[\"question\"].str.contains(\"Immigration\", na=False)]\n",
    "# vote_pt_df[vote_pt_df[\"number\"] == 168]"
   ]
  },
  {
   "cell_type": "code",
   "execution_count": 240,
   "metadata": {
    "ExecuteTime": {
     "end_time": "2016-12-13T16:20:35.996111",
     "start_time": "2016-12-13T16:20:35.854659"
    },
    "collapsed": false
   },
   "outputs": [
    {
     "name": "stdout",
     "output_type": "stream",
     "text": [
      "In [240] used 0.000 MiB RAM in 0.003s, peaked 0.000 MiB above current, total RAM usage 5234.566 MiB\n"
     ]
    }
   ],
   "source": [
    "labels = pd.Series([\n",
    "    \"Violence Against Women Reauthorization Act of 2013\",\n",
    "    \"Border Security, Economic Opportunity, and Immigration Modernization Act\",\n",
    "    \"Keystone XL Pipeline Approval Act\",\n",
    "    \"Consolidated Appropriations Act, 2014\"\n",
    "], index=[\n",
    "    500,\n",
    "    717,\n",
    "    76,  \n",
    "    570\n",
    "])"
   ]
  },
  {
   "cell_type": "code",
   "execution_count": 241,
   "metadata": {
    "ExecuteTime": {
     "end_time": "2016-12-13T16:20:43.862890",
     "start_time": "2016-12-13T16:20:43.722688"
    },
    "collapsed": false
   },
   "outputs": [
    {
     "name": "stdout",
     "output_type": "stream",
     "text": [
      "In [241] used 0.000 MiB RAM in 0.005s, peaked 0.000 MiB above current, total RAM usage 5234.566 MiB\n"
     ]
    }
   ],
   "source": [
    "chart_df = vote_pt_df[[\"ideology\", \"bias\"]].assign(bill=labels).dropna()"
   ]
  },
  {
   "cell_type": "code",
   "execution_count": 242,
   "metadata": {
    "ExecuteTime": {
     "end_time": "2016-12-13T16:20:44.306838",
     "start_time": "2016-12-13T16:20:44.154237"
    },
    "collapsed": false
   },
   "outputs": [
    {
     "data": {
      "text/html": [
       "<div class=\"vega-embed\" id=\"eab28b7e-b8ac-4741-a6ef-0a4d0b56d37e\"></div>\n",
       "\n",
       "<style>\n",
       ".vega-embed svg, .vega-embed canvas {\n",
       "  border: 1px dotted gray;\n",
       "}\n",
       "\n",
       ".vega-embed .vega-actions a {\n",
       "  margin-right: 6px;\n",
       "}\n",
       "</style>\n"
      ]
     },
     "metadata": {
      "jupyter-vega": "#eab28b7e-b8ac-4741-a6ef-0a4d0b56d37e"
     },
     "output_type": "display_data"
    },
    {
     "data": {
      "application/javascript": [
       "var spec = {\"data\": {\"values\": [{\"bill\": \"Keystone XL Pipeline Approval Act\", \"bias\": 0.7311442661149625, \"ideology\": -2.312107207195489}, {\"bill\": \"Violence Against Women Reauthorization Act of 2013\", \"bias\": 2.378274206134893, \"ideology\": 1.2541970690686741}, {\"bill\": \"Consolidated Appropriations Act, 2014\", \"bias\": 3.755380387743639, \"ideology\": 0.10038950878930726}, {\"bill\": \"Border Security, Economic Opportunity, and Immigration Modernization Act\", \"bias\": 0.9082840447357219, \"ideology\": 1.3732029216575148}]}, \"mark\": \"text\", \"encoding\": {\"text\": {\"field\": \"bill\", \"type\": \"nominal\"}, \"y\": {\"field\": \"bias\", \"type\": \"quantitative\"}, \"x\": {\"field\": \"ideology\", \"type\": \"quantitative\"}}, \"config\": {\"cell\": {\"width\": 500, \"height\": 350}}};\n",
       "var selector = \"#eab28b7e-b8ac-4741-a6ef-0a4d0b56d37e\";\n",
       "var type = \"vega-lite\";\n",
       "\n",
       "var output_area = this;\n",
       "require(['nbextensions/jupyter-vega/index'], function(vega) {\n",
       "  vega.render(selector, spec, type, output_area);\n",
       "}, function (err) {\n",
       "  if (err.requireType !== 'scripterror') {\n",
       "    throw(err);\n",
       "  }\n",
       "});\n"
      ]
     },
     "metadata": {
      "jupyter-vega": "#eab28b7e-b8ac-4741-a6ef-0a4d0b56d37e"
     },
     "output_type": "display_data"
    },
    {
     "name": "stdout",
     "output_type": "stream",
     "text": [
      "In [242] used 0.000 MiB RAM in 0.017s, peaked 0.000 MiB above current, total RAM usage 5234.566 MiB\n"
     ]
    },
    {
     "data": {
      "image/png": "[encoded data removed]"
     },
     "metadata": {
      "jupyter-vega": "#eab28b7e-b8ac-4741-a6ef-0a4d0b56d37e"
     },
     "output_type": "display_data"
    }
   ],
   "source": [
    "Chart(chart_df).mark_text().encode(\n",
    "    x='ideology:Q',\n",
    "    y='bias:Q',\n",
    "    text='bill',\n",
    ")"
   ]
  },
  {
   "cell_type": "code",
   "execution_count": 244,
   "metadata": {
    "ExecuteTime": {
     "end_time": "2016-12-13T16:22:51.743401",
     "start_time": "2016-12-13T16:22:51.568529"
    },
    "collapsed": false
   },
   "outputs": [
    {
     "data": {
      "text/html": [
       "<div class=\"vega-embed\" id=\"8e08a6ad-8867-425e-9b26-e15f8ffe1228\"></div>\n",
       "\n",
       "<style>\n",
       ".vega-embed svg, .vega-embed canvas {\n",
       "  border: 1px dotted gray;\n",
       "}\n",
       "\n",
       ".vega-embed .vega-actions a {\n",
       "  margin-right: 6px;\n",
       "}\n",
       "</style>\n"
      ]
     },
     "metadata": {
      "jupyter-vega": "#8e08a6ad-8867-425e-9b26-e15f8ffe1228"
     },
     "output_type": "display_data"
    },
    {
     "data": {
      "application/javascript": [
       "var spec = {\"data\": {\"values\": [{\"bias\": -0.07847888079596822, \"ideology\": 2.5922891433423514}, {\"bias\": -0.810837704843319, \"ideology\": -2.136622509642156}, {\"bias\": 4.355266565901357, \"ideology\": -0.023683839636406478}, {\"bias\": 4.126212860588515, \"ideology\": -0.018379493392577592}, {\"bias\": 1.1529419754389536, \"ideology\": -1.2091163051214755}, {\"bias\": 4.151662988512169, \"ideology\": -0.012672153984196596}, {\"bias\": 3.336501018700515, \"ideology\": 0.3242863998511475}, {\"bias\": 3.5993113778192, \"ideology\": 0.32301622493248966}, {\"bias\": 0.28973144592876676, \"ideology\": -1.8924175867612458}, {\"bias\": 1.9045011007274286, \"ideology\": -1.0124160733061602}, {\"bias\": 4.150521025334862, \"ideology\": -0.015533307175764418}, {\"bias\": 4.140664334190152, \"ideology\": -0.011525669183412928}, {\"bias\": 3.9355961575704117, \"ideology\": 0.09369111420708459}, {\"bias\": 4.292931416042707, \"ideology\": -0.01842705106946459}, {\"bias\": 4.244208274431427, \"ideology\": -0.021777416291275453}, {\"bias\": 3.8635181428216643, \"ideology\": 0.15213980801543744}, {\"bias\": 0.09965905808856179, \"ideology\": 2.740704500064332}, {\"bias\": 1.0420989322345737, \"ideology\": -0.4782091858260162}, {\"bias\": 4.106431380707464, \"ideology\": -0.018762348367857277}, {\"bias\": 4.1445403601465625, \"ideology\": -0.01838657674626427}, {\"bias\": 2.6628527741528902, \"ideology\": -0.5838082396307375}, {\"bias\": 0.07738891325676177, \"ideology\": -2.7405635494139498}, {\"bias\": -0.08381743516376028, \"ideology\": -2.6020955007584123}, {\"bias\": 4.161047736751904, \"ideology\": -0.016437136637502545}, {\"bias\": 1.0752201727104138, \"ideology\": -1.8938311376788872}, {\"bias\": 2.3340097471330794, \"ideology\": -0.264596992394736}, {\"bias\": -1.277395625356923, \"ideology\": -0.006139753055891119}, {\"bias\": -0.1396890729844621, \"ideology\": 2.4571864702004413}, {\"bias\": 4.067408047873568, \"ideology\": -0.07297550008170976}, {\"bias\": 3.974820051962408, \"ideology\": 0.057084528926407196}, {\"bias\": 4.001612872482853, \"ideology\": 0.029084936920010785}, {\"bias\": 4.064068959656753, \"ideology\": 0.037261916781927355}, {\"bias\": 0.08967215397958035, \"ideology\": -2.7791879645908155}, {\"bias\": -0.00828055677635578, \"ideology\": -2.8197201887338577}, {\"bias\": 2.6275734316721047, \"ideology\": -0.42443316111398965}, {\"bias\": 0.10750709521094069, \"ideology\": 2.774597876781878}, {\"bias\": -0.40754677353975555, \"ideology\": -2.1271308879187933}, {\"bias\": -0.0373666386166402, \"ideology\": -2.7825715232643793}, {\"bias\": 0.05892827781875345, \"ideology\": -2.9637523631001663}, {\"bias\": -1.7626569912705254, \"ideology\": -1.1686463820617052}, {\"bias\": 2.956694216037267, \"ideology\": -1.0573058433547147}, {\"bias\": 0.1855297131670558, \"ideology\": 2.719538537349856}, {\"bias\": -0.7175886509907933, \"ideology\": -2.3246615878926113}, {\"bias\": 3.970981380431717, \"ideology\": 0.026583197069417388}, {\"bias\": 4.166467536861511, \"ideology\": -0.015870548488915042}, {\"bias\": 4.153613583812085, \"ideology\": -0.023041832634431998}, {\"bias\": 4.1204493895797105, \"ideology\": 0.007854942930343523}, {\"bias\": 3.82636616802998, \"ideology\": -0.28365586790219827}, {\"bias\": 4.013794189076904, \"ideology\": 0.09139800274373854}, {\"bias\": 2.8441497049653393, \"ideology\": 1.0475631487375376}, {\"bias\": 0.09381559390153932, \"ideology\": -2.7344950894588758}, {\"bias\": 0.18173743611867002, \"ideology\": -2.7354241830427117}, {\"bias\": -0.4115798208300375, \"ideology\": 2.5992597045054966}, {\"bias\": 0.1799100831185608, \"ideology\": -2.770073921474043}, {\"bias\": 0.08692741825148338, \"ideology\": -2.6927386869132337}, {\"bias\": 0.20662902667703223, \"ideology\": -2.677693631377277}, {\"bias\": 1.1670857677181135, \"ideology\": -2.129376505265418}, {\"bias\": -1.1828372874326987, \"ideology\": 2.0126882731795663}, {\"bias\": -0.004861641290716765, \"ideology\": 2.6841977932817005}, {\"bias\": -0.3668469779790164, \"ideology\": -1.6038802532176046}, {\"bias\": 1.314062585413557, \"ideology\": -2.0359950668086246}, {\"bias\": 3.8529799882622005, \"ideology\": 0.060653064689902}, {\"bias\": 3.8593273141230595, \"ideology\": 0.06884569011362392}, {\"bias\": 4.17369366710424, \"ideology\": -0.012735970737294816}, {\"bias\": 4.150491982673934, \"ideology\": -0.010507983161982494}, {\"bias\": 4.162702341718444, \"ideology\": -0.010521234021968333}, {\"bias\": 0.22372890564540013, \"ideology\": -2.973270248180924}, {\"bias\": 0.7311442661149625, \"ideology\": -2.312107207195489}, {\"bias\": 1.523324209547493, \"ideology\": -1.7758303275372154}, {\"bias\": -1.0653778560564875, \"ideology\": -1.5615573675755325}, {\"bias\": -2.0820561766521446, \"ideology\": 1.428427304197798}, {\"bias\": -1.0944014978810421, \"ideology\": 1.687174983059804}, {\"bias\": -1.197420769338866, \"ideology\": 1.8830384659980475}, {\"bias\": -1.2885149480021727, \"ideology\": 2.0587400611526725}, {\"bias\": -0.9207759282650617, \"ideology\": 2.013149684102406}, {\"bias\": -1.1373937862261572, \"ideology\": 2.3099127597310503}, {\"bias\": -0.6677398321142143, \"ideology\": 2.048618558832632}, {\"bias\": -1.3775675744372955, \"ideology\": 1.2685132385564524}, {\"bias\": 0.024060047800612855, \"ideology\": 2.829575852362698}, {\"bias\": 1.277094470337311, \"ideology\": -1.8829445236950444}, {\"bias\": -1.2909873128941602, \"ideology\": -1.6568103151450864}, {\"bias\": -0.07148741800352873, \"ideology\": -3.006738859108572}, {\"bias\": -0.04064138075895958, \"ideology\": -2.803190556162978}, {\"bias\": -0.056364427767932115, \"ideology\": 2.7610095735397024}, {\"bias\": -0.24702990963985463, \"ideology\": -1.677608675794643}, {\"bias\": 4.215210876792562, \"ideology\": -0.030801422034402833}, {\"bias\": 3.6245528884820866, \"ideology\": -0.47062840716973503}, {\"bias\": -0.010673740383463507, \"ideology\": -2.818692308138655}, {\"bias\": -0.08927772431630515, \"ideology\": -2.791341167381408}, {\"bias\": -1.3288448050350083, \"ideology\": -0.7885811770655571}, {\"bias\": 0.3890261417878402, \"ideology\": -0.3675577437800404}, {\"bias\": -0.7293046909482052, \"ideology\": -1.7437773137819639}, {\"bias\": -1.509817275078467, \"ideology\": 1.726878125384683}, {\"bias\": -1.6176229344754454, \"ideology\": -1.5819470644118836}, {\"bias\": 0.22699312904062793, \"ideology\": 2.745075216421491}, {\"bias\": 3.8985876293149158, \"ideology\": -0.21321103556140816}, {\"bias\": -1.5519398115392833, \"ideology\": 1.6182281176762634}, {\"bias\": -1.0380881718621537, \"ideology\": 1.8087591568297012}, {\"bias\": -0.5594543293514082, \"ideology\": 0.23031574121640885}, {\"bias\": -0.46531141029495426, \"ideology\": 1.5724776423500286}, {\"bias\": -0.2301684736031544, \"ideology\": 1.6483540118164706}, {\"bias\": -1.8698540204829601, \"ideology\": 0.4756158094423309}, {\"bias\": -0.9034012189926102, \"ideology\": -1.4931552533820573}, {\"bias\": -1.5810822406558154, \"ideology\": 1.4606664385251802}, {\"bias\": -0.7266081161325363, \"ideology\": -0.697511158450842}, {\"bias\": -2.018724790069331, \"ideology\": -0.04689068100908677}, {\"bias\": 1.3073952616022257, \"ideology\": 0.715302114813269}, {\"bias\": 0.28504755118398645, \"ideology\": -1.2259515672997219}, {\"bias\": -0.7875716604769131, \"ideology\": 0.41664878843663256}, {\"bias\": -0.7581277337723386, \"ideology\": 0.41605817240061366}, {\"bias\": 1.986393432813246, \"ideology\": 1.001498787754119}, {\"bias\": -0.26287147969231534, \"ideology\": -2.1083146367223007}, {\"bias\": -0.8815415730448988, \"ideology\": -1.1581265801070688}, {\"bias\": -0.3574527454630493, \"ideology\": -1.8650263439246675}, {\"bias\": 0.11035240883920576, \"ideology\": 2.7360336890308816}, {\"bias\": 0.7164066159863849, \"ideology\": -1.2864835967708095}, {\"bias\": 4.13264674326024, \"ideology\": -0.029301139027385268}, {\"bias\": 4.113765727195116, \"ideology\": -0.026738447741560614}, {\"bias\": 0.826899212461306, \"ideology\": -2.2629247720864387}, {\"bias\": 3.664429595416908, \"ideology\": -0.428437775619683}, {\"bias\": 4.045443530685091, \"ideology\": -0.12674821553065793}, {\"bias\": -0.01101773323186954, \"ideology\": 2.324846401255383}, {\"bias\": 2.3065718205552095, \"ideology\": -1.1850403026360232}, {\"bias\": 4.136899475746393, \"ideology\": -0.020994920659397988}, {\"bias\": 1.5360573390786727, \"ideology\": 1.5221816628704616}, {\"bias\": 0.18622410412652177, \"ideology\": -2.6318387932055773}, {\"bias\": 0.6448247651799117, \"ideology\": -2.2614271869577007}, {\"bias\": -1.5794468433457827, \"ideology\": 0.6011468468579019}, {\"bias\": 0.24176386187251522, \"ideology\": -1.8659301287633718}, {\"bias\": -0.6238324598363604, \"ideology\": -1.029090182806677}, {\"bias\": -1.6343288105302514, \"ideology\": -1.240392988920383}, {\"bias\": 1.7774661706717894, \"ideology\": 0.7338511485443895}, {\"bias\": -0.7645873977277524, \"ideology\": -1.41397223039709}, {\"bias\": 0.1588685943261493, \"ideology\": 1.2494338490934975}, {\"bias\": 0.7613763927790589, \"ideology\": -2.0204194775008384}, {\"bias\": 1.8598024528934554, \"ideology\": 1.5002133314233619}, {\"bias\": -3.0930405655705977, \"ideology\": 0.9026205379376724}, {\"bias\": -1.042403739012272, \"ideology\": 0.5389214897875519}, {\"bias\": -2.4358548897229544, \"ideology\": 0.6924314123224402}, {\"bias\": 0.06295875621836641, \"ideology\": 2.0844588497537173}, {\"bias\": -0.8932055514039859, \"ideology\": 0.07171253801419303}, {\"bias\": -1.1966546447241384, \"ideology\": 0.35207856519323427}, {\"bias\": 0.44062349478520385, \"ideology\": -1.7588453342435721}, {\"bias\": -1.3042444417750243, \"ideology\": 1.8364806406103007}, {\"bias\": -2.016370533295893, \"ideology\": 1.447927656727772}, {\"bias\": -1.63241515858386, \"ideology\": 1.1227586803746195}, {\"bias\": 3.4068130622698725, \"ideology\": 0.6095569303409434}, {\"bias\": -0.1727971672624313, \"ideology\": 1.018353681779776}, {\"bias\": 3.9229298448893832, \"ideology\": 0.055085113879686204}, {\"bias\": 4.17949013409468, \"ideology\": -0.01932595109294125}, {\"bias\": 0.1700071941710157, \"ideology\": 2.6220089802140505}, {\"bias\": 1.5394403687983855, \"ideology\": -0.5896128740325199}, {\"bias\": 4.59622956816672, \"ideology\": -0.011264498485820229}, {\"bias\": 4.012244885556207, \"ideology\": 0.015649232890980698}, {\"bias\": 4.044020112226054, \"ideology\": 0.016982695336265168}, {\"bias\": 0.1136664222575329, \"ideology\": -3.1129728060554838}, {\"bias\": 0.2354548096022471, \"ideology\": -2.3345659676856108}, {\"bias\": 4.187611152531269, \"ideology\": -0.017496380930199028}, {\"bias\": -0.0012921565605724507, \"ideology\": -2.0015006284470593}, {\"bias\": 3.282604143744524, \"ideology\": 0.5455296613743962}, {\"bias\": 0.39036440059760363, \"ideology\": -2.46747661271157}, {\"bias\": 0.7560708330105508, \"ideology\": -1.674701609865917}, {\"bias\": -0.25042598248831816, \"ideology\": 1.9998582940384735}, {\"bias\": 0.5622024214417183, \"ideology\": -0.2917536538896829}, {\"bias\": -2.180765996947034, \"ideology\": -0.86959106467708}, {\"bias\": -0.5693669179304315, \"ideology\": 1.3143352498267047}, {\"bias\": 0.30539149787606684, \"ideology\": -2.5796644824174964}, {\"bias\": -1.4783096330219103, \"ideology\": 1.2998290966236525}, {\"bias\": 2.114159447853109, \"ideology\": 1.1896885949594274}, {\"bias\": -0.07209699769088748, \"ideology\": 0.0447843773561093}, {\"bias\": -1.8320265568761689, \"ideology\": -0.5752152227593533}, {\"bias\": -2.361531418377465, \"ideology\": -0.8855956926312284}, {\"bias\": -1.7641847397426726, \"ideology\": 0.8932896985620767}, {\"bias\": -2.2132723433142365, \"ideology\": -0.5982817964254973}, {\"bias\": -1.6519948991214048, \"ideology\": -1.5917689732706783}, {\"bias\": 0.6361514415831486, \"ideology\": 1.3596373448040917}, {\"bias\": 0.322025195201569, \"ideology\": 0.5712788142791996}, {\"bias\": 0.4250423151284853, \"ideology\": -2.3369008111143397}, {\"bias\": 0.18209315074600213, \"ideology\": 0.917765675006375}, {\"bias\": -1.0017200966331217, \"ideology\": -1.1153048567230985}, {\"bias\": -2.216555714357249, \"ideology\": -1.3279597952147035}, {\"bias\": 1.5495520725577618, \"ideology\": -0.2571762715931511}, {\"bias\": -0.6916482070163869, \"ideology\": -0.9127251694462004}, {\"bias\": 0.15776321570128848, \"ideology\": 0.8255079974245007}, {\"bias\": 0.00679183027638935, \"ideology\": 0.3368061240036856}, {\"bias\": -0.3694898749610365, \"ideology\": 0.2209351816944866}, {\"bias\": 0.8350815373890554, \"ideology\": -0.29723369874569583}, {\"bias\": 0.1857449014724427, \"ideology\": -0.3441520805493478}, {\"bias\": -0.07811187021225713, \"ideology\": -0.5160607462360465}, {\"bias\": -0.10248907651219888, \"ideology\": -0.1895434860501195}, {\"bias\": 0.22760544043239989, \"ideology\": 0.24712323213359783}, {\"bias\": -2.0483538843231064, \"ideology\": -1.484735181664871}, {\"bias\": -0.4038661354942844, \"ideology\": -2.303114418492378}, {\"bias\": -0.02416302063204683, \"ideology\": 2.6295577110865467}, {\"bias\": -0.46043205024104905, \"ideology\": -0.626174461136206}, {\"bias\": 4.012072088200812, \"ideology\": 0.03717752821885471}, {\"bias\": 3.8740961998228705, \"ideology\": 0.11329215115695782}, {\"bias\": 0.008177010703967853, \"ideology\": -2.8222390176990197}, {\"bias\": -1.1996727472168947, \"ideology\": 0.8678266879228823}, {\"bias\": 0.5334554574681896, \"ideology\": -2.1421408597317733}, {\"bias\": 0.7541053354223919, \"ideology\": 1.462891921140085}, {\"bias\": -0.34076410421281733, \"ideology\": 2.471836936658072}, {\"bias\": 1.6328751145441631, \"ideology\": -1.7496780792869164}, {\"bias\": 4.161469749712792, \"ideology\": -0.012483751935501537}, {\"bias\": -0.5055076208460735, \"ideology\": 2.2249834654265372}, {\"bias\": 0.6418479867216202, \"ideology\": -2.169024790639379}, {\"bias\": 0.5095680628788876, \"ideology\": -1.1364501181904945}, {\"bias\": 0.4795371156012908, \"ideology\": -1.7063127791744719}, {\"bias\": -0.9168241974426912, \"ideology\": 1.879181024276788}, {\"bias\": -0.011140164427570293, \"ideology\": -2.758449815263145}, {\"bias\": 0.8880110789228471, \"ideology\": -0.49498866922820534}, {\"bias\": -0.5405235874219371, \"ideology\": -1.9731682435919415}, {\"bias\": 0.9039964646671211, \"ideology\": 1.705361597447391}, {\"bias\": -1.233457748411928, \"ideology\": 1.926689301043305}, {\"bias\": -0.10901269753110213, \"ideology\": 2.8964676632589046}, {\"bias\": 0.6577165313344343, \"ideology\": -1.6651716636269651}, {\"bias\": 3.3832806465986263, \"ideology\": -0.6501872634751524}, {\"bias\": 3.0567386493641973, \"ideology\": -0.9825728067973933}, {\"bias\": 3.9773033751738156, \"ideology\": 0.006461492108364662}, {\"bias\": 0.042851127645998056, \"ideology\": -2.7746996850176258}, {\"bias\": 0.6847699453550852, \"ideology\": -2.035829174367542}, {\"bias\": 3.2314251911964584, \"ideology\": 0.5492287168448494}, {\"bias\": -0.9276441845795423, \"ideology\": 2.1298145987070938}, {\"bias\": -0.2782871109925529, \"ideology\": 1.8628032312588771}, {\"bias\": -1.6465354504343415, \"ideology\": 1.243286177272775}, {\"bias\": -0.6906412187929198, \"ideology\": 0.16506978171707556}, {\"bias\": -2.329927263646823, \"ideology\": -1.4438764360055711}, {\"bias\": -1.3568371951911393, \"ideology\": 1.530383582431263}, {\"bias\": -2.3255649012206683, \"ideology\": -1.483823227750176}, {\"bias\": 0.5538575060958074, \"ideology\": 1.6652674458206569}, {\"bias\": -2.6270937891778843, \"ideology\": -1.1657648314953146}, {\"bias\": 2.9027866110984855, \"ideology\": 0.6962130484012216}, {\"bias\": -0.03814910807510285, \"ideology\": 1.551336370704406}, {\"bias\": -0.8679013391902516, \"ideology\": 1.5005918169278918}, {\"bias\": -1.1486005861874122, \"ideology\": 1.5925134300704191}, {\"bias\": -1.3468179118143166, \"ideology\": 1.3435464751384445}, {\"bias\": -1.2626784063782555, \"ideology\": 1.3290254617257224}, {\"bias\": -2.14111198430408, \"ideology\": 0.6439470510468097}, {\"bias\": -1.6921219453568503, \"ideology\": 1.2464274152669788}, {\"bias\": -1.8384983191009694, \"ideology\": 1.1964844556267509}, {\"bias\": -1.7706210863737166, \"ideology\": 1.3671827452677288}, {\"bias\": -1.9240797449480604, \"ideology\": 1.4475541401374845}, {\"bias\": 0.3722372866320191, \"ideology\": -2.5567075836604154}, {\"bias\": -1.8100026951859185, \"ideology\": -1.288158305182326}, {\"bias\": -0.9665001514054784, \"ideology\": 1.959720412524295}, {\"bias\": -0.13434916037408287, \"ideology\": 0.757620294840549}, {\"bias\": -2.237001975503493, \"ideology\": -0.6800953847460801}, {\"bias\": -0.48514721830629864, \"ideology\": 0.9436991712730733}, {\"bias\": -1.0545128895574898, \"ideology\": 0.2331750709912333}, {\"bias\": -0.8413591247588137, \"ideology\": 0.2332120019642956}, {\"bias\": -2.309600514629489, \"ideology\": 0.7759214345098641}, {\"bias\": 0.5426781746784732, \"ideology\": 1.0582419874373503}, {\"bias\": -2.58514123055646, \"ideology\": -0.9329941274703369}, {\"bias\": 0.27461819429489553, \"ideology\": -2.426106915060353}, {\"bias\": 0.23153948653493187, \"ideology\": -1.9237960978180537}, {\"bias\": -1.0902009782484912, \"ideology\": 1.23387491122968}, {\"bias\": -0.45417586549280475, \"ideology\": 0.5161209331381661}, {\"bias\": -1.9043829050253436, \"ideology\": -1.0831331848329182}, {\"bias\": -0.25169970991808116, \"ideology\": 2.5698962050926113}, {\"bias\": -0.04527441529350038, \"ideology\": -1.6409186395782656}, {\"bias\": -0.12180002121113197, \"ideology\": -2.736517813429103}, {\"bias\": -0.12936738859106597, \"ideology\": -2.764364284326197}, {\"bias\": -0.07418914005001713, \"ideology\": 2.309769431559134}, {\"bias\": 0.08957417038805725, \"ideology\": -2.3409306913012053}, {\"bias\": 0.1984123015294797, \"ideology\": -2.5417372180361206}, {\"bias\": 0.11932461690224896, \"ideology\": 2.7218124547730005}, {\"bias\": -0.7583232015342585, \"ideology\": -1.7588480549486925}, {\"bias\": 4.001543104162758, \"ideology\": -0.10726202085265753}, {\"bias\": 4.13973503394749, \"ideology\": -0.020097662863731942}, {\"bias\": 4.108147903052393, \"ideology\": -0.0204780680810461}, {\"bias\": 0.1142601684561198, \"ideology\": -2.813258962253273}, {\"bias\": 0.42297597434482864, \"ideology\": -2.5977316552309526}, {\"bias\": -1.587447581052114, \"ideology\": 0.1820017411163457}, {\"bias\": -0.285075130742958, \"ideology\": 2.718343792211683}, {\"bias\": 1.8245517414786863, \"ideology\": -1.6331010345099888}, {\"bias\": -0.08602751412041611, \"ideology\": 2.788131843786773}, {\"bias\": 1.4085364810766234, \"ideology\": -1.8634316032788716}, {\"bias\": 0.1964420159251592, \"ideology\": -2.5070785876489876}, {\"bias\": 0.17467903515374725, \"ideology\": -2.420404371075162}, {\"bias\": 1.8595060157564407, \"ideology\": 1.1871963297913346}, {\"bias\": 0.7872754869281349, \"ideology\": -2.083710197067274}, {\"bias\": 0.5204540406561232, \"ideology\": -1.8455544151651424}, {\"bias\": -0.14992741335314866, \"ideology\": 2.9742382012629878}, {\"bias\": -0.35866388436585095, \"ideology\": -2.4825130690274047}, {\"bias\": -0.4896185191109783, \"ideology\": 1.917242130494227}, {\"bias\": -0.08754688098185819, \"ideology\": 2.400332273865273}, {\"bias\": 0.09164958090546113, \"ideology\": 2.7186682200746275}, {\"bias\": -0.9040158010491607, \"ideology\": -2.0634592435425594}, {\"bias\": 3.822336534249902, \"ideology\": -0.04295798598258336}, {\"bias\": 4.070394487504269, \"ideology\": -0.027987606162645742}, {\"bias\": 0.23865368228327305, \"ideology\": -2.7081606205079596}, {\"bias\": -0.021859009869469207, \"ideology\": -2.4715402388729006}, {\"bias\": -2.442582398405444, \"ideology\": 0.4471124966336885}, {\"bias\": 1.5070588040918182, \"ideology\": -1.6748030594508432}, {\"bias\": -0.8637213011582171, \"ideology\": 1.2842637304246078}, {\"bias\": -1.6658692850707018, \"ideology\": 1.116777505180192}, {\"bias\": -2.9553727816186526, \"ideology\": 0.7028985074718017}, {\"bias\": -2.1941855547472873, \"ideology\": -0.7309733286126475}, {\"bias\": -0.8972957513992299, \"ideology\": 1.1455157912936602}, {\"bias\": -1.1798265025182793, \"ideology\": 1.5611952963604925}, {\"bias\": -0.310795253355102, \"ideology\": -0.27829557302189983}, {\"bias\": 0.7226963762582145, \"ideology\": 0.06848161496159101}, {\"bias\": -0.2737249488381041, \"ideology\": 0.3604837382703307}, {\"bias\": 0.43272793230492207, \"ideology\": 0.2556554280854862}, {\"bias\": 2.2476826840948525, \"ideology\": -0.5939311284234086}, {\"bias\": 1.7479670214509528, \"ideology\": 0.33708095017000955}, {\"bias\": -0.7037568924285611, \"ideology\": 0.3675196052625668}, {\"bias\": 1.4077215813257846, \"ideology\": -1.6375676188838961}, {\"bias\": 1.3120813128515774, \"ideology\": -0.18896040709367243}, {\"bias\": 0.6670021283904848, \"ideology\": -2.262725652444436}, {\"bias\": 1.8512839411934587, \"ideology\": 0.5399482963991264}, {\"bias\": -2.350874918211899, \"ideology\": 1.0089108089849332}, {\"bias\": -2.069996724743182, \"ideology\": 1.311490421627119}, {\"bias\": -0.3318781750595941, \"ideology\": -0.2974191666138471}, {\"bias\": 0.028285916347005502, \"ideology\": -2.823562025367439}, {\"bias\": -0.05984630087221047, \"ideology\": -2.8224011349322606}, {\"bias\": 4.206801227472847, \"ideology\": -0.01823543717677242}, {\"bias\": 0.6071368251856475, \"ideology\": -2.3818336872568224}, {\"bias\": -0.3285118091742063, \"ideology\": 0.1750393289138388}, {\"bias\": 0.5506134499448504, \"ideology\": -1.6830319456352811}, {\"bias\": 0.30350570371961944, \"ideology\": 0.7944527163709093}, {\"bias\": -1.3124811468805933, \"ideology\": -0.6343720147995566}, {\"bias\": 0.7909698186544336, \"ideology\": -1.8103484384794246}, {\"bias\": 0.6279528609453292, \"ideology\": 0.23775092819839364}, {\"bias\": 1.843989838410447, \"ideology\": 0.9955327972299911}, {\"bias\": -0.9208498067194957, \"ideology\": 1.4923386317139185}, {\"bias\": -0.537579353884919, \"ideology\": 1.4879731018329898}, {\"bias\": 0.18759518951117285, \"ideology\": -2.7166530596164304}, {\"bias\": -0.3068656578058831, \"ideology\": 0.747844060219148}, {\"bias\": 3.96708839028138, \"ideology\": -0.5207319073085491}, {\"bias\": -0.04121181180804319, \"ideology\": 0.1428397739210091}, {\"bias\": -0.2571398497253343, \"ideology\": 2.1186471595368244}, {\"bias\": 2.149749687082675, \"ideology\": -0.9180507191106267}, {\"bias\": -0.536245799206751, \"ideology\": 2.210514496059797}, {\"bias\": -1.200500695291415, \"ideology\": 1.983886823030258}, {\"bias\": -0.02972408590353995, \"ideology\": 3.1628879615941554}, {\"bias\": 1.61973611141511, \"ideology\": -1.3393310535541385}, {\"bias\": 2.5843630620910583, \"ideology\": 0.9322406726190413}, {\"bias\": 0.0800658737015413, \"ideology\": -2.4550087875989495}, {\"bias\": 0.5380788575245494, \"ideology\": 0.49378518817851047}, {\"bias\": -0.23301160943953755, \"ideology\": -0.29935714374193384}, {\"bias\": -0.9610733656721063, \"ideology\": -0.7469811293929658}, {\"bias\": -1.0145131062145396, \"ideology\": 0.8949048918358599}, {\"bias\": -1.7035676980253371, \"ideology\": 0.7264120775656223}, {\"bias\": -1.669950643676927, \"ideology\": 0.7839514053261799}, {\"bias\": 2.8634719116027445, \"ideology\": -0.3963630491962039}, {\"bias\": 3.292699035983295, \"ideology\": -0.4224604876225382}, {\"bias\": -0.6056047185396392, \"ideology\": 2.352229141551097}, {\"bias\": -0.37994495781044224, \"ideology\": 2.597187908569815}, {\"bias\": -0.38270710186401896, \"ideology\": -2.5950279012122865}, {\"bias\": 0.7608479784221568, \"ideology\": -1.556999474600061}, {\"bias\": -0.025867826293133105, \"ideology\": 2.787822411593426}, {\"bias\": 0.7900454836609256, \"ideology\": -2.4263643655553975}, {\"bias\": -0.10995864248684341, \"ideology\": -2.5895757258834893}, {\"bias\": -0.00641803321672575, \"ideology\": -2.4028534456914823}, {\"bias\": 3.8777246568608574, \"ideology\": -0.03625225224118061}, {\"bias\": 0.9787171867230403, \"ideology\": -2.003485970169354}, {\"bias\": 0.993268342755302, \"ideology\": -2.263562463052754}, {\"bias\": 0.32613679539703905, \"ideology\": -2.367973517476878}, {\"bias\": 1.9790464083448196, \"ideology\": -1.6709846225075473}, {\"bias\": 1.2171428961130857, \"ideology\": -1.1219440361705837}, {\"bias\": -0.25031819043612275, \"ideology\": 1.9374864130502265}, {\"bias\": -0.6360485956545417, \"ideology\": 1.9475665236700042}, {\"bias\": -0.38921053967490965, \"ideology\": 2.6177777250699594}, {\"bias\": -0.017397332198941896, \"ideology\": 2.679871056238505}, {\"bias\": -0.20421702363529584, \"ideology\": 2.6917980303091773}, {\"bias\": 0.6615565961389538, \"ideology\": -2.612048747645771}, {\"bias\": -0.18578827999375638, \"ideology\": 2.64770189655161}, {\"bias\": 0.38888209636889537, \"ideology\": -2.75914763307847}, {\"bias\": 3.126292250866496, \"ideology\": 0.5551990183492425}, {\"bias\": 4.09821240767957, \"ideology\": -0.023242114330890642}, {\"bias\": 3.9772481719235087, \"ideology\": 0.02439273203244816}, {\"bias\": 3.717821647035058, \"ideology\": 0.1430560471096913}, {\"bias\": 4.0031660473844575, \"ideology\": 0.40154707541103135}, {\"bias\": 4.072506677184706, \"ideology\": 0.0034052170125279907}, {\"bias\": 4.070659599952081, \"ideology\": 0.005899551078300935}, {\"bias\": 4.109600943338399, \"ideology\": -0.024544547002679568}, {\"bias\": 3.8294081810788376, \"ideology\": 0.15503623769167138}, {\"bias\": -0.020366948238086907, \"ideology\": -2.8250128121153506}, {\"bias\": 0.22187125742944733, \"ideology\": -3.0064127867851917}, {\"bias\": 0.47053139213113226, \"ideology\": -2.618796421637293}, {\"bias\": 3.9599715235677473, \"ideology\": 0.02749324200384273}, {\"bias\": 4.1166587028639885, \"ideology\": -0.027208161264318676}, {\"bias\": 3.272409357355694, \"ideology\": 0.48640226212357296}, {\"bias\": -0.03198226916489883, \"ideology\": -2.734835512612694}, {\"bias\": 0.2717330916170461, \"ideology\": -2.5640791161955487}, {\"bias\": 3.2469009123691346, \"ideology\": 0.3994252053625627}, {\"bias\": -0.8095934968317485, \"ideology\": 2.1939173174978994}, {\"bias\": -0.5711749740843153, \"ideology\": 2.09180879344585}, {\"bias\": -0.9157834682587663, \"ideology\": 2.3844411319625523}, {\"bias\": -0.39542525777961524, \"ideology\": 2.564383938608703}, {\"bias\": 4.085732481495657, \"ideology\": -0.020563772188712227}, {\"bias\": 0.11940736542062018, \"ideology\": 2.805404270784335}, {\"bias\": 1.1634998081916101, \"ideology\": -1.9805448901379448}, {\"bias\": 0.21892247995105746, \"ideology\": -2.815080973757784}, {\"bias\": 0.051820908827834335, \"ideology\": -2.7616931685270933}, {\"bias\": 0.10004569036321678, \"ideology\": -2.5092460162615238}, {\"bias\": 0.09293073641901227, \"ideology\": 2.782836138757208}, {\"bias\": -1.0945621547702937, \"ideology\": -2.047734435421925}, {\"bias\": 0.09348329390291238, \"ideology\": 2.760717629272706}, {\"bias\": 0.09755315630307594, \"ideology\": -2.5987723687651396}, {\"bias\": -0.5487718322853393, \"ideology\": -2.0362212021573263}, {\"bias\": 1.116081032821736, \"ideology\": -1.8409216669907407}, {\"bias\": 1.498799406890802, \"ideology\": -1.9135078879116585}, {\"bias\": 0.021623375088639835, \"ideology\": 2.8062755379969397}, {\"bias\": 1.1973895468471123, \"ideology\": -1.991143766043147}, {\"bias\": 1.838298163036544, \"ideology\": -0.7179098498590591}, {\"bias\": 4.093047990407924, \"ideology\": -0.019577031229743313}, {\"bias\": 4.094461084565247, \"ideology\": -0.02339896414884305}, {\"bias\": 4.221027510570072, \"ideology\": -0.02173101101587771}, {\"bias\": -0.5528684377995833, \"ideology\": 1.9948100312246353}, {\"bias\": 3.972028328594041, \"ideology\": 0.09659907322354201}, {\"bias\": 0.4058359888868377, \"ideology\": 2.2505868489614453}, {\"bias\": 4.092461288345385, \"ideology\": -0.027231368049643746}, {\"bias\": 3.9872303599082226, \"ideology\": 0.034366580703352294}, {\"bias\": -0.030464359340083354, \"ideology\": -2.3424685303958532}, {\"bias\": -0.0012057091460259488, \"ideology\": -2.8041209010066184}, {\"bias\": 0.2070044934503461, \"ideology\": -2.7570366936933155}, {\"bias\": 3.8472664745942633, \"ideology\": 0.005746507325580009}, {\"bias\": 1.2816686821066925, \"ideology\": -1.997194369330651}, {\"bias\": 0.016628985600801817, \"ideology\": -2.7002127098297772}, {\"bias\": 4.2851779282693805, \"ideology\": -0.02226869961527836}, {\"bias\": 0.08162408305573202, \"ideology\": 2.762477350644365}, {\"bias\": 2.8155561759989456, \"ideology\": 0.44334611951441893}, {\"bias\": -0.1005297523768277, \"ideology\": -2.6392917499748396}, {\"bias\": -0.4768452809581636, \"ideology\": -2.1174666012126893}, {\"bias\": 3.0205037976690714, \"ideology\": 0.5422708676228059}, {\"bias\": -0.10138480712575501, \"ideology\": -1.4758845717623357}, {\"bias\": -0.13387741724542238, \"ideology\": -1.8897575509035132}, {\"bias\": 1.8323031435714439, \"ideology\": -1.6561047752472704}, {\"bias\": 1.4386190572482793, \"ideology\": -1.289844590862266}, {\"bias\": 1.2756310395697636, \"ideology\": -1.6738351177800284}, {\"bias\": -0.020597796657412376, \"ideology\": -2.776331465373233}, {\"bias\": 0.3094683801141131, \"ideology\": -2.806795289319061}, {\"bias\": -0.06505859803321185, \"ideology\": -2.749145927308858}, {\"bias\": 0.012674945720079057, \"ideology\": -2.792404662953778}, {\"bias\": 1.286395724722975, \"ideology\": -1.6418550645285552}, {\"bias\": 1.3818389742070278, \"ideology\": -1.6218069078595254}, {\"bias\": -0.039651220256154425, \"ideology\": -2.746541266462237}, {\"bias\": 1.9329933629416172, \"ideology\": -1.6460150654693022}, {\"bias\": 0.08597350414631115, \"ideology\": -3.04156896334735}, {\"bias\": 1.8895391975761102, \"ideology\": -1.662191244127858}, {\"bias\": -0.040699798626204334, \"ideology\": -2.9821468163218534}, {\"bias\": 3.6149573006898406, \"ideology\": 0.22897186403519992}, {\"bias\": -0.0785095545396623, \"ideology\": -2.6803873331438273}, {\"bias\": -0.0125136335657299, \"ideology\": -2.773730731734605}, {\"bias\": 1.5534584063494488, \"ideology\": -1.8222643690781584}, {\"bias\": -0.014241827182463859, \"ideology\": -2.789148304027863}, {\"bias\": 1.4236738451885709, \"ideology\": -1.7873033357774744}, {\"bias\": 4.111103392371984, \"ideology\": -0.0165230887939435}, {\"bias\": 4.1645348849811334, \"ideology\": -0.04747387983110091}, {\"bias\": 0.03809936279651913, \"ideology\": -2.7847898908670836}, {\"bias\": 1.2255280703956233, \"ideology\": -1.7043570891975968}, {\"bias\": -0.016079151861364663, \"ideology\": -2.8422255748377387}, {\"bias\": 1.331445950760405, \"ideology\": -1.7020829278506389}, {\"bias\": 0.018353733621430335, \"ideology\": -2.742426033039271}, {\"bias\": 0.11296566222600382, \"ideology\": -2.889912878213682}, {\"bias\": -0.007119460343172508, \"ideology\": -2.7797160248063646}, {\"bias\": -0.2519207143298612, \"ideology\": -2.1731806344985984}, {\"bias\": 4.118499119137063, \"ideology\": -0.015604172112472567}, {\"bias\": 0.002325939923234902, \"ideology\": -2.813190324456613}, {\"bias\": 1.5155935531035931, \"ideology\": -1.814114995920249}, {\"bias\": 4.18994070664976, \"ideology\": -0.015514293538234}, {\"bias\": -0.048371243806731516, \"ideology\": -2.757469222870634}, {\"bias\": -1.6611493533079416, \"ideology\": -1.1685155494707193}, {\"bias\": 1.4566743621153557, \"ideology\": -1.8758178843561701}, {\"bias\": 0.011654923804259214, \"ideology\": -2.8179776356468977}, {\"bias\": 1.37225443235602, \"ideology\": -1.8371387166971356}, {\"bias\": -0.07818785866499227, \"ideology\": -2.8410808730476313}, {\"bias\": 0.32760935396723495, \"ideology\": -2.320248710938698}, {\"bias\": -0.12887150506327796, \"ideology\": -0.21792239497003826}, {\"bias\": 0.7413944701720848, \"ideology\": 2.087047360464703}, {\"bias\": -0.032580836407802675, \"ideology\": -2.7988086356303197}, {\"bias\": 1.320738614739935, \"ideology\": -1.729052073368909}, {\"bias\": -0.789875549362524, \"ideology\": 1.3486596482017537}, {\"bias\": 2.378274206134893, \"ideology\": 1.2541970690686741}, {\"bias\": 2.4280033634283815, \"ideology\": 1.310489083995457}, {\"bias\": 4.027460162710642, \"ideology\": 0.01880228748860935}, {\"bias\": 4.058711489450221, \"ideology\": -0.011145819387182784}, {\"bias\": 0.08126209504172906, \"ideology\": -2.591374736323945}, {\"bias\": 1.7301486230665712, \"ideology\": -1.2103772127576855}, {\"bias\": -0.7410718623439972, \"ideology\": 1.9756416631704035}, {\"bias\": 0.09519203671966148, \"ideology\": -1.9421109388314945}, {\"bias\": -1.5482814784519718, \"ideology\": 0.8753701543490295}, {\"bias\": 0.2620730386913085, \"ideology\": 0.03198546035410369}, {\"bias\": 3.0685062689657996, \"ideology\": 0.47440069745713304}, {\"bias\": 3.9279735917044976, \"ideology\": 0.026785255779954994}, {\"bias\": 4.191460011585788, \"ideology\": 0.014510450967187966}, {\"bias\": 4.047168825178429, \"ideology\": 0.0630855055377312}, {\"bias\": 0.023965944787788622, \"ideology\": -2.8290768761614355}, {\"bias\": 0.5357184217173566, \"ideology\": -2.4946305808533213}, {\"bias\": -1.4556759935665653, \"ideology\": 1.8973252651028611}, {\"bias\": 0.2001098610594517, \"ideology\": 2.621215879604609}, {\"bias\": 1.5838563864256219, \"ideology\": -1.5817512068945976}, {\"bias\": 0.08651008816706166, \"ideology\": 2.7660877522693927}, {\"bias\": 2.0074033591368234, \"ideology\": -1.0392627194065605}, {\"bias\": 3.593368353210864, \"ideology\": -0.7042746961526593}, {\"bias\": -0.09398079343186451, \"ideology\": -2.28739168020473}, {\"bias\": 4.150317160748037, \"ideology\": -0.010890724402996545}, {\"bias\": 3.8811771360026692, \"ideology\": -0.06616065432650585}, {\"bias\": -0.06057370861251347, \"ideology\": -2.7518615010573857}, {\"bias\": -0.029370768209271106, \"ideology\": -2.8325805222858995}, {\"bias\": 0.08915007989732414, \"ideology\": 2.673185491271255}, {\"bias\": -0.12893509513129714, \"ideology\": 2.708411930764427}, {\"bias\": -0.17529927073509755, \"ideology\": 2.7253868986752865}, {\"bias\": -0.027593968428651458, \"ideology\": 2.7696374417586016}, {\"bias\": -0.15955162881891863, \"ideology\": -1.9091767196960072}, {\"bias\": 3.8337251882308916, \"ideology\": 0.1668166630574614}, {\"bias\": 0.14494776247526145, \"ideology\": 2.6768365497735056}, {\"bias\": 0.07851130365428041, \"ideology\": -2.4505647595088393}, {\"bias\": 2.8411884897957402, \"ideology\": 0.900085689005143}, {\"bias\": 0.14897299450251578, \"ideology\": -2.7337802437077583}, {\"bias\": 0.5068294193423591, \"ideology\": -2.4802219249914734}, {\"bias\": 0.23431747166952538, \"ideology\": -2.6857984530511323}, {\"bias\": -0.3637522220089425, \"ideology\": 2.4237709182539753}, {\"bias\": 1.6702277330855184, \"ideology\": -1.4292114871765693}, {\"bias\": 4.156023583098656, \"ideology\": -0.10169982825446547}, {\"bias\": 4.07936914268351, \"ideology\": -0.015791023734532846}, {\"bias\": 0.18031860234286196, \"ideology\": -2.6426224336304522}, {\"bias\": 0.010525411182671505, \"ideology\": -2.8855985952068615}, {\"bias\": -0.03367468466155521, \"ideology\": -2.794111459379894}, {\"bias\": -0.008451050558243188, \"ideology\": -2.8036365928098177}, {\"bias\": 0.2866214985322648, \"ideology\": -2.3412149582552235}, {\"bias\": 0.17957200171302293, \"ideology\": 2.309797925922395}, {\"bias\": -0.326524805242665, \"ideology\": 2.6084018995233222}, {\"bias\": 0.06920902862061976, \"ideology\": 2.303814432967034}, {\"bias\": 0.4525845946336609, \"ideology\": 1.9505865229028654}, {\"bias\": 0.0008263570052631892, \"ideology\": 2.1816510692976463}, {\"bias\": -0.5968676825377531, \"ideology\": 2.4012270906598236}, {\"bias\": -0.04995414219297632, \"ideology\": -2.761658037507752}, {\"bias\": -0.661166696664221, \"ideology\": -1.4896070392987433}, {\"bias\": 0.531194270135441, \"ideology\": -2.4933128609955464}, {\"bias\": -0.592422987499038, \"ideology\": 2.3872134870601034}, {\"bias\": -1.9198678265434241, \"ideology\": 1.1951112439278206}, {\"bias\": -0.6714386543591597, \"ideology\": 2.3452180667270563}, {\"bias\": 0.7489477450542201, \"ideology\": -2.0154045624168564}, {\"bias\": -0.8333427581966955, \"ideology\": 2.249181349358656}, {\"bias\": -0.6917559151692403, \"ideology\": 2.449460691989128}, {\"bias\": -0.899900691662818, \"ideology\": 2.0623548602853488}, {\"bias\": -1.3532781125380462, \"ideology\": 1.9583582609604908}, {\"bias\": -1.1828513643237357, \"ideology\": 2.2286459875856703}, {\"bias\": -0.4446796688875089, \"ideology\": 2.8233295231479842}, {\"bias\": -1.1218676238409993, \"ideology\": 2.419279557921583}, {\"bias\": 1.7525621155768594, \"ideology\": -1.8639955298771214}, {\"bias\": 3.755380387743639, \"ideology\": 0.10038950878930726}, {\"bias\": 4.10514824210364, \"ideology\": -0.020759299993359112}, {\"bias\": 4.182761141758585, \"ideology\": -0.01995348825310884}, {\"bias\": 4.126503218171263, \"ideology\": -0.013336118466753092}, {\"bias\": 3.9849907579902712, \"ideology\": 0.08235700102276808}, {\"bias\": -0.017064641285126837, \"ideology\": -2.973705229948695}, {\"bias\": 0.7226275114664532, \"ideology\": -2.1378284358960644}, {\"bias\": 1.083761035242543, \"ideology\": -0.876892756539717}, {\"bias\": -0.6018138835169965, \"ideology\": 2.2783661819495924}, {\"bias\": -0.6627215540144805, \"ideology\": 1.900416579584587}, {\"bias\": 1.796816195901831, \"ideology\": -1.550497934383428}, {\"bias\": 2.2464530630278166, \"ideology\": -0.6108689843383676}, {\"bias\": 0.09434959937282744, \"ideology\": 0.9432766977258121}, {\"bias\": -0.9438585597704876, \"ideology\": 0.17651137962285707}, {\"bias\": -1.0553079878798433, \"ideology\": 0.7125524535258188}, {\"bias\": 0.8404867919406299, \"ideology\": 0.5339857742008756}, {\"bias\": -1.2365512905178508, \"ideology\": 1.0528744222797743}, {\"bias\": 1.3996321081319252, \"ideology\": -0.27717869530933176}, {\"bias\": 3.4918472402431133, \"ideology\": 0.4418249239328187}, {\"bias\": 3.857278597750075, \"ideology\": 0.031780613238539805}, {\"bias\": 4.144031292261867, \"ideology\": -0.037554374394071575}, {\"bias\": 2.5153042455500443, \"ideology\": -1.211591680769544}, {\"bias\": 4.0677556978035, \"ideology\": -0.0416047540246907}, {\"bias\": 3.993536582566814, \"ideology\": -0.016366471613196532}, {\"bias\": 4.101738768274451, \"ideology\": -0.04199909624880788}, {\"bias\": 4.128805785512927, \"ideology\": -0.04019037033759761}, {\"bias\": -0.096211614130062, \"ideology\": -2.6030785180175218}, {\"bias\": -0.08393169405254128, \"ideology\": -2.7871648300229466}, {\"bias\": 0.22190747211805037, \"ideology\": -2.750302855538544}, {\"bias\": 1.2973751904214876, \"ideology\": 0.11008083133648999}, {\"bias\": 1.903327451262814, \"ideology\": -0.38350680975350265}, {\"bias\": 0.3794823916186181, \"ideology\": -2.52101800826777}, {\"bias\": 0.08063239764067283, \"ideology\": 2.75509782710078}, {\"bias\": 1.0591957985811733, \"ideology\": -1.7780629630072484}, {\"bias\": 3.2350182367746423, \"ideology\": 0.9901458022309712}, {\"bias\": 0.12696132219288472, \"ideology\": -2.8055839442022354}, {\"bias\": 0.11567067849790968, \"ideology\": -2.798716190918029}, {\"bias\": 0.08666000342808741, \"ideology\": 2.709844213209603}, {\"bias\": -0.5531923356821737, \"ideology\": 2.559436370691226}, {\"bias\": -0.7892187105816476, \"ideology\": -1.8634517366662153}, {\"bias\": 4.103824516482431, \"ideology\": -0.03800692593298545}, {\"bias\": 4.044653741513029, \"ideology\": -0.03609356268853276}, {\"bias\": -0.07245035968969364, \"ideology\": -2.860737348682266}, {\"bias\": 4.120824156953192, \"ideology\": -0.02441952595634449}, {\"bias\": -0.03537614149810024, \"ideology\": -2.740514786640493}, {\"bias\": 1.3645389160728756, \"ideology\": -0.88341545954811}, {\"bias\": -2.157380726368641, \"ideology\": 1.7936109132798554}, {\"bias\": -2.7486655630399492, \"ideology\": 1.2602127803064471}, {\"bias\": -2.9378607183996492, \"ideology\": 1.0971600116557207}, {\"bias\": -2.08844091584861, \"ideology\": -0.8682742145088362}, {\"bias\": -1.8731370482726013, \"ideology\": 1.8633723941835778}, {\"bias\": -0.7354170806340877, \"ideology\": -2.041162538979317}, {\"bias\": 1.298098879426341, \"ideology\": -0.40767922406718454}, {\"bias\": 3.8320410361459167, \"ideology\": -0.12875724160691265}, {\"bias\": 2.4367578126172993, \"ideology\": 1.1331562112342826}, {\"bias\": 0.5299217907346928, \"ideology\": -2.4258457821232264}, {\"bias\": -0.504015603407383, \"ideology\": 2.6289632332864445}, {\"bias\": 0.015364588777477256, \"ideology\": 2.504186197112938}, {\"bias\": 3.7648517212952473, \"ideology\": -0.28013472538835443}, {\"bias\": 0.022854146603977173, \"ideology\": -2.76315483260339}, {\"bias\": 0.0028678441266317303, \"ideology\": -2.882512216350865}, {\"bias\": 1.4625103252243141, \"ideology\": 0.7220792693981521}, {\"bias\": 0.22938583105045543, \"ideology\": 1.9746373079880801}, {\"bias\": 0.9078383819568987, \"ideology\": -1.4002133543210904}, {\"bias\": -1.034639015882284, \"ideology\": 1.2821870040301384}, {\"bias\": 0.9307439625483933, \"ideology\": -1.4882431091569996}, {\"bias\": -0.5932654588655204, \"ideology\": 1.4222211513988436}, {\"bias\": 1.3306883966028804, \"ideology\": -1.0078111557893645}, {\"bias\": 2.280246470321286, \"ideology\": 0.22283534793119789}, {\"bias\": 1.3231371891513077, \"ideology\": 0.6313418294508603}, {\"bias\": 1.0176453201943287, \"ideology\": 1.447490341692067}, {\"bias\": 1.1028491468234678, \"ideology\": 0.5020134236097606}, {\"bias\": 0.798478064036062, \"ideology\": 0.821002337941993}, {\"bias\": 1.0938330795388524, \"ideology\": 0.6105665236718524}, {\"bias\": 0.9699174089542432, \"ideology\": 0.6899001476853436}, {\"bias\": 0.5091751520550472, \"ideology\": -1.2091596423146604}, {\"bias\": 1.2848517929809142, \"ideology\": 1.6906877081922458}, {\"bias\": 2.5959477281701115, \"ideology\": -0.022910419453449807}, {\"bias\": 0.6036236824860374, \"ideology\": -1.566749656467479}, {\"bias\": 1.7974802255065676, \"ideology\": 0.5501963574030291}, {\"bias\": 0.3762215546392194, \"ideology\": 1.6323390954313834}, {\"bias\": -0.5905650321681636, \"ideology\": -1.5948966415601122}, {\"bias\": -0.48635125923373523, \"ideology\": -0.8552023897111148}, {\"bias\": 0.7581965040557622, \"ideology\": 1.3283081932988927}, {\"bias\": 1.567677753018975, \"ideology\": 0.5253479040490833}, {\"bias\": 2.1125112061540405, \"ideology\": 0.5912982173417608}, {\"bias\": -0.8732772106136016, \"ideology\": -1.7080026071713346}, {\"bias\": -0.1285794172440997, \"ideology\": -2.0213772347109202}, {\"bias\": -1.1339611781513144, \"ideology\": 0.6812709320665528}, {\"bias\": -0.6583215558959457, \"ideology\": -1.444621673893115}, {\"bias\": 2.6858457257135053, \"ideology\": 0.013241505786608841}, {\"bias\": -0.1255455275259532, \"ideology\": -0.20282718847395348}, {\"bias\": -1.4132953391728562, \"ideology\": 0.7627955672630106}, {\"bias\": -0.27330493934407263, \"ideology\": 0.4233981036333012}, {\"bias\": 2.7215635966218246, \"ideology\": 0.14615346298314172}, {\"bias\": 0.49791091196708864, \"ideology\": 0.24188170717457166}, {\"bias\": -0.4410978686319391, \"ideology\": -1.727802330017215}, {\"bias\": 1.4193930222157722, \"ideology\": 0.5776312639466147}, {\"bias\": 1.3405939022979472, \"ideology\": 0.9357025772350068}, {\"bias\": -0.36385014005051786, \"ideology\": -1.3055467458179066}, {\"bias\": -0.09102517384902194, \"ideology\": 1.761136391604734}, {\"bias\": 0.17274020617818617, \"ideology\": 1.7051897487204932}, {\"bias\": 1.0124349670227384, \"ideology\": 0.9343509522645228}, {\"bias\": 2.0015550550786605, \"ideology\": 0.9598056774233041}, {\"bias\": 1.855742226819882, \"ideology\": 0.8333977827558351}, {\"bias\": 0.14387130153569774, \"ideology\": 1.5653293952624705}, {\"bias\": 2.1834760810245744, \"ideology\": 0.39614324817557306}, {\"bias\": -0.31472596510264755, \"ideology\": -1.5916603519093337}, {\"bias\": -0.5080092880959055, \"ideology\": -1.5253950488726413}, {\"bias\": 2.5237144521951187, \"ideology\": 0.11881005425086678}, {\"bias\": 0.8119970282969489, \"ideology\": 1.850667971949026}, {\"bias\": 1.0533397644793676, \"ideology\": 0.7692474209063634}, {\"bias\": -0.8000352332906452, \"ideology\": -2.261742871508321}, {\"bias\": 2.2053820080481374, \"ideology\": 0.6103184404445974}, {\"bias\": 0.06802795635379244, \"ideology\": 1.5571594381307816}, {\"bias\": 2.5858554031315903, \"ideology\": 0.08976675914005885}, {\"bias\": 1.20054801846351, \"ideology\": 1.3332673495033913}, {\"bias\": 1.0638472375133712, \"ideology\": 1.4338792435123948}, {\"bias\": 1.1565750535930828, \"ideology\": 1.3947967943836472}, {\"bias\": 0.9525646935314427, \"ideology\": 1.3588895733165813}, {\"bias\": 1.0504359922325985, \"ideology\": 1.4842623934295058}, {\"bias\": 0.9872609828344217, \"ideology\": 1.3789603055742827}, {\"bias\": 0.9082840447357219, \"ideology\": 1.3732029216575148}, {\"bias\": 0.1434633000678696, \"ideology\": -1.8480330903107085}, {\"bias\": -0.40366446878903633, \"ideology\": 2.0062665853784214}, {\"bias\": 1.4483776432323132, \"ideology\": 1.3383005429733899}, {\"bias\": -0.24933260277029462, \"ideology\": -1.760893988409713}, {\"bias\": 1.5221605612942979, \"ideology\": 1.273875314175266}, {\"bias\": 3.026451089455061, \"ideology\": 0.048327100240783}, {\"bias\": -0.5853296167254917, \"ideology\": 1.5129993369425552}, {\"bias\": -1.2007161023470692, \"ideology\": 1.0595073426698622}, {\"bias\": 2.368530076150359, \"ideology\": -0.8560336951271428}, {\"bias\": 0.4498686872736653, \"ideology\": 2.085527767306154}, {\"bias\": 1.5828444638254695, \"ideology\": 1.0437445850004332}, {\"bias\": 1.8387173760253963, \"ideology\": 0.7102780957230612}, {\"bias\": 0.012955949112222262, \"ideology\": 1.9088216856408562}, {\"bias\": 2.04363600331537, \"ideology\": 0.5908684666391031}, {\"bias\": 2.8315455190312164, \"ideology\": 0.024502176228439535}, {\"bias\": 2.6176311437411988, \"ideology\": 0.15992090655995594}, {\"bias\": 1.8363894512051753, \"ideology\": 1.0750316474285364}, {\"bias\": 1.0530030601800597, \"ideology\": 1.327681171278214}, {\"bias\": -0.016033579551578917, \"ideology\": 1.8911758649824464}, {\"bias\": 0.23975196973584034, \"ideology\": 1.7918822426929721}, {\"bias\": 0.1052359060077011, \"ideology\": 2.0197238225519603}, {\"bias\": -0.05881733287808644, \"ideology\": 1.9967210331943173}, {\"bias\": 0.09364534652683054, \"ideology\": 1.856591289934798}, {\"bias\": -0.047165732937507684, \"ideology\": 1.7452144368663445}, {\"bias\": 1.6616041750775907, \"ideology\": 0.8327974681117157}, {\"bias\": 1.720679992477894, \"ideology\": 0.9966944650645227}, {\"bias\": 0.0067200684748281204, \"ideology\": -2.422402508245043}, {\"bias\": 0.6536930381994632, \"ideology\": 1.4438445207769002}, {\"bias\": -0.34630111826084115, \"ideology\": -1.6850037755206153}, {\"bias\": 0.7058688879463871, \"ideology\": 1.4599948599071524}, {\"bias\": 1.1848123269379651, \"ideology\": 1.5178888017161016}, {\"bias\": 2.487489758544278, \"ideology\": 0.21776500090793402}, {\"bias\": 2.4510372008472787, \"ideology\": 0.06062642509801333}, {\"bias\": 0.039304562157661656, \"ideology\": -1.6742014675006096}, {\"bias\": -0.3220165325628901, \"ideology\": 1.638720513917743}, {\"bias\": -0.13765588744415874, \"ideology\": 1.7109266503846372}, {\"bias\": -0.17005899343331468, \"ideology\": 1.6564519392047055}, {\"bias\": -0.5892808202056892, \"ideology\": -1.2388313537982691}, {\"bias\": -0.2961547144447652, \"ideology\": 1.872512942555328}, {\"bias\": 1.0453383764720872, \"ideology\": 1.4264298578160082}, {\"bias\": 0.04950627596429561, \"ideology\": -2.052703489329146}, {\"bias\": 0.7881020603089357, \"ideology\": 1.6817157707131263}, {\"bias\": 1.1319643256168617, \"ideology\": 1.0833575670538567}, {\"bias\": -0.0744494093411601, \"ideology\": -1.8673019882755344}, {\"bias\": 1.7573587949025409, \"ideology\": 0.5338495256193446}, {\"bias\": -0.13559952009716245, \"ideology\": -0.6663810765817498}, {\"bias\": -1.1444952242923419, \"ideology\": -1.6693218834574581}, {\"bias\": -0.1976989523164755, \"ideology\": -1.9327335437933661}, {\"bias\": -0.4045345727863419, \"ideology\": 1.625694730275444}, {\"bias\": 0.08181215118536414, \"ideology\": 2.081226304564492}, {\"bias\": -0.02227014486567403, \"ideology\": -2.098433513060163}, {\"bias\": 0.7477262391511592, \"ideology\": 1.500662644634443}, {\"bias\": 0.0821669930034917, \"ideology\": -1.5771939290915777}, {\"bias\": 0.93565193615842, \"ideology\": 1.5974459915436678}, {\"bias\": 0.2603457480881847, \"ideology\": -1.7116688721972801}, {\"bias\": -0.43477499690361393, \"ideology\": -1.4990498783581945}, {\"bias\": 1.3374067460763848, \"ideology\": 1.1936210421553104}, {\"bias\": 0.6551614776546791, \"ideology\": 1.3625456328373045}, {\"bias\": 1.254932522253521, \"ideology\": 0.9889669454147249}, {\"bias\": -0.30197069968630397, \"ideology\": -2.4851464386388655}, {\"bias\": -0.5073332738282881, \"ideology\": -1.7801427649892259}, {\"bias\": 2.8198078501887256, \"ideology\": -1.1704571509478845}, {\"bias\": 2.5223731616911254, \"ideology\": 0.2652295221505818}, {\"bias\": -0.16094710733738463, \"ideology\": -1.8733668278644073}, {\"bias\": -0.22985004031495557, \"ideology\": -2.2840975308090643}, {\"bias\": -0.13844785878515933, \"ideology\": -1.85420780695209}, {\"bias\": 2.532446547598918, \"ideology\": 0.13089598402866884}, {\"bias\": -0.12712241010701555, \"ideology\": -2.0038254369887696}, {\"bias\": 0.1150012658373984, \"ideology\": 1.96623825943812}, {\"bias\": -0.09600022149739297, \"ideology\": -1.7412178673885417}, {\"bias\": -0.22907612851679085, \"ideology\": 1.681235885936135}, {\"bias\": 1.2180153215410654, \"ideology\": -0.8889145120936539}, {\"bias\": -0.8491270595503746, \"ideology\": 1.2816717575954537}, {\"bias\": 0.6966143569518785, \"ideology\": -1.5804671010571691}, {\"bias\": 0.1035500500808086, \"ideology\": 1.6899759648777177}, {\"bias\": -1.9374015450790607, \"ideology\": 1.3707833327207029}, {\"bias\": 1.1002938620219793, \"ideology\": -1.1589651849304508}, {\"bias\": 1.2087064398929712, \"ideology\": 0.5384943147044404}, {\"bias\": -0.5414691930316304, \"ideology\": -1.7226709835209266}, {\"bias\": 0.18333264090719123, \"ideology\": -1.5491756843691806}, {\"bias\": 0.9706216943841682, \"ideology\": -0.4813739845275028}, {\"bias\": 1.7877498337673163, \"ideology\": -0.7056657360661752}, {\"bias\": 0.19584678653539828, \"ideology\": -2.4884116209568337}, {\"bias\": 0.04875398002690535, \"ideology\": -2.458628245430675}, {\"bias\": -1.7335210003170616, \"ideology\": -0.9715780863967541}, {\"bias\": 0.03669367419745487, \"ideology\": 1.688100678036001}, {\"bias\": 2.5571471157374974, \"ideology\": 0.06685905704532673}, {\"bias\": -0.01303702248302274, \"ideology\": -2.1344892287957444}, {\"bias\": 0.034448004336946926, \"ideology\": -1.6272064776494886}, {\"bias\": 0.21669094543112113, \"ideology\": -2.263210760624585}, {\"bias\": -0.14280956749799142, \"ideology\": -2.2286479166483715}, {\"bias\": -0.08043776716376798, \"ideology\": -2.447014571276559}, {\"bias\": 0.28399448563305535, \"ideology\": -1.9914530185986348}, {\"bias\": -0.10509880221301912, \"ideology\": -1.8994203299465873}, {\"bias\": -0.19703901714248692, \"ideology\": -1.7710795367516685}, {\"bias\": -0.1792601102256598, \"ideology\": -1.881163379123746}, {\"bias\": 0.1314132375832906, \"ideology\": 1.8752015849227794}, {\"bias\": 2.3180741795848636, \"ideology\": 0.2581699930010274}, {\"bias\": 0.0010961678838961215, \"ideology\": -1.6609276429123876}, {\"bias\": -1.1924094381938857, \"ideology\": -1.1101725200039763}, {\"bias\": -0.2601003868944031, \"ideology\": -2.060104359991601}, {\"bias\": 0.05467796126990982, \"ideology\": -1.9963897022381094}, {\"bias\": -1.4055010770025342, \"ideology\": -1.1393869667723155}, {\"bias\": -0.466481720678119, \"ideology\": -1.5120399730832421}, {\"bias\": 0.31932416712771583, \"ideology\": -1.519378179477603}, {\"bias\": -0.1034674914612547, \"ideology\": -2.0393335351308743}, {\"bias\": 1.0487304018594994, \"ideology\": -1.1519390188496423}, {\"bias\": 1.6280989534468615, \"ideology\": 0.91890427053421}, {\"bias\": 0.4104153841504312, \"ideology\": -1.585171909259097}, {\"bias\": 0.6748297718728976, \"ideology\": -1.6683170419472277}, {\"bias\": -0.24087844776750877, \"ideology\": 1.6298809857077974}, {\"bias\": 0.9403181038298101, \"ideology\": 1.10936603516722}, {\"bias\": -0.14909908882411782, \"ideology\": 1.7855969968063736}, {\"bias\": 0.4071170451196784, \"ideology\": -1.4109796430074544}, {\"bias\": 0.47407801333571575, \"ideology\": 2.081756929662868}, {\"bias\": 0.06630134519958676, \"ideology\": -2.3177248490063027}, {\"bias\": 0.08223201009168325, \"ideology\": -2.7258063146842626}, {\"bias\": 0.5253237512003655, \"ideology\": -2.3901171378620694}, {\"bias\": -0.43431340987376144, \"ideology\": 2.326075888096813}, {\"bias\": 0.140323655778876, \"ideology\": 2.488047767261276}, {\"bias\": -0.7994515795728666, \"ideology\": 2.399606038394133}, {\"bias\": -0.3070233412781518, \"ideology\": 2.489388774440242}, {\"bias\": 0.5435111059807388, \"ideology\": -2.099498949359381}, {\"bias\": -0.0598280746037987, \"ideology\": -2.735510040859292}, {\"bias\": -0.7633224715398949, \"ideology\": 2.2639402499408385}, {\"bias\": 0.16506465469869355, \"ideology\": -2.4218732554267803}, {\"bias\": 2.4720181670759356, \"ideology\": -1.2880376492098673}, {\"bias\": -0.17300751233264305, \"ideology\": 2.2335072754013}, {\"bias\": 0.09848678108585, \"ideology\": 2.211806295680401}, {\"bias\": 0.026326568644501468, \"ideology\": 2.843774432881359}, {\"bias\": 0.9741816509749363, \"ideology\": -2.279878616469688}, {\"bias\": 3.1433991233979945, \"ideology\": 0.40857468163301097}, {\"bias\": 4.010357311677632, \"ideology\": -0.09919537242094795}, {\"bias\": 4.12170733189149, \"ideology\": -0.02233927581614783}, {\"bias\": 3.6188337421855308, \"ideology\": -0.00937952699666894}, {\"bias\": 0.0012475088836845657, \"ideology\": -2.8037201854586304}, {\"bias\": 0.18171200266572649, \"ideology\": -2.687311381830345}, {\"bias\": 4.081845658605331, \"ideology\": -0.030068500952272127}, {\"bias\": 0.09279657473535541, \"ideology\": 2.747497492592723}, {\"bias\": 0.26457805343141133, \"ideology\": 2.327624292136766}, {\"bias\": -0.2558386969562908, \"ideology\": 2.5931735552041286}, {\"bias\": -0.010890483993693148, \"ideology\": 2.7880389371957035}, {\"bias\": 0.5064412226637465, \"ideology\": -2.609248366121081}, {\"bias\": 0.03077025762664306, \"ideology\": -2.8143345573416263}, {\"bias\": 0.29427608269857974, \"ideology\": -2.7690690450359976}, {\"bias\": -0.18457045897243815, \"ideology\": 2.5796777887005926}, {\"bias\": -0.046294863148841285, \"ideology\": 2.7966826435482246}, {\"bias\": 1.267384354462839, \"ideology\": -1.9426542511299556}, {\"bias\": 3.6460954716111225, \"ideology\": 0.2159064865588461}, {\"bias\": -0.8788960690834299, \"ideology\": 2.27401561819845}, {\"bias\": -0.3227444417184491, \"ideology\": 2.662569862221527}, {\"bias\": 1.0983287397144628, \"ideology\": -2.378617331073343}, {\"bias\": 0.13439235023147814, \"ideology\": -2.7251054947365354}, {\"bias\": -0.0026781032366142723, \"ideology\": 2.806383194329407}, {\"bias\": 1.0298044272520503, \"ideology\": -2.2938699644109866}, {\"bias\": 4.132921019252852, \"ideology\": -0.02275781352131818}, {\"bias\": 4.156400751222455, \"ideology\": -0.02358849650461511}, {\"bias\": -0.35684697606800614, \"ideology\": 2.4155180497326554}, {\"bias\": 0.08200480735598008, \"ideology\": 2.0520588024184447}, {\"bias\": 4.148109413196481, \"ideology\": -0.018184735496098385}, {\"bias\": 0.18917146721626904, \"ideology\": 2.681315996761932}, {\"bias\": 0.23413782866007554, \"ideology\": -1.8630990533781144}, {\"bias\": 0.21691168255566629, \"ideology\": -2.677610050211106}, {\"bias\": -0.03465792151305414, \"ideology\": -2.76981460489502}, {\"bias\": 4.106795745847288, \"ideology\": -0.01665432551762853}, {\"bias\": 0.46766600883334725, \"ideology\": 2.264027903029426}, {\"bias\": -0.061625097599246344, \"ideology\": 2.862465088164161}, {\"bias\": -0.5087772098383562, \"ideology\": -2.0151599792123704}, {\"bias\": 3.147402782763653, \"ideology\": 0.21540550527873212}, {\"bias\": 2.7866520707549305, \"ideology\": 0.39283385368349955}, {\"bias\": 3.910168069321782, \"ideology\": -0.1519305632104409}, {\"bias\": 3.377146246769428, \"ideology\": 0.14675188072573747}, {\"bias\": -0.016285913629974707, \"ideology\": -2.8212460645175437}, {\"bias\": 0.5991274810818626, \"ideology\": -2.3550152969234452}, {\"bias\": -0.36736039045095403, \"ideology\": 2.691698585455495}, {\"bias\": 1.3431019501372232, \"ideology\": -2.090417340977952}, {\"bias\": -0.010917412673323513, \"ideology\": -2.773770684927031}, {\"bias\": -0.044671710012490276, \"ideology\": -2.76877413941459}, {\"bias\": 0.05952278059115814, \"ideology\": 1.919891164596984}, {\"bias\": 0.4730573206780963, \"ideology\": 2.0864983532893335}, {\"bias\": -0.020045337559548276, \"ideology\": 2.3151562100200005}, {\"bias\": -0.17473609642765406, \"ideology\": 2.0310710632998763}, {\"bias\": 0.12591396353353806, \"ideology\": 2.7345996023957317}, {\"bias\": 0.37859455912319656, \"ideology\": -2.5155364990127183}, {\"bias\": -0.18555930289758174, \"ideology\": 2.634864712045685}, {\"bias\": 1.131621331273296, \"ideology\": -1.9361324240651}, {\"bias\": 0.10011953320738033, \"ideology\": 2.7141515270678025}, {\"bias\": 0.5999111133226429, \"ideology\": -2.505955735352046}, {\"bias\": 0.04466122357865631, \"ideology\": -2.8389069492868853}, {\"bias\": 4.222039295589089, \"ideology\": -0.02120754892656859}, {\"bias\": -0.11213053935264514, \"ideology\": -2.7383017233202804}, {\"bias\": -4.08901142907975, \"ideology\": 0.11065660172054317}, {\"bias\": -2.7587384941853106, \"ideology\": 1.331314612609754}, {\"bias\": -3.0588363287587916, \"ideology\": 1.1600980077307683}, {\"bias\": 0.7669496016114206, \"ideology\": -0.7347870798962266}, {\"bias\": -2.623289880550205, \"ideology\": -1.2988616556752337}, {\"bias\": -1.8709918697225272, \"ideology\": 1.776528930822259}, {\"bias\": -0.7924229388541254, \"ideology\": -1.8657151436925103}, {\"bias\": 3.265919621468854, \"ideology\": 0.3108746788012552}, {\"bias\": 4.135602601451551, \"ideology\": -0.021986470150999735}, {\"bias\": 4.19456421389646, \"ideology\": -0.018480467073332844}, {\"bias\": 0.24077324696035, \"ideology\": -2.6752482523379055}, {\"bias\": 0.9312523053946494, \"ideology\": -2.031752774133482}, {\"bias\": 0.9974243824703717, \"ideology\": -0.753416291484761}, {\"bias\": 3.490880434463784, \"ideology\": 0.31050315904459147}, {\"bias\": -0.028909079452216543, \"ideology\": -2.8151996395115724}, {\"bias\": -1.3819713836122414, \"ideology\": 1.540031516808404}, {\"bias\": 0.023011048405527406, \"ideology\": 1.0834263707990555}, {\"bias\": 4.037862100974686, \"ideology\": 0.025479800683643205}, {\"bias\": -0.18444669454536008, \"ideology\": -0.30182761438181893}, {\"bias\": -0.05530710763086127, \"ideology\": -0.8613997796530005}, {\"bias\": -0.027859382068214218, \"ideology\": -2.7550733478789216}, {\"bias\": -0.36759270864435034, \"ideology\": -0.8815483426034263}, {\"bias\": -0.8130733353883401, \"ideology\": 1.0446534591311165}, {\"bias\": 0.4500487418799992, \"ideology\": 2.589280547821447}, {\"bias\": 3.231881692331306, \"ideology\": 0.029034490043726668}, {\"bias\": 3.792178073391698, \"ideology\": 0.140763414122795}, {\"bias\": 4.066812866501114, \"ideology\": -0.005869054790596016}, {\"bias\": 0.02604634565078605, \"ideology\": -2.900690926885368}, {\"bias\": 0.3715083879544163, \"ideology\": -3.0641699204499595}, {\"bias\": 0.06447372996659552, \"ideology\": -2.806245570863837}, {\"bias\": 4.169956636591471, \"ideology\": -0.02157702946555455}, {\"bias\": 0.2840555861466312, \"ideology\": -2.421280708454044}, {\"bias\": 0.5196683950501224, \"ideology\": -2.323596829302231}, {\"bias\": 3.1682156854314782, \"ideology\": 0.5924423897421156}, {\"bias\": -0.06763353349571519, \"ideology\": 2.786064667849307}, {\"bias\": 0.5191600461178826, \"ideology\": -2.540217781181389}, {\"bias\": 1.5899417365470931, \"ideology\": -1.7591050692056256}, {\"bias\": 0.7830349457807463, \"ideology\": -2.223502108998085}, {\"bias\": 0.047371046045502546, \"ideology\": -2.7636618006766955}, {\"bias\": 0.08437549574440505, \"ideology\": -2.723261324530172}, {\"bias\": 2.2415331074877893, \"ideology\": 0.9908842031420836}, {\"bias\": 0.6243700470369286, \"ideology\": -2.503852716104496}, {\"bias\": 2.5058189969861915, \"ideology\": 0.6411746165854167}, {\"bias\": 0.09154543536700396, \"ideology\": 3.122200335770987}, {\"bias\": 2.0383055136551715, \"ideology\": -1.1361781270572315}, {\"bias\": 0.4581066667418174, \"ideology\": 1.5995887134616893}, {\"bias\": -0.5494136900050346, \"ideology\": 1.5409048077178367}, {\"bias\": 3.0859926372179896, \"ideology\": 0.5636770615655149}, {\"bias\": 3.1740053905476766, \"ideology\": 0.5078234451278769}, {\"bias\": 2.9250076560403975, \"ideology\": 0.6111913104912347}, {\"bias\": 2.3359238799985644, \"ideology\": -0.32774288558004194}, {\"bias\": 3.5100229613404434, \"ideology\": 0.2743032020545683}, {\"bias\": 4.0710854489717905, \"ideology\": -0.029636537359557718}, {\"bias\": -0.17781610030281958, \"ideology\": 2.705381079418823}, {\"bias\": 3.8636489431559, \"ideology\": 0.11970802335981379}, {\"bias\": 4.107839528562834, \"ideology\": -0.013498427494757036}, {\"bias\": 3.441243827351972, \"ideology\": -0.5156276060163398}, {\"bias\": -0.15067147139927514, \"ideology\": 1.2993145974973839}, {\"bias\": -0.00033117612579762435, \"ideology\": 2.097589656891847}, {\"bias\": -0.22146156096683764, \"ideology\": -1.8529993718580318}, {\"bias\": 0.30876526633025997, \"ideology\": -1.8593144390976861}, {\"bias\": 3.424244150049526, \"ideology\": -0.7212002700706982}, {\"bias\": 1.8692370082052499, \"ideology\": -1.644776531726608}, {\"bias\": 0.9373114546945475, \"ideology\": -0.16452732273107712}, {\"bias\": 0.10307135422961168, \"ideology\": -2.3970528546795737}, {\"bias\": 1.1400259582053636, \"ideology\": -1.7736970035046706}, {\"bias\": -1.0148621526053494, \"ideology\": 1.602868792698249}, {\"bias\": -0.12243608618012883, \"ideology\": 1.2776430420235492}, {\"bias\": -1.729660882124103, \"ideology\": -1.358152598150521}, {\"bias\": 0.25400088665549747, \"ideology\": -1.9955900316954356}, {\"bias\": -0.19543221483743245, \"ideology\": 0.8786814843950248}, {\"bias\": 1.251213973321186, \"ideology\": 1.4182025192115628}, {\"bias\": 0.02428510230769209, \"ideology\": 2.794346624432031}, {\"bias\": 4.103514631304955, \"ideology\": -0.025338855722810073}, {\"bias\": 1.9281221665758235, \"ideology\": -0.7015901548914687}, {\"bias\": 3.9338008425530164, \"ideology\": -0.01189045062326539}, {\"bias\": 4.0022674186719, \"ideology\": -0.030929082819156073}, {\"bias\": -2.564232981717012, \"ideology\": -1.2801550696835695}, {\"bias\": 1.3119668717194188, \"ideology\": 0.35746556106157074}, {\"bias\": 2.086180157403672, \"ideology\": -0.5292926755995976}, {\"bias\": -0.24501935265051103, \"ideology\": -1.800367999337539}, {\"bias\": -1.9525489633358788, \"ideology\": 1.0889754514660634}, {\"bias\": -0.7002144223857037, \"ideology\": 1.1890604824622975}, {\"bias\": 2.017031700394371, \"ideology\": 1.174565730181178}, {\"bias\": 3.28381906578731, \"ideology\": 0.5926839119899491}, {\"bias\": -1.7015696484249396, \"ideology\": 0.19454829257651698}, {\"bias\": 0.016009755978199362, \"ideology\": 0.6015713848116561}, {\"bias\": -0.6753066387120629, \"ideology\": -1.5456849099473373}, {\"bias\": -2.564510546205056, \"ideology\": -1.1572137843655625}, {\"bias\": -0.7828581456214695, \"ideology\": 1.3586030747462547}, {\"bias\": -1.7484522444841044, \"ideology\": -1.05890247185573}, {\"bias\": -1.0302678859482914, \"ideology\": -1.4781960178652085}, {\"bias\": 0.8144425737664365, \"ideology\": 0.7194900023085271}, {\"bias\": 0.5461079681061584, \"ideology\": 0.7824826487616142}, {\"bias\": -0.14017810127296884, \"ideology\": -1.9317776423773128}, {\"bias\": -0.00872638578129014, \"ideology\": -2.884984184120971}, {\"bias\": 0.8758454720444447, \"ideology\": 0.6512878247752677}, {\"bias\": -0.5045532298461869, \"ideology\": -0.6650259959252857}, {\"bias\": 0.7765099097069782, \"ideology\": 2.0420198551072453}, {\"bias\": 0.6512035682964956, \"ideology\": 0.7731520946657935}, {\"bias\": 0.6647726252402223, \"ideology\": -1.8662499906300098}, {\"bias\": -0.3579802214559309, \"ideology\": -2.223482307196887}, {\"bias\": -0.49960494761706437, \"ideology\": -1.9125236380803108}, {\"bias\": 0.4511240512038134, \"ideology\": -2.2607818256599552}, {\"bias\": 0.007424418258178144, \"ideology\": 2.8086328233481437}, {\"bias\": 1.705494829116366, \"ideology\": -0.49851805811918637}, {\"bias\": 0.16231721876156022, \"ideology\": -2.6632992721214257}, {\"bias\": 0.007812191430016661, \"ideology\": 2.747491856205075}, {\"bias\": 1.8153339099086723, \"ideology\": -0.17841130692048693}, {\"bias\": 3.954763875354122, \"ideology\": 0.035230080381514504}, {\"bias\": -1.8312329102901466, \"ideology\": -1.18399924109287}, {\"bias\": -2.5756750573868805, \"ideology\": -1.2779438321081897}, {\"bias\": -2.0714617561838846, \"ideology\": -1.3244881367779535}, {\"bias\": 0.25904820079045665, \"ideology\": 1.338072477417588}, {\"bias\": -1.3688968422857393, \"ideology\": -0.4490302508867941}, {\"bias\": -2.4644199295478444, \"ideology\": -1.2624777187318768}, {\"bias\": -2.3199139576108285, \"ideology\": -1.2544273561153467}, {\"bias\": -2.2670376883058303, \"ideology\": -1.10188296095158}, {\"bias\": -1.6516986322126364, \"ideology\": -1.4927457135587991}, {\"bias\": -0.773535181976772, \"ideology\": -1.6399629212282012}, {\"bias\": -1.9297014032151265, \"ideology\": -1.4806637254393922}, {\"bias\": -0.6707209249236634, \"ideology\": -1.9867033192800536}, {\"bias\": 0.574385114455648, \"ideology\": -0.6324012060838146}, {\"bias\": 4.228104021330429, \"ideology\": -0.01351629158311723}, {\"bias\": 0.25635461887444516, \"ideology\": -2.160434279948189}, {\"bias\": -1.9342366490210963, \"ideology\": -1.2482844880189121}, {\"bias\": -0.010506922519191109, \"ideology\": 2.8320032458035636}, {\"bias\": -0.558014882551466, \"ideology\": -1.261453891951356}, {\"bias\": -1.2670458682541101, \"ideology\": -1.3057542448375121}, {\"bias\": -1.6207709702749225, \"ideology\": -1.3755942808373136}, {\"bias\": 0.2595719313207928, \"ideology\": 0.9381363769024281}, {\"bias\": -1.8802683359906418, \"ideology\": -1.3527055563759118}, {\"bias\": -2.1414784523018033, \"ideology\": -1.4715176520415132}, {\"bias\": 0.01330550214998382, \"ideology\": 2.792629351587563}, {\"bias\": 0.16174249848746652, \"ideology\": -1.3681129466178445}, {\"bias\": 0.056288779787761874, \"ideology\": -2.815627505767508}, {\"bias\": 0.2967643755488568, \"ideology\": -2.4311280386480636}, {\"bias\": 3.499565468837947, \"ideology\": 0.4650489395573571}, {\"bias\": 0.4125672544355397, \"ideology\": -2.4474111144580655}, {\"bias\": -1.486208185658464, \"ideology\": -1.220651900786247}, {\"bias\": -2.267665525671173, \"ideology\": -1.0994416556498727}, {\"bias\": 0.16227005206199044, \"ideology\": 0.2273068030511124}, {\"bias\": -1.0459509980929396, \"ideology\": 0.767512265069417}, {\"bias\": -1.0362206958262805, \"ideology\": 0.7149075014365023}, {\"bias\": -2.182347771468582, \"ideology\": -0.9548459684978902}, {\"bias\": -2.8219210352696913, \"ideology\": -0.7618453705800073}, {\"bias\": -0.012834696340271642, \"ideology\": 2.0190410690874243}, {\"bias\": -0.7012234359549716, \"ideology\": 2.4708316247633673}, {\"bias\": 2.087585079797843, \"ideology\": -1.3666816265279405}, {\"bias\": 0.4217851265732903, \"ideology\": -0.23671262174850477}, {\"bias\": -0.6393896433008319, \"ideology\": 2.650504061796269}, {\"bias\": 1.929294771863995, \"ideology\": -1.4991940414235259}, {\"bias\": 3.965982496161875, \"ideology\": 0.01895412199499274}, {\"bias\": 4.114429331226468, \"ideology\": -0.018288935804309663}, {\"bias\": 4.093611866134409, \"ideology\": -0.024826867235101652}, {\"bias\": 1.5578378344115644, \"ideology\": -1.7200467467163976}, {\"bias\": 0.31418664267535057, \"ideology\": 2.49162388873705}, {\"bias\": 0.48186570911681137, \"ideology\": -2.4544461526391963}, {\"bias\": -1.247158925497706, \"ideology\": -0.5233687653201529}, {\"bias\": -0.8996671587557605, \"ideology\": 1.6294325742138722}, {\"bias\": 3.9452075673489446, \"ideology\": 0.033319587612441894}, {\"bias\": -0.36092831440717577, \"ideology\": 1.6386644450140373}, {\"bias\": 0.8776211586699094, \"ideology\": -1.6988318461152103}, {\"bias\": 0.977102193916582, \"ideology\": 0.04530963357069945}, {\"bias\": 0.1993402639244326, \"ideology\": -1.488384426150863}, {\"bias\": -1.2804427128132856, \"ideology\": 1.5659232173816486}, {\"bias\": -0.6191394328882043, \"ideology\": 0.7728769516086279}, {\"bias\": -0.2495072272032821, \"ideology\": 0.7796068454986863}, {\"bias\": 0.9931000499288368, \"ideology\": 0.23954721258213052}, {\"bias\": -0.39266357954116615, \"ideology\": -0.07094392359989836}, {\"bias\": -1.9271909415262867, \"ideology\": 0.31318547273116715}, {\"bias\": 4.109687180380235, \"ideology\": -0.01608118732654792}, {\"bias\": -0.8438120282794684, \"ideology\": 0.7992821530919167}, {\"bias\": 1.3052934241787528, \"ideology\": 1.6799308586112023}, {\"bias\": -0.8698458440104819, \"ideology\": 0.7835478982985444}, {\"bias\": -1.4356352570656852, \"ideology\": -0.28394208012727606}, {\"bias\": -0.8992553624137722, \"ideology\": -1.4413857128379415}, {\"bias\": 1.2843074850235645, \"ideology\": -0.7678617245033407}, {\"bias\": -0.7868985325967522, \"ideology\": -0.5762060475120343}, {\"bias\": 0.23130713435275446, \"ideology\": 2.6095583491557486}, {\"bias\": 2.6193441351377915, \"ideology\": -0.8170438960473713}, {\"bias\": 3.5655305249954914, \"ideology\": -0.44135539064499196}, {\"bias\": -0.11817024684536247, \"ideology\": -2.7249963452823938}, {\"bias\": 3.850500668562172, \"ideology\": 0.11299099741744861}, {\"bias\": -0.00560272241158723, \"ideology\": -2.734203770266728}, {\"bias\": 0.08947795063632026, \"ideology\": -2.854769665886154}, {\"bias\": -1.2529339612899375, \"ideology\": 1.3123842688698897}, {\"bias\": -1.493132320203008, \"ideology\": 1.8191684126179843}, {\"bias\": -1.523618325390618, \"ideology\": 2.080808144121099}, {\"bias\": -0.7837582843460837, \"ideology\": 1.4930737299403551}, {\"bias\": 1.567028295561576, \"ideology\": -1.4952401643158928}, {\"bias\": 0.009182670355056237, \"ideology\": 2.596793318129385}, {\"bias\": 2.163655078451408, \"ideology\": -1.535081114422526}, {\"bias\": 0.7202736236825876, \"ideology\": -2.2727040728951575}, {\"bias\": -0.8281784748514125, \"ideology\": 2.2129578630145104}, {\"bias\": -1.2755516186291258, \"ideology\": 1.9834092952814864}, {\"bias\": -1.0526202957731081, \"ideology\": 2.1248166327115943}, {\"bias\": -0.35471653666121455, \"ideology\": 2.5445749905555504}, {\"bias\": 1.2257439071155958, \"ideology\": -2.042127610196793}, {\"bias\": 1.0464608638653758, \"ideology\": -1.9062884198723882}, {\"bias\": 0.42228260613593493, \"ideology\": -2.492367059825636}, {\"bias\": 0.07912496246456281, \"ideology\": 1.5349935546306208}, {\"bias\": -0.08430066336471509, \"ideology\": 2.4556997992270335}, {\"bias\": 1.9359161391237503, \"ideology\": -1.406219128212938}, {\"bias\": 0.046726495902827715, \"ideology\": -2.6055245609905775}, {\"bias\": 1.1825786550742097, \"ideology\": -1.8208744951627163}, {\"bias\": -0.6198419427279565, \"ideology\": 2.342853750747508}, {\"bias\": -0.17821794943399094, \"ideology\": 2.3636908855752625}, {\"bias\": 0.1638347847625741, \"ideology\": 2.088660983853918}, {\"bias\": -0.5468786034100088, \"ideology\": 1.9449948394500762}, {\"bias\": 1.0096753891382009, \"ideology\": -1.7282273280257139}, {\"bias\": 0.1766285717504549, \"ideology\": 2.4023363960786646}, {\"bias\": -0.8095631817733171, \"ideology\": 2.1384799759456765}, {\"bias\": 0.30224600321571643, \"ideology\": -1.9227448731262908}, {\"bias\": 3.2508498639847487, \"ideology\": 0.39311058540612304}, {\"bias\": 0.27269826408865144, \"ideology\": -2.6666594209949364}, {\"bias\": 4.069729223425404, \"ideology\": -0.01993609930862226}, {\"bias\": -1.911521341000394, \"ideology\": -0.9278607708850817}, {\"bias\": 1.0366276583168539, \"ideology\": 0.45503575284824105}, {\"bias\": -2.529618487793492, \"ideology\": -0.9879388615794109}, {\"bias\": -2.099941627064594, \"ideology\": -0.8388909607712364}, {\"bias\": -0.9579762195570012, \"ideology\": 1.4556331908621971}, {\"bias\": -2.7975276695492477, \"ideology\": -1.1806266571646082}, {\"bias\": -2.8490168812517203, \"ideology\": -1.095569578914611}, {\"bias\": 3.717352497621689, \"ideology\": 0.09436282061990016}, {\"bias\": -2.54622495179726, \"ideology\": -1.2463843781587902}, {\"bias\": -0.661167197625302, \"ideology\": 1.554825909540839}, {\"bias\": 1.004624221918128, \"ideology\": 1.2715084026922363}, {\"bias\": -0.2396845393591736, \"ideology\": 0.2829349761802837}, {\"bias\": -2.3369442092157366, \"ideology\": 0.6894023376884699}, {\"bias\": 0.9118445407872018, \"ideology\": 1.3701678650826759}, {\"bias\": -0.42022613108196744, \"ideology\": 0.9141322986827448}, {\"bias\": -0.8587879822224747, \"ideology\": -0.7654818329970364}, {\"bias\": -2.0683069239343754, \"ideology\": 0.7551954948986649}, {\"bias\": 0.9168153271577012, \"ideology\": 1.2317383418587684}, {\"bias\": -1.807193196099325, \"ideology\": -1.5089600959779126}, {\"bias\": 0.2091001191034935, \"ideology\": -2.703249166819235}, {\"bias\": -1.1754632152526379, \"ideology\": 2.10827504138473}, {\"bias\": 0.28343660293794903, \"ideology\": -2.5063377516675107}, {\"bias\": 0.0041888002624544665, \"ideology\": -2.801788063928206}, {\"bias\": 0.46823738704613704, \"ideology\": -2.4239305137225924}, {\"bias\": 0.022418438505301598, \"ideology\": -2.468173117045839}, {\"bias\": 0.8293809350484787, \"ideology\": -1.7510041789967168}, {\"bias\": -2.3466637091432165, \"ideology\": -1.2390200269510865}, {\"bias\": -0.7165284691604381, \"ideology\": -1.931991809798295}, {\"bias\": 0.38892811978870323, \"ideology\": -2.5871951500288004}, {\"bias\": -2.0899923850818554, \"ideology\": -1.2329554484602923}, {\"bias\": -0.03083242579678573, \"ideology\": -2.4953662219822834}, {\"bias\": 4.103311272895252, \"ideology\": -0.023148677564203725}, {\"bias\": -0.5974686733539583, \"ideology\": 2.0007016985998654}, {\"bias\": -2.582850395426177, \"ideology\": -1.2871431656641399}, {\"bias\": -0.25445490100239504, \"ideology\": 2.4525883901088004}, {\"bias\": 0.8658121611671442, \"ideology\": -1.0454268066663386}, {\"bias\": -0.29142157802564594, \"ideology\": 2.653860786180675}, {\"bias\": 1.7112053090372559, \"ideology\": -1.5519881935435913}, {\"bias\": 4.114729278654882, \"ideology\": -0.011530415557463787}, {\"bias\": 2.903703330721717, \"ideology\": 0.6295341905023535}, {\"bias\": 0.3504152682185543, \"ideology\": -2.5954452058794937}, {\"bias\": 0.683268452145607, \"ideology\": -2.0217308384214574}, {\"bias\": -0.8401820803759305, \"ideology\": 0.8009238601647436}, {\"bias\": 1.990838062184266, \"ideology\": -1.539694960374092}, {\"bias\": 2.4239924446737056, \"ideology\": -0.7714903954931187}, {\"bias\": -1.0807171711140744, \"ideology\": 1.340388276928148}, {\"bias\": -0.8217728868364973, \"ideology\": 1.9699779567571094}, {\"bias\": -0.2803406532029269, \"ideology\": 2.664082387585428}, {\"bias\": 2.1859154687255535, \"ideology\": 0.3382610129716096}, {\"bias\": -1.145612147248385, \"ideology\": -1.1542328773203931}, {\"bias\": 2.3523507357533706, \"ideology\": -1.4277172383476948}, {\"bias\": -0.4753816541449137, \"ideology\": 2.6124479139591297}, {\"bias\": 0.7878315328276888, \"ideology\": 0.9936265371471781}, {\"bias\": 2.849127352024114, \"ideology\": -0.8530954047070882}, {\"bias\": -1.072474505650279, \"ideology\": 2.0239740722718853}, {\"bias\": 1.7850022122500613, \"ideology\": -1.4276903959335074}, {\"bias\": -1.866045509941118, \"ideology\": -1.3356730346065846}, {\"bias\": 0.9418190544621923, \"ideology\": -1.728286051349819}, {\"bias\": -0.16436945974441808, \"ideology\": -2.1451262116197807}, {\"bias\": 0.3638639929423698, \"ideology\": -2.6347633826564976}, {\"bias\": 1.0222767358063913, \"ideology\": -1.6624910927151482}, {\"bias\": 0.03153723675436028, \"ideology\": 2.7557720169929913}, {\"bias\": 0.19503094455059145, \"ideology\": -2.2586401811811885}, {\"bias\": 0.3704366255833305, \"ideology\": -2.5914627176791343}, {\"bias\": 0.6441158834715115, \"ideology\": -2.3788998441187847}, {\"bias\": -0.31693545081051056, \"ideology\": 2.357997382353736}, {\"bias\": 0.7211584171598772, \"ideology\": 1.7807763207235834}, {\"bias\": -0.35743802122481366, \"ideology\": 2.462549520869813}, {\"bias\": 2.262863000759049, \"ideology\": -1.343159941621666}, {\"bias\": 3.0777913001334816, \"ideology\": 0.8436439991499376}, {\"bias\": 4.170188164761885, \"ideology\": -0.02187368973654009}, {\"bias\": 2.1418965493789894, \"ideology\": 1.231093157678354}, {\"bias\": 0.7925349589099716, \"ideology\": 1.9687318816318655}, {\"bias\": 0.012774089064584312, \"ideology\": -2.8019600618817866}, {\"bias\": 0.5969384914540639, \"ideology\": -2.251243032926583}, {\"bias\": 4.183209919360989, \"ideology\": -0.019851120790681798}, {\"bias\": -0.2480350943739603, \"ideology\": 2.6169129958104427}, {\"bias\": 0.21032754107111434, \"ideology\": 2.6348608630232553}, {\"bias\": 4.263465552932804, \"ideology\": -0.020517223542095172}, {\"bias\": -0.020984162734740706, \"ideology\": -2.7704694718891223}, {\"bias\": 0.09006987171652424, \"ideology\": -2.767457392350452}, {\"bias\": 3.5266487901233545, \"ideology\": 0.386928794295992}, {\"bias\": 0.2718065517738881, \"ideology\": 2.5421886218267993}, {\"bias\": 3.6012912735687097, \"ideology\": 0.3148015497601108}, {\"bias\": 4.181751151654406, \"ideology\": -0.017543820882071084}, {\"bias\": 0.2049820201930994, \"ideology\": 2.6263327697921484}, {\"bias\": 0.25061053682870577, \"ideology\": -0.8304002078209738}, {\"bias\": -0.2875644149671474, \"ideology\": 2.4690123795129537}, {\"bias\": 0.8741212356765657, \"ideology\": 1.8697113765099365}, {\"bias\": 1.147963007668594, \"ideology\": -1.5796939268052128}, {\"bias\": 2.6643668785294765, \"ideology\": 0.428389654915064}, {\"bias\": 1.136460242180079, \"ideology\": 1.6001013152013033}, {\"bias\": 4.211729060175108, \"ideology\": -0.005195343056951699}, {\"bias\": 1.8975586369854882, \"ideology\": -1.5246023888697757}, {\"bias\": 4.076659657550841, \"ideology\": -0.015103641942023543}, {\"bias\": 3.5953328072164616, \"ideology\": 0.19380177266313728}, {\"bias\": 0.0332208786850877, \"ideology\": -2.7876995282065025}, {\"bias\": 0.1808547355986218, \"ideology\": -2.612869835860435}, {\"bias\": -0.4286686498004119, \"ideology\": 2.6506534065038982}, {\"bias\": -0.2708818610404538, \"ideology\": 2.610106258822041}, {\"bias\": 0.6169941034156726, \"ideology\": 2.009889111994497}, {\"bias\": 0.08689978389845189, \"ideology\": 2.779158795344928}, {\"bias\": 0.4222304876538057, \"ideology\": -1.6683180475179173}, {\"bias\": 2.870699417487685, \"ideology\": 0.4019829018463889}, {\"bias\": -0.002399430182165461, \"ideology\": -2.802558532061319}, {\"bias\": -0.06378840333879893, \"ideology\": -2.798945546016071}, {\"bias\": 3.815874986967395, \"ideology\": 0.1248059047293524}, {\"bias\": -0.4367262061793142, \"ideology\": -2.299330045311628}, {\"bias\": -0.2708102945208762, \"ideology\": 2.6418241785112553}, {\"bias\": -0.3246029601150011, \"ideology\": 2.524717160442241}, {\"bias\": 1.9446604341094764, \"ideology\": -1.6067352198063711}, {\"bias\": -0.022090438188286456, \"ideology\": -2.5805497906261676}, {\"bias\": -0.5405370627591476, \"ideology\": -2.078534349039433}, {\"bias\": 1.8369205995170987, \"ideology\": -1.3666076910546454}, {\"bias\": 0.062152847894198254, \"ideology\": -2.8426021856328485}, {\"bias\": -0.4983521428415963, \"ideology\": -2.175174935204756}, {\"bias\": 0.05448167363106497, \"ideology\": -2.8333734929209426}, {\"bias\": -0.5002704129742304, \"ideology\": -2.1980168316389106}, {\"bias\": -0.24919581332447963, \"ideology\": -2.3278917271738626}, {\"bias\": -0.43073498526996734, \"ideology\": -1.7831475514458737}, {\"bias\": -0.4479620918825474, \"ideology\": 2.505829143016429}, {\"bias\": 3.555260479549704, \"ideology\": -0.10206653977113601}, {\"bias\": 4.115654255945377, \"ideology\": -0.02870202304987432}, {\"bias\": 4.114696112210889, \"ideology\": -0.02906322730191779}, {\"bias\": 3.9962907607300453, \"ideology\": 0.0010632279983120846}, {\"bias\": 0.6177876912168686, \"ideology\": -2.4984122194991416}, {\"bias\": 1.5016105207923784, \"ideology\": -1.8383475064640888}, {\"bias\": -1.220613950962125, \"ideology\": 1.5766285833445521}, {\"bias\": -1.0630069725394489, \"ideology\": 2.225976091797237}, {\"bias\": -0.7592368301670943, \"ideology\": 2.471794471556239}, {\"bias\": 1.7542656848059233, \"ideology\": -1.5086871788706273}, {\"bias\": -0.5086874107584066, \"ideology\": 2.6092800574342596}, {\"bias\": 0.00026008499779316954, \"ideology\": -2.8053889742459055}, {\"bias\": 0.4824268652312, \"ideology\": -2.5488274501308728}, {\"bias\": 4.035524443274599, \"ideology\": 0.046672721279768264}, {\"bias\": 4.185067033427751, \"ideology\": -0.016803404457450447}, {\"bias\": -0.061402697100027985, \"ideology\": 2.425650693365231}, {\"bias\": 1.625378172747339, \"ideology\": -1.8293053862384185}, {\"bias\": 4.4632462586364845, \"ideology\": -0.01803932705314395}, {\"bias\": 3.0448777081262532, \"ideology\": 0.414334679084815}, {\"bias\": 0.20728433960795162, \"ideology\": -2.7110756669859595}, {\"bias\": -0.0816589883172764, \"ideology\": -1.8931760369433}, {\"bias\": -0.013883483348981741, \"ideology\": -2.7443908303416746}, {\"bias\": 0.44587269524542267, \"ideology\": -2.182363645418228}, {\"bias\": 3.9053974875839397, \"ideology\": 0.11797586082409896}, {\"bias\": 2.7511423599330334, \"ideology\": -1.1425232506784198}, {\"bias\": 2.781349557694061, \"ideology\": -1.1089787153339161}, {\"bias\": 2.4756621584307257, \"ideology\": 0.6056341420382213}, {\"bias\": 2.522587979094959, \"ideology\": -0.9132466980834958}, {\"bias\": 4.183687179621701, \"ideology\": -0.012746370170688512}, {\"bias\": 4.147451888564042, \"ideology\": -0.013268718510537632}, {\"bias\": 0.5651470123620944, \"ideology\": -0.13207010965858204}, {\"bias\": 0.014717059802407468, \"ideology\": 2.820434386366937}, {\"bias\": 1.0843228938455314, \"ideology\": -0.06659244865363564}, {\"bias\": -0.3648231784902149, \"ideology\": 2.486989455357526}, {\"bias\": -0.01607694275624698, \"ideology\": -2.920852227226545}, {\"bias\": 0.1729737374462311, \"ideology\": -2.69466928763146}, {\"bias\": -0.09329930377146968, \"ideology\": 2.776034154551741}, {\"bias\": 1.7872394540216765, \"ideology\": -1.7077932058720244}, {\"bias\": 0.013661474490601176, \"ideology\": 2.8692881159100354}, {\"bias\": 0.16676339006333338, \"ideology\": -1.9981572013855444}, {\"bias\": 4.185783671359815, \"ideology\": -0.02125974115204966}, {\"bias\": 0.6943861249623566, \"ideology\": -2.363517033159306}, {\"bias\": 0.07273064520086976, \"ideology\": 2.845150515318211}, {\"bias\": 1.68226082820045, \"ideology\": -1.5603009738241258}, {\"bias\": -0.31983686364394526, \"ideology\": -2.0657098105305747}, {\"bias\": 4.165744696405157, \"ideology\": 0.010363464317318343}, {\"bias\": -0.025324474600336343, \"ideology\": -2.9005517671066117}, {\"bias\": -0.026123813034739353, \"ideology\": -2.7816010043255854}, {\"bias\": 0.8349813425743684, \"ideology\": -2.4462656388097277}, {\"bias\": -0.05431064571518311, \"ideology\": 2.967753489647626}, {\"bias\": 0.2705438463433131, \"ideology\": -2.667768486190288}, {\"bias\": -0.030463621596146743, \"ideology\": 2.8864398769891917}, {\"bias\": -0.06921415791767681, \"ideology\": 3.3698844735662976}, {\"bias\": 0.5898028890446835, \"ideology\": -2.32935095391063}, {\"bias\": -0.22193648429345056, \"ideology\": 2.629635556490685}, {\"bias\": 0.0019466977177842971, \"ideology\": 2.7973227881115217}, {\"bias\": -0.07047731194170209, \"ideology\": 2.791488638966375}, {\"bias\": 1.2921417878915142, \"ideology\": -2.0056768749556517}, {\"bias\": 3.480275597348393, \"ideology\": 0.28211244789974826}, {\"bias\": 4.104832599146348, \"ideology\": -0.029549285914460856}, {\"bias\": 4.105752507570473, \"ideology\": -0.01627967275656072}, {\"bias\": 4.143773790931, \"ideology\": -0.016230796350764902}, {\"bias\": 3.843852440118893, \"ideology\": 0.2783861825635828}, {\"bias\": 4.1818161802902045, \"ideology\": -0.020245761291279724}, {\"bias\": 4.235558332210821, \"ideology\": -0.019776905039548733}, {\"bias\": 3.968283034969579, \"ideology\": 0.056322171100278345}, {\"bias\": -0.001584061503056105, \"ideology\": -2.118326355480443}, {\"bias\": 0.32182863799575556, \"ideology\": -2.085010280570034}, {\"bias\": 3.9302453163518476, \"ideology\": -0.128957217829366}, {\"bias\": 0.18315210126343767, \"ideology\": 2.6754448591800584}, {\"bias\": 2.1046062656081514, \"ideology\": -0.014404470875492023}, {\"bias\": 3.2044165779388964, \"ideology\": -0.2591018977666691}, {\"bias\": 0.011381493169056206, \"ideology\": -2.783113480655452}, {\"bias\": 0.43867390225013697, \"ideology\": -2.6505805377386986}, {\"bias\": 3.536680076184255, \"ideology\": -0.12871883377674997}, {\"bias\": 0.04303225472184673, \"ideology\": 2.91797064000693}, {\"bias\": 3.3308949384732753, \"ideology\": 0.45737265646909264}, {\"bias\": -0.3103968105242936, \"ideology\": -1.9695736631968093}, {\"bias\": 1.1402042383676458, \"ideology\": -0.4279405631806628}, {\"bias\": -0.30687795094003606, \"ideology\": 2.6688139429715796}, {\"bias\": 0.5706732289667054, \"ideology\": -2.608451090580885}, {\"bias\": 0.39834980046063667, \"ideology\": -2.198666349167039}, {\"bias\": 4.336522383443631, \"ideology\": -0.020947117192143934}, {\"bias\": 3.703466526345222, \"ideology\": 0.14587079608178863}, {\"bias\": 1.204628044519716, \"ideology\": -0.1509973061717249}, {\"bias\": 4.238748571319159, \"ideology\": -0.017271271048624276}, {\"bias\": 3.9074689411448285, \"ideology\": 0.007994409761544577}, {\"bias\": 3.7997459246894483, \"ideology\": 0.0678165947368764}, {\"bias\": -0.8394542332545597, \"ideology\": -1.6351143240145947}, {\"bias\": 2.134346744308695, \"ideology\": -1.484782628413182}, {\"bias\": 0.022854796754301323, \"ideology\": -0.35998477068073614}, {\"bias\": 2.8507279282793094, \"ideology\": 0.5476475550177152}, {\"bias\": -0.4196960622654506, \"ideology\": -2.3702903970014644}, {\"bias\": -0.16517370367027864, \"ideology\": -2.669987787059427}, {\"bias\": 0.07570119333062558, \"ideology\": -2.7887052087627118}, {\"bias\": 1.648665519647852, \"ideology\": -0.4742559604656497}, {\"bias\": 1.2105512328266277, \"ideology\": 1.5438170271526077}, {\"bias\": 3.9358431580194253, \"ideology\": 0.09561332993986983}, {\"bias\": 4.243970341531383, \"ideology\": -0.015309223411687861}, {\"bias\": 1.2468951556399557, \"ideology\": -0.4844265211819872}, {\"bias\": -0.016177628398465208, \"ideology\": -2.756173852128116}, {\"bias\": 0.4680913614488882, \"ideology\": -2.570629980312511}, {\"bias\": 3.039162710797923, \"ideology\": -0.9143391698732459}, {\"bias\": -0.12443738189609879, \"ideology\": 2.7952199692211726}, {\"bias\": 1.1626483396903824, \"ideology\": -2.2314795900490054}, {\"bias\": -0.13396933712499276, \"ideology\": 2.8757724726689733}, {\"bias\": -0.9326284910227777, \"ideology\": 2.0119853302838786}, {\"bias\": 1.7013650282033552, \"ideology\": -1.8453857596742453}, {\"bias\": -0.7264528142946165, \"ideology\": 2.120434497231764}, {\"bias\": -0.7041155450162097, \"ideology\": 2.4299278203817587}, {\"bias\": -0.9029310161757536, \"ideology\": 2.313709268089294}, {\"bias\": -0.42803052710836764, \"ideology\": 2.311101718082684}, {\"bias\": -0.6007544875954823, \"ideology\": 2.308207315798997}, {\"bias\": -0.29532260463961557, \"ideology\": 2.6866272538903537}, {\"bias\": 0.9311458016371854, \"ideology\": -2.407683623469561}, {\"bias\": 0.04842849777724136, \"ideology\": -3.0415838748742283}, {\"bias\": -0.024255340156833217, \"ideology\": 2.6555617595473704}, {\"bias\": 0.18235745425715194, \"ideology\": -2.7473060038844865}, {\"bias\": 1.722670452213686, \"ideology\": -1.915333881307704}, {\"bias\": 0.3722319948520057, \"ideology\": -2.6406104731565203}, {\"bias\": -0.9345615777167842, \"ideology\": 2.1190375230743315}, {\"bias\": 0.08335059902933475, \"ideology\": 2.7701334027869953}, {\"bias\": 0.8054219595025736, \"ideology\": -2.3165078356642335}, {\"bias\": -0.6513130082877487, \"ideology\": 2.4345948888456204}, {\"bias\": 0.216210857517012, \"ideology\": 2.5419204075418707}, {\"bias\": -1.0875345799749632, \"ideology\": 2.022246354622274}, {\"bias\": 0.12659410958137388, \"ideology\": 2.7487012857150677}, {\"bias\": -0.005078160390454004, \"ideology\": 2.756143050855035}, {\"bias\": 1.2601918735964865, \"ideology\": -2.023795180778479}, {\"bias\": 2.093066360356805, \"ideology\": 0.7189847751266386}, {\"bias\": 4.090000490978938, \"ideology\": 0.018822923245611786}, {\"bias\": -0.014865532056824974, \"ideology\": -2.7416218460035044}, {\"bias\": 0.3766083622789419, \"ideology\": -2.6024764621777554}, {\"bias\": 4.0757633437019685, \"ideology\": 0.007687139737003162}, {\"bias\": -0.21709363090077852, \"ideology\": 2.821384075987331}, {\"bias\": 1.6081002793329433, \"ideology\": -1.7081785819666813}, {\"bias\": 2.786819961382174, \"ideology\": 0.4341729423880936}, {\"bias\": -0.02149797264378614, \"ideology\": -2.7471862782444014}, {\"bias\": 0.17153765237397178, \"ideology\": 1.795979389384248}, {\"bias\": 0.6494875871051026, \"ideology\": 1.6833270127320337}, {\"bias\": 0.2803468788489564, \"ideology\": 2.005638036635169}, {\"bias\": -0.1536804192663591, \"ideology\": 1.7560280495304461}, {\"bias\": 1.8605525622326218, \"ideology\": 0.8086179854857295}, {\"bias\": 0.013040707299430954, \"ideology\": 1.5967264271686843}, {\"bias\": 1.138588196092382, \"ideology\": 1.1365749383648514}, {\"bias\": 1.1867962115145871, \"ideology\": 1.1676343260420896}, {\"bias\": 1.6703905890116142, \"ideology\": 1.041145933134319}, {\"bias\": 0.02249264505168131, \"ideology\": -1.8505545949076019}, {\"bias\": 0.10433850753939025, \"ideology\": -1.827776303823536}, {\"bias\": 1.9413982491731068, \"ideology\": 0.7639213015210108}, {\"bias\": 0.2946821040634906, \"ideology\": 1.6338379618899643}, {\"bias\": 2.1468871429776715, \"ideology\": 0.2899157389215957}, {\"bias\": 1.2177179756887437, \"ideology\": 1.715170370557375}, {\"bias\": 0.3394861162725819, \"ideology\": 1.648427664121042}, {\"bias\": -0.8015216602317478, \"ideology\": -1.4426289716489558}, {\"bias\": 2.081058303574875, \"ideology\": 0.4836762401830639}, {\"bias\": -1.2547315576759461, \"ideology\": -0.7861390663336913}, {\"bias\": 0.3234571351670979, \"ideology\": -1.6962443606648923}, {\"bias\": 0.4511053244229727, \"ideology\": 1.629442373331045}, {\"bias\": 1.4868356729615544, \"ideology\": 0.9479684932994101}, {\"bias\": 2.430066858181468, \"ideology\": 0.31450881751096543}, {\"bias\": 1.1591840140981744, \"ideology\": 1.4361002878388711}, {\"bias\": 0.8316764399278804, \"ideology\": 1.959476150767273}, {\"bias\": 1.2653143822176993, \"ideology\": 0.6409467363101455}, {\"bias\": 2.741634049957987, \"ideology\": 0.11877192189620465}, {\"bias\": 0.6887475273436944, \"ideology\": 0.4292318475062899}, {\"bias\": -1.0954793315584288, \"ideology\": -1.6012645314368985}, {\"bias\": -0.18471463576735028, \"ideology\": -1.6134991309931437}, {\"bias\": 2.5544206509662732, \"ideology\": 0.4233869180723713}, {\"bias\": 1.8255893943954806, \"ideology\": -0.37080561844710996}, {\"bias\": 2.7034285289674242, \"ideology\": 0.24691824936075027}, {\"bias\": -0.6125549337143424, \"ideology\": 1.0218375093932084}, {\"bias\": 0.35198841608259984, \"ideology\": 2.197902212825905}, {\"bias\": 0.31948223270463644, \"ideology\": -1.8633564513469267}, {\"bias\": 0.2183992992567222, \"ideology\": 1.6629004367434537}, {\"bias\": 2.7318807107483436, \"ideology\": 0.2460619238589503}, {\"bias\": 2.2265854780849557, \"ideology\": 0.36778983033991214}, {\"bias\": 0.0934038781062919, \"ideology\": 1.8420868912269985}, {\"bias\": 2.2483947980824084, \"ideology\": 0.48395643194018007}, {\"bias\": 1.6151864627452945, \"ideology\": 1.366764030728366}, {\"bias\": 1.0700811556902277, \"ideology\": 1.2885450665671254}, {\"bias\": -1.0582822860287202, \"ideology\": -1.2368056019907285}, {\"bias\": 0.2295110597380883, \"ideology\": -1.5742863979242612}, {\"bias\": 1.6776112687922249, \"ideology\": 0.9757072694922293}, {\"bias\": 0.40321389264495416, \"ideology\": 2.419512901016573}, {\"bias\": 0.7422329867065376, \"ideology\": 1.1827948177081626}, {\"bias\": 0.16252633954277085, \"ideology\": -2.0315999571693704}, {\"bias\": -0.2423234350008314, \"ideology\": 1.8302071433905909}, {\"bias\": 2.3233775249447564, \"ideology\": 0.690076190211279}, {\"bias\": 3.0510049025139176, \"ideology\": 0.6741124849244909}, {\"bias\": 1.6905950953247684, \"ideology\": 0.5843013638548148}, {\"bias\": 1.9384960319701112, \"ideology\": 1.074108434986587}, {\"bias\": 3.2004069380003517, \"ideology\": -0.22026955984876373}, {\"bias\": 1.3730099268372706, \"ideology\": 1.0912107070375847}, {\"bias\": 0.19987990890162424, \"ideology\": 2.1399946503753204}, {\"bias\": 0.15697111360276067, \"ideology\": 1.9873398770362454}, {\"bias\": 0.279199206422401, \"ideology\": -1.8326713637900054}, {\"bias\": 1.119257079639727, \"ideology\": 0.6553561767484564}, {\"bias\": 1.2158945572598707, \"ideology\": 0.23350893317901117}, {\"bias\": 2.3417650551890308, \"ideology\": 0.21737974070024735}, {\"bias\": 2.2989343179764226, \"ideology\": 0.1881107349586841}, {\"bias\": 1.7678418915768424, \"ideology\": -1.8015473200399235}, {\"bias\": 0.3832292969406701, \"ideology\": 2.065674440667054}, {\"bias\": -0.03402302256790608, \"ideology\": -1.9450364104779765}, {\"bias\": 1.8504496882835177, \"ideology\": 0.47331721166293667}, {\"bias\": -1.9618007456110502, \"ideology\": -0.9732116137172117}, {\"bias\": 0.10419466216330235, \"ideology\": 1.9634239337941484}, {\"bias\": 1.84506129822794, \"ideology\": 0.17996407414785826}, {\"bias\": 0.07014162606014494, \"ideology\": 2.10466420810009}, {\"bias\": 0.7696628811423784, \"ideology\": 1.2853118413815678}, {\"bias\": 0.13269837578278193, \"ideology\": 2.020880856001831}, {\"bias\": -0.0553914038029925, \"ideology\": 2.071909336349946}, {\"bias\": 0.11363410773803059, \"ideology\": 1.7407225080880788}, {\"bias\": 0.010054861315284994, \"ideology\": 1.831518419310705}, {\"bias\": 0.17000209212814588, \"ideology\": 1.6681694630894135}, {\"bias\": 0.12608737637529932, \"ideology\": 1.9486309195858822}, {\"bias\": 0.3424707677023795, \"ideology\": 2.164282457670819}, {\"bias\": 0.04235898564780495, \"ideology\": 1.9706738043023042}, {\"bias\": 0.20468767085371523, \"ideology\": 1.886030015323262}, {\"bias\": 0.04884399249239681, \"ideology\": 1.9636949065930311}, {\"bias\": 0.13312854828539997, \"ideology\": 2.1207148779572123}, {\"bias\": 2.3442637213841313, \"ideology\": 0.1973662892744385}, {\"bias\": 0.05795102115553612, \"ideology\": 1.9066765132441574}, {\"bias\": 1.3235618703257468, \"ideology\": 0.4497109084027804}, {\"bias\": -1.456015404455951, \"ideology\": -1.0763636766391576}, {\"bias\": 0.3196980698121879, \"ideology\": 0.057412969354808926}, {\"bias\": 1.4370119695560672, \"ideology\": 0.15919679470975262}, {\"bias\": 2.5344182582749295, \"ideology\": 0.1247136792362895}, {\"bias\": -0.16354025050436166, \"ideology\": -2.1452908966493087}, {\"bias\": 0.3609255823340573, \"ideology\": 1.8405429562521607}, {\"bias\": 0.11412583278078567, \"ideology\": 0.7142634540720079}, {\"bias\": 2.6879655473232926, \"ideology\": 0.17644004274461422}, {\"bias\": 3.1710858641588557, \"ideology\": 0.48938242456150227}, {\"bias\": 2.398713166819214, \"ideology\": 0.0794380992224467}, {\"bias\": 2.204360477743367, \"ideology\": 0.4687793981221393}, {\"bias\": 2.549820648609585, \"ideology\": 0.08692644800072338}, {\"bias\": 2.5430711927023837, \"ideology\": 0.02830306234627444}, {\"bias\": 2.40098477727558, \"ideology\": 0.2685799660566068}, {\"bias\": 1.4548567707183613, \"ideology\": 0.9116022369251924}, {\"bias\": 1.5539781460497697, \"ideology\": 0.8149263737686694}, {\"bias\": 0.011190640998268615, \"ideology\": -1.9857085366859173}, {\"bias\": 2.3984086599700167, \"ideology\": 0.1390085670650685}, {\"bias\": -0.07428096861751274, \"ideology\": 1.6906617084960973}, {\"bias\": 0.8616518822008875, \"ideology\": 1.5165596845388334}, {\"bias\": 0.8929860137225681, \"ideology\": 1.6689933148551244}, {\"bias\": 0.644426484672014, \"ideology\": 0.8300799728270879}, {\"bias\": 0.4951568281136625, \"ideology\": 1.763364070185884}, {\"bias\": -0.03322394379170321, \"ideology\": -2.083548367768252}, {\"bias\": 1.050657091398158, \"ideology\": 1.2435627719401794}, {\"bias\": 0.35789322371087556, \"ideology\": 1.7164661788415945}]}, \"mark\": \"circle\", \"encoding\": {\"y\": {\"field\": \"bias\", \"type\": \"quantitative\"}, \"x\": {\"field\": \"ideology\", \"type\": \"quantitative\"}}, \"config\": {\"cell\": {\"width\": 500, \"height\": 350}}};\n",
       "var selector = \"#8e08a6ad-8867-425e-9b26-e15f8ffe1228\";\n",
       "var type = \"vega-lite\";\n",
       "\n",
       "var output_area = this;\n",
       "require(['nbextensions/jupyter-vega/index'], function(vega) {\n",
       "  vega.render(selector, spec, type, output_area);\n",
       "}, function (err) {\n",
       "  if (err.requireType !== 'scripterror') {\n",
       "    throw(err);\n",
       "  }\n",
       "});\n"
      ]
     },
     "metadata": {
      "jupyter-vega": "#8e08a6ad-8867-425e-9b26-e15f8ffe1228"
     },
     "output_type": "display_data"
    },
    {
     "name": "stdout",
     "output_type": "stream",
     "text": [
      "In [244] used -0.016 MiB RAM in 0.039s, peaked 0.016 MiB above current, total RAM usage 5234.535 MiB\n"
     ]
    },
    {
     "data": {
      "image/png": "[encoded data removed]"
     },
     "metadata": {
      "jupyter-vega": "#8e08a6ad-8867-425e-9b26-e15f8ffe1228"
     },
     "output_type": "display_data"
    }
   ],
   "source": [
    "Chart(vote_pt_df[[\"ideology\", \"bias\"]].dropna()).mark_circle().encode(\n",
    "    x='ideology:Q',\n",
    "    y='bias:Q',)"
   ]
  },
  {
   "cell_type": "markdown",
   "metadata": {},
   "source": [
    "This is to get bills linked w/ duplication data for now"
   ]
  },
  {
   "cell_type": "markdown",
   "metadata": {
    "ExecuteTime": {
     "end_time": "2016-12-01T00:37:52.628473",
     "start_time": "2016-12-01T00:37:52.412088"
    },
    "collapsed": false
   },
   "source": [
    "## Text reuse"
   ]
  },
  {
   "cell_type": "code",
   "execution_count": 27,
   "metadata": {
    "ExecuteTime": {
     "end_time": "2016-12-01T03:14:53.061414",
     "start_time": "2016-12-01T03:14:52.710558"
    },
    "collapsed": false
   },
   "outputs": [
    {
     "name": "stdout",
     "output_type": "stream",
     "text": [
      "In [27] used 0.016 MiB RAM in 0.108s, peaked 0.000 MiB above current, total RAM usage 354.887 MiB\n",
      "In [27] used 0.004 MiB RAM in 0.208s, peaked 0.000 MiB above current, total RAM usage 354.887 MiB\n"
     ]
    }
   ],
   "source": [
    "# vote_pt_df.to_csv(\"vote_pt_df.csv\")\n",
    "# run wtfpandasjoin.py to do the join. i kept trying to do w/ pandas and getting errors/bugs"
   ]
  },
  {
   "cell_type": "code",
   "execution_count": 22,
   "metadata": {
    "ExecuteTime": {
     "end_time": "2016-12-01T14:07:20.463091",
     "start_time": "2016-12-01T14:07:18.663139"
    },
    "collapsed": false
   },
   "outputs": [
    {
     "name": "stderr",
     "output_type": "stream",
     "text": [
      "/opt/conda/lib/python3.5/site-packages/ipykernel/__main__.py:8: SettingWithCopyWarning: \n",
      "A value is trying to be set on a copy of a slice from a DataFrame.\n",
      "Try using .loc[row_indexer,col_indexer] = value instead\n",
      "\n",
      "See the caveats in the documentation: http://pandas.pydata.org/pandas-docs/stable/indexing.html#indexing-view-versus-copy\n",
      "/opt/conda/lib/python3.5/site-packages/ipykernel/__main__.py:9: SettingWithCopyWarning: \n",
      "A value is trying to be set on a copy of a slice from a DataFrame.\n",
      "Try using .loc[row_indexer,col_indexer] = value instead\n",
      "\n",
      "See the caveats in the documentation: http://pandas.pydata.org/pandas-docs/stable/indexing.html#indexing-view-versus-copy\n",
      "/opt/conda/lib/python3.5/site-packages/ipykernel/__main__.py:10: FutureWarning: sort(columns=....) is deprecated, use sort_values(by=.....)\n"
     ]
    },
    {
     "data": {
      "text/html": [
       "<div>\n",
       "<table border=\"1\" class=\"dataframe\">\n",
       "  <thead>\n",
       "    <tr style=\"text-align: right;\">\n",
       "      <th></th>\n",
       "      <th>a_section_guid</th>\n",
       "      <th>bill_no_a</th>\n",
       "      <th>bill_kind_a</th>\n",
       "      <th>congress_a</th>\n",
       "      <th>version_code_a</th>\n",
       "      <th>issued_on_a</th>\n",
       "      <th>bfn</th>\n",
       "      <th>b_section_guid</th>\n",
       "      <th>bill_no_b</th>\n",
       "      <th>bill_kind_b</th>\n",
       "      <th>congress_b</th>\n",
       "      <th>version_code_b</th>\n",
       "      <th>issued_on_b</th>\n",
       "      <th>jac</th>\n",
       "      <th>ideology_a</th>\n",
       "      <th>ideology_b</th>\n",
       "      <th>diff</th>\n",
       "    </tr>\n",
       "    <tr>\n",
       "      <th>afn</th>\n",
       "      <th></th>\n",
       "      <th></th>\n",
       "      <th></th>\n",
       "      <th></th>\n",
       "      <th></th>\n",
       "      <th></th>\n",
       "      <th></th>\n",
       "      <th></th>\n",
       "      <th></th>\n",
       "      <th></th>\n",
       "      <th></th>\n",
       "      <th></th>\n",
       "      <th></th>\n",
       "      <th></th>\n",
       "      <th></th>\n",
       "      <th></th>\n",
       "      <th></th>\n",
       "    </tr>\n",
       "  </thead>\n",
       "  <tbody>\n",
       "    <tr>\n",
       "      <th>sections/H2BABCAF99FDE4CA697DDB7EEC8E7AD87_._govtrackdata_bills_hr_hr253_text-versions_ih_document.anno</th>\n",
       "      <td>H2BABCAF99FDE4CA697DDB7EEC8E7AD87</td>\n",
       "      <td>253</td>\n",
       "      <td>hr</td>\n",
       "      <td>113</td>\n",
       "      <td>ih</td>\n",
       "      <td>2013-01-15</td>\n",
       "      <td>sections/H67FBFE9E0F544717858E8D63C297C405_._g...</td>\n",
       "      <td>H67FBFE9E0F544717858E8D63C297C405</td>\n",
       "      <td>3979</td>\n",
       "      <td>hr</td>\n",
       "      <td>113</td>\n",
       "      <td>eah</td>\n",
       "      <td>2014-12-04</td>\n",
       "      <td>0.806667</td>\n",
       "      <td>-0.022435954878884536</td>\n",
       "      <td>2.1463933359323466</td>\n",
       "      <td>2.168829</td>\n",
       "    </tr>\n",
       "    <tr>\n",
       "      <th>sections/H2BABCAF99FDE4CA697DDB7EEC8E7AD87_._govtrackdata_bills_hr_hr253_text-versions_rh_document.anno</th>\n",
       "      <td>H2BABCAF99FDE4CA697DDB7EEC8E7AD87</td>\n",
       "      <td>253</td>\n",
       "      <td>hr</td>\n",
       "      <td>113</td>\n",
       "      <td>rh</td>\n",
       "      <td>2013-06-06</td>\n",
       "      <td>sections/HFC35A36A980346138EE041DDDF641CAC_._g...</td>\n",
       "      <td>HFC35A36A980346138EE041DDDF641CAC</td>\n",
       "      <td>3979</td>\n",
       "      <td>hr</td>\n",
       "      <td>113</td>\n",
       "      <td>enr</td>\n",
       "      <td>2014-01-01</td>\n",
       "      <td>0.806667</td>\n",
       "      <td>-0.022435954878884536</td>\n",
       "      <td>2.1463933359323466</td>\n",
       "      <td>2.168829</td>\n",
       "    </tr>\n",
       "    <tr>\n",
       "      <th>sections/H2BABCAF99FDE4CA697DDB7EEC8E7AD87_._govtrackdata_bills_hr_hr253_text-versions_ih_document.anno</th>\n",
       "      <td>H2BABCAF99FDE4CA697DDB7EEC8E7AD87</td>\n",
       "      <td>253</td>\n",
       "      <td>hr</td>\n",
       "      <td>113</td>\n",
       "      <td>ih</td>\n",
       "      <td>2013-01-15</td>\n",
       "      <td>sections/HFC35A36A980346138EE041DDDF641CAC_._g...</td>\n",
       "      <td>HFC35A36A980346138EE041DDDF641CAC</td>\n",
       "      <td>3979</td>\n",
       "      <td>hr</td>\n",
       "      <td>113</td>\n",
       "      <td>enr</td>\n",
       "      <td>2014-01-01</td>\n",
       "      <td>0.806667</td>\n",
       "      <td>-0.022435954878884536</td>\n",
       "      <td>2.1463933359323466</td>\n",
       "      <td>2.168829</td>\n",
       "    </tr>\n",
       "    <tr>\n",
       "      <th>sections/H2BABCAF99FDE4CA697DDB7EEC8E7AD87_._govtrackdata_bills_hr_hr253_text-versions_rh_document.anno</th>\n",
       "      <td>H2BABCAF99FDE4CA697DDB7EEC8E7AD87</td>\n",
       "      <td>253</td>\n",
       "      <td>hr</td>\n",
       "      <td>113</td>\n",
       "      <td>rh</td>\n",
       "      <td>2013-06-06</td>\n",
       "      <td>sections/H67FBFE9E0F544717858E8D63C297C405_._g...</td>\n",
       "      <td>H67FBFE9E0F544717858E8D63C297C405</td>\n",
       "      <td>3979</td>\n",
       "      <td>hr</td>\n",
       "      <td>113</td>\n",
       "      <td>eah</td>\n",
       "      <td>2014-12-04</td>\n",
       "      <td>0.806667</td>\n",
       "      <td>-0.022435954878884536</td>\n",
       "      <td>2.1463933359323466</td>\n",
       "      <td>2.168829</td>\n",
       "    </tr>\n",
       "    <tr>\n",
       "      <th>sections/H1E3DB7F859F943A5BC6DD7E714368671_._govtrackdata_bills_hres_hres441_text-versions_eh_document.anno</th>\n",
       "      <td>H1E3DB7F859F943A5BC6DD7E714368671</td>\n",
       "      <td>441</td>\n",
       "      <td>hres</td>\n",
       "      <td>113</td>\n",
       "      <td>eh</td>\n",
       "      <td>2013-12-12</td>\n",
       "      <td>sections/HC55E6E70529F400981EA5B78BB23D7C8_._g...</td>\n",
       "      <td>HC55E6E70529F400981EA5B78BB23D7C8</td>\n",
       "      <td>3979</td>\n",
       "      <td>hr</td>\n",
       "      <td>113</td>\n",
       "      <td>eah</td>\n",
       "      <td>2014-12-04</td>\n",
       "      <td>0.911111</td>\n",
       "      <td>0.37265358475971155</td>\n",
       "      <td>2.1463933359323466</td>\n",
       "      <td>1.773740</td>\n",
       "    </tr>\n",
       "  </tbody>\n",
       "</table>\n",
       "</div>"
      ],
      "text/plain": [
       "                                                                       a_section_guid  \\\n",
       "afn                                                                                     \n",
       "sections/H2BABCAF99FDE4CA697DDB7EEC8E7AD87_._go...  H2BABCAF99FDE4CA697DDB7EEC8E7AD87   \n",
       "sections/H2BABCAF99FDE4CA697DDB7EEC8E7AD87_._go...  H2BABCAF99FDE4CA697DDB7EEC8E7AD87   \n",
       "sections/H2BABCAF99FDE4CA697DDB7EEC8E7AD87_._go...  H2BABCAF99FDE4CA697DDB7EEC8E7AD87   \n",
       "sections/H2BABCAF99FDE4CA697DDB7EEC8E7AD87_._go...  H2BABCAF99FDE4CA697DDB7EEC8E7AD87   \n",
       "sections/H1E3DB7F859F943A5BC6DD7E714368671_._go...  H1E3DB7F859F943A5BC6DD7E714368671   \n",
       "\n",
       "                                                    bill_no_a bill_kind_a  \\\n",
       "afn                                                                         \n",
       "sections/H2BABCAF99FDE4CA697DDB7EEC8E7AD87_._go...        253          hr   \n",
       "sections/H2BABCAF99FDE4CA697DDB7EEC8E7AD87_._go...        253          hr   \n",
       "sections/H2BABCAF99FDE4CA697DDB7EEC8E7AD87_._go...        253          hr   \n",
       "sections/H2BABCAF99FDE4CA697DDB7EEC8E7AD87_._go...        253          hr   \n",
       "sections/H1E3DB7F859F943A5BC6DD7E714368671_._go...        441        hres   \n",
       "\n",
       "                                                    congress_a version_code_a  \\\n",
       "afn                                                                             \n",
       "sections/H2BABCAF99FDE4CA697DDB7EEC8E7AD87_._go...         113             ih   \n",
       "sections/H2BABCAF99FDE4CA697DDB7EEC8E7AD87_._go...         113             rh   \n",
       "sections/H2BABCAF99FDE4CA697DDB7EEC8E7AD87_._go...         113             ih   \n",
       "sections/H2BABCAF99FDE4CA697DDB7EEC8E7AD87_._go...         113             rh   \n",
       "sections/H1E3DB7F859F943A5BC6DD7E714368671_._go...         113             eh   \n",
       "\n",
       "                                                   issued_on_a  \\\n",
       "afn                                                              \n",
       "sections/H2BABCAF99FDE4CA697DDB7EEC8E7AD87_._go...  2013-01-15   \n",
       "sections/H2BABCAF99FDE4CA697DDB7EEC8E7AD87_._go...  2013-06-06   \n",
       "sections/H2BABCAF99FDE4CA697DDB7EEC8E7AD87_._go...  2013-01-15   \n",
       "sections/H2BABCAF99FDE4CA697DDB7EEC8E7AD87_._go...  2013-06-06   \n",
       "sections/H1E3DB7F859F943A5BC6DD7E714368671_._go...  2013-12-12   \n",
       "\n",
       "                                                                                                  bfn  \\\n",
       "afn                                                                                                     \n",
       "sections/H2BABCAF99FDE4CA697DDB7EEC8E7AD87_._go...  sections/H67FBFE9E0F544717858E8D63C297C405_._g...   \n",
       "sections/H2BABCAF99FDE4CA697DDB7EEC8E7AD87_._go...  sections/HFC35A36A980346138EE041DDDF641CAC_._g...   \n",
       "sections/H2BABCAF99FDE4CA697DDB7EEC8E7AD87_._go...  sections/HFC35A36A980346138EE041DDDF641CAC_._g...   \n",
       "sections/H2BABCAF99FDE4CA697DDB7EEC8E7AD87_._go...  sections/H67FBFE9E0F544717858E8D63C297C405_._g...   \n",
       "sections/H1E3DB7F859F943A5BC6DD7E714368671_._go...  sections/HC55E6E70529F400981EA5B78BB23D7C8_._g...   \n",
       "\n",
       "                                                                       b_section_guid  \\\n",
       "afn                                                                                     \n",
       "sections/H2BABCAF99FDE4CA697DDB7EEC8E7AD87_._go...  H67FBFE9E0F544717858E8D63C297C405   \n",
       "sections/H2BABCAF99FDE4CA697DDB7EEC8E7AD87_._go...  HFC35A36A980346138EE041DDDF641CAC   \n",
       "sections/H2BABCAF99FDE4CA697DDB7EEC8E7AD87_._go...  HFC35A36A980346138EE041DDDF641CAC   \n",
       "sections/H2BABCAF99FDE4CA697DDB7EEC8E7AD87_._go...  H67FBFE9E0F544717858E8D63C297C405   \n",
       "sections/H1E3DB7F859F943A5BC6DD7E714368671_._go...  HC55E6E70529F400981EA5B78BB23D7C8   \n",
       "\n",
       "                                                    bill_no_b bill_kind_b  \\\n",
       "afn                                                                         \n",
       "sections/H2BABCAF99FDE4CA697DDB7EEC8E7AD87_._go...       3979          hr   \n",
       "sections/H2BABCAF99FDE4CA697DDB7EEC8E7AD87_._go...       3979          hr   \n",
       "sections/H2BABCAF99FDE4CA697DDB7EEC8E7AD87_._go...       3979          hr   \n",
       "sections/H2BABCAF99FDE4CA697DDB7EEC8E7AD87_._go...       3979          hr   \n",
       "sections/H1E3DB7F859F943A5BC6DD7E714368671_._go...       3979          hr   \n",
       "\n",
       "                                                    congress_b version_code_b  \\\n",
       "afn                                                                             \n",
       "sections/H2BABCAF99FDE4CA697DDB7EEC8E7AD87_._go...         113            eah   \n",
       "sections/H2BABCAF99FDE4CA697DDB7EEC8E7AD87_._go...         113            enr   \n",
       "sections/H2BABCAF99FDE4CA697DDB7EEC8E7AD87_._go...         113            enr   \n",
       "sections/H2BABCAF99FDE4CA697DDB7EEC8E7AD87_._go...         113            eah   \n",
       "sections/H1E3DB7F859F943A5BC6DD7E714368671_._go...         113            eah   \n",
       "\n",
       "                                                   issued_on_b       jac  \\\n",
       "afn                                                                        \n",
       "sections/H2BABCAF99FDE4CA697DDB7EEC8E7AD87_._go...  2014-12-04  0.806667   \n",
       "sections/H2BABCAF99FDE4CA697DDB7EEC8E7AD87_._go...  2014-01-01  0.806667   \n",
       "sections/H2BABCAF99FDE4CA697DDB7EEC8E7AD87_._go...  2014-01-01  0.806667   \n",
       "sections/H2BABCAF99FDE4CA697DDB7EEC8E7AD87_._go...  2014-12-04  0.806667   \n",
       "sections/H1E3DB7F859F943A5BC6DD7E714368671_._go...  2014-12-04  0.911111   \n",
       "\n",
       "                                                               ideology_a  \\\n",
       "afn                                                                         \n",
       "sections/H2BABCAF99FDE4CA697DDB7EEC8E7AD87_._go...  -0.022435954878884536   \n",
       "sections/H2BABCAF99FDE4CA697DDB7EEC8E7AD87_._go...  -0.022435954878884536   \n",
       "sections/H2BABCAF99FDE4CA697DDB7EEC8E7AD87_._go...  -0.022435954878884536   \n",
       "sections/H2BABCAF99FDE4CA697DDB7EEC8E7AD87_._go...  -0.022435954878884536   \n",
       "sections/H1E3DB7F859F943A5BC6DD7E714368671_._go...    0.37265358475971155   \n",
       "\n",
       "                                                            ideology_b  \\\n",
       "afn                                                                      \n",
       "sections/H2BABCAF99FDE4CA697DDB7EEC8E7AD87_._go...  2.1463933359323466   \n",
       "sections/H2BABCAF99FDE4CA697DDB7EEC8E7AD87_._go...  2.1463933359323466   \n",
       "sections/H2BABCAF99FDE4CA697DDB7EEC8E7AD87_._go...  2.1463933359323466   \n",
       "sections/H2BABCAF99FDE4CA697DDB7EEC8E7AD87_._go...  2.1463933359323466   \n",
       "sections/H1E3DB7F859F943A5BC6DD7E714368671_._go...  2.1463933359323466   \n",
       "\n",
       "                                                        diff  \n",
       "afn                                                           \n",
       "sections/H2BABCAF99FDE4CA697DDB7EEC8E7AD87_._go...  2.168829  \n",
       "sections/H2BABCAF99FDE4CA697DDB7EEC8E7AD87_._go...  2.168829  \n",
       "sections/H2BABCAF99FDE4CA697DDB7EEC8E7AD87_._go...  2.168829  \n",
       "sections/H2BABCAF99FDE4CA697DDB7EEC8E7AD87_._go...  2.168829  \n",
       "sections/H1E3DB7F859F943A5BC6DD7E714368671_._go...  1.773740  "
      ]
     },
     "execution_count": 22,
     "metadata": {},
     "output_type": "execute_result"
    }
   ],
   "source": [
    "import pandas as pd\n",
    "import math\n",
    "reuse_df = pd.DataFrame.from_csv(\"pairs_enhanced_again.txt\")\n",
    "# many, many, many unknowns b.c no votes. research opportunity. ideal point w/o vote. interesting... b/c many\n",
    "# things are killed in committee. \n",
    "criterion = reuse_df['ideology_a'].map(lambda x: x != \"unknown\") \n",
    "reuse_df_no_unk = reuse_df[criterion]\n",
    "reuse_df_no_unk[\"diff\"] = abs(reuse_df_no_unk[\"ideology_a\"].astype(float) - reuse_df_no_unk[\"ideology_b\"].astype(float))\n",
    "reuse_df_no_unk[\"diff\"] = reuse_df_no_unk[\"diff\"].astype(float)\n",
    "t = reuse_df_no_unk.sort(\"diff\", ascending =False)\n",
    "t.head()"
   ]
  },
  {
   "cell_type": "markdown",
   "metadata": {},
   "source": [
    "#### Bipartisanship?\n",
    "\n",
    "It appears that a liberal section "
   ]
  },
  {
   "cell_type": "code",
   "execution_count": 29,
   "metadata": {
    "ExecuteTime": {
     "end_time": "2016-12-01T14:11:40.183514",
     "start_time": "2016-12-01T14:11:38.217791"
    },
    "collapsed": false
   },
   "outputs": [
    {
     "name": "stderr",
     "output_type": "stream",
     "text": [
      "/opt/conda/lib/python3.5/site-packages/ipykernel/__main__.py:8: SettingWithCopyWarning: \n",
      "A value is trying to be set on a copy of a slice from a DataFrame.\n",
      "Try using .loc[row_indexer,col_indexer] = value instead\n",
      "\n",
      "See the caveats in the documentation: http://pandas.pydata.org/pandas-docs/stable/indexing.html#indexing-view-versus-copy\n",
      "/opt/conda/lib/python3.5/site-packages/ipykernel/__main__.py:9: SettingWithCopyWarning: \n",
      "A value is trying to be set on a copy of a slice from a DataFrame.\n",
      "Try using .loc[row_indexer,col_indexer] = value instead\n",
      "\n",
      "See the caveats in the documentation: http://pandas.pydata.org/pandas-docs/stable/indexing.html#indexing-view-versus-copy\n",
      "/opt/conda/lib/python3.5/site-packages/ipykernel/__main__.py:10: SettingWithCopyWarning: \n",
      "A value is trying to be set on a copy of a slice from a DataFrame.\n",
      "Try using .loc[row_indexer,col_indexer] = value instead\n",
      "\n",
      "See the caveats in the documentation: http://pandas.pydata.org/pandas-docs/stable/indexing.html#indexing-view-versus-copy\n"
     ]
    },
    {
     "data": {
      "text/plain": [
       "(4, 19)"
      ]
     },
     "execution_count": 29,
     "metadata": {},
     "output_type": "execute_result"
    }
   ],
   "source": [
    "import pandas as pd\n",
    "import math\n",
    "reuse_df = pd.DataFrame.from_csv(\"pairs_enhanced_again.txt\")\n",
    "# many, many, many unknowns b.c no votes. research opportunity. ideal point w/o vote. interesting... b/c many\n",
    "# things are killed in committee. \n",
    "criterion = reuse_df['ideology_a'].map(lambda x: x != \"unknown\") \n",
    "reuse_df_no_unk = reuse_df[criterion]\n",
    "reuse_df_no_unk[\"sa\"] = reuse_df_no_unk[\"ideology_a\"].astype(float)> 0\n",
    "reuse_df_no_unk[\"sb\"] = reuse_df_no_unk[\"ideology_b\"].astype(float)> 0\n",
    "reuse_df_no_unk[\"diff\"] = reuse_df_no_unk[\"sa\"] == reuse_df_no_unk[\"sb\"]\n",
    "c2 = reuse_df_no_unk[\"diff\"].map(lambda x: x == False) \n",
    "reuse_df_no_unk = reuse_df_no_unk[c2]\n",
    "reuse_df_no_unk.shape"
   ]
  }
 ],
 "metadata": {
  "anaconda-cloud": {},
  "kernelspec": {
   "display_name": "Python [default]",
   "language": "python",
   "name": "python3"
  },
  "language_info": {
   "codemirror_mode": {
    "name": "ipython",
    "version": 3
   },
   "file_extension": ".py",
   "mimetype": "text/x-python",
   "name": "python",
   "nbconvert_exporter": "python",
   "pygments_lexer": "ipython3",
   "version": "3.5.2"
  },
  "notify_time": "10",
  "toc": {
   "nav_menu": {
    "height": "228px",
    "width": "252px"
   },
   "navigate_menu": true,
   "number_sections": false,
   "sideBar": true,
   "threshold": 4,
   "toc_cell": false,
   "toc_section_display": "block",
   "toc_window_display": true
  },
  "widgets": {
   "state": {
    "502625beff69417294871e77f499262f": {
     "views": [
      {
       "cell_index": 19
      }
     ]
    },
    "6ddddda01e964dd38fe24238b96c8620": {
     "views": [
      {
       "cell_index": 6
      }
     ]
    }
   },
   "version": "1.2.0"
  }
 },
 "nbformat": 4,
 "nbformat_minor": 0
}
