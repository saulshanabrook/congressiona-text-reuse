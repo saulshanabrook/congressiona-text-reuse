{
 "cells": [
  {
   "cell_type": "code",
   "execution_count": 2,
   "metadata": {
    "ExecuteTime": {
     "end_time": "2016-12-15T00:39:57.644116",
     "start_time": "2016-12-15T00:39:57.608967"
    },
    "collapsed": false
   },
   "outputs": [
    {
     "name": "stdout",
     "output_type": "stream",
     "text": [
      "The autoreload extension is already loaded. To reload it, use:\n",
      "  %reload_ext autoreload\n"
     ]
    }
   ],
   "source": [
    "%load_ext autoreload\n",
    "%autoreload 2"
   ]
  },
  {
   "cell_type": "code",
   "execution_count": 3,
   "metadata": {
    "ExecuteTime": {
     "end_time": "2016-12-15T00:39:58.061058",
     "start_time": "2016-12-15T00:39:57.648149"
    },
    "collapsed": false
   },
   "outputs": [
    {
     "name": "stdout",
     "output_type": "stream",
     "text": [
      "In [3] used 0.000 MiB RAM in 0.002s, peaked 0.000 MiB above current, total RAM usage 42.449 MiB\n"
     ]
    }
   ],
   "source": [
    "from ipython_memwatcher import MemWatcher\n",
    "mw = MemWatcher()\n",
    "mw.start_watching_memory()"
   ]
  },
  {
   "cell_type": "markdown",
   "metadata": {},
   "source": [
    "# Ideal Point Estimation\n",
    "\n",
    "Here we perform Ideal Point Estimation of legislators in 113th Congress.\n",
    "\n",
    "## Load Data\n",
    "### Legislators\n",
    "First we have to load in all legislators (this is for all of time, from GovTrack)."
   ]
  },
  {
   "cell_type": "code",
   "execution_count": 4,
   "metadata": {
    "ExecuteTime": {
     "end_time": "2016-12-15T00:39:59.635568",
     "start_time": "2016-12-15T00:39:58.065844"
    },
    "collapsed": false
   },
   "outputs": [
    {
     "name": "stdout",
     "output_type": "stream",
     "text": [
      "In [4] used 32.953 MiB RAM in 1.448s, peaked 0.000 MiB above current, total RAM usage 75.402 MiB\n"
     ]
    }
   ],
   "source": [
    "import ideal_point.raw_data"
   ]
  },
  {
   "cell_type": "code",
   "execution_count": 5,
   "metadata": {
    "ExecuteTime": {
     "end_time": "2016-12-15T00:40:00.011886",
     "start_time": "2016-12-15T00:39:59.640624"
    },
    "collapsed": false
   },
   "outputs": [
    {
     "data": {
      "text/html": [
       "<div>\n",
       "<table border=\"1\" class=\"dataframe\">\n",
       "  <thead>\n",
       "    <tr style=\"text-align: right;\">\n",
       "      <th></th>\n",
       "      <th>last_name</th>\n",
       "      <th>first_name</th>\n",
       "      <th>birthday</th>\n",
       "      <th>gender</th>\n",
       "      <th>type</th>\n",
       "      <th>state</th>\n",
       "      <th>district</th>\n",
       "      <th>party</th>\n",
       "      <th>url</th>\n",
       "      <th>address</th>\n",
       "      <th>...</th>\n",
       "      <th>thomas_id</th>\n",
       "      <th>opensecrets_id</th>\n",
       "      <th>lis_id</th>\n",
       "      <th>cspan_id</th>\n",
       "      <th>govtrack_id</th>\n",
       "      <th>votesmart_id</th>\n",
       "      <th>ballotpedia_id</th>\n",
       "      <th>washington_post_id</th>\n",
       "      <th>icpsr_id</th>\n",
       "      <th>wikipedia_id</th>\n",
       "    </tr>\n",
       "  </thead>\n",
       "  <tbody>\n",
       "    <tr>\n",
       "      <th>0</th>\n",
       "      <td>Brown</td>\n",
       "      <td>Sherrod</td>\n",
       "      <td>1952-11-09</td>\n",
       "      <td>M</td>\n",
       "      <td>sen</td>\n",
       "      <td>OH</td>\n",
       "      <td>NaN</td>\n",
       "      <td>Democrat</td>\n",
       "      <td>https://www.brown.senate.gov</td>\n",
       "      <td>713 Hart Senate Office Building Washington DC ...</td>\n",
       "      <td>...</td>\n",
       "      <td>136.0</td>\n",
       "      <td>N00003535</td>\n",
       "      <td>S307</td>\n",
       "      <td>5051.0</td>\n",
       "      <td>400050</td>\n",
       "      <td>27018.0</td>\n",
       "      <td>Sherrod Brown</td>\n",
       "      <td>NaN</td>\n",
       "      <td>29389.0</td>\n",
       "      <td>Sherrod Brown</td>\n",
       "    </tr>\n",
       "    <tr>\n",
       "      <th>1</th>\n",
       "      <td>Cantwell</td>\n",
       "      <td>Maria</td>\n",
       "      <td>1958-10-13</td>\n",
       "      <td>F</td>\n",
       "      <td>sen</td>\n",
       "      <td>WA</td>\n",
       "      <td>NaN</td>\n",
       "      <td>Democrat</td>\n",
       "      <td>https://www.cantwell.senate.gov</td>\n",
       "      <td>511 Hart Senate Office Building Washington DC ...</td>\n",
       "      <td>...</td>\n",
       "      <td>172.0</td>\n",
       "      <td>N00007836</td>\n",
       "      <td>S275</td>\n",
       "      <td>26137.0</td>\n",
       "      <td>300018</td>\n",
       "      <td>27122.0</td>\n",
       "      <td>Maria Cantwell</td>\n",
       "      <td>NaN</td>\n",
       "      <td>39310.0</td>\n",
       "      <td>Maria Cantwell</td>\n",
       "    </tr>\n",
       "    <tr>\n",
       "      <th>2</th>\n",
       "      <td>Cardin</td>\n",
       "      <td>Benjamin</td>\n",
       "      <td>1943-10-05</td>\n",
       "      <td>M</td>\n",
       "      <td>sen</td>\n",
       "      <td>MD</td>\n",
       "      <td>NaN</td>\n",
       "      <td>Democrat</td>\n",
       "      <td>https://www.cardin.senate.gov</td>\n",
       "      <td>509 Hart Senate Office Building Washington DC ...</td>\n",
       "      <td>...</td>\n",
       "      <td>174.0</td>\n",
       "      <td>N00001955</td>\n",
       "      <td>S308</td>\n",
       "      <td>4004.0</td>\n",
       "      <td>400064</td>\n",
       "      <td>26888.0</td>\n",
       "      <td>Ben Cardin</td>\n",
       "      <td>NaN</td>\n",
       "      <td>15408.0</td>\n",
       "      <td>Ben Cardin</td>\n",
       "    </tr>\n",
       "    <tr>\n",
       "      <th>3</th>\n",
       "      <td>Carper</td>\n",
       "      <td>Thomas</td>\n",
       "      <td>1947-01-23</td>\n",
       "      <td>M</td>\n",
       "      <td>sen</td>\n",
       "      <td>DE</td>\n",
       "      <td>NaN</td>\n",
       "      <td>Democrat</td>\n",
       "      <td>http://www.carper.senate.gov</td>\n",
       "      <td>513 Hart Senate Office Building Washington DC ...</td>\n",
       "      <td>...</td>\n",
       "      <td>179.0</td>\n",
       "      <td>N00012508</td>\n",
       "      <td>S277</td>\n",
       "      <td>663.0</td>\n",
       "      <td>300019</td>\n",
       "      <td>22421.0</td>\n",
       "      <td>Tom Carper</td>\n",
       "      <td>NaN</td>\n",
       "      <td>15015.0</td>\n",
       "      <td>Tom Carper</td>\n",
       "    </tr>\n",
       "    <tr>\n",
       "      <th>4</th>\n",
       "      <td>Casey</td>\n",
       "      <td>Robert</td>\n",
       "      <td>1960-04-13</td>\n",
       "      <td>M</td>\n",
       "      <td>sen</td>\n",
       "      <td>PA</td>\n",
       "      <td>NaN</td>\n",
       "      <td>Democrat</td>\n",
       "      <td>https://www.casey.senate.gov</td>\n",
       "      <td>393 Russell Senate Office Building Washington ...</td>\n",
       "      <td>...</td>\n",
       "      <td>1828.0</td>\n",
       "      <td>N00027503</td>\n",
       "      <td>S309</td>\n",
       "      <td>47036.0</td>\n",
       "      <td>412246</td>\n",
       "      <td>2541.0</td>\n",
       "      <td>Bob Casey, Jr.</td>\n",
       "      <td>NaN</td>\n",
       "      <td>40703.0</td>\n",
       "      <td>Bob Casey Jr.</td>\n",
       "    </tr>\n",
       "  </tbody>\n",
       "</table>\n",
       "<p>5 rows × 29 columns</p>\n",
       "</div>"
      ],
      "text/plain": [
       "  last_name first_name    birthday gender type state  district     party  \\\n",
       "0     Brown    Sherrod  1952-11-09      M  sen    OH       NaN  Democrat   \n",
       "1  Cantwell      Maria  1958-10-13      F  sen    WA       NaN  Democrat   \n",
       "2    Cardin   Benjamin  1943-10-05      M  sen    MD       NaN  Democrat   \n",
       "3    Carper     Thomas  1947-01-23      M  sen    DE       NaN  Democrat   \n",
       "4     Casey     Robert  1960-04-13      M  sen    PA       NaN  Democrat   \n",
       "\n",
       "                               url  \\\n",
       "0     https://www.brown.senate.gov   \n",
       "1  https://www.cantwell.senate.gov   \n",
       "2    https://www.cardin.senate.gov   \n",
       "3     http://www.carper.senate.gov   \n",
       "4     https://www.casey.senate.gov   \n",
       "\n",
       "                                             address       ...        \\\n",
       "0  713 Hart Senate Office Building Washington DC ...       ...         \n",
       "1  511 Hart Senate Office Building Washington DC ...       ...         \n",
       "2  509 Hart Senate Office Building Washington DC ...       ...         \n",
       "3  513 Hart Senate Office Building Washington DC ...       ...         \n",
       "4  393 Russell Senate Office Building Washington ...       ...         \n",
       "\n",
       "  thomas_id opensecrets_id lis_id cspan_id govtrack_id  votesmart_id  \\\n",
       "0     136.0      N00003535   S307   5051.0      400050       27018.0   \n",
       "1     172.0      N00007836   S275  26137.0      300018       27122.0   \n",
       "2     174.0      N00001955   S308   4004.0      400064       26888.0   \n",
       "3     179.0      N00012508   S277    663.0      300019       22421.0   \n",
       "4    1828.0      N00027503   S309  47036.0      412246        2541.0   \n",
       "\n",
       "   ballotpedia_id washington_post_id icpsr_id    wikipedia_id  \n",
       "0   Sherrod Brown                NaN  29389.0   Sherrod Brown  \n",
       "1  Maria Cantwell                NaN  39310.0  Maria Cantwell  \n",
       "2      Ben Cardin                NaN  15408.0      Ben Cardin  \n",
       "3      Tom Carper                NaN  15015.0      Tom Carper  \n",
       "4  Bob Casey, Jr.                NaN  40703.0   Bob Casey Jr.  \n",
       "\n",
       "[5 rows x 29 columns]"
      ]
     },
     "execution_count": 5,
     "metadata": {},
     "output_type": "execute_result"
    },
    {
     "name": "stdout",
     "output_type": "stream",
     "text": [
      "In [5] used 10.180 MiB RAM in 0.236s, peaked 2.141 MiB above current, total RAM usage 85.582 MiB\n"
     ]
    }
   ],
   "source": [
    "legislator_df = ideal_point.raw_data.legislators()\n",
    "legislator_df.head()"
   ]
  },
  {
   "cell_type": "markdown",
   "metadata": {},
   "source": [
    "### Votes\n",
    "\n",
    "Next we can load in all the votes. We get two dataframes from this, `vote_df` and `position_df`.\n",
    "\n",
    "Each row of `vote_df` corresponds to one roll call vote (like on the passage of a bill).\n",
    "\n",
    "Each row of `position_df` corresponds to one legislators position on a vote."
   ]
  },
  {
   "cell_type": "code",
   "execution_count": 6,
   "metadata": {
    "ExecuteTime": {
     "end_time": "2016-12-15T00:44:52.321110",
     "start_time": "2016-12-15T00:40:00.018791"
    },
    "collapsed": false
   },
   "outputs": [
    {
     "name": "stdout",
     "output_type": "stream",
     "text": [
      "\n",
      "In [6] used 196.160 MiB RAM in 292.140s, peaked 26.590 MiB above current, total RAM usage 281.742 MiB\n"
     ]
    }
   ],
   "source": [
    "vote_df, position_df = ideal_point.raw_data.votes(legislator_df)"
   ]
  },
  {
   "cell_type": "code",
   "execution_count": 7,
   "metadata": {
    "ExecuteTime": {
     "end_time": "2016-12-15T00:44:52.533668",
     "start_time": "2016-12-15T00:44:52.326611"
    },
    "collapsed": false
   },
   "outputs": [
    {
     "data": {
      "text/html": [
       "<div>\n",
       "<table border=\"1\" class=\"dataframe\">\n",
       "  <thead>\n",
       "    <tr style=\"text-align: right;\">\n",
       "      <th></th>\n",
       "      <th>amendment_author</th>\n",
       "      <th>amendment_number</th>\n",
       "      <th>amendment_purpose</th>\n",
       "      <th>amendment_type</th>\n",
       "      <th>bill_congress</th>\n",
       "      <th>bill_number</th>\n",
       "      <th>bill_title</th>\n",
       "      <th>bill_type</th>\n",
       "      <th>category</th>\n",
       "      <th>chamber</th>\n",
       "      <th>...</th>\n",
       "      <th>record_modified</th>\n",
       "      <th>requires</th>\n",
       "      <th>result</th>\n",
       "      <th>result_text</th>\n",
       "      <th>session</th>\n",
       "      <th>source_url</th>\n",
       "      <th>subject</th>\n",
       "      <th>type</th>\n",
       "      <th>updated_at</th>\n",
       "      <th>vote_id</th>\n",
       "    </tr>\n",
       "  </thead>\n",
       "  <tbody>\n",
       "    <tr>\n",
       "      <th>0</th>\n",
       "      <td>NaN</td>\n",
       "      <td>NaN</td>\n",
       "      <td>NaN</td>\n",
       "      <td>NaN</td>\n",
       "      <td>NaN</td>\n",
       "      <td>NaN</td>\n",
       "      <td>NaN</td>\n",
       "      <td>NaN</td>\n",
       "      <td>quorum</td>\n",
       "      <td>h</td>\n",
       "      <td>...</td>\n",
       "      <td>NaN</td>\n",
       "      <td>QUORUM</td>\n",
       "      <td>Passed</td>\n",
       "      <td>Passed</td>\n",
       "      <td>2013</td>\n",
       "      <td>http://clerk.house.gov/evs/2013/roll001.xml</td>\n",
       "      <td>NaN</td>\n",
       "      <td>Call of the House</td>\n",
       "      <td>2014-06-18T11:22:24-04:00</td>\n",
       "      <td>h1-113.2013</td>\n",
       "    </tr>\n",
       "    <tr>\n",
       "      <th>1</th>\n",
       "      <td>NaN</td>\n",
       "      <td>NaN</td>\n",
       "      <td>NaN</td>\n",
       "      <td>NaN</td>\n",
       "      <td>NaN</td>\n",
       "      <td>NaN</td>\n",
       "      <td>NaN</td>\n",
       "      <td>NaN</td>\n",
       "      <td>procedural</td>\n",
       "      <td>h</td>\n",
       "      <td>...</td>\n",
       "      <td>NaN</td>\n",
       "      <td>1/2</td>\n",
       "      <td>Failed</td>\n",
       "      <td>Failed</td>\n",
       "      <td>2013</td>\n",
       "      <td>http://clerk.house.gov/evs/2013/roll010.xml</td>\n",
       "      <td>NaN</td>\n",
       "      <td>On the Motion to Adjourn</td>\n",
       "      <td>2014-06-18T11:22:23-04:00</td>\n",
       "      <td>h10-113.2013</td>\n",
       "    </tr>\n",
       "    <tr>\n",
       "      <th>2</th>\n",
       "      <td>NaN</td>\n",
       "      <td>NaN</td>\n",
       "      <td>NaN</td>\n",
       "      <td>NaN</td>\n",
       "      <td>113.0</td>\n",
       "      <td>1120.0</td>\n",
       "      <td>NaN</td>\n",
       "      <td>hr</td>\n",
       "      <td>recommit</td>\n",
       "      <td>h</td>\n",
       "      <td>...</td>\n",
       "      <td>NaN</td>\n",
       "      <td>1/2</td>\n",
       "      <td>Failed</td>\n",
       "      <td>Failed</td>\n",
       "      <td>2013</td>\n",
       "      <td>http://clerk.house.gov/evs/2013/roll100.xml</td>\n",
       "      <td>Preventing Greater Uncertainty in Labor-Manage...</td>\n",
       "      <td>On the Motion to Recommit</td>\n",
       "      <td>2014-06-18T11:22:04-04:00</td>\n",
       "      <td>h100-113.2013</td>\n",
       "    </tr>\n",
       "    <tr>\n",
       "      <th>3</th>\n",
       "      <td>NaN</td>\n",
       "      <td>NaN</td>\n",
       "      <td>NaN</td>\n",
       "      <td>NaN</td>\n",
       "      <td>113.0</td>\n",
       "      <td>1120.0</td>\n",
       "      <td>NaN</td>\n",
       "      <td>hr</td>\n",
       "      <td>passage</td>\n",
       "      <td>h</td>\n",
       "      <td>...</td>\n",
       "      <td>NaN</td>\n",
       "      <td>1/2</td>\n",
       "      <td>Passed</td>\n",
       "      <td>Passed</td>\n",
       "      <td>2013</td>\n",
       "      <td>http://clerk.house.gov/evs/2013/roll101.xml</td>\n",
       "      <td>Preventing Greater Uncertainty in Labor-Manage...</td>\n",
       "      <td>On Passage of the Bill</td>\n",
       "      <td>2014-06-18T11:22:04-04:00</td>\n",
       "      <td>h101-113.2013</td>\n",
       "    </tr>\n",
       "    <tr>\n",
       "      <th>4</th>\n",
       "      <td>NaN</td>\n",
       "      <td>NaN</td>\n",
       "      <td>NaN</td>\n",
       "      <td>NaN</td>\n",
       "      <td>NaN</td>\n",
       "      <td>NaN</td>\n",
       "      <td>NaN</td>\n",
       "      <td>NaN</td>\n",
       "      <td>procedural</td>\n",
       "      <td>h</td>\n",
       "      <td>...</td>\n",
       "      <td>NaN</td>\n",
       "      <td>1/2</td>\n",
       "      <td>Passed</td>\n",
       "      <td>Passed</td>\n",
       "      <td>2013</td>\n",
       "      <td>http://clerk.house.gov/evs/2013/roll102.xml</td>\n",
       "      <td>NaN</td>\n",
       "      <td>On Approving the Journal</td>\n",
       "      <td>2014-06-18T11:22:04-04:00</td>\n",
       "      <td>h102-113.2013</td>\n",
       "    </tr>\n",
       "  </tbody>\n",
       "</table>\n",
       "<p>5 rows × 26 columns</p>\n",
       "</div>"
      ],
      "text/plain": [
       "  amendment_author  amendment_number amendment_purpose amendment_type  \\\n",
       "0              NaN               NaN               NaN            NaN   \n",
       "1              NaN               NaN               NaN            NaN   \n",
       "2              NaN               NaN               NaN            NaN   \n",
       "3              NaN               NaN               NaN            NaN   \n",
       "4              NaN               NaN               NaN            NaN   \n",
       "\n",
       "   bill_congress  bill_number bill_title bill_type    category chamber  \\\n",
       "0            NaN          NaN        NaN       NaN      quorum       h   \n",
       "1            NaN          NaN        NaN       NaN  procedural       h   \n",
       "2          113.0       1120.0        NaN        hr    recommit       h   \n",
       "3          113.0       1120.0        NaN        hr     passage       h   \n",
       "4            NaN          NaN        NaN       NaN  procedural       h   \n",
       "\n",
       "       ...        record_modified requires  result result_text  session  \\\n",
       "0      ...                    NaN   QUORUM  Passed      Passed     2013   \n",
       "1      ...                    NaN      1/2  Failed      Failed     2013   \n",
       "2      ...                    NaN      1/2  Failed      Failed     2013   \n",
       "3      ...                    NaN      1/2  Passed      Passed     2013   \n",
       "4      ...                    NaN      1/2  Passed      Passed     2013   \n",
       "\n",
       "                                    source_url  \\\n",
       "0  http://clerk.house.gov/evs/2013/roll001.xml   \n",
       "1  http://clerk.house.gov/evs/2013/roll010.xml   \n",
       "2  http://clerk.house.gov/evs/2013/roll100.xml   \n",
       "3  http://clerk.house.gov/evs/2013/roll101.xml   \n",
       "4  http://clerk.house.gov/evs/2013/roll102.xml   \n",
       "\n",
       "                                             subject  \\\n",
       "0                                                NaN   \n",
       "1                                                NaN   \n",
       "2  Preventing Greater Uncertainty in Labor-Manage...   \n",
       "3  Preventing Greater Uncertainty in Labor-Manage...   \n",
       "4                                                NaN   \n",
       "\n",
       "                        type                 updated_at        vote_id  \n",
       "0          Call of the House  2014-06-18T11:22:24-04:00    h1-113.2013  \n",
       "1   On the Motion to Adjourn  2014-06-18T11:22:23-04:00   h10-113.2013  \n",
       "2  On the Motion to Recommit  2014-06-18T11:22:04-04:00  h100-113.2013  \n",
       "3     On Passage of the Bill  2014-06-18T11:22:04-04:00  h101-113.2013  \n",
       "4   On Approving the Journal  2014-06-18T11:22:04-04:00  h102-113.2013  \n",
       "\n",
       "[5 rows x 26 columns]"
      ]
     },
     "execution_count": 7,
     "metadata": {},
     "output_type": "execute_result"
    },
    {
     "name": "stdout",
     "output_type": "stream",
     "text": [
      "In [7] used 0.191 MiB RAM in 0.050s, peaked 0.000 MiB above current, total RAM usage 281.934 MiB\n"
     ]
    }
   ],
   "source": [
    "vote_df.head()"
   ]
  },
  {
   "cell_type": "code",
   "execution_count": 8,
   "metadata": {
    "ExecuteTime": {
     "end_time": "2016-12-15T00:44:52.709398",
     "start_time": "2016-12-15T00:44:52.539450"
    },
    "collapsed": false
   },
   "outputs": [
    {
     "data": {
      "text/html": [
       "<div>\n",
       "<table border=\"1\" class=\"dataframe\">\n",
       "  <thead>\n",
       "    <tr style=\"text-align: right;\">\n",
       "      <th></th>\n",
       "      <th>legislator_index</th>\n",
       "      <th>position</th>\n",
       "      <th>vote_index</th>\n",
       "    </tr>\n",
       "  </thead>\n",
       "  <tbody>\n",
       "    <tr>\n",
       "      <th>0</th>\n",
       "      <td>39</td>\n",
       "      <td>Present</td>\n",
       "      <td>0</td>\n",
       "    </tr>\n",
       "    <tr>\n",
       "      <th>1</th>\n",
       "      <td>12270</td>\n",
       "      <td>Present</td>\n",
       "      <td>0</td>\n",
       "    </tr>\n",
       "    <tr>\n",
       "      <th>2</th>\n",
       "      <td>40</td>\n",
       "      <td>Present</td>\n",
       "      <td>0</td>\n",
       "    </tr>\n",
       "    <tr>\n",
       "      <th>3</th>\n",
       "      <td>376</td>\n",
       "      <td>Present</td>\n",
       "      <td>0</td>\n",
       "    </tr>\n",
       "    <tr>\n",
       "      <th>4</th>\n",
       "      <td>12276</td>\n",
       "      <td>Present</td>\n",
       "      <td>0</td>\n",
       "    </tr>\n",
       "  </tbody>\n",
       "</table>\n",
       "</div>"
      ],
      "text/plain": [
       "   legislator_index position  vote_index\n",
       "0                39  Present           0\n",
       "1             12270  Present           0\n",
       "2                40  Present           0\n",
       "3               376  Present           0\n",
       "4             12276  Present           0"
      ]
     },
     "execution_count": 8,
     "metadata": {},
     "output_type": "execute_result"
    },
    {
     "name": "stdout",
     "output_type": "stream",
     "text": [
      "In [8] used 0.000 MiB RAM in 0.026s, peaked 0.000 MiB above current, total RAM usage 281.934 MiB\n"
     ]
    }
   ],
   "source": [
    "position_df.head()"
   ]
  },
  {
   "cell_type": "markdown",
   "metadata": {},
   "source": [
    "## Transform Data\n",
    "\n",
    "Next we have to transform our data to a format we can train our model on.\n",
    "\n",
    "Our observed data is basically `position_df`. but instead of categorical `position`s, we need them to\n",
    "be 1s and 0s. Also, since we aren't using all of the legislators, we need to transform\n",
    "the `legislator_index` into a relative index. We call this transformed dataframe `model_position_df`."
   ]
  },
  {
   "cell_type": "code",
   "execution_count": 9,
   "metadata": {
    "ExecuteTime": {
     "end_time": "2016-12-15T00:44:54.446655",
     "start_time": "2016-12-15T00:44:52.714551"
    },
    "collapsed": false
   },
   "outputs": [
    {
     "name": "stdout",
     "output_type": "stream",
     "text": [
      "In [9] used 9.730 MiB RAM in 1.581s, peaked 0.000 MiB above current, total RAM usage 291.664 MiB\n"
     ]
    }
   ],
   "source": [
    "import ideal_point.ideal_point"
   ]
  },
  {
   "cell_type": "code",
   "execution_count": 10,
   "metadata": {
    "ExecuteTime": {
     "end_time": "2016-12-15T00:44:56.091294",
     "start_time": "2016-12-15T00:44:54.451828"
    },
    "collapsed": false
   },
   "outputs": [
    {
     "name": "stdout",
     "output_type": "stream",
     "text": [
      "In [10] used 23.309 MiB RAM in 1.477s, peaked 75.188 MiB above current, total RAM usage 314.973 MiB\n"
     ]
    }
   ],
   "source": [
    "model_position_df, model_legislator_index, model_vote_index = ideal_point.ideal_point.transform_data(position_df, vote_df, legislator_df)"
   ]
  },
  {
   "cell_type": "code",
   "execution_count": 11,
   "metadata": {
    "ExecuteTime": {
     "end_time": "2016-12-15T00:44:56.265845",
     "start_time": "2016-12-15T00:44:56.095482"
    },
    "collapsed": false
   },
   "outputs": [
    {
     "data": {
      "text/html": [
       "<div>\n",
       "<table border=\"1\" class=\"dataframe\">\n",
       "  <thead>\n",
       "    <tr style=\"text-align: right;\">\n",
       "      <th></th>\n",
       "      <th>legislator</th>\n",
       "      <th>position</th>\n",
       "      <th>vote</th>\n",
       "    </tr>\n",
       "  </thead>\n",
       "  <tbody>\n",
       "    <tr>\n",
       "      <th>0</th>\n",
       "      <td>39</td>\n",
       "      <td>0</td>\n",
       "      <td>0</td>\n",
       "    </tr>\n",
       "    <tr>\n",
       "      <th>1</th>\n",
       "      <td>530</td>\n",
       "      <td>0</td>\n",
       "      <td>0</td>\n",
       "    </tr>\n",
       "    <tr>\n",
       "      <th>2</th>\n",
       "      <td>40</td>\n",
       "      <td>0</td>\n",
       "      <td>0</td>\n",
       "    </tr>\n",
       "    <tr>\n",
       "      <th>3</th>\n",
       "      <td>375</td>\n",
       "      <td>0</td>\n",
       "      <td>0</td>\n",
       "    </tr>\n",
       "    <tr>\n",
       "      <th>4</th>\n",
       "      <td>0</td>\n",
       "      <td>0</td>\n",
       "      <td>0</td>\n",
       "    </tr>\n",
       "  </tbody>\n",
       "</table>\n",
       "</div>"
      ],
      "text/plain": [
       "   legislator  position  vote\n",
       "0          39         0     0\n",
       "1         530         0     0\n",
       "2          40         0     0\n",
       "3         375         0     0\n",
       "4           0         0     0"
      ]
     },
     "execution_count": 11,
     "metadata": {},
     "output_type": "execute_result"
    },
    {
     "name": "stdout",
     "output_type": "stream",
     "text": [
      "In [11] used 0.000 MiB RAM in 0.011s, peaked 0.000 MiB above current, total RAM usage 314.973 MiB\n"
     ]
    }
   ],
   "source": [
    "model_position_df.head()"
   ]
  },
  {
   "cell_type": "code",
   "execution_count": 12,
   "metadata": {
    "ExecuteTime": {
     "end_time": "2016-12-15T00:44:56.502222",
     "start_time": "2016-12-15T00:44:56.274807"
    },
    "collapsed": false
   },
   "outputs": [
    {
     "name": "stdout",
     "output_type": "stream",
     "text": [
      "<class 'pandas.core.frame.DataFrame'>\n",
      "RangeIndex: 508555 entries, 0 to 508554\n",
      "Data columns (total 3 columns):\n",
      "legislator    508555 non-null int64\n",
      "position      508555 non-null int64\n",
      "vote          508555 non-null int64\n",
      "dtypes: int64(3)\n",
      "memory usage: 11.6 MB\n",
      "In [12] used 0.012 MiB RAM in 0.031s, peaked 0.000 MiB above current, total RAM usage 314.984 MiB\n"
     ]
    }
   ],
   "source": [
    "model_position_df.info()"
   ]
  },
  {
   "cell_type": "markdown",
   "metadata": {},
   "source": [
    "The two series `model_legislator_index` and `model_vote_index` map the values in `model_position_df` to the full dataframes, from index to value."
   ]
  },
  {
   "cell_type": "markdown",
   "metadata": {},
   "source": [
    "## Create Model\n",
    "\n",
    "Now we can create our model, given we have observed those votes. The notation is based\n",
    "on [\"Comparing NOMINATE and IDEAL: Points of Difference and Monte Carlo Tests\"](http://scholar-qa.princeton.edu/sites/default/files/jameslo/files/lsq_nomvsideal.pdf)."
   ]
  },
  {
   "cell_type": "code",
   "execution_count": 13,
   "metadata": {
    "ExecuteTime": {
     "end_time": "2016-12-15T00:44:56.690353",
     "start_time": "2016-12-15T00:44:56.506289"
    },
    "collapsed": false
   },
   "outputs": [
    {
     "name": "stdout",
     "output_type": "stream",
     "text": [
      "In [13] used 0.008 MiB RAM in 0.024s, peaked 0.000 MiB above current, total RAM usage 314.992 MiB\n"
     ]
    }
   ],
   "source": [
    "import ideal_point.gradient"
   ]
  },
  {
   "cell_type": "code",
   "execution_count": 14,
   "metadata": {
    "ExecuteTime": {
     "end_time": "2016-12-15T00:45:01.484945",
     "start_time": "2016-12-15T00:44:56.695389"
    },
    "collapsed": false,
    "scrolled": true
   },
   "outputs": [
    {
     "name": "stdout",
     "output_type": "stream",
     "text": [
      "In [14] used 876.410 MiB RAM in 4.620s, peaked 0.000 MiB above current, total RAM usage 1191.402 MiB\n"
     ]
    }
   ],
   "source": [
    "g = ideal_point.gradient.Gradient(model_position_df)"
   ]
  },
  {
   "cell_type": "code",
   "execution_count": 15,
   "metadata": {
    "ExecuteTime": {
     "end_time": "2016-12-15T00:45:01.741305",
     "start_time": "2016-12-15T00:45:01.494692"
    },
    "collapsed": false
   },
   "outputs": [
    {
     "data": {
      "text/plain": [
       "(548, 1446)"
      ]
     },
     "execution_count": 15,
     "metadata": {},
     "output_type": "execute_result"
    },
    {
     "name": "stdout",
     "output_type": "stream",
     "text": [
      "In [15] used 0.195 MiB RAM in 0.019s, peaked 0.000 MiB above current, total RAM usage 1191.598 MiB\n"
     ]
    }
   ],
   "source": [
    "g.n_legislators, g.n_votes"
   ]
  },
  {
   "cell_type": "markdown",
   "metadata": {},
   "source": [
    "## Train Model\n",
    "\n",
    "Now we can run variational inference to compute estimated parameters for the model."
   ]
  },
  {
   "cell_type": "code",
   "execution_count": 16,
   "metadata": {
    "ExecuteTime": {
     "end_time": "2016-12-15T00:45:01.917438",
     "start_time": "2016-12-15T00:45:01.745369"
    },
    "collapsed": false
   },
   "outputs": [
    {
     "name": "stdout",
     "output_type": "stream",
     "text": [
      "In [16] used 0.000 MiB RAM in 0.003s, peaked 0.000 MiB above current, total RAM usage 1191.598 MiB\n"
     ]
    }
   ],
   "source": [
    "# g.run(1000)\n",
    "# params = g.params\n",
    "# ideal_point.ideal_point.save_params(params)"
   ]
  },
  {
   "cell_type": "markdown",
   "metadata": {},
   "source": [
    "Or load it from disk, if we have already computed it (takes about an hour and a half on my computer)"
   ]
  },
  {
   "cell_type": "code",
   "execution_count": 17,
   "metadata": {
    "ExecuteTime": {
     "end_time": "2016-12-15T00:45:02.125971",
     "start_time": "2016-12-15T00:45:01.925545"
    },
    "collapsed": false
   },
   "outputs": [
    {
     "name": "stdout",
     "output_type": "stream",
     "text": [
      "In [17] used 0.000 MiB RAM in 0.032s, peaked 0.000 MiB above current, total RAM usage 1191.598 MiB\n"
     ]
    }
   ],
   "source": [
    "params = ideal_point.ideal_point.load_params()"
   ]
  },
  {
   "cell_type": "markdown",
   "metadata": {},
   "source": [
    "## Integrate Data\n",
    "\n",
    "Now we can integrate the parameters we learned backed info our `vote_df` and `legislator_df`. We add a `ideology` column to both of them and filter out rows without ideal points. We also add a `bias` to the votes (which is greater if any senator is more likely to vote yes)."
   ]
  },
  {
   "cell_type": "code",
   "execution_count": 18,
   "metadata": {
    "ExecuteTime": {
     "end_time": "2016-12-15T00:45:02.428516",
     "start_time": "2016-12-15T00:45:02.136149"
    },
    "collapsed": false
   },
   "outputs": [
    {
     "name": "stdout",
     "output_type": "stream",
     "text": [
      "In [18] used 6.031 MiB RAM in 0.089s, peaked 0.000 MiB above current, total RAM usage 1197.629 MiB\n"
     ]
    }
   ],
   "source": [
    "legislators_pt_df = ideal_point.ideal_point.leg_add_ideology(legislator_df, model_legislator_index, g.params)\n",
    "vote_pt_df = ideal_point.ideal_point.vote_add_ideology_and_bias(vote_df, model_vote_index, g.params)"
   ]
  },
  {
   "cell_type": "markdown",
   "metadata": {},
   "source": [
    "### Visualize Points\n",
    "\n",
    "We can do a quick gut chuck of our legislator ideal points to make sure they seperate democrats and republicans"
   ]
  },
  {
   "cell_type": "code",
   "execution_count": 19,
   "metadata": {
    "ExecuteTime": {
     "end_time": "2016-12-15T00:45:02.823379",
     "start_time": "2016-12-15T00:45:02.435958"
    },
    "collapsed": false
   },
   "outputs": [
    {
     "name": "stdout",
     "output_type": "stream",
     "text": [
      "In [19] used 0.004 MiB RAM in 0.233s, peaked 0.000 MiB above current, total RAM usage 1197.633 MiB\n"
     ]
    }
   ],
   "source": [
    "from altair import *"
   ]
  },
  {
   "cell_type": "code",
   "execution_count": 20,
   "metadata": {
    "ExecuteTime": {
     "end_time": "2016-12-15T00:45:03.113698",
     "start_time": "2016-12-15T00:45:02.826534"
    },
    "collapsed": false
   },
   "outputs": [
    {
     "data": {
      "text/html": [
       "<div class=\"vega-embed\" id=\"88adb746-aa5e-4810-a5a8-5af834fe787c\"></div>\n",
       "\n",
       "<style>\n",
       ".vega-embed svg, .vega-embed canvas {\n",
       "  border: 1px dotted gray;\n",
       "}\n",
       "\n",
       ".vega-embed .vega-actions a {\n",
       "  margin-right: 6px;\n",
       "}\n",
       "</style>\n"
      ]
     },
     "metadata": {
      "jupyter-vega": "#88adb746-aa5e-4810-a5a8-5af834fe787c"
     },
     "output_type": "display_data"
    },
    {
     "data": {
      "application/javascript": [
       "var spec = {\"config\": {\"cell\": {\"height\": 350, \"width\": 500}}, \"encoding\": {\"y\": {\"type\": \"ordinal\", \"field\": \"party\"}, \"x\": {\"type\": \"quantitative\", \"field\": \"ideology\"}}, \"mark\": \"tick\", \"data\": {\"values\": [{\"party\": \"Democrat\", \"ideology\": -0.8618335624740766}, {\"party\": \"Democrat\", \"ideology\": 1.1026867046459576}, {\"party\": \"Democrat\", \"ideology\": 0.3142016428870198}, {\"party\": \"Democrat\", \"ideology\": 0.04600021808402949}, {\"party\": \"Democrat\", \"ideology\": -0.7208288434737169}, {\"party\": \"Republican\", \"ideology\": -1.2313768228301272}, {\"party\": \"Democrat\", \"ideology\": -2.115998126031784}, {\"party\": \"Republican\", \"ideology\": 0.251718468320694}, {\"party\": \"Democrat\", \"ideology\": 0.13625475076282414}, {\"party\": \"Democrat\", \"ideology\": -0.18761106623950263}, {\"party\": \"Democrat\", \"ideology\": -1.2811898648698494}, {\"party\": \"Democrat\", \"ideology\": -0.6861647361201727}, {\"party\": \"Independent\", \"ideology\": -2.2162154741993407}, {\"party\": \"Democrat\", \"ideology\": 0.5514898649074591}, {\"party\": \"Democrat\", \"ideology\": -0.6084618692520362}, {\"party\": \"Democrat\", \"ideology\": -0.6924056554657554}, {\"party\": \"Republican\", \"ideology\": 0.9894486746168829}, {\"party\": \"Republican\", \"ideology\": -0.9129860623934999}, {\"party\": \"Republican\", \"ideology\": 1.5041378831446153}, {\"party\": \"Republican\", \"ideology\": -0.9203077068724141}, {\"party\": \"Republican\", \"ideology\": -0.043174587293573714}, {\"party\": \"Republican\", \"ideology\": -0.4412012655381337}, {\"party\": \"Democrat\", \"ideology\": -0.41879563159934935}, {\"party\": \"Republican\", \"ideology\": -0.05692479194458862}, {\"party\": \"Republican\", \"ideology\": 0.5350607831283135}, {\"party\": \"Republican\", \"ideology\": -1.309359639276327}, {\"party\": \"Republican\", \"ideology\": 0.6101117728444982}, {\"party\": \"Democrat\", \"ideology\": -0.3237109811934921}, {\"party\": \"Democrat\", \"ideology\": -0.4854240458698462}, {\"party\": \"Republican\", \"ideology\": 0.4766981415260243}, {\"party\": \"Republican\", \"ideology\": 0.2347996927523313}, {\"party\": \"Republican\", \"ideology\": -0.08653081238700641}, {\"party\": \"Democrat\", \"ideology\": 1.441825899978329}, {\"party\": \"Democrat\", \"ideology\": -0.60963837787852}, {\"party\": \"Democrat\", \"ideology\": -0.6638184726607647}, {\"party\": \"Democrat\", \"ideology\": 0.550736997131179}, {\"party\": \"Democrat\", \"ideology\": -0.05094662444113949}, {\"party\": \"Democrat\", \"ideology\": 2.7837717512771953}, {\"party\": \"Democrat\", \"ideology\": 1.1103236257072198}, {\"party\": \"Republican\", \"ideology\": 0.029009855396917736}, {\"party\": \"Republican\", \"ideology\": -1.6021616403443142}, {\"party\": \"Republican\", \"ideology\": 1.6082105961653843}, {\"party\": \"Democrat\", \"ideology\": 0.41512700879126074}, {\"party\": \"Republican\", \"ideology\": -1.555035383502594}, {\"party\": \"Republican\", \"ideology\": 1.8342478906962134}, {\"party\": \"Democrat\", \"ideology\": -0.16258768956209177}, {\"party\": \"Democrat\", \"ideology\": -0.22562199595919014}, {\"party\": \"Republican\", \"ideology\": 0.9315087136806449}, {\"party\": \"Democrat\", \"ideology\": 0.6237431030773202}, {\"party\": \"Republican\", \"ideology\": -0.4495550937024484}, {\"party\": \"Republican\", \"ideology\": 0.9233734465702171}, {\"party\": \"Democrat\", \"ideology\": 0.5544445240258813}, {\"party\": \"Republican\", \"ideology\": -1.6204865123572245}, {\"party\": \"Republican\", \"ideology\": 0.3397160296825113}, {\"party\": \"Democrat\", \"ideology\": -1.0795853460975602}, {\"party\": \"Democrat\", \"ideology\": -0.556094356192038}, {\"party\": \"Republican\", \"ideology\": -1.1770776777747898}, {\"party\": \"Republican\", \"ideology\": 0.039937782111096845}, {\"party\": \"Republican\", \"ideology\": -1.3674981484593802}, {\"party\": \"Democrat\", \"ideology\": -1.097447760887427}, {\"party\": \"Republican\", \"ideology\": 0.5027556072131376}, {\"party\": \"Democrat\", \"ideology\": -1.2452244034029814}, {\"party\": \"Republican\", \"ideology\": 0.27959462145938085}, {\"party\": \"Democrat\", \"ideology\": -2.4999553077033823}, {\"party\": \"Republican\", \"ideology\": 0.9135765635902869}, {\"party\": \"Republican\", \"ideology\": -0.5567739197396457}, {\"party\": \"Republican\", \"ideology\": -1.7025094374802252}, {\"party\": \"Republican\", \"ideology\": -2.4345363995704496}, {\"party\": \"Democrat\", \"ideology\": -0.8664922489146626}, {\"party\": \"Republican\", \"ideology\": 0.4390837698146897}, {\"party\": \"Republican\", \"ideology\": -0.6995374107845005}, {\"party\": \"Democrat\", \"ideology\": -0.20498948438642534}, {\"party\": \"Democrat\", \"ideology\": 0.3728718169508226}, {\"party\": \"Democrat\", \"ideology\": -0.12229554211681933}, {\"party\": \"Democrat\", \"ideology\": -2.0486409596676936}, {\"party\": \"Republican\", \"ideology\": -0.675470559893937}, {\"party\": \"Republican\", \"ideology\": -0.6891888528436028}, {\"party\": \"Democrat\", \"ideology\": 0.08395947694824359}, {\"party\": \"Republican\", \"ideology\": 0.3912290265632106}, {\"party\": \"Republican\", \"ideology\": -0.5972005687366001}, {\"party\": \"Democrat\", \"ideology\": -0.16090037870116128}, {\"party\": \"Democrat\", \"ideology\": -0.29713468265797743}, {\"party\": \"Democrat\", \"ideology\": -0.0786824616502131}, {\"party\": \"Democrat\", \"ideology\": -0.6101701092660424}, {\"party\": \"Democrat\", \"ideology\": 0.3041879965102213}, {\"party\": \"Democrat\", \"ideology\": 0.5030860534470212}, {\"party\": \"Republican\", \"ideology\": 1.218216659124212}, {\"party\": \"Republican\", \"ideology\": -2.6920840543010813}, {\"party\": \"Democrat\", \"ideology\": 1.7083838197260865}, {\"party\": \"Republican\", \"ideology\": -0.03070866269330206}, {\"party\": \"Republican\", \"ideology\": 0.6646861482179633}, {\"party\": \"Democrat\", \"ideology\": -0.3825699138662749}, {\"party\": \"Democrat\", \"ideology\": -2.5059630413450558}, {\"party\": \"Democrat\", \"ideology\": -0.15035019404363986}, {\"party\": \"Democrat\", \"ideology\": 0.08494026822533642}, {\"party\": \"Democrat\", \"ideology\": 0.5695788958474357}, {\"party\": \"Republican\", \"ideology\": 1.0628055372880512}, {\"party\": \"Republican\", \"ideology\": 2.122031652454956}, {\"party\": \"Republican\", \"ideology\": 0.24040310240569776}, {\"party\": \"Democrat\", \"ideology\": 0.5051396639697335}, {\"party\": \"Democrat\", \"ideology\": -0.19761816877298619}, {\"party\": \"Republican\", \"ideology\": -0.18513842955638898}, {\"party\": \"Democrat\", \"ideology\": -1.7283452841851445}, {\"party\": \"Democrat\", \"ideology\": -0.7067546618217448}, {\"party\": \"Democrat\", \"ideology\": -0.08458900301284483}, {\"party\": \"Democrat\", \"ideology\": 0.13771808711802974}, {\"party\": \"Democrat\", \"ideology\": -0.6542007875416976}, {\"party\": \"Democrat\", \"ideology\": 1.1593664435262}, {\"party\": \"Republican\", \"ideology\": 0.8590833113339615}, {\"party\": \"Republican\", \"ideology\": 1.6416740278494657}, {\"party\": \"Republican\", \"ideology\": 0.14021471946001066}, {\"party\": \"Democrat\", \"ideology\": 2.90409064338286}, {\"party\": \"Republican\", \"ideology\": 0.6543133206777872}, {\"party\": \"Democrat\", \"ideology\": -1.7186524412442254}, {\"party\": \"Democrat\", \"ideology\": 0.5097472957973058}, {\"party\": \"Democrat\", \"ideology\": 1.3565414831029459}, {\"party\": \"Republican\", \"ideology\": -0.05477118616480168}, {\"party\": \"Republican\", \"ideology\": -0.470102462979743}, {\"party\": \"Republican\", \"ideology\": 0.7133762637971093}, {\"party\": \"Democrat\", \"ideology\": 1.0716342919680941}, {\"party\": \"Democrat\", \"ideology\": -1.7283256408126864}, {\"party\": \"Republican\", \"ideology\": -0.8397112666926702}, {\"party\": \"Democrat\", \"ideology\": -1.387735029238855}, {\"party\": \"Democrat\", \"ideology\": -0.008891205412314198}, {\"party\": \"Republican\", \"ideology\": -0.9892651181049549}, {\"party\": \"Democrat\", \"ideology\": 1.8469820047595775}, {\"party\": \"Republican\", \"ideology\": 0.05755991238515054}, {\"party\": \"Republican\", \"ideology\": 1.0251313665659936}, {\"party\": \"Republican\", \"ideology\": -0.3255915679774285}, {\"party\": \"Republican\", \"ideology\": 0.5776697788159695}, {\"party\": \"Republican\", \"ideology\": -0.5241643715233464}, {\"party\": \"Republican\", \"ideology\": 0.9869037718314562}, {\"party\": \"Republican\", \"ideology\": -0.20460367051462386}, {\"party\": \"Republican\", \"ideology\": -1.205450590653809}, {\"party\": \"Republican\", \"ideology\": -0.9250572107172563}, {\"party\": \"Republican\", \"ideology\": -0.1724424694453144}, {\"party\": \"Republican\", \"ideology\": -0.9659255288146052}, {\"party\": \"Democrat\", \"ideology\": -1.6080200734875592}, {\"party\": \"Democrat\", \"ideology\": 1.5574915258168514}, {\"party\": \"Republican\", \"ideology\": 0.4279345419297388}, {\"party\": \"Republican\", \"ideology\": 1.2163069809057088}, {\"party\": \"Republican\", \"ideology\": -0.833446598471789}, {\"party\": \"Republican\", \"ideology\": -2.1393015971583007}, {\"party\": \"Republican\", \"ideology\": 0.1885184953850093}, {\"party\": \"Republican\", \"ideology\": 0.36185049999811814}, {\"party\": \"Republican\", \"ideology\": 1.149513139802029}, {\"party\": \"Republican\", \"ideology\": -0.06811984485258311}, {\"party\": \"Republican\", \"ideology\": -0.573624395868082}, {\"party\": \"Republican\", \"ideology\": 0.37599761455494385}, {\"party\": \"Republican\", \"ideology\": 1.1610086828430943}, {\"party\": \"Republican\", \"ideology\": -0.6300970830754958}, {\"party\": \"Democrat\", \"ideology\": 1.2440209747952118}, {\"party\": \"Democrat\", \"ideology\": 1.0568284323771704}, {\"party\": \"Republican\", \"ideology\": -0.9049813539145795}, {\"party\": \"Democrat\", \"ideology\": 0.8872186882938214}, {\"party\": \"Republican\", \"ideology\": 0.8887752681930909}, {\"party\": \"Democrat\", \"ideology\": 0.33968567292081875}, {\"party\": \"Republican\", \"ideology\": -0.35427479886519286}, {\"party\": \"Republican\", \"ideology\": -1.390206557310992}, {\"party\": \"Republican\", \"ideology\": -0.5501262482121746}, {\"party\": \"Republican\", \"ideology\": -2.334545148242012}, {\"party\": \"Democrat\", \"ideology\": 0.101617488353146}, {\"party\": \"Republican\", \"ideology\": 0.8330744763053967}, {\"party\": \"Democrat\", \"ideology\": -0.8880904765162284}, {\"party\": \"Republican\", \"ideology\": 0.12622833738630243}, {\"party\": \"Republican\", \"ideology\": -1.9747614300092875}, {\"party\": \"Democrat\", \"ideology\": 1.1652306642593964}, {\"party\": \"Democrat\", \"ideology\": 0.880448904294128}, {\"party\": \"Democrat\", \"ideology\": -0.6456952398973582}, {\"party\": \"Democrat\", \"ideology\": -1.5170173117228911}, {\"party\": \"Republican\", \"ideology\": 2.0069196432002934}, {\"party\": \"Democrat\", \"ideology\": 1.8089787183647128}, {\"party\": \"Democrat\", \"ideology\": 0.7157662583970293}, {\"party\": \"Republican\", \"ideology\": -0.12536689919967695}, {\"party\": \"Republican\", \"ideology\": 0.03395264088147519}, {\"party\": \"Republican\", \"ideology\": -0.19259865032570192}, {\"party\": \"Republican\", \"ideology\": -0.11778507445003442}, {\"party\": \"Republican\", \"ideology\": 1.448050650911058}, {\"party\": \"Republican\", \"ideology\": -0.7076248273965968}, {\"party\": \"Democrat\", \"ideology\": 1.6673230951509157}, {\"party\": \"Republican\", \"ideology\": 0.6503756579803456}, {\"party\": \"Democrat\", \"ideology\": -1.3314815726151494}, {\"party\": \"Republican\", \"ideology\": -0.13555471903609198}, {\"party\": \"Republican\", \"ideology\": -1.1237442096822152}, {\"party\": \"Democrat\", \"ideology\": 0.1727665316393917}, {\"party\": \"Democrat\", \"ideology\": 1.384260510872073}, {\"party\": \"Republican\", \"ideology\": -1.008610233573742}, {\"party\": \"Republican\", \"ideology\": -1.7107301816820453}, {\"party\": \"Republican\", \"ideology\": -1.5245142565719056}, {\"party\": \"Republican\", \"ideology\": 0.2711781672824307}, {\"party\": \"Democrat\", \"ideology\": 1.2677113553845683}, {\"party\": \"Democrat\", \"ideology\": -0.20536865170360105}, {\"party\": \"Republican\", \"ideology\": -0.08329608922820232}, {\"party\": \"Democrat\", \"ideology\": 0.5158236444603373}, {\"party\": \"Republican\", \"ideology\": -2.0449532539492963}, {\"party\": \"Republican\", \"ideology\": 1.9428368320759979}, {\"party\": \"Republican\", \"ideology\": -0.2170369331990587}, {\"party\": \"Republican\", \"ideology\": -0.08516011320709364}, {\"party\": \"Republican\", \"ideology\": -1.008257522014871}, {\"party\": \"Republican\", \"ideology\": 1.003659768013046}, {\"party\": \"Republican\", \"ideology\": -0.22900552615928604}, {\"party\": \"Republican\", \"ideology\": -1.9080064663303695}, {\"party\": \"Democrat\", \"ideology\": 0.24172993035974363}, {\"party\": \"Republican\", \"ideology\": 0.5104428607245718}, {\"party\": \"Democrat\", \"ideology\": 0.09529331196160715}, {\"party\": \"Democrat\", \"ideology\": -0.18227268395153787}, {\"party\": \"Republican\", \"ideology\": 0.709283136603576}, {\"party\": \"Democrat\", \"ideology\": 1.5336116458069107}, {\"party\": \"Democrat\", \"ideology\": 0.08131440177954012}, {\"party\": \"Republican\", \"ideology\": -0.10552062205537965}, {\"party\": \"Democrat\", \"ideology\": 1.345897040641943}, {\"party\": \"Democrat\", \"ideology\": -0.5498037614630855}, {\"party\": \"Democrat\", \"ideology\": -0.24390554720035035}, {\"party\": \"Republican\", \"ideology\": 0.24903312251098728}, {\"party\": \"Democrat\", \"ideology\": 0.19231737126995344}, {\"party\": \"Democrat\", \"ideology\": 0.9330560480635486}, {\"party\": \"Republican\", \"ideology\": -0.026964748718463893}, {\"party\": \"Democrat\", \"ideology\": -0.8613363116804799}, {\"party\": \"Republican\", \"ideology\": -0.8826417912454076}, {\"party\": \"Republican\", \"ideology\": -1.699248005949619}, {\"party\": \"Democrat\", \"ideology\": -0.8611843930886751}, {\"party\": \"Republican\", \"ideology\": 0.8042094855468013}, {\"party\": \"Democrat\", \"ideology\": -0.80153531797043}, {\"party\": \"Democrat\", \"ideology\": -2.1121893175337707}, {\"party\": \"Republican\", \"ideology\": 0.19161834027588337}, {\"party\": \"Republican\", \"ideology\": 0.10931689411373714}, {\"party\": \"Democrat\", \"ideology\": 0.44963705876447685}, {\"party\": \"Democrat\", \"ideology\": 0.6256518025918621}, {\"party\": \"Republican\", \"ideology\": -1.9831114792978124}, {\"party\": \"Republican\", \"ideology\": 0.4105808668029679}, {\"party\": \"Republican\", \"ideology\": -0.9508572239805172}, {\"party\": \"Republican\", \"ideology\": 0.6102096513286831}, {\"party\": \"Democrat\", \"ideology\": -0.5802719043846702}, {\"party\": \"Democrat\", \"ideology\": -1.3829354079944756}, {\"party\": \"Democrat\", \"ideology\": -1.401069707780488}, {\"party\": \"Republican\", \"ideology\": -1.2624889188011845}, {\"party\": \"Republican\", \"ideology\": 1.3831778136204669}, {\"party\": \"Republican\", \"ideology\": 0.05820795197101105}, {\"party\": \"Democrat\", \"ideology\": 0.39798201375329}, {\"party\": \"Republican\", \"ideology\": 0.6239672816133072}, {\"party\": \"Democrat\", \"ideology\": 0.049593820673028165}, {\"party\": \"Republican\", \"ideology\": -2.24045551217227}, {\"party\": \"Democrat\", \"ideology\": 0.32363280708100106}, {\"party\": \"Republican\", \"ideology\": 1.0233588207975044}, {\"party\": \"Republican\", \"ideology\": -0.8158888979817063}, {\"party\": \"Democrat\", \"ideology\": 0.5898456840897057}, {\"party\": \"Republican\", \"ideology\": -0.7058344865751133}, {\"party\": \"Republican\", \"ideology\": -0.0552391767174806}, {\"party\": \"Republican\", \"ideology\": -0.2446680824392214}, {\"party\": \"Democrat\", \"ideology\": 1.5535032542044018}, {\"party\": \"Republican\", \"ideology\": 1.4386464433467872}, {\"party\": \"Democrat\", \"ideology\": -0.9504538457745666}, {\"party\": \"Democrat\", \"ideology\": -1.0396433116186958}, {\"party\": \"Democrat\", \"ideology\": -0.002393019400786428}, {\"party\": \"Democrat\", \"ideology\": -0.5491519992054845}, {\"party\": \"Republican\", \"ideology\": 0.5525265678221137}, {\"party\": \"Republican\", \"ideology\": 1.0810718108494521}, {\"party\": \"Republican\", \"ideology\": 2.9748756312533975}, {\"party\": \"Republican\", \"ideology\": 0.2353329562142161}, {\"party\": \"Republican\", \"ideology\": -1.0073776924135525}, {\"party\": \"Republican\", \"ideology\": -1.3257398191864431}, {\"party\": \"Democrat\", \"ideology\": -0.010283383311403776}, {\"party\": \"Democrat\", \"ideology\": 0.7173680143267884}, {\"party\": \"Republican\", \"ideology\": -1.535581384399281}, {\"party\": \"Republican\", \"ideology\": 1.6547180281926306}, {\"party\": \"Republican\", \"ideology\": -0.49308522878133265}, {\"party\": \"Democrat\", \"ideology\": 1.1441285200964462}, {\"party\": \"Democrat\", \"ideology\": 0.2646222164799617}, {\"party\": \"Democrat\", \"ideology\": 1.9064340890481997}, {\"party\": \"Democrat\", \"ideology\": 0.20959597093926938}, {\"party\": \"Democrat\", \"ideology\": -0.9023487425373129}, {\"party\": \"Republican\", \"ideology\": 0.35299853512996676}, {\"party\": \"Republican\", \"ideology\": 0.12184632646877427}, {\"party\": \"Democrat\", \"ideology\": 0.7711067704362743}, {\"party\": \"Republican\", \"ideology\": -2.045846022711947}, {\"party\": \"Republican\", \"ideology\": -1.9692412226312925}, {\"party\": \"Republican\", \"ideology\": 0.8261018537963493}, {\"party\": \"Democrat\", \"ideology\": -0.15562258327631123}, {\"party\": \"Republican\", \"ideology\": 0.4119754915933405}, {\"party\": \"Democrat\", \"ideology\": 1.0627437068613863}, {\"party\": \"Democrat\", \"ideology\": -0.3452474636004401}, {\"party\": \"Republican\", \"ideology\": 0.3987757550027373}, {\"party\": \"Republican\", \"ideology\": 1.525195922866662}, {\"party\": \"Democrat\", \"ideology\": -0.9458294430619691}, {\"party\": \"Republican\", \"ideology\": -0.5091908748415587}, {\"party\": \"Republican\", \"ideology\": 0.9859939811259062}, {\"party\": \"Democrat\", \"ideology\": -1.8300971646322508}, {\"party\": \"Republican\", \"ideology\": -0.5528777971879363}, {\"party\": \"Republican\", \"ideology\": 0.7271784812327191}, {\"party\": \"Republican\", \"ideology\": 2.0553314712146453}, {\"party\": \"Republican\", \"ideology\": -0.12355465807391167}, {\"party\": \"Republican\", \"ideology\": -1.464529657307233}, {\"party\": \"Republican\", \"ideology\": 0.3819486959046406}, {\"party\": \"Republican\", \"ideology\": -0.7163034939047692}, {\"party\": \"Republican\", \"ideology\": -0.20481992969674034}, {\"party\": \"Republican\", \"ideology\": 0.31379653723442213}, {\"party\": \"Republican\", \"ideology\": -0.07354630298495861}, {\"party\": \"Republican\", \"ideology\": 0.04773202154397919}, {\"party\": \"Democrat\", \"ideology\": -0.5249410954787667}, {\"party\": \"Republican\", \"ideology\": 0.21694564847236503}, {\"party\": \"Republican\", \"ideology\": 0.0229903944180398}, {\"party\": \"Democrat\", \"ideology\": -1.0227796926255426}, {\"party\": \"Democrat\", \"ideology\": 1.8099004214858474}, {\"party\": \"Republican\", \"ideology\": 0.461472738013633}, {\"party\": \"Democrat\", \"ideology\": 0.47347912647100326}, {\"party\": \"Democrat\", \"ideology\": 0.1846991355520763}, {\"party\": \"Democrat\", \"ideology\": -0.32704299954722005}, {\"party\": \"Republican\", \"ideology\": -0.5379650666204692}, {\"party\": \"Democrat\", \"ideology\": -0.08062649628550142}, {\"party\": \"Democrat\", \"ideology\": -1.9863469699603085}, {\"party\": \"Democrat\", \"ideology\": -1.3909288880446486}, {\"party\": \"Democrat\", \"ideology\": 0.1599430105909181}, {\"party\": \"Republican\", \"ideology\": 0.35189001811626586}, {\"party\": \"Republican\", \"ideology\": 0.9020890288075691}, {\"party\": \"Democrat\", \"ideology\": -0.9097670621050853}, {\"party\": \"Democrat\", \"ideology\": -0.13040897561241802}, {\"party\": \"Republican\", \"ideology\": 2.026903458586556}, {\"party\": \"Republican\", \"ideology\": -0.6149425121385053}, {\"party\": \"Democrat\", \"ideology\": -1.0328292492438869}, {\"party\": \"Republican\", \"ideology\": 1.5668810995882443}, {\"party\": \"Democrat\", \"ideology\": 0.8452341627534184}, {\"party\": \"Republican\", \"ideology\": 1.0359270271003147}, {\"party\": \"Democrat\", \"ideology\": 0.6376225616355228}, {\"party\": \"Republican\", \"ideology\": -0.4151850395788718}, {\"party\": \"Republican\", \"ideology\": 0.5102144012447999}, {\"party\": \"Republican\", \"ideology\": 0.47242919140530765}, {\"party\": \"Democrat\", \"ideology\": -2.035548404589351}, {\"party\": \"Democrat\", \"ideology\": 0.11434392320474099}, {\"party\": \"Democrat\", \"ideology\": 0.3323844348905537}, {\"party\": \"Republican\", \"ideology\": -0.5484154011247507}, {\"party\": \"Republican\", \"ideology\": 0.35268343420456333}, {\"party\": \"Republican\", \"ideology\": 0.47227045900615505}, {\"party\": \"Democrat\", \"ideology\": 0.8622214820852994}, {\"party\": \"Republican\", \"ideology\": 0.4812463460265071}, {\"party\": \"Republican\", \"ideology\": -0.36426364306231745}, {\"party\": \"Democrat\", \"ideology\": 0.6554373070200538}, {\"party\": \"Democrat\", \"ideology\": -0.2580233541185989}, {\"party\": \"Democrat\", \"ideology\": -0.22503746684219678}, {\"party\": \"Republican\", \"ideology\": 0.19532985719274623}, {\"party\": \"Republican\", \"ideology\": -0.000137647244199937}, {\"party\": \"Republican\", \"ideology\": 0.11702195945847878}, {\"party\": \"Republican\", \"ideology\": 0.6647691338948017}, {\"party\": \"Republican\", \"ideology\": 1.8643119338886027}, {\"party\": \"Democrat\", \"ideology\": -0.9926225972603321}, {\"party\": \"Republican\", \"ideology\": 0.9608596104518874}, {\"party\": \"Democrat\", \"ideology\": 1.5869112110766046}, {\"party\": \"Republican\", \"ideology\": 1.1977826073771396}, {\"party\": \"Republican\", \"ideology\": 0.8255171883205132}, {\"party\": \"Democrat\", \"ideology\": 0.9058580913124765}, {\"party\": \"Democrat\", \"ideology\": -2.8130663069577637}, {\"party\": \"Democrat\", \"ideology\": 0.04357633364103499}, {\"party\": \"Republican\", \"ideology\": -0.19283521113010432}, {\"party\": \"Republican\", \"ideology\": -0.9038207397905818}, {\"party\": \"Republican\", \"ideology\": 1.4636374767013929}, {\"party\": \"Democrat\", \"ideology\": -0.571703309895315}, {\"party\": \"Democrat\", \"ideology\": -0.020303026909655207}, {\"party\": \"Democrat\", \"ideology\": -1.3400526903806194}, {\"party\": \"Republican\", \"ideology\": -0.5098477996645471}, {\"party\": \"Democrat\", \"ideology\": 0.5970253597383129}, {\"party\": \"Republican\", \"ideology\": 0.6083770029491182}, {\"party\": \"Republican\", \"ideology\": 0.4339351168011504}, {\"party\": \"Democrat\", \"ideology\": 1.124868736184954}, {\"party\": \"Republican\", \"ideology\": -0.3135490287452965}, {\"party\": \"Republican\", \"ideology\": 0.4357430302458587}, {\"party\": \"Republican\", \"ideology\": -0.9494781676473077}, {\"party\": \"Democrat\", \"ideology\": 0.33689832579646734}, {\"party\": \"Democrat\", \"ideology\": -1.1314187076506887}, {\"party\": \"Republican\", \"ideology\": 1.4299011906088588}, {\"party\": \"Republican\", \"ideology\": -0.20551955365130672}, {\"party\": \"Republican\", \"ideology\": -1.6497714710561948}, {\"party\": \"Republican\", \"ideology\": -1.1025187673055972}, {\"party\": \"Democrat\", \"ideology\": -0.12487755241252396}, {\"party\": \"Republican\", \"ideology\": -0.055600238073288163}, {\"party\": \"Democrat\", \"ideology\": -1.0825086045113486}, {\"party\": \"Democrat\", \"ideology\": 0.5530400797043251}, {\"party\": \"Republican\", \"ideology\": 0.9334207930804841}, {\"party\": \"Democrat\", \"ideology\": -0.14261179140979754}, {\"party\": \"Democrat\", \"ideology\": 0.21719338999740867}, {\"party\": \"Republican\", \"ideology\": 0.1580680696209963}, {\"party\": \"Democrat\", \"ideology\": 0.7029014183755706}, {\"party\": \"Democrat\", \"ideology\": -1.5851261969783625}, {\"party\": \"Democrat\", \"ideology\": -0.10390870969884493}, {\"party\": \"Democrat\", \"ideology\": 0.23842415165061556}, {\"party\": \"Republican\", \"ideology\": -0.13532366768821566}, {\"party\": \"Democrat\", \"ideology\": 0.12181016160420703}, {\"party\": \"Republican\", \"ideology\": 1.021189368465528}, {\"party\": \"Democrat\", \"ideology\": 1.9902898906823436}, {\"party\": \"Democrat\", \"ideology\": 1.2223111963835982}, {\"party\": \"Republican\", \"ideology\": -0.4687406280357288}, {\"party\": \"Democrat\", \"ideology\": 2.147484793564755}, {\"party\": \"Republican\", \"ideology\": -0.11853391504914627}, {\"party\": \"Democrat\", \"ideology\": 0.4912470960424562}, {\"party\": \"Democrat\", \"ideology\": 0.4211589643405359}, {\"party\": \"Democrat\", \"ideology\": 0.4681091025618022}, {\"party\": \"Democrat\", \"ideology\": 0.18963066365306702}, {\"party\": \"Democrat\", \"ideology\": -0.8327082785883064}, {\"party\": \"Democrat\", \"ideology\": -0.7085458376032302}, {\"party\": \"Democrat\", \"ideology\": 2.147960502796012}, {\"party\": \"Democrat\", \"ideology\": 0.6185979935646482}, {\"party\": \"Republican\", \"ideology\": -0.32834131010716805}, {\"party\": \"Republican\", \"ideology\": 1.0949592972897066}, {\"party\": \"Democrat\", \"ideology\": -1.0853117684240328}, {\"party\": \"Democrat\", \"ideology\": 0.10547384589366023}, {\"party\": \"Republican\", \"ideology\": 0.08400616710980438}, {\"party\": \"Democrat\", \"ideology\": -0.4587755209846922}, {\"party\": \"Democrat\", \"ideology\": 0.9856832742867333}, {\"party\": \"Republican\", \"ideology\": -0.1322996149816655}, {\"party\": \"Democrat\", \"ideology\": 1.5041557137523711}, {\"party\": \"Republican\", \"ideology\": 0.06074788144910563}, {\"party\": \"Republican\", \"ideology\": -1.5355841547190314}, {\"party\": \"Republican\", \"ideology\": -1.7273650681542105}, {\"party\": \"Republican\", \"ideology\": -0.22896451532087908}, {\"party\": \"Democrat\", \"ideology\": -0.4920238450073962}, {\"party\": \"Democrat\", \"ideology\": 0.8132919203154195}, {\"party\": \"Democrat\", \"ideology\": -0.6797167694006508}, {\"party\": \"Independent\", \"ideology\": 2.2204671004162058}, {\"party\": \"Democrat\", \"ideology\": 0.9336921438518312}, {\"party\": \"Democrat\", \"ideology\": -0.13167702345760685}, {\"party\": \"Republican\", \"ideology\": -0.32067287191066296}, {\"party\": \"Republican\", \"ideology\": -0.1138641298638128}, {\"party\": \"Republican\", \"ideology\": -0.06058314673201995}, {\"party\": \"Republican\", \"ideology\": 0.2180452097532264}, {\"party\": \"Republican\", \"ideology\": 0.25743490422488724}, {\"party\": \"Republican\", \"ideology\": 0.8720248240856168}, {\"party\": \"Democrat\", \"ideology\": 0.9916392712275037}, {\"party\": \"Republican\", \"ideology\": -0.19282551631662395}, {\"party\": \"Republican\", \"ideology\": 0.5154613025890309}, {\"party\": \"Democrat\", \"ideology\": -2.1569223055043016}, {\"party\": \"Democrat\", \"ideology\": 1.8330445429510027}, {\"party\": \"Democrat\", \"ideology\": 0.43159128174873285}, {\"party\": \"Democrat\", \"ideology\": -1.3121248598717556}, {\"party\": \"Democrat\", \"ideology\": 1.0664519803379553}, {\"party\": \"Republican\", \"ideology\": -0.5227822344974979}, {\"party\": \"Republican\", \"ideology\": -2.209084484992421}, {\"party\": \"Democrat\", \"ideology\": -2.025630612039194}, {\"party\": \"Republican\", \"ideology\": -1.4108812357790408}, {\"party\": \"Republican\", \"ideology\": 2.518744883128509}, {\"party\": \"Republican\", \"ideology\": 0.41668191077823674}, {\"party\": \"Republican\", \"ideology\": 0.44226888745612214}, {\"party\": \"Republican\", \"ideology\": -0.5418837065028113}, {\"party\": \"Democrat\", \"ideology\": -1.4344127743926718}, {\"party\": \"Republican\", \"ideology\": -1.2412980856874707}, {\"party\": \"Republican\", \"ideology\": -0.7302515015084123}, {\"party\": \"Republican\", \"ideology\": 1.1639261481068375}, {\"party\": \"Democrat\", \"ideology\": -0.12781266052480728}, {\"party\": \"Democrat\", \"ideology\": -1.7932919882896647}, {\"party\": \"Republican\", \"ideology\": -1.292747160076966}, {\"party\": \"Democrat\", \"ideology\": -0.25507234673852874}, {\"party\": \"Democrat\", \"ideology\": 2.021791037144741}, {\"party\": \"Republican\", \"ideology\": 1.2969676705141227}, {\"party\": \"Democrat\", \"ideology\": 1.357559052798562}, {\"party\": \"Democrat\", \"ideology\": -1.41298888210202}, {\"party\": \"Democrat\", \"ideology\": 0.34490653018682804}, {\"party\": \"Democrat\", \"ideology\": 1.919192436711002}, {\"party\": \"Democrat\", \"ideology\": 1.7304834202544994}, {\"party\": \"Republican\", \"ideology\": -0.6474264063514623}, {\"party\": \"Republican\", \"ideology\": 0.29004856946958485}, {\"party\": \"Democrat\", \"ideology\": 0.14844752518045148}, {\"party\": \"Democrat\", \"ideology\": -1.3390040649228019}, {\"party\": \"Republican\", \"ideology\": -1.4889346959067107}, {\"party\": \"Republican\", \"ideology\": 0.6859823723856701}, {\"party\": \"Republican\", \"ideology\": -0.4873878994538212}, {\"party\": \"Republican\", \"ideology\": -1.698442029145519}, {\"party\": \"Democrat\", \"ideology\": 1.2757464845932003}, {\"party\": \"Democrat\", \"ideology\": 0.978564905779231}, {\"party\": \"Democrat\", \"ideology\": 0.5832278822656041}, {\"party\": \"Republican\", \"ideology\": -1.9807814030470334}, {\"party\": \"Democrat\", \"ideology\": -1.5559024979101204}, {\"party\": \"Democrat\", \"ideology\": 0.4260518823265932}, {\"party\": \"Democrat\", \"ideology\": -0.8838752143654244}, {\"party\": \"Republican\", \"ideology\": -0.2210933269031463}, {\"party\": \"Republican\", \"ideology\": -0.699447285889611}, {\"party\": \"Republican\", \"ideology\": -1.2792638406652033}, {\"party\": \"Republican\", \"ideology\": 2.330860737520753}, {\"party\": \"Democrat\", \"ideology\": -0.4796181404054535}, {\"party\": \"Republican\", \"ideology\": -0.8574677772755033}, {\"party\": \"Democrat\", \"ideology\": -0.8032985940023226}, {\"party\": \"Democrat\", \"ideology\": 0.49822943420390414}, {\"party\": \"Republican\", \"ideology\": 0.3317893723170889}, {\"party\": \"Democrat\", \"ideology\": 0.7898260993933377}, {\"party\": \"Republican\", \"ideology\": 1.05323216382311}, {\"party\": \"Democrat\", \"ideology\": -1.5693681042201322}, {\"party\": \"Democrat\", \"ideology\": -0.24873599163732946}, {\"party\": \"Democrat\", \"ideology\": 0.9529523380532691}, {\"party\": \"Democrat\", \"ideology\": 0.9814671575133264}, {\"party\": \"Democrat\", \"ideology\": 0.825705703413749}, {\"party\": \"Democrat\", \"ideology\": -1.364515579320374}, {\"party\": \"Democrat\", \"ideology\": -0.9647800386282618}, {\"party\": \"Democrat\", \"ideology\": -0.2763774658748364}, {\"party\": \"Republican\", \"ideology\": -0.9333463790303267}, {\"party\": \"Republican\", \"ideology\": 0.9044749177952917}, {\"party\": \"Democrat\", \"ideology\": 0.4695171899493628}, {\"party\": \"Democrat\", \"ideology\": 0.44062474355321324}, {\"party\": \"Democrat\", \"ideology\": 1.5330644890743386}, {\"party\": \"Republican\", \"ideology\": 0.44727202793357196}, {\"party\": \"Republican\", \"ideology\": 0.5306461152672879}, {\"party\": \"Republican\", \"ideology\": -0.9888935832867677}, {\"party\": \"Republican\", \"ideology\": -1.1974223540466251}, {\"party\": \"Democrat\", \"ideology\": -0.9753647200654064}, {\"party\": \"Republican\", \"ideology\": 0.08846372778302758}, {\"party\": \"Republican\", \"ideology\": 3.0587162297475268}, {\"party\": \"Republican\", \"ideology\": -0.854855662088516}, {\"party\": \"Republican\", \"ideology\": -0.5550553472796158}, {\"party\": \"Republican\", \"ideology\": -0.6240305854208001}, {\"party\": \"Democrat\", \"ideology\": 0.04362559586197559}, {\"party\": \"Republican\", \"ideology\": -0.4822671664360925}, {\"party\": \"Republican\", \"ideology\": 1.4197642978874192}, {\"party\": \"Democrat\", \"ideology\": 0.5693160709696883}, {\"party\": \"Democrat\", \"ideology\": 1.2344297026738758}, {\"party\": \"Democrat\", \"ideology\": 2.0263794152134706}, {\"party\": \"Republican\", \"ideology\": -1.2404566157521557}, {\"party\": \"Democrat\", \"ideology\": -0.932986256672626}, {\"party\": \"Republican\", \"ideology\": -0.412026896505296}, {\"party\": \"Democrat\", \"ideology\": -0.42516572399810404}, {\"party\": \"Democrat\", \"ideology\": -0.17743490069763093}, {\"party\": \"Democrat\", \"ideology\": -1.7656081222645321}, {\"party\": \"Democrat\", \"ideology\": -1.2475486301360599}, {\"party\": \"Republican\", \"ideology\": -0.18241561527247624}, {\"party\": \"Democrat\", \"ideology\": -0.3510054153019616}, {\"party\": \"Republican\", \"ideology\": 0.16304147148453876}, {\"party\": \"Republican\", \"ideology\": 3.642963570419388}, {\"party\": \"Democrat\", \"ideology\": -1.4161340476758595}, {\"party\": \"Republican\", \"ideology\": 1.462771189240556}, {\"party\": \"Republican\", \"ideology\": 1.6918667687866664}, {\"party\": \"Democrat\", \"ideology\": -0.7849720389004775}, {\"party\": \"Democrat\", \"ideology\": 1.1028103050298925}, {\"party\": \"Republican\", \"ideology\": -0.8878747820645332}, {\"party\": \"Democrat\", \"ideology\": -0.41957211640298564}, {\"party\": \"Republican\", \"ideology\": 2.832356783064131}, {\"party\": \"Democrat\", \"ideology\": 0.4764692389324759}, {\"party\": \"Democrat\", \"ideology\": 0.6713606758361064}, {\"party\": \"Democrat\", \"ideology\": -1.252457714586893}, {\"party\": \"Democrat\", \"ideology\": -1.2183060132235488}, {\"party\": \"Democrat\", \"ideology\": 0.700709956809247}, {\"party\": \"Democrat\", \"ideology\": -0.5302251738987952}, {\"party\": \"Republican\", \"ideology\": -0.678432439856548}, {\"party\": \"Democrat\", \"ideology\": -0.44765894502492765}, {\"party\": \"Democrat\", \"ideology\": -0.19275993555509183}, {\"party\": \"Republican\", \"ideology\": -0.6453627450197318}, {\"party\": \"Democrat\", \"ideology\": -1.3500062035233844}, {\"party\": \"Republican\", \"ideology\": 1.3057199793902599}, {\"party\": \"Republican\", \"ideology\": 2.5320775797021065}, {\"party\": \"Republican\", \"ideology\": -0.3538236370346121}, {\"party\": \"Republican\", \"ideology\": 2.070208984560317}, {\"party\": \"Republican\", \"ideology\": 0.0005359935342890819}, {\"party\": \"Republican\", \"ideology\": -0.48786152693927276}, {\"party\": \"Democrat\", \"ideology\": -0.684818838244028}, {\"party\": \"Republican\", \"ideology\": -0.2828856716335904}]}};\n",
       "var selector = \"#88adb746-aa5e-4810-a5a8-5af834fe787c\";\n",
       "var type = \"vega-lite\";\n",
       "\n",
       "var output_area = this;\n",
       "require(['nbextensions/jupyter-vega/index'], function(vega) {\n",
       "  vega.render(selector, spec, type, output_area);\n",
       "}, function (err) {\n",
       "  if (err.requireType !== 'scripterror') {\n",
       "    throw(err);\n",
       "  }\n",
       "});\n"
      ]
     },
     "metadata": {
      "jupyter-vega": "#88adb746-aa5e-4810-a5a8-5af834fe787c"
     },
     "output_type": "display_data"
    },
    {
     "data": {
      "image/png": "[encoded data removed]"
     },
     "metadata": {
      "jupyter-vega": "#88adb746-aa5e-4810-a5a8-5af834fe787c"
     },
     "output_type": "display_data"
    },
    {
     "name": "stdout",
     "output_type": "stream",
     "text": [
      "In [20] used 0.059 MiB RAM in 0.102s, peaked 0.000 MiB above current, total RAM usage 1197.691 MiB\n"
     ]
    }
   ],
   "source": [
    "Chart(legislators_pt_df[[\"ideology\", \"party\"]]).mark_tick().encode(\n",
    "    x='ideology:Q',\n",
    "    y='party:O',\n",
    ")"
   ]
  },
  {
   "cell_type": "code",
   "execution_count": 21,
   "metadata": {
    "ExecuteTime": {
     "end_time": "2016-12-15T00:45:03.328832",
     "start_time": "2016-12-15T00:45:03.118767"
    },
    "collapsed": false
   },
   "outputs": [
    {
     "data": {
      "text/html": [
       "<div>\n",
       "<table border=\"1\" class=\"dataframe\">\n",
       "  <thead>\n",
       "    <tr style=\"text-align: right;\">\n",
       "      <th></th>\n",
       "      <th>amendment_author</th>\n",
       "      <th>amendment_number</th>\n",
       "      <th>amendment_purpose</th>\n",
       "      <th>amendment_type</th>\n",
       "      <th>bill_congress</th>\n",
       "      <th>bill_number</th>\n",
       "      <th>bill_title</th>\n",
       "      <th>bill_type</th>\n",
       "      <th>category</th>\n",
       "      <th>chamber</th>\n",
       "      <th>...</th>\n",
       "      <th>result</th>\n",
       "      <th>result_text</th>\n",
       "      <th>session</th>\n",
       "      <th>source_url</th>\n",
       "      <th>subject</th>\n",
       "      <th>type</th>\n",
       "      <th>updated_at</th>\n",
       "      <th>vote_id</th>\n",
       "      <th>bias</th>\n",
       "      <th>ideology</th>\n",
       "    </tr>\n",
       "  </thead>\n",
       "  <tbody>\n",
       "    <tr>\n",
       "      <th>2</th>\n",
       "      <td>NaN</td>\n",
       "      <td>NaN</td>\n",
       "      <td>NaN</td>\n",
       "      <td>NaN</td>\n",
       "      <td>113.0</td>\n",
       "      <td>1120.0</td>\n",
       "      <td>NaN</td>\n",
       "      <td>hr</td>\n",
       "      <td>recommit</td>\n",
       "      <td>h</td>\n",
       "      <td>...</td>\n",
       "      <td>Failed</td>\n",
       "      <td>Failed</td>\n",
       "      <td>2013</td>\n",
       "      <td>http://clerk.house.gov/evs/2013/roll100.xml</td>\n",
       "      <td>Preventing Greater Uncertainty in Labor-Manage...</td>\n",
       "      <td>On the Motion to Recommit</td>\n",
       "      <td>2014-06-18T11:22:04-04:00</td>\n",
       "      <td>h100-113.2013</td>\n",
       "      <td>0.482782</td>\n",
       "      <td>-1.607644</td>\n",
       "    </tr>\n",
       "    <tr>\n",
       "      <th>3</th>\n",
       "      <td>NaN</td>\n",
       "      <td>NaN</td>\n",
       "      <td>NaN</td>\n",
       "      <td>NaN</td>\n",
       "      <td>113.0</td>\n",
       "      <td>1120.0</td>\n",
       "      <td>NaN</td>\n",
       "      <td>hr</td>\n",
       "      <td>passage</td>\n",
       "      <td>h</td>\n",
       "      <td>...</td>\n",
       "      <td>Passed</td>\n",
       "      <td>Passed</td>\n",
       "      <td>2013</td>\n",
       "      <td>http://clerk.house.gov/evs/2013/roll101.xml</td>\n",
       "      <td>Preventing Greater Uncertainty in Labor-Manage...</td>\n",
       "      <td>On Passage of the Bill</td>\n",
       "      <td>2014-06-18T11:22:04-04:00</td>\n",
       "      <td>h101-113.2013</td>\n",
       "      <td>-1.768579</td>\n",
       "      <td>-0.983603</td>\n",
       "    </tr>\n",
       "    <tr>\n",
       "      <th>5</th>\n",
       "      <td>NaN</td>\n",
       "      <td>NaN</td>\n",
       "      <td>NaN</td>\n",
       "      <td>NaN</td>\n",
       "      <td>113.0</td>\n",
       "      <td>1162.0</td>\n",
       "      <td>NaN</td>\n",
       "      <td>hr</td>\n",
       "      <td>passage-suspension</td>\n",
       "      <td>h</td>\n",
       "      <td>...</td>\n",
       "      <td>Passed</td>\n",
       "      <td>Passed</td>\n",
       "      <td>2013</td>\n",
       "      <td>http://clerk.house.gov/evs/2013/roll103.xml</td>\n",
       "      <td>To amend title 31, United States Code, to make...</td>\n",
       "      <td>On Motion to Suspend the Rules and Pass, as Am...</td>\n",
       "      <td>2014-06-18T11:22:04-04:00</td>\n",
       "      <td>h103-113.2013</td>\n",
       "      <td>0.528306</td>\n",
       "      <td>-1.859815</td>\n",
       "    </tr>\n",
       "    <tr>\n",
       "      <th>6</th>\n",
       "      <td>NaN</td>\n",
       "      <td>NaN</td>\n",
       "      <td>NaN</td>\n",
       "      <td>NaN</td>\n",
       "      <td>113.0</td>\n",
       "      <td>882.0</td>\n",
       "      <td>NaN</td>\n",
       "      <td>hr</td>\n",
       "      <td>passage-suspension</td>\n",
       "      <td>h</td>\n",
       "      <td>...</td>\n",
       "      <td>Passed</td>\n",
       "      <td>Passed</td>\n",
       "      <td>2013</td>\n",
       "      <td>http://clerk.house.gov/evs/2013/roll104.xml</td>\n",
       "      <td>To prohibit the awarding of a contract or gran...</td>\n",
       "      <td>On Motion to Suspend the Rules and Pass, as Am...</td>\n",
       "      <td>2014-06-18T11:22:04-04:00</td>\n",
       "      <td>h104-113.2013</td>\n",
       "      <td>-1.160088</td>\n",
       "      <td>-0.468471</td>\n",
       "    </tr>\n",
       "    <tr>\n",
       "      <th>7</th>\n",
       "      <td>NaN</td>\n",
       "      <td>NaN</td>\n",
       "      <td>NaN</td>\n",
       "      <td>NaN</td>\n",
       "      <td>113.0</td>\n",
       "      <td>249.0</td>\n",
       "      <td>NaN</td>\n",
       "      <td>hr</td>\n",
       "      <td>passage-suspension</td>\n",
       "      <td>h</td>\n",
       "      <td>...</td>\n",
       "      <td>Failed</td>\n",
       "      <td>Failed</td>\n",
       "      <td>2013</td>\n",
       "      <td>http://clerk.house.gov/evs/2013/roll105.xml</td>\n",
       "      <td>To amend title 5, United States Code, to provi...</td>\n",
       "      <td>On Motion to Suspend the Rules and Pass</td>\n",
       "      <td>2014-06-18T11:22:04-04:00</td>\n",
       "      <td>h105-113.2013</td>\n",
       "      <td>-0.384874</td>\n",
       "      <td>-0.277965</td>\n",
       "    </tr>\n",
       "  </tbody>\n",
       "</table>\n",
       "<p>5 rows × 28 columns</p>\n",
       "</div>"
      ],
      "text/plain": [
       "  amendment_author  amendment_number amendment_purpose amendment_type  \\\n",
       "2              NaN               NaN               NaN            NaN   \n",
       "3              NaN               NaN               NaN            NaN   \n",
       "5              NaN               NaN               NaN            NaN   \n",
       "6              NaN               NaN               NaN            NaN   \n",
       "7              NaN               NaN               NaN            NaN   \n",
       "\n",
       "   bill_congress  bill_number bill_title bill_type            category  \\\n",
       "2          113.0       1120.0        NaN        hr            recommit   \n",
       "3          113.0       1120.0        NaN        hr             passage   \n",
       "5          113.0       1162.0        NaN        hr  passage-suspension   \n",
       "6          113.0        882.0        NaN        hr  passage-suspension   \n",
       "7          113.0        249.0        NaN        hr  passage-suspension   \n",
       "\n",
       "  chamber    ...     result result_text session  \\\n",
       "2       h    ...     Failed      Failed    2013   \n",
       "3       h    ...     Passed      Passed    2013   \n",
       "5       h    ...     Passed      Passed    2013   \n",
       "6       h    ...     Passed      Passed    2013   \n",
       "7       h    ...     Failed      Failed    2013   \n",
       "\n",
       "                                    source_url  \\\n",
       "2  http://clerk.house.gov/evs/2013/roll100.xml   \n",
       "3  http://clerk.house.gov/evs/2013/roll101.xml   \n",
       "5  http://clerk.house.gov/evs/2013/roll103.xml   \n",
       "6  http://clerk.house.gov/evs/2013/roll104.xml   \n",
       "7  http://clerk.house.gov/evs/2013/roll105.xml   \n",
       "\n",
       "                                             subject  \\\n",
       "2  Preventing Greater Uncertainty in Labor-Manage...   \n",
       "3  Preventing Greater Uncertainty in Labor-Manage...   \n",
       "5  To amend title 31, United States Code, to make...   \n",
       "6  To prohibit the awarding of a contract or gran...   \n",
       "7  To amend title 5, United States Code, to provi...   \n",
       "\n",
       "                                                type  \\\n",
       "2                          On the Motion to Recommit   \n",
       "3                             On Passage of the Bill   \n",
       "5  On Motion to Suspend the Rules and Pass, as Am...   \n",
       "6  On Motion to Suspend the Rules and Pass, as Am...   \n",
       "7            On Motion to Suspend the Rules and Pass   \n",
       "\n",
       "                  updated_at        vote_id      bias  ideology  \n",
       "2  2014-06-18T11:22:04-04:00  h100-113.2013  0.482782 -1.607644  \n",
       "3  2014-06-18T11:22:04-04:00  h101-113.2013 -1.768579 -0.983603  \n",
       "5  2014-06-18T11:22:04-04:00  h103-113.2013  0.528306 -1.859815  \n",
       "6  2014-06-18T11:22:04-04:00  h104-113.2013 -1.160088 -0.468471  \n",
       "7  2014-06-18T11:22:04-04:00  h105-113.2013 -0.384874 -0.277965  \n",
       "\n",
       "[5 rows x 28 columns]"
      ]
     },
     "execution_count": 21,
     "metadata": {},
     "output_type": "execute_result"
    },
    {
     "name": "stdout",
     "output_type": "stream",
     "text": [
      "In [21] used 0.000 MiB RAM in 0.058s, peaked 0.000 MiB above current, total RAM usage 1197.691 MiB\n"
     ]
    }
   ],
   "source": [
    "vote_pt_df.head()"
   ]
  },
  {
   "cell_type": "markdown",
   "metadata": {},
   "source": [
    "### Validation\n",
    "\n",
    "Some of the most conservative members in our model include Mike Pompeo, who lead the house inquiry into Benghazi, and Randy Weber, who drew fire for a tweet declaring Barack Obama a \"socialist dictator.\"\n",
    "\n",
    "Some of the most liberal members include Jim McGovern, who represents the pioneer valley and Jerrold Nadler, who represents Manhattan's upper west side. The most liberal legislator, Jan Schakowsky, is a longtime critic of the Iraq war."
   ]
  },
  {
   "cell_type": "markdown",
   "metadata": {},
   "source": [
    "The house bills to remove voted on by all democrats are close to the democratic ideology."
   ]
  },
  {
   "cell_type": "code",
   "execution_count": 22,
   "metadata": {
    "ExecuteTime": {
     "end_time": "2016-12-15T00:45:03.494045",
     "start_time": "2016-12-15T00:45:03.332614"
    },
    "collapsed": false
   },
   "outputs": [
    {
     "name": "stdout",
     "output_type": "stream",
     "text": [
      "In [22] used 0.000 MiB RAM in 0.002s, peaked 0.000 MiB above current, total RAM usage 1197.691 MiB\n"
     ]
    }
   ],
   "source": [
    "# pd.set_option('display.max_columns', 999)\n",
    "# pd.set_option('display.max_colwidth', 200)\n",
    "# vote_pt_df[vote_pt_df[\"question\"].str.contains(\"Immigration\", na=False)]\n",
    "# vote_pt_df[vote_pt_df[\"number\"] == 168]"
   ]
  },
  {
   "cell_type": "code",
   "execution_count": 23,
   "metadata": {
    "ExecuteTime": {
     "end_time": "2016-12-15T00:45:03.935361",
     "start_time": "2016-12-15T00:45:03.500387"
    },
    "collapsed": false
   },
   "outputs": [
    {
     "ename": "NameError",
     "evalue": "name 'pd' is not defined",
     "output_type": "error",
     "traceback": [
      "\u001b[0;31m---------------------------------------------------------------------------\u001b[0m",
      "\u001b[0;31mNameError\u001b[0m                                 Traceback (most recent call last)",
      "\u001b[0;32m<ipython-input-23-e524f22b5d65>\u001b[0m in \u001b[0;36m<module>\u001b[0;34m()\u001b[0m\n\u001b[0;32m----> 1\u001b[0;31m labels = pd.Series([\n\u001b[0m\u001b[1;32m      2\u001b[0m     \u001b[0;34m\"Violence Against Women Reauthorization Act of 2013\"\u001b[0m\u001b[0;34m,\u001b[0m\u001b[0;34m\u001b[0m\u001b[0m\n\u001b[1;32m      3\u001b[0m     \u001b[0;34m\"Border Security, Economic Opportunity, and Immigration Modernization Act\"\u001b[0m\u001b[0;34m,\u001b[0m\u001b[0;34m\u001b[0m\u001b[0m\n\u001b[1;32m      4\u001b[0m     \u001b[0;34m\"Keystone XL Pipeline Approval Act\"\u001b[0m\u001b[0;34m,\u001b[0m\u001b[0;34m\u001b[0m\u001b[0m\n\u001b[1;32m      5\u001b[0m     \u001b[0;34m\"Consolidated Appropriations Act, 2014\"\u001b[0m\u001b[0;34m\u001b[0m\u001b[0m\n",
      "\u001b[0;31mNameError\u001b[0m: name 'pd' is not defined"
     ]
    },
    {
     "name": "stdout",
     "output_type": "stream",
     "text": [
      "In [23] used 0.000 MiB RAM in 0.269s, peaked 0.000 MiB above current, total RAM usage 1197.691 MiB\n"
     ]
    }
   ],
   "source": [
    "labels = pd.Series([\n",
    "    \"Violence Against Women Reauthorization Act of 2013\",\n",
    "    \"Border Security, Economic Opportunity, and Immigration Modernization Act\",\n",
    "    \"Keystone XL Pipeline Approval Act\",\n",
    "    \"Consolidated Appropriations Act, 2014\"\n",
    "], index=[\n",
    "    500,\n",
    "    717,\n",
    "    76,  \n",
    "    570\n",
    "])"
   ]
  },
  {
   "cell_type": "code",
   "execution_count": null,
   "metadata": {
    "ExecuteTime": {
     "end_time": "2016-12-15T00:45:03.936194",
     "start_time": "2016-12-15T00:39:57.694Z"
    },
    "collapsed": false
   },
   "outputs": [],
   "source": [
    "chart_df = vote_pt_df[[\"ideology\", \"bias\"]].assign(bill=labels).dropna()"
   ]
  },
  {
   "cell_type": "code",
   "execution_count": null,
   "metadata": {
    "ExecuteTime": {
     "end_time": "2016-12-15T00:45:03.936820",
     "start_time": "2016-12-15T00:39:57.698Z"
    },
    "collapsed": false
   },
   "outputs": [],
   "source": [
    "Chart(chart_df).mark_text().encode(\n",
    "    x='ideology:Q',\n",
    "    y='bias:Q',\n",
    "    text='bill',\n",
    ")"
   ]
  },
  {
   "cell_type": "code",
   "execution_count": null,
   "metadata": {
    "ExecuteTime": {
     "end_time": "2016-12-15T00:45:03.937415",
     "start_time": "2016-12-15T00:39:57.700Z"
    },
    "collapsed": false
   },
   "outputs": [],
   "source": [
    "Chart(vote_pt_df[[\"ideology\", \"bias\"]].dropna()).mark_circle().encode(\n",
    "    x='ideology:Q',\n",
    "    y='bias:Q',)"
   ]
  },
  {
   "cell_type": "markdown",
   "metadata": {},
   "source": [
    "This is to get bills linked w/ duplication data for now"
   ]
  },
  {
   "cell_type": "markdown",
   "metadata": {
    "ExecuteTime": {
     "end_time": "2016-12-01T00:37:52.628473",
     "start_time": "2016-12-01T00:37:52.412088"
    },
    "collapsed": false
   },
   "source": [
    "## Text reuse"
   ]
  },
  {
   "cell_type": "code",
   "execution_count": null,
   "metadata": {
    "ExecuteTime": {
     "end_time": "2016-12-15T00:45:03.937916",
     "start_time": "2016-12-15T00:39:57.703Z"
    },
    "collapsed": false
   },
   "outputs": [],
   "source": [
    "# vote_pt_df.to_csv(\"vote_pt_df.csv\")\n",
    "# run wtfpandasjoin.py to do the join. i kept trying to do w/ pandas and getting errors/bugs"
   ]
  },
  {
   "cell_type": "code",
   "execution_count": 17,
   "metadata": {
    "ExecuteTime": {
     "end_time": "2016-12-15T00:45:03.938590",
     "start_time": "2016-12-15T00:39:57.705Z"
    },
    "collapsed": false
   },
   "outputs": [
    {
     "name": "stderr",
     "output_type": "stream",
     "text": [
      "/Library/Python/2.7/site-packages/ipykernel/__main__.py:8: SettingWithCopyWarning: \n",
      "A value is trying to be set on a copy of a slice from a DataFrame.\n",
      "Try using .loc[row_indexer,col_indexer] = value instead\n",
      "\n",
      "See the caveats in the documentation: http://pandas.pydata.org/pandas-docs/stable/indexing.html#indexing-view-versus-copy\n",
      "/Library/Python/2.7/site-packages/ipykernel/__main__.py:9: SettingWithCopyWarning: \n",
      "A value is trying to be set on a copy of a slice from a DataFrame.\n",
      "Try using .loc[row_indexer,col_indexer] = value instead\n",
      "\n",
      "See the caveats in the documentation: http://pandas.pydata.org/pandas-docs/stable/indexing.html#indexing-view-versus-copy\n",
      "/Library/Python/2.7/site-packages/ipykernel/__main__.py:10: SettingWithCopyWarning: \n",
      "A value is trying to be set on a copy of a slice from a DataFrame.\n",
      "Try using .loc[row_indexer,col_indexer] = value instead\n",
      "\n",
      "See the caveats in the documentation: http://pandas.pydata.org/pandas-docs/stable/indexing.html#indexing-view-versus-copy\n"
     ]
    }
   ],
   "source": [
    "import pandas as pd\n",
    "import math\n",
    "reuse_df = pd.DataFrame.from_csv(\"pairs_enhanced_again.txt\")\n",
    "# many, many, many unknowns b.c no votes. research opportunity. ideal point w/o vote. interesting... b/c many\n",
    "# things are killed in committee. \n",
    "criterion = reuse_df['ideology_a'].map(lambda x: x != \"unknown\") \n",
    "reuse_df_no_unk = reuse_df[criterion]\n",
    "reuse_df_no_unk['ideology_a'] = reuse_df_no_unk['ideology_a'].astype(float)\n",
    "reuse_df_no_unk['ideology_a'] = reuse_df_no_unk['ideology_b'].astype(float)\n",
    "reuse_df_no_unk['ideology_eq'] = reuse_df_no_unk.apply(lambda x:x[\"ideology_a\"] == x[\"ideology_b\"], axis=1)\n",
    "reuse_df_no_unk = reuse_df_no_unk[reuse_df_no_unk['ideology_eq'] == False]"
   ]
  },
  {
   "cell_type": "code",
   "execution_count": 55,
   "metadata": {
    "collapsed": false
   },
   "outputs": [
    {
     "data": {
      "text/plain": [
       "<matplotlib.axes._subplots.AxesSubplot at 0x13eb91710>"
      ]
     },
     "execution_count": 55,
     "metadata": {},
     "output_type": "execute_result"
    },
    {
     "data": {
      "image/png": "[encoded data removed]",
      "text/plain": [
       "<matplotlib.figure.Figure at 0x12e0ed750>"
      ]
     },
     "metadata": {},
     "output_type": "display_data"
    }
   ],
   "source": [
    "%matplotlib inline\n",
    "# http://stackoverflow.com/questions/14300137/making-matplotlib-scatter-plots-from-dataframes-in-pythons-pandas\n",
    "import matplotlib.pylab as plt\n",
    "\n",
    "reuse_df_no_unk.plot(kind='scatter', x='ideology_a', y='ideology_b', title=\"Ideologies for reuse pairings\")"
   ]
  },
  {
   "cell_type": "markdown",
   "metadata": {},
   "source": [
    "#### Bipartisanship?\n",
    "\n",
    "It appears that a liberal section "
   ]
  },
  {
   "cell_type": "code",
   "execution_count": null,
   "metadata": {
    "ExecuteTime": {
     "end_time": "2016-12-15T00:45:03.939039",
     "start_time": "2016-12-15T00:39:57.708Z"
    },
    "collapsed": false
   },
   "outputs": [],
   "source": [
    "import pandas as pd\n",
    "import math\n",
    "reuse_df = pd.DataFrame.from_csv(\"pairs_enhanced_again.txt\")\n",
    "# many, many, many unknowns b.c no votes. research opportunity. ideal point w/o vote. interesting... b/c many\n",
    "# things are killed in committee. \n",
    "criterion = reuse_df['ideology_a'].map(lambda x: x != \"unknown\") \n",
    "reuse_df_no_unk = reuse_df[criterion]\n",
    "reuse_df_no_unk[\"sa\"] = reuse_df_no_unk[\"ideology_a\"].astype(float)> 0\n",
    "reuse_df_no_unk[\"sb\"] = reuse_df_no_unk[\"ideology_b\"].astype(float)> 0\n",
    "reuse_df_no_unk[\"diff\"] = reuse_df_no_unk[\"sa\"] == reuse_df_no_unk[\"sb\"]\n",
    "c2 = reuse_df_no_unk[\"diff\"].map(lambda x: x == False) \n",
    "reuse_df_no_unk = reuse_df_no_unk[c2]\n",
    "reuse_df_no_unk.shape"
   ]
  }
 ],
 "metadata": {
  "anaconda-cloud": {},
  "kernelspec": {
   "display_name": "Python 2",
   "language": "python",
   "name": "python2"
  },
  "language_info": {
   "codemirror_mode": {
    "name": "ipython",
    "version": 2
   },
   "file_extension": ".py",
   "mimetype": "text/x-python",
   "name": "python",
   "nbconvert_exporter": "python",
   "pygments_lexer": "ipython2",
   "version": "2.7.10"
  },
  "notify_time": "10",
  "toc": {
   "nav_menu": {
    "height": "228px",
    "width": "252px"
   },
   "navigate_menu": true,
   "number_sections": false,
   "sideBar": true,
   "threshold": 4,
   "toc_cell": false,
   "toc_section_display": "block",
   "toc_window_display": true
  },
  "widgets": {
   "state": {
    "348513d092244405bc5c24d3199d665e": {
     "views": [
      {
       "cell_index": 6
      }
     ]
    }
   },
   "version": "1.2.0"
  }
 },
 "nbformat": 4,
 "nbformat_minor": 0
}
