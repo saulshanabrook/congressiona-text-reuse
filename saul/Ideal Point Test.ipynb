{
 "cells": [
  {
   "cell_type": "code",
   "execution_count": 1,
   "metadata": {
    "ExecuteTime": {
     "end_time": "2016-12-08T15:05:12.733983",
     "start_time": "2016-12-08T15:05:12.713186"
    },
    "collapsed": false
   },
   "outputs": [],
   "source": [
    "%load_ext autoreload\n",
    "%autoreload 2"
   ]
  },
  {
   "cell_type": "code",
   "execution_count": 2,
   "metadata": {
    "ExecuteTime": {
     "end_time": "2016-12-08T15:05:13.618583",
     "start_time": "2016-12-08T15:05:13.364208"
    },
    "collapsed": false
   },
   "outputs": [
    {
     "name": "stdout",
     "output_type": "stream",
     "text": [
      "In [2] used 0.234 MiB RAM in 0.001s, peaked 0.000 MiB above current, total RAM usage 42.965 MiB\n"
     ]
    }
   ],
   "source": [
    "from ipython_memwatcher import MemWatcher\n",
    "mw = MemWatcher()\n",
    "mw.start_watching_memory()"
   ]
  },
  {
   "cell_type": "markdown",
   "metadata": {},
   "source": [
    "# Ideal Point Estimation Testing\n",
    "\n",
    "We want to test our gradient based method of ideal point estimation, against the PyMC3 model."
   ]
  },
  {
   "cell_type": "code",
   "execution_count": 3,
   "metadata": {
    "ExecuteTime": {
     "end_time": "2016-12-08T15:05:16.562202",
     "start_time": "2016-12-08T15:05:15.381210"
    },
    "collapsed": false
   },
   "outputs": [
    {
     "name": "stdout",
     "output_type": "stream",
     "text": [
      "In [3] used 79.559 MiB RAM in 1.066s, peaked 0.000 MiB above current, total RAM usage 122.523 MiB\n"
     ]
    }
   ],
   "source": [
    "import ideal_point.ideal_point as ip"
   ]
  },
  {
   "cell_type": "markdown",
   "metadata": {},
   "source": [
    "## Generate Test Data"
   ]
  },
  {
   "cell_type": "code",
   "execution_count": 4,
   "metadata": {
    "ExecuteTime": {
     "end_time": "2016-12-08T15:05:16.701773",
     "start_time": "2016-12-08T15:05:16.564801"
    },
    "collapsed": false
   },
   "outputs": [
    {
     "name": "stdout",
     "output_type": "stream",
     "text": [
      "In [4] used 0.652 MiB RAM in 0.004s, peaked 0.000 MiB above current, total RAM usage 123.176 MiB\n"
     ]
    }
   ],
   "source": [
    "df = ip.test_data(10)"
   ]
  },
  {
   "cell_type": "code",
   "execution_count": 44,
   "metadata": {
    "ExecuteTime": {
     "end_time": "2016-12-08T14:56:26.200746",
     "start_time": "2016-12-08T14:56:26.044268"
    },
    "collapsed": false
   },
   "outputs": [
    {
     "data": {
      "text/html": [
       "<div>\n",
       "<table border=\"1\" class=\"dataframe\">\n",
       "  <thead>\n",
       "    <tr style=\"text-align: right;\">\n",
       "      <th></th>\n",
       "      <th>legislator</th>\n",
       "      <th>position</th>\n",
       "      <th>vote</th>\n",
       "    </tr>\n",
       "  </thead>\n",
       "  <tbody>\n",
       "    <tr>\n",
       "      <th>0</th>\n",
       "      <td>0</td>\n",
       "      <td>1</td>\n",
       "      <td>0</td>\n",
       "    </tr>\n",
       "    <tr>\n",
       "      <th>1</th>\n",
       "      <td>1</td>\n",
       "      <td>0</td>\n",
       "      <td>0</td>\n",
       "    </tr>\n",
       "    <tr>\n",
       "      <th>2</th>\n",
       "      <td>2</td>\n",
       "      <td>0</td>\n",
       "      <td>0</td>\n",
       "    </tr>\n",
       "    <tr>\n",
       "      <th>3</th>\n",
       "      <td>3</td>\n",
       "      <td>0</td>\n",
       "      <td>0</td>\n",
       "    </tr>\n",
       "    <tr>\n",
       "      <th>4</th>\n",
       "      <td>4</td>\n",
       "      <td>0</td>\n",
       "      <td>0</td>\n",
       "    </tr>\n",
       "  </tbody>\n",
       "</table>\n",
       "</div>"
      ],
      "text/plain": [
       "   legislator  position  vote\n",
       "0           0         1     0\n",
       "1           1         0     0\n",
       "2           2         0     0\n",
       "3           3         0     0\n",
       "4           4         0     0"
      ]
     },
     "execution_count": 44,
     "metadata": {},
     "output_type": "execute_result"
    },
    {
     "name": "stdout",
     "output_type": "stream",
     "text": [
      "In [44] used 0.000 MiB RAM in 0.008s, peaked 0.000 MiB above current, total RAM usage 152.203 MiB\n"
     ]
    }
   ],
   "source": [
    "df.head()"
   ]
  },
  {
   "cell_type": "markdown",
   "metadata": {},
   "source": [
    "## Train model"
   ]
  },
  {
   "cell_type": "code",
   "execution_count": 113,
   "metadata": {
    "ExecuteTime": {
     "end_time": "2016-12-08T16:01:52.150655",
     "start_time": "2016-12-08T16:01:51.955764"
    },
    "collapsed": false
   },
   "outputs": [
    {
     "name": "stdout",
     "output_type": "stream",
     "text": [
      "In [113] used 1.578 MiB RAM in 0.059s, peaked 0.000 MiB above current, total RAM usage 128.109 MiB\n"
     ]
    }
   ],
   "source": [
    "from altair import *\n",
    "import pandas as pd"
   ]
  },
  {
   "cell_type": "code",
   "execution_count": 117,
   "metadata": {
    "ExecuteTime": {
     "end_time": "2016-12-08T16:02:14.663500",
     "start_time": "2016-12-08T16:02:14.519049"
    },
    "collapsed": false
   },
   "outputs": [
    {
     "name": "stdout",
     "output_type": "stream",
     "text": [
      "In [117] used 0.055 MiB RAM in 0.007s, peaked 0.000 MiB above current, total RAM usage 128.355 MiB\n"
     ]
    }
   ],
   "source": [
    "def plot_params(params):\n",
    "    rows = []\n",
    "    for key, value in params.items():\n",
    "        for (i, v) in enumerate(value):\n",
    "            rows.append({\n",
    "                'i': i,\n",
    "                'param': key,\n",
    "                'value': v\n",
    "            })\n",
    "    df = pd.DataFrame(rows)\n",
    "    return Chart(df).mark_circle().encode(\n",
    "        column='param:N',\n",
    "        x='i:O',\n",
    "        y='value:Q'\n",
    "    )"
   ]
  },
  {
   "cell_type": "markdown",
   "metadata": {},
   "source": [
    "### PyMC3 ADVI"
   ]
  },
  {
   "cell_type": "code",
   "execution_count": 144,
   "metadata": {
    "ExecuteTime": {
     "end_time": "2016-12-08T16:18:59.221315",
     "start_time": "2016-12-08T16:18:52.152302"
    },
    "collapsed": false
   },
   "outputs": [
    {
     "name": "stderr",
     "output_type": "stream",
     "text": [
      "Average ELBO = -62.734: 100%|██████████| 25000/25000 [00:04<00:00, 5029.00it/s]\n",
      "Finished [100%]: Average ELBO = -62.767\n"
     ]
    },
    {
     "name": "stdout",
     "output_type": "stream",
     "text": [
      "In [144] used 0.211 MiB RAM in 6.897s, peaked 0.000 MiB above current, total RAM usage 191.836 MiB\n"
     ]
    }
   ],
   "source": [
    "pymc_params = ip.advi_params(ip.create_model(df)).means"
   ]
  },
  {
   "cell_type": "code",
   "execution_count": 145,
   "metadata": {
    "ExecuteTime": {
     "end_time": "2016-12-08T16:19:11.332446",
     "start_time": "2016-12-08T16:19:11.167820"
    },
    "collapsed": false
   },
   "outputs": [
    {
     "data": {
      "text/html": [
       "<div class=\"vega-embed\" id=\"205e421b-7d5d-4b2c-a0c3-ecc63f971185\"></div>\n",
       "\n",
       "<style>\n",
       ".vega-embed svg, .vega-embed canvas {\n",
       "  border: 1px dotted gray;\n",
       "}\n",
       "\n",
       ".vega-embed .vega-actions a {\n",
       "  margin-right: 6px;\n",
       "}\n",
       "</style>\n"
      ]
     },
     "metadata": {
      "jupyter-vega": "#205e421b-7d5d-4b2c-a0c3-ecc63f971185"
     },
     "output_type": "display_data"
    },
    {
     "data": {
      "application/javascript": [
       "var spec = {\"mark\": \"circle\", \"data\": {\"values\": [{\"param\": \"vote_ideology\", \"i\": 0, \"value\": 0.03803660300144793}, {\"param\": \"vote_ideology\", \"i\": 1, \"value\": 0.09756852221480818}, {\"param\": \"vote_ideology\", \"i\": 2, \"value\": 0.11024827796292576}, {\"param\": \"vote_ideology\", \"i\": 3, \"value\": 0.13668384636174483}, {\"param\": \"vote_ideology\", \"i\": 4, \"value\": 0.10818754147204596}, {\"param\": \"vote_ideology\", \"i\": 5, \"value\": 0.11821121172422996}, {\"param\": \"vote_ideology\", \"i\": 6, \"value\": 0.09588588504193019}, {\"param\": \"vote_ideology\", \"i\": 7, \"value\": 0.08142558005103273}, {\"param\": \"vote_ideology\", \"i\": 8, \"value\": 0.043418212410616656}, {\"param\": \"vote_bias\", \"i\": 0, \"value\": -1.3568738107615597}, {\"param\": \"vote_bias\", \"i\": 1, \"value\": -0.9796472726652508}, {\"param\": \"vote_bias\", \"i\": 2, \"value\": -0.6390985934815414}, {\"param\": \"vote_bias\", \"i\": 3, \"value\": -0.30938576467597756}, {\"param\": \"vote_bias\", \"i\": 4, \"value\": -0.01736697668910782}, {\"param\": \"vote_bias\", \"i\": 5, \"value\": 0.31732960515404074}, {\"param\": \"vote_bias\", \"i\": 6, \"value\": 0.6462907726619376}, {\"param\": \"vote_bias\", \"i\": 7, \"value\": 0.98140835003722}, {\"param\": \"vote_bias\", \"i\": 8, \"value\": 1.323335714309818}, {\"param\": \"legislator_ideology\", \"i\": 0, \"value\": 0.15877813042681826}, {\"param\": \"legislator_ideology\", \"i\": 1, \"value\": 0.13159305904670088}, {\"param\": \"legislator_ideology\", \"i\": 2, \"value\": 0.10278642802997914}, {\"param\": \"legislator_ideology\", \"i\": 3, \"value\": 0.08009653520035757}, {\"param\": \"legislator_ideology\", \"i\": 4, \"value\": 0.035370931512134496}, {\"param\": \"legislator_ideology\", \"i\": 5, \"value\": -0.010676006974953235}, {\"param\": \"legislator_ideology\", \"i\": 6, \"value\": -0.08082393009459385}, {\"param\": \"legislator_ideology\", \"i\": 7, \"value\": -0.10397843102608303}, {\"param\": \"legislator_ideology\", \"i\": 8, \"value\": -0.1316724710451088}, {\"param\": \"legislator_ideology\", \"i\": 9, \"value\": -0.1340883912206098}]}, \"config\": {\"cell\": {\"height\": 350, \"width\": 500}}, \"encoding\": {\"x\": {\"field\": \"i\", \"type\": \"ordinal\"}, \"y\": {\"field\": \"value\", \"type\": \"quantitative\"}, \"column\": {\"field\": \"param\", \"type\": \"nominal\"}}};\n",
       "var selector = \"#205e421b-7d5d-4b2c-a0c3-ecc63f971185\";\n",
       "var type = \"vega-lite\";\n",
       "\n",
       "var output_area = this;\n",
       "require(['nbextensions/jupyter-vega/index'], function(vega) {\n",
       "  vega.render(selector, spec, type, output_area);\n",
       "}, function (err) {\n",
       "  if (err.requireType !== 'scripterror') {\n",
       "    throw(err);\n",
       "  }\n",
       "});\n"
      ]
     },
     "metadata": {
      "jupyter-vega": "#205e421b-7d5d-4b2c-a0c3-ecc63f971185"
     },
     "output_type": "display_data"
    },
    {
     "data": {
      "image/png": "[encoded data removed]"
     },
     "metadata": {
      "jupyter-vega": "#205e421b-7d5d-4b2c-a0c3-ecc63f971185"
     },
     "output_type": "display_data"
    },
    {
     "name": "stdout",
     "output_type": "stream",
     "text": [
      "In [145] used 0.012 MiB RAM in 0.022s, peaked 0.000 MiB above current, total RAM usage 191.848 MiB\n"
     ]
    }
   ],
   "source": [
    "plot_params(pymc_params)"
   ]
  },
  {
   "cell_type": "markdown",
   "metadata": {},
   "source": [
    "The `vote_ideology` should match with the `legislator_ideology`. The first vote should be close ot the first legislator, and the last vote should be close to the last legislator (in ideology)."
   ]
  },
  {
   "cell_type": "markdown",
   "metadata": {},
   "source": [
    "### PyMC3 Sampling"
   ]
  },
  {
   "cell_type": "code",
   "execution_count": 146,
   "metadata": {
    "ExecuteTime": {
     "end_time": "2016-12-08T16:20:19.466576",
     "start_time": "2016-12-08T16:19:23.450717"
    },
    "collapsed": false
   },
   "outputs": [
    {
     "name": "stderr",
     "output_type": "stream",
     "text": [
      "Auto-assigning NUTS sampler...\n",
      "Initializing NUTS using advi...\n",
      "Average ELBO = -56.408: 100%|██████████| 200000/200000 [00:39<00:00, 5006.17it/s]\n",
      "Finished [100%]: Average ELBO = -56.496\n",
      "100%|██████████| 2000/2000 [00:10<00:00, 186.28it/s]\n"
     ]
    },
    {
     "name": "stdout",
     "output_type": "stream",
     "text": [
      "In [146] used 2.383 MiB RAM in 55.870s, peaked 0.000 MiB above current, total RAM usage 194.230 MiB\n"
     ]
    }
   ],
   "source": [
    "from pymc3 import find_MAP\n",
    "from pymc3 import NUTS, sample\n",
    "\n",
    "model=ip.create_model(df)\n",
    "with model:\n",
    "    trace = sample(2000)"
   ]
  },
  {
   "cell_type": "code",
   "execution_count": 147,
   "metadata": {
    "ExecuteTime": {
     "end_time": "2016-12-08T16:20:19.611223",
     "start_time": "2016-12-08T16:20:19.468424"
    },
    "collapsed": false
   },
   "outputs": [
    {
     "name": "stdout",
     "output_type": "stream",
     "text": [
      "In [147] used 0.000 MiB RAM in 0.002s, peaked 0.000 MiB above current, total RAM usage 194.230 MiB\n"
     ]
    }
   ],
   "source": [
    "from pymc3 import forestplot"
   ]
  },
  {
   "cell_type": "code",
   "execution_count": 148,
   "metadata": {
    "ExecuteTime": {
     "end_time": "2016-12-08T16:20:20.269867",
     "start_time": "2016-12-08T16:20:19.613527"
    },
    "collapsed": false
   },
   "outputs": [
    {
     "data": {
      "text/plain": [
       "<matplotlib.gridspec.GridSpec at 0x7f5bffddf4a8>"
      ]
     },
     "execution_count": 148,
     "metadata": {},
     "output_type": "execute_result"
    },
    {
     "data": {
      "image/png": "[encoded data removed]",
      "text/plain": [
       "<matplotlib.figure.Figure at 0x7f5bffe3a5f8>"
      ]
     },
     "metadata": {},
     "output_type": "display_data"
    },
    {
     "name": "stdout",
     "output_type": "stream",
     "text": [
      "In [148] used 0.559 MiB RAM in 0.511s, peaked 0.000 MiB above current, total RAM usage 194.789 MiB\n"
     ]
    }
   ],
   "source": [
    "forestplot(trace)"
   ]
  },
  {
   "cell_type": "markdown",
   "metadata": {},
   "source": [
    "Same problem here..."
   ]
  },
  {
   "cell_type": "markdown",
   "metadata": {},
   "source": [
    "### Manual Gradient"
   ]
  },
  {
   "cell_type": "code",
   "execution_count": 149,
   "metadata": {
    "ExecuteTime": {
     "end_time": "2016-12-08T16:20:30.620590",
     "start_time": "2016-12-08T16:20:30.479351"
    },
    "collapsed": false
   },
   "outputs": [
    {
     "name": "stdout",
     "output_type": "stream",
     "text": [
      "In [149] used 0.000 MiB RAM in 0.002s, peaked 0.000 MiB above current, total RAM usage 194.789 MiB\n"
     ]
    }
   ],
   "source": [
    "from ideal_point.gradient import Gradient \n",
    "from scipy.special import expit as logistic\n"
   ]
  },
  {
   "cell_type": "code",
   "execution_count": 150,
   "metadata": {
    "ExecuteTime": {
     "end_time": "2016-12-08T16:20:34.880140",
     "start_time": "2016-12-08T16:20:30.682734"
    },
    "collapsed": false
   },
   "outputs": [
    {
     "name": "stdout",
     "output_type": "stream",
     "text": [
      "-61.2870630483\n",
      "-31.5162025563\n",
      "-16.0917311815\n",
      "-11.9175813463\n",
      "-9.77096049133\n",
      "\n",
      "In [150] used 0.059 MiB RAM in 4.031s, peaked 0.000 MiB above current, total RAM usage 194.848 MiB\n"
     ]
    }
   ],
   "source": [
    "g = Gradient(df)\n",
    "g.run(50)"
   ]
  },
  {
   "cell_type": "code",
   "execution_count": 151,
   "metadata": {
    "ExecuteTime": {
     "end_time": "2016-12-08T16:20:35.047301",
     "start_time": "2016-12-08T16:20:34.882305"
    },
    "collapsed": false
   },
   "outputs": [
    {
     "data": {
      "text/html": [
       "<div class=\"vega-embed\" id=\"4d70f5e2-449a-450e-8f89-4d0aba742130\"></div>\n",
       "\n",
       "<style>\n",
       ".vega-embed svg, .vega-embed canvas {\n",
       "  border: 1px dotted gray;\n",
       "}\n",
       "\n",
       ".vega-embed .vega-actions a {\n",
       "  margin-right: 6px;\n",
       "}\n",
       "</style>\n"
      ]
     },
     "metadata": {
      "jupyter-vega": "#4d70f5e2-449a-450e-8f89-4d0aba742130"
     },
     "output_type": "display_data"
    },
    {
     "data": {
      "application/javascript": [
       "var spec = {\"mark\": \"circle\", \"data\": {\"values\": [{\"param\": \"vote_biases\", \"i\": 0, \"value\": -3.5027136185991457}, {\"param\": \"vote_biases\", \"i\": 1, \"value\": -3.246174516554022}, {\"param\": \"vote_biases\", \"i\": 2, \"value\": -2.452819725918002}, {\"param\": \"vote_biases\", \"i\": 3, \"value\": -1.1168670516550339}, {\"param\": \"vote_biases\", \"i\": 4, \"value\": 0.4032468882382311}, {\"param\": \"vote_biases\", \"i\": 5, \"value\": 1.7733205050532512}, {\"param\": \"vote_biases\", \"i\": 6, \"value\": 2.762090582805883}, {\"param\": \"vote_biases\", \"i\": 7, \"value\": 3.3251350237631434}, {\"param\": \"vote_biases\", \"i\": 8, \"value\": 3.493588289101719}, {\"param\": \"legislator_ideologies\", \"i\": 0, \"value\": -3.957177561427906}, {\"param\": \"legislator_ideologies\", \"i\": 1, \"value\": -2.49122051193989}, {\"param\": \"legislator_ideologies\", \"i\": 2, \"value\": -1.3933749199552774}, {\"param\": \"legislator_ideologies\", \"i\": 3, \"value\": -0.6800820878014517}, {\"param\": \"legislator_ideologies\", \"i\": 4, \"value\": -0.1376469754192605}, {\"param\": \"legislator_ideologies\", \"i\": 5, \"value\": 0.37684234628307794}, {\"param\": \"legislator_ideologies\", \"i\": 6, \"value\": 0.9441622082521426}, {\"param\": \"legislator_ideologies\", \"i\": 7, \"value\": 1.6963773448019723}, {\"param\": \"legislator_ideologies\", \"i\": 8, \"value\": 2.836537511172609}, {\"param\": \"legislator_ideologies\", \"i\": 9, \"value\": 4.174700948399407}, {\"param\": \"vote_ideologies\", \"i\": 0, \"value\": -1.1334871808485578}, {\"param\": \"vote_ideologies\", \"i\": 1, \"value\": -1.8208091442722893}, {\"param\": \"vote_ideologies\", \"i\": 2, \"value\": -2.611402204444356}, {\"param\": \"vote_ideologies\", \"i\": 3, \"value\": -3.149408108461984}, {\"param\": \"vote_ideologies\", \"i\": 4, \"value\": -3.3948688209243145}, {\"param\": \"vote_ideologies\", \"i\": 5, \"value\": -2.9309107291841547}, {\"param\": \"vote_ideologies\", \"i\": 6, \"value\": -2.2545887209601565}, {\"param\": \"vote_ideologies\", \"i\": 7, \"value\": -1.5895173475442288}, {\"param\": \"vote_ideologies\", \"i\": 8, \"value\": -1.0146815141742802}]}, \"config\": {\"cell\": {\"height\": 350, \"width\": 500}}, \"encoding\": {\"x\": {\"field\": \"i\", \"type\": \"ordinal\"}, \"y\": {\"field\": \"value\", \"type\": \"quantitative\"}, \"column\": {\"field\": \"param\", \"type\": \"nominal\"}}};\n",
       "var selector = \"#4d70f5e2-449a-450e-8f89-4d0aba742130\";\n",
       "var type = \"vega-lite\";\n",
       "\n",
       "var output_area = this;\n",
       "require(['nbextensions/jupyter-vega/index'], function(vega) {\n",
       "  vega.render(selector, spec, type, output_area);\n",
       "}, function (err) {\n",
       "  if (err.requireType !== 'scripterror') {\n",
       "    throw(err);\n",
       "  }\n",
       "});\n"
      ]
     },
     "metadata": {
      "jupyter-vega": "#4d70f5e2-449a-450e-8f89-4d0aba742130"
     },
     "output_type": "display_data"
    },
    {
     "data": {
      "image/png": "[encoded data removed]"
     },
     "metadata": {
      "jupyter-vega": "#4d70f5e2-449a-450e-8f89-4d0aba742130"
     },
     "output_type": "display_data"
    },
    {
     "name": "stdout",
     "output_type": "stream",
     "text": [
      "In [151] used 0.000 MiB RAM in 0.022s, peaked 0.000 MiB above current, total RAM usage 194.848 MiB\n"
     ]
    }
   ],
   "source": [
    "plot_params(g.params)"
   ]
  },
  {
   "cell_type": "markdown",
   "metadata": {},
   "source": [
    "It will keep improving the log likelihood, but it will keep this basic pattern... Which is wrong! Like I said above for PyMC3 ADVI. "
   ]
  }
 ],
 "metadata": {
  "anaconda-cloud": {},
  "kernelspec": {
   "display_name": "Python [default]",
   "language": "python",
   "name": "python3"
  },
  "language_info": {
   "codemirror_mode": {
    "name": "ipython",
    "version": 3
   },
   "file_extension": ".py",
   "mimetype": "text/x-python",
   "name": "python",
   "nbconvert_exporter": "python",
   "pygments_lexer": "ipython3",
   "version": "3.5.2"
  },
  "notify_time": "10",
  "toc": {
   "nav_menu": {
    "height": "146px",
    "width": "271px"
   },
   "navigate_menu": true,
   "number_sections": false,
   "sideBar": true,
   "threshold": 4,
   "toc_cell": false,
   "toc_section_display": "block",
   "toc_window_display": true
  },
  "widgets": {
   "state": {
    "00018b1f633e40ec97866724e73b926b": {
     "views": [
      {
       "cell_index": 17
      }
     ]
    }
   },
   "version": "1.2.0"
  }
 },
 "nbformat": 4,
 "nbformat_minor": 0
}
