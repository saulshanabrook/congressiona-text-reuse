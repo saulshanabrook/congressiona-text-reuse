{
 "cells": [
  {
   "cell_type": "code",
   "execution_count": 9,
   "metadata": {
    "collapsed": false
   },
   "outputs": [],
   "source": [
    "from __future__ import division\n",
    "import numpy as np\n",
    "import hashlib\n",
    "import ipdb\n",
    "import cPickle as pickle\n",
    "import itertools\n",
    "assert hashlib.md5(\"a\").hexdigest() == hashlib.md5(\"a\").hexdigest()\n",
    "\n",
    "from pi import make_pi\n",
    "\n",
    "# http://nlp.stanford.edu/IR-book/html/htmledition/near-duplicates-and-shingling-1.html"
   ]
  },
  {
   "cell_type": "code",
   "execution_count": 10,
   "metadata": {
    "collapsed": false
   },
   "outputs": [],
   "source": [
    "# shingle is 542\n",
    "docs = []\n",
    "docs.append(\"0 2 9 0 5 4 3 4 5 1 5 4 9\".split())\n",
    "docs.append(\"1 2 9 0 5 4 3 4 5 1 5 4 9\".split())\n",
    "docs.append(\"5 4 2 4 5 9 1 9 9 3 4 2 4\".split())\n",
    "docs.append(\"5 5 5 4 2 7 3 9 1 4 5 4 9\".split())\n",
    "docs.append(\"4 4 4 4 5 6 3 7 5 4 3 3 9\".split())\n",
    "docs.append(\"1 4 3 2 5 7 3 7 5 7 5 7 9\".split())\n",
    "docs.append(\"12 42 23 252 25 27 23 27 25 17 25 37 49\".split())\n",
    "\n",
    "def shingle(doc, n):\n",
    "    shingles = zip(*[doc[i:] for i in range(n)])\n",
    "    return [\" \".join(a) for a in shingles]\n"
   ]
  },
  {
   "cell_type": "code",
   "execution_count": 14,
   "metadata": {
    "collapsed": false
   },
   "outputs": [],
   "source": [
    "HASH_LEN = 32\n",
    "ngram = 4\n",
    "iters = 100\n",
    "\n",
    "def get_pi():\n",
    "    with open(\"pi.p\", \"r\") as outf:\n",
    "        return pickle.load(outf)\n",
    "\n",
    "def permute(h, pi):\n",
    "    '''permute h and return a hex string'''\n",
    "    assert len(h) == len(pi)\n",
    "    permute = \"\"\n",
    "    for c in range(HASH_LEN):\n",
    "        permute += h[np.where(pi == c)[0][0]]\n",
    "    return \"0x\" + permute\n",
    "\n",
    "def shingle_hash_permute_min(j):\n",
    "    '''shingle doc j, hash shingles, permute the hashes'''\n",
    "    pi = get_pi()\n",
    "    shingles = shingle(docs[j], ngram) # shingle\n",
    "    hdj = [hashlib.md5(s).hexdigest() for s in shingles] # hash\n",
    "    pi_d_j = [permute(h, pi) for h in hdj]\n",
    "    return int(min(pi_d_j), 16)\n",
    "\n",
    "def jaccard(a, b):\n",
    "    '''a and b are indexes on documents'''\n",
    "    return len(set(a).intersection(set(b)))/len(set(a).union(set(b)))\n",
    "\n",
    "def sanity_check(d1, d2):\n",
    "    '''as iters grows, this should be more and more like jaccard'''\n",
    "    equal = 0\n",
    "    for i in range(iters):\n",
    "        make_pi(HASH_LEN)\n",
    "        pi_d = [shingle_hash_permute_min(j) for j in range(len(docs))]\n",
    "        if pi_d[d1] == pi_d[d2]:\n",
    "            equal += 1\n",
    "    # These should be more or less the same, if this is working properly\n",
    "    # print \"fancy jaccard={}\\npoor man's jaccard {}\".format(equal/iters, jaccard(set(shingle(docs[d1], ngram)), set(shingle(docs[d2], ngram))))\n",
    "    return equal/iters, jaccard(set(shingle(docs[d1], ngram)), set(shingle(docs[d2], ngram)))\n",
    "    \n",
    "def sketch_docs():\n",
    "    '''get N (iters) sketches of docs'''\n",
    "    out = []\n",
    "    for i in range(iters):\n",
    "        make_pi(HASH_LEN)\n",
    "        # pi = np.random.permutation(HASH_LEN) # assume for now docs are same size\n",
    "        out.append([(shingle_hash_permute_min(j), j) for j in range(len(docs))])\n",
    "    return out\n"
   ]
  },
  {
   "cell_type": "code",
   "execution_count": 12,
   "metadata": {
    "collapsed": false
   },
   "outputs": [
    {
     "name": "stdout",
     "output_type": "stream",
     "text": [
      "{(0, 1): 0.78} 0.818181818182\n"
     ]
    }
   ],
   "source": [
    "from collections import defaultdict\n",
    "sketches = sketch_docs()\n",
    "overlap_check = defaultdict(list)\n",
    "for sketch in sketches:\n",
    "    for pairing in sketch:\n",
    "        hash_no, docno = pairing\n",
    "        overlap_check[hash_no].append(docno)\n",
    "\n",
    "candidates = [tuple(value) for (key, value) in overlap_check.items() if len(value) > 1]\n",
    "candidates = set(candidates)\n",
    "sketch_jacard = {}\n",
    "for c in candidates:\n",
    "    a, b = c\n",
    "    counts = 0\n",
    "    for s in sketches:\n",
    "        # print s[a], s[b]\n",
    "        if s[a][0] == s[b][0]:\n",
    "            counts += 1\n",
    "    sketch_jacard[c] = counts/len(sketches)\n",
    "\n",
    "print sketch_jacard, jaccard(set(shingle(docs[0], ngram)), set(shingle(docs[1], ngram)))"
   ]
  },
  {
   "cell_type": "code",
   "execution_count": 13,
   "metadata": {
    "collapsed": false
   },
   "outputs": [
    {
     "name": "stdout",
     "output_type": "stream",
     "text": [
      "0.000833333333333\n"
     ]
    }
   ],
   "source": [
    "'''another check: avg jaccard diff for all docs'''\n",
    "count = 0\n",
    "sum_ = 0\n",
    "for i in range(6):\n",
    "    for j in range(6):\n",
    "        fancy_jac, regular_jac = sanity_check(i,j)\n",
    "        sum_ += abs(fancy_jac - regular_jac)\n",
    "        count += 1\n",
    "        \n",
    "print sum_/count"
   ]
  }
 ],
 "metadata": {
  "kernelspec": {
   "display_name": "Python 2",
   "language": "python",
   "name": "python2"
  },
  "language_info": {
   "codemirror_mode": {
    "name": "ipython",
    "version": 2
   },
   "file_extension": ".py",
   "mimetype": "text/x-python",
   "name": "python",
   "nbconvert_exporter": "python",
   "pygments_lexer": "ipython2",
   "version": "2.7.10"
  }
 },
 "nbformat": 4,
 "nbformat_minor": 0
}
