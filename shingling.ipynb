{
 "cells": [
  {
   "cell_type": "code",
   "execution_count": 1,
   "metadata": {
    "collapsed": true
   },
   "outputs": [],
   "source": [
    "from __future__ import division\n",
    "import numpy as np\n",
    "import hashlib\n",
    "import ipdb\n",
    "\n",
    "assert hashlib.md5(\"a\").hexdigest() == hashlib.md5(\"a\").hexdigest()\n",
    "\n",
    "# http://nlp.stanford.edu/IR-book/html/htmledition/near-duplicates-and-shingling-1.html"
   ]
  },
  {
   "cell_type": "code",
   "execution_count": 2,
   "metadata": {
    "collapsed": false
   },
   "outputs": [],
   "source": [
    "# shingle is 542\n",
    "docs = []\n",
    "docs.append(\"1 2 3 4 5 4 3 4 5 1 5 4 9\".split())\n",
    "docs.append(\"1 4 5 4 2 4 2 3 4 9 3 1 9\".split())\n",
    "docs.append(\"5 4 2 4 5 9 1 9 9 3 4 2 4\".split())\n",
    "docs.append(\"5 5 5 4 2 7 3 9 1 4 5 4 9\".split())\n",
    "docs.append(\"4 4 3 4 5 6 3 7 5 4 3 3 9\".split())\n",
    "docs.append(\"1 4 3 5 5 7 3 7 5 7 5 7 9\".split())\n",
    "\n",
    "def shingle(doc, n):\n",
    "    shingles = zip(*[doc[i:] for i in range(n)])\n",
    "    return [\" \".join(a) for a in shingles]\n"
   ]
  },
  {
   "cell_type": "code",
   "execution_count": 11,
   "metadata": {
    "collapsed": false
   },
   "outputs": [
    {
     "name": "stdout",
     "output_type": "stream",
     "text": [
      "0.243\n",
      "0.176470588235\n"
     ]
    }
   ],
   "source": [
    "doclen = len(shingle(docs[0], 2))\n",
    "\n",
    "def shingle_hash_permute(j, pi):\n",
    "    '''shingle doc j, hash shingles, permute the hashes'''\n",
    "    shingles = shingle(docs[j], 2) # shingle\n",
    "    hdj = [hashlib.md5(s).hexdigest() for s in shingles] # hash\n",
    "    ix_0 = np.where(pi == 0)[0][0]\n",
    "    return hdj[ix_0]\n",
    "\n",
    "def jaccard(a, b):\n",
    "    '''a and b are indexes on documents'''\n",
    "    return len(set(a).intersection(set(b)))/len(set(a).union(set(b)))\n",
    "    \n",
    "equal = 0\n",
    "for i in range(1000):\n",
    "    pi = np.random.permutation(doclen) # assume for now docs are same size\n",
    "    pi_d = [shingle_hash_permute(j, pi) for j in range(len(docs))]\n",
    "    if pi_d[4] == pi_d[5]:\n",
    "        equal += 1\n",
    "\n",
    "print equal/1000\n",
    "\n",
    "print jaccard(set(shingle(docs[4], 2)), set(shingle(docs[5], 2)))"
   ]
  },
  {
   "cell_type": "code",
   "execution_count": null,
   "metadata": {
    "collapsed": true
   },
   "outputs": [],
   "source": []
  }
 ],
 "metadata": {
  "kernelspec": {
   "display_name": "Python 2",
   "language": "python",
   "name": "python2"
  },
  "language_info": {
   "codemirror_mode": {
    "name": "ipython",
    "version": 2
   },
   "file_extension": ".py",
   "mimetype": "text/x-python",
   "name": "python",
   "nbconvert_exporter": "python",
   "pygments_lexer": "ipython2",
   "version": "2.7.10"
  }
 },
 "nbformat": 4,
 "nbformat_minor": 0
}
