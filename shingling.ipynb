{
 "cells": [
  {
   "cell_type": "code",
   "execution_count": 1,
   "metadata": {
    "collapsed": true
   },
   "outputs": [],
   "source": [
    "from __future__ import division\n",
    "import numpy as np\n",
    "import hashlib\n",
    "import ipdb\n",
    "import itertools\n",
    "assert hashlib.md5(\"a\").hexdigest() == hashlib.md5(\"a\").hexdigest()\n",
    "\n",
    "# http://nlp.stanford.edu/IR-book/html/htmledition/near-duplicates-and-shingling-1.html"
   ]
  },
  {
   "cell_type": "code",
   "execution_count": 2,
   "metadata": {
    "collapsed": false
   },
   "outputs": [],
   "source": [
    "# shingle is 542\n",
    "docs = []\n",
    "docs.append(\"1 2 9 0 5 4 3 4 5 1 5 4 9\".split())\n",
    "docs.append(\"1 4 5 4 2 4 5 9 1 9 9 3 9\".split())\n",
    "docs.append(\"5 4 2 4 5 9 1 9 9 3 4 2 4\".split())\n",
    "docs.append(\"5 5 5 4 2 7 3 9 1 4 5 4 9\".split())\n",
    "docs.append(\"4 4 4 4 5 6 3 7 5 4 3 3 9\".split())\n",
    "docs.append(\"1 4 3 5 5 7 3 7 5 7 5 7 9\".split())\n",
    "docs.append(\"12 42 23 252 25 27 23 27 25 17 25 37 49\".split())\n",
    "\n",
    "def shingle(doc, n):\n",
    "    shingles = zip(*[doc[i:] for i in range(n)])\n",
    "    return [\" \".join(a) for a in shingles]\n"
   ]
  },
  {
   "cell_type": "code",
   "execution_count": 3,
   "metadata": {
    "collapsed": false
   },
   "outputs": [],
   "source": [
    "doclen = len(shingle(docs[0], 2))\n",
    "hash_len = 32\n",
    "ngram = 6\n",
    "iters = 100\n",
    "\n",
    "def permute(h, pi):\n",
    "    '''permute h and return a hex string'''\n",
    "    assert len(h) == len(pi)\n",
    "    permute = \"\"\n",
    "    for c in range(hash_len):\n",
    "        permute += h[np.where(pi == c)[0][0]]\n",
    "    return \"0x\" + permute\n",
    "\n",
    "def shingle_hash_permute_min(j, pi):\n",
    "    '''shingle doc j, hash shingles, permute the hashes'''\n",
    "    shingles = shingle(docs[j], ngram) # shingle\n",
    "    hdj = [hashlib.md5(s).hexdigest() for s in shingles] # hash\n",
    "    pi_d_j = [permute(h, pi) for h in hdj]\n",
    "    return int(min(pi_d_j), 16)\n",
    "\n",
    "def jaccard(a, b):\n",
    "    '''a and b are indexes on documents'''\n",
    "    return len(set(a).intersection(set(b)))/len(set(a).union(set(b)))\n",
    "\n",
    "def sanity_check():\n",
    "    '''as iters grows, this should be more and more like jaccard'''\n",
    "    equal = 0\n",
    "    d1 = 1\n",
    "    d2 = 2\n",
    "    for i in range(iters):\n",
    "        pi = np.random.permutation(hash_len) # assume for now docs are same size\n",
    "        pi_d = [shingle_hash_permute_min(j, pi) for j in range(len(docs))]\n",
    "        if pi_d[d1] == pi_d[d2]:\n",
    "            equal += 1\n",
    "    # These should be more or less the same, if this is working properly\n",
    "    print equal/iters, jaccard(set(shingle(docs[d1], ngram)), set(shingle(docs[d2], ngram)))\n",
    "\n",
    "def sketch_docs():\n",
    "    '''get N (iters) sketches of docs'''\n",
    "    out = []\n",
    "    for i in range(iters):\n",
    "        pi = np.random.permutation(hash_len) # assume for now docs are same size\n",
    "        out.append([(shingle_hash_permute_min(j, pi), j) for j in range(len(docs))])\n",
    "    return out"
   ]
  },
  {
   "cell_type": "code",
   "execution_count": 17,
   "metadata": {
    "collapsed": false
   },
   "outputs": [],
   "source": [
    "from collections import defaultdict\n",
    "sketches = sketch_docs()\n",
    "overlap_check = defaultdict(list)\n",
    "for sketch in sketches:\n",
    "    for pairing in sketch:\n",
    "        hash_no, docno = pairing\n",
    "        overlap_check[hash_no].append(docno)\n"
   ]
  },
  {
   "cell_type": "code",
   "execution_count": 27,
   "metadata": {
    "collapsed": false
   },
   "outputs": [],
   "source": [
    "candidates = [tuple(value) for (key, value) in overlap_check.items() if len(value) > 1]\n",
    "candidates = set(candidates)"
   ]
  }
 ],
 "metadata": {
  "kernelspec": {
   "display_name": "Python 2",
   "language": "python",
   "name": "python2"
  },
  "language_info": {
   "codemirror_mode": {
    "name": "ipython",
    "version": 2
   },
   "file_extension": ".py",
   "mimetype": "text/x-python",
   "name": "python",
   "nbconvert_exporter": "python",
   "pygments_lexer": "ipython2",
   "version": "2.7.10"
  }
 },
 "nbformat": 4,
 "nbformat_minor": 0
}
