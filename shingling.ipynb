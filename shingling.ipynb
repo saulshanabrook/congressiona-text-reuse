{
 "cells": [
  {
   "cell_type": "code",
   "execution_count": 9,
   "metadata": {
    "collapsed": true
   },
   "outputs": [],
   "source": [
    "from __future__ import division\n",
    "import numpy as np\n",
    "import ujson as json\n",
    "import hashlib\n",
    "import ipdb\n",
    "import cPickle as pickle\n",
    "import itertools\n",
    "import glob\n",
    "import datetime\n",
    "import pandas as pd\n",
    "import numpy as np\n",
    "assert hashlib.md5(\"a\").hexdigest() == hashlib.md5(\"a\").hexdigest()\n",
    "\n",
    "from pi import make_pi\n",
    "\n",
    "import logging\n",
    "logging.basicConfig(filename='windows.log', level=logging.DEBUG)\n",
    "\n",
    "import os\n",
    "\n",
    "def reset_file():\n",
    "    with open(\"shingles.congress\", \"w\") as outf:\n",
    "        outf.write('fn,digit,window_no,window_size,iter' + \"\\n\")\n",
    "\n",
    "reset_file()\n",
    "# http://nlp.stanford.edu/IR-book/html/htmledition/near-duplicates-and-shingling-1.html"
   ]
  },
  {
   "cell_type": "code",
   "execution_count": 10,
   "metadata": {
    "collapsed": false
   },
   "outputs": [],
   "source": [
    "HASH_LEN = 32\n",
    "SHINGLESIZE = 2\n",
    "iters = 100\n",
    "\n",
    "def make_windows(doc, n):\n",
    "    '''find all ngrams'''\n",
    "    return zip(*[doc[i:] for i in range(n)])\n",
    "\n",
    "def shingle(doc, n):\n",
    "    shingles = zip(*[doc[i:] for i in range(n)])\n",
    "    return [\" \".join(a) for a in shingles]\n",
    "\n",
    "def get_pi():\n",
    "    with open(\"pi.p\", \"r\") as outf:\n",
    "        return pickle.load(outf)\n",
    "\n",
    "def permute(hashed, pi_):\n",
    "    '''permute h and return a hex string'''\n",
    "    assert len(hashed) == len(pi_)\n",
    "    out2 = [None] * HASH_LEN # this could be a global var that keeps getting refilled\n",
    "    \n",
    "    for pno, p in enumerate(pi_):\n",
    "        out2[p] = hashed[pno]\n",
    "    \n",
    "    return \"0x\" + \"\".join(out2)\n",
    "\n",
    "def shingle_hash_permute_min(tokens):\n",
    "    '''shingle doc j, hash shingles, permute the hashes'''\n",
    "    pi = get_pi()\n",
    "    shingles = shingle(tokens, SHINGLESIZE) # shingle\n",
    "    hdj = [hashlib.md5(s).hexdigest() for s in shingles] # hash\n",
    "    pi_d_j = [permute(h, pi) for h in hdj]\n",
    "    return int(min(pi_d_j), 16)\n",
    "\n",
    "def jaccard(a, b):\n",
    "    '''a and b are indexes on documents'''\n",
    "    return len(set(a).intersection(set(b)))/len(set(a).union(set(b)))\n",
    "\n",
    "def sanity_check(d1, d2):\n",
    "    '''as iters grows, this should be more and more like jaccard'''\n",
    "    equal = 0\n",
    "    for i in range(iters):\n",
    "        make_pi(HASH_LEN)\n",
    "        pi_d = [shingle_hash_permute_min(j) for j in range(len(docs))]\n",
    "        if pi_d[d1] == pi_d[d2]:\n",
    "            equal += 1\n",
    "    # These should be more or less the same, if this is working properly\n",
    "    # print \"fancy jaccard={}\\npoor man's jaccard {}\".format(equal/iters, jaccard(set(shingle(docs[d1], ngram)), set(shingle(docs[d2], ngram))))\n",
    "    return equal/iters, jaccard(set(shingle(docs[d1], SHINGLESIZE)), set(shingle(docs[d2], SHINGLESIZE)))\n",
    "    \n",
    "def sketch_docs():\n",
    "    '''get N (iters) sketches of docs'''\n",
    "    out = []\n",
    "    for i in range(iters):\n",
    "        make_pi(HASH_LEN)\n",
    "        # pi = np.random.permutation(HASH_LEN) # assume for now docs are same size\n",
    "        out.append([(shingle_hash_permute_min(j), j) for j in range(len(docs))])\n",
    "    return out\n",
    "\n",
    "def get_stops():\n",
    "    import string\n",
    "    from stop_words import get_stop_words\n",
    "    return set([a for a in string.punctuation] + get_stop_words('en'))\n",
    "    \n",
    "STOPS = get_stops()\n",
    "\n",
    "def get_tokens(fn):\n",
    "    '''get tokens in file'''\n",
    "    all_tokens = []\n",
    "    with open(fn, \"r\") as inf:\n",
    "        js = json.load(inf)\n",
    "        for sentence in js[\"sentences\"]:\n",
    "            for token in sentence[\"tokens\"]:\n",
    "                if token.lower() not in STOPS:\n",
    "                    all_tokens.append(token)\n",
    "    return all_tokens"
   ]
  },
  {
   "cell_type": "code",
   "execution_count": 11,
   "metadata": {
    "collapsed": false
   },
   "outputs": [],
   "source": [
    "def do_doc(fn, window_size, iter_no):\n",
    "    '''\n",
    "    Bunch o stuff\n",
    "       - make windows\n",
    "       - shingle_hash_permute_min them\n",
    "       - report results to file\n",
    "    '''\n",
    "    windows = make_windows(get_tokens(fn), window_size)\n",
    "    for window_no, window in enumerate(windows):\n",
    "        min_digit = shingle_hash_permute_min(window)\n",
    "        with open(\"shingles.congress\", \"a\") as outf:\n",
    "            out_str = \",\".join([fn, str(min_digit), str(window_no), str(window_size), str(iter_no)])\n",
    "            outf.write(out_str + \"\\n\")\n",
    "    logging.debug(\"{}\\t{}\\tran permute\".format(datetime.datetime.utcnow(), fn))\n",
    "\n",
    "\n",
    "WINDOWSIZE = 50\n",
    "\n",
    "ITERS = 100\n",
    "def runiters(directory):\n",
    "    reset_file()\n",
    "    for iter_ in range(ITERS):    \n",
    "        make_pi(HASH_LEN)\n",
    "        for doc in glob.glob(directory + \"/*anno\"):\n",
    "            do_doc(doc, WINDOWSIZE, iter_)\n",
    "            \n",
    "def fancy_jaccard():\n",
    "    df = pd.read_csv(\"shingles.congress\")\n",
    "\n",
    "    aa = df[(df.fn == \"demos/1.anno\") & (df.window_no == 0)]\n",
    "    bb = df[(df.fn == \"demos/2.anno\") & (df.window_no == 0)]\n",
    "\n",
    "    print \"fancy Jaccard\", pd.merge(aa, bb, on=['digit', 'iter'], how='inner')[\"iter\"].count()/ITERS\n",
    "\n",
    "def get_window(fn, size, window_no):\n",
    "    ngrams = make_windows(get_tokens(fn), size)\n",
    "    return ngrams[window_no]\n",
    "\n",
    "def poormans_jaccard():\n",
    "    window1 = get_window(\"demos/1.anno\", WINDOWSIZE, 0)\n",
    "    window2 = get_window(\"demos/2.anno\", WINDOWSIZE, 0)\n",
    "\n",
    "    shingles1 = shingle(window1, SHINGLESIZE)\n",
    "    shingles2 = shingle(window2, SHINGLESIZE)\n",
    "    print \"Poor man's Jaccard\", jaccard(set(shingles1), set(shingles2))\n",
    "\n",
    "def sanity_check():\n",
    "    runiters()\n",
    "    fancy_jaccard()\n",
    "    poormans_jaccard()\n",
    "\n",
    "runiters(\"demos_congress\")"
   ]
  },
  {
   "cell_type": "code",
   "execution_count": 20,
   "metadata": {
    "collapsed": false
   },
   "outputs": [
    {
     "name": "stdout",
     "output_type": "stream",
     "text": [
      "tincidunt purus ullamcorper vulputate dignissim nisi maximus ornare Cras sed eros et ante hendrerit faucibus id id mauris Vestibulum malesuada urna non dui eleifend aliquam fringilla diam pellentesque Vestibulum vitae orci maximus aliquam urna luctus nisi Vivamus feugiat id tellus aliquam Fusce fermentum neque Duis sodales diam vitae diam porttitor\n",
      "\n",
      "\n",
      "Preservation Act 1992 rename site park _______________________________________________________________________ HOUSE REPRESENTATIVES January 7 2015 Mr. Turner introduced following bill referred Committee Natural Resources _______________________________________________________________________ BILL Lorem ipsum dolor sit amet consectetur adipiscing elit Nunc euismod urna libero tincidunt eget tincidunt purus ullamcorper vulputate dignissim nisi maximus ornare Cras sed eros et ante\n"
     ]
    },
    {
     "data": {
      "text/plain": [
       "0.4380165289256198"
      ]
     },
     "execution_count": 20,
     "metadata": {},
     "output_type": "execute_result"
    }
   ],
   "source": [
    "# Candidate(fn1='demos_congress/hr_201.anno', windowno1='141', fn2='demos_congress/hr_202.anno', windowno2='158')\n",
    "\n",
    "window1 = \" \".join(get_window(\"demos_congress/hr_201.anno\", 50,70))\n",
    "window2 = \" \".join(get_window(\"demos_congress/hr_202.anno\", 50,32))\n",
    "print window1\n",
    "print \"\\n\"\n",
    "print window2\n",
    "shingles1 = shingle(window1, SHINGLESIZE)\n",
    "shingles2 = shingle(window2, SHINGLESIZE)\n",
    "jaccard(set(shingles1), set(shingles2))"
   ]
  },
  {
   "cell_type": "code",
   "execution_count": null,
   "metadata": {
    "collapsed": true
   },
   "outputs": [],
   "source": []
  }
 ],
 "metadata": {
  "kernelspec": {
   "display_name": "Python 2",
   "language": "python",
   "name": "python2"
  },
  "language_info": {
   "codemirror_mode": {
    "name": "ipython",
    "version": 2
   },
   "file_extension": ".py",
   "mimetype": "text/x-python",
   "name": "python",
   "nbconvert_exporter": "python",
   "pygments_lexer": "ipython2",
   "version": "2.7.10"
  }
 },
 "nbformat": 4,
 "nbformat_minor": 0
}
